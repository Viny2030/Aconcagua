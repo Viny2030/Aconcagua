{
  "nbformat": 4,
  "nbformat_minor": 0,
  "metadata": {
    "colab": {
      "provenance": []
    },
    "kernelspec": {
      "name": "python3",
      "display_name": "Python 3"
    },
    "language_info": {
      "name": "python"
    }
  },
  "cells": [
    {
      "cell_type": "markdown",
      "source": [
        "<p align=\"center\">\n",
        "<img src=\"https://scipy.org/images/logo.svg\" width=\"90\" height=\"\">\n",
        "</p>\n"
      ],
      "metadata": {
        "id": "UFcg9dacEIsJ"
      }
    },
    {
      "cell_type": "markdown",
      "source": [
        "https://scipy.org"
      ],
      "metadata": {
        "id": "ASFwA3Yg7BMJ"
      }
    },
    {
      "cell_type": "markdown",
      "source": [
        " # **<font color=\"DeepPink\">Vectores y matrices</font>**"
      ],
      "metadata": {
        "id": "o5nTVCbf7Ng3"
      }
    },
    {
      "cell_type": "markdown",
      "source": [
        "📚 <strong>Bibliografía:</strong> Poole, David (2011). Álgebra lineal. Una introducción moderna. Cengage Learning 3ra Ed."
      ],
      "metadata": {
        "id": "miFE584H-1V3"
      }
    },
    {
      "cell_type": "code",
      "execution_count": null,
      "metadata": {
        "id": "oWTKQ7XWEBTX"
      },
      "outputs": [],
      "source": [
        "import scipy as sc\n",
        "import sympy as sp\n",
        "import numpy as np"
      ]
    },
    {
      "cell_type": "code",
      "source": [
        "import matplotlib.pyplot as plt\n",
        "import plotly.express as px"
      ],
      "metadata": {
        "id": "V8N5ASF87Ysv"
      },
      "execution_count": null,
      "outputs": []
    },
    {
      "cell_type": "markdown",
      "source": [
        "<ol align=\"justify\">\n",
        "<li>\n",
        "<code>scipy as sc</code>: <code>scipy</code> es una biblioteca de Python que proporciona funcionalidades para realizar cálculos científicos y matemáticos.\n",
        "</li>\n",
        "<li>\n",
        "<code>sympy as sp</code>: <code>sympy</code> es una biblioteca de Python para matemáticas simbólicas, lo que significa que puede trabajar con expresiones matemáticas simbólicas en lugar de numéricas.\n",
        "</li>\n",
        "<li>\n",
        "<code>numpy as np</code>: <code>numpy</code> es una biblioteca fundamental para computación numérica en Python. Proporciona estructuras de datos y funciones para trabajar con matrices y arrays multidimensionales.\n",
        "</li>\n",
        "<li>\n",
        "<code>matplotlib.pyplot as plt</code>: <code>matplotlib</code> es una biblioteca de visualización en Python que permite crear gráficos de alta calidad. <code>pyplot</code> es un módulo dentro de <code>matplotlib</code> que proporciona una interfaz similar a MATLAB para la creación de gráficos.\n",
        "</li>\n",
        "</ol>"
      ],
      "metadata": {
        "id": "4rVV5xhh7oxJ"
      }
    },
    {
      "cell_type": "markdown",
      "source": [
        " # **<font color=\"DeepPink\">Vectores</font>**"
      ],
      "metadata": {
        "id": "1aFXtArQEN2p"
      }
    },
    {
      "cell_type": "markdown",
      "source": [
        "<p align=\"justify\">\n",
        "✅ <strong>Definición:</strong> Un vector de $R^n$ es un n-tupla de números reales ordenados. En general, estos números se presentan en forma vertical encerrados entre corchetes.<br><br>\n",
        "$$v = \\begin{bmatrix} v_{1} \\\\ v_{2}  \\\\ \\vdots\\\\  v_{n}  \\end{bmatrix}$$  <br><br>\n",
        "👀 Ejemplos:<br><br>\n",
        "$$v = \\begin{bmatrix} 1 \\\\ 2 \\end{bmatrix} \\in R^2 \\quad u = \\begin{bmatrix} 3 \\\\ -1 \\\\ 8 \\end{bmatrix} \\in R^3$$<br><br>\n",
        "Los números reales que componen a cada vetor se denominan componenetes del vector.<br><br>\n",
        "Desde un punto de vista computacional, los vectores son útilies para \"guardar\" información numérica relativamente homogenea. Po ejemplo, podemos tener un vector de ventas anuales de un local de una empresa, el vector de precios de los distintos articulos vendidos de una empresa, un vector de valores de acciones que tenemos en una cartera, etc.<br><br>\n",
        "Desde un punto de vista geométrico, en principio puramente matemático, los vectores representan \"desplazamientos\". El vector $v$ del ejemplo representa un desplazamiento en el plano de 1 unidad a la derecha y 2 unidades hacia arriba, mientras que el vector $u$ representa un desplazamiento en el espacio de 3 unidades a la derecha, 1 unidad hacia atrás y 8 unidades hacia arriba. Un vector de 4 componentes también representa un desplazamiento pero un espacio que no podemos vizualizar.<br><br>\n",
        "Existen dos operaciones básicas a realizar con vectores, suma y multiplización por un escalar.<br><br>\n",
        "✅ <strong>Suma de vectores:</strong> sean $u$ y $v$ dos vectores de $R^n$, la suma de $u$ y $v$ es un nuevo vector de $R^n$ cuyas componenetes se obtienen sumando las respectivas componentes de $u$ y de $v$.<br><br>\n",
        "$$u+v = \\begin{bmatrix} u_{1} \\\\ u_{2}  \\\\ \\vdots\\\\  u_{n}  \\end{bmatrix} + \\begin{bmatrix} v_{1} \\\\ v_{2}  \\\\ \\vdots\\\\  v_{n}  \\end{bmatrix} = \\begin{bmatrix} u_{1} + v_{1} \\\\ u_{2} + v_{2}  \\\\ \\vdots\\\\ u_{n} + v_{n}  \\end{bmatrix}$$.<br><br>\n",
        "👀 Ejemplo:<br>\n",
        "$$\\begin{bmatrix} 3 \\\\ -1 \\\\ 8 \\end{bmatrix} + \\begin{bmatrix} -4 \\\\ 1 \\\\ 3 \\end{bmatrix} = \\begin{bmatrix} -1 \\\\ 0 \\\\ 11 \\end{bmatrix}$$<br><br>\n",
        "✅ <strong>Producto por un escalar:</strong> sea $u$ un vector de $R^n$ y $c \\in R$ un escalar, el producto entre $c$ y $u$ (en ese orden) es un nuevo vector de $R^n$ cuyas componentes se obtienen multiplicando cada componente de $u$ por $c$:<br><br>\n",
        "$$ cu = c \\begin{bmatrix} u_{1} \\\\ u_{2}  \\\\ \\vdots\\\\  u_{n}  \\end{bmatrix} = \\begin{bmatrix} cu_{1} \\\\ cu_{2}  \\\\ \\vdots\\\\  cu_{n}  \\end{bmatrix}$$.<br><br>\n",
        "👀 Ejemplo:<br>\n",
        "$$ 2\\begin{bmatrix} 3 \\\\ -1 \\\\ 8 \\end{bmatrix} = \\begin{bmatrix} 6 \\\\ -2 \\\\ 16 \\end{bmatrix} $$ <br><br>\n",
        "Podemos utilizar las definiciones anteriores para definir la resta entre vectores.<br><br>\n",
        "✅ <strong>Resta de vectores:</strong> sean $u$ y $v$ dos vectores de $R^n$, la resta entre $u$ y $v$ se define de la siguiente forma:<br><br>\n",
        "$$ u-v = u + (-1)v $$<br><br>\n",
        "Notemos que una lista de $n$ números en Python es un n-tupla de números reales ordenados, sin embargo Python no nos permite trabajar como si fuera un vector.\n",
        "\n",
        "\n",
        "    \n",
        "</p>"
      ],
      "metadata": {
        "id": "Cjz3xzVcETZ5"
      }
    },
    {
      "cell_type": "code",
      "source": [
        "v = [3, -1, 4]\n",
        "u = [-4, 1, 3]\n",
        "w = [1,1]\n",
        "2*u"
      ],
      "metadata": {
        "id": "lK5EdbEjMYsI",
        "colab": {
          "base_uri": "https://localhost:8080/"
        },
        "outputId": "4244964b-5399-48f5-a7b5-d641224c559c"
      },
      "execution_count": null,
      "outputs": [
        {
          "output_type": "execute_result",
          "data": {
            "text/plain": [
              "[-4, 1, 3, -4, 1, 3]"
            ]
          },
          "metadata": {},
          "execution_count": 4
        }
      ]
    },
    {
      "cell_type": "markdown",
      "source": [
        "<p align=\"justify\">\n",
        "Para operar con listas como si fueran vectores deberiamos definir funciones adecuadamente.\n",
        "<br><br>\n",
        "👀 Por ejemplo:"
      ],
      "metadata": {
        "id": "Z-7xB3eXNLms"
      }
    },
    {
      "cell_type": "code",
      "source": [
        "def suma(u,v):\n",
        "  if len(u) == len(v):\n",
        "    w = []\n",
        "    for i in range(len(u)):\n",
        "      w.append(u[i]+v[i])\n",
        "    return w\n",
        "  else:\n",
        "    return 'Los vectores tienen distinta cantidad de componentes'"
      ],
      "metadata": {
        "id": "JDjgdtpaNUf1"
      },
      "execution_count": null,
      "outputs": []
    },
    {
      "cell_type": "code",
      "source": [
        "suma(u,v)"
      ],
      "metadata": {
        "colab": {
          "base_uri": "https://localhost:8080/"
        },
        "id": "mUpzkVA4NmwT",
        "outputId": "7712bef1-4456-458c-f0ec-8a8180c66de6"
      },
      "execution_count": null,
      "outputs": [
        {
          "output_type": "execute_result",
          "data": {
            "text/plain": [
              "[-1, 0, 7]"
            ]
          },
          "metadata": {},
          "execution_count": 6
        }
      ]
    },
    {
      "cell_type": "markdown",
      "source": [
        "<p align=\"justify\">\n",
        "Para operar con vectores tenemos el módulo <code>Numpy</code> que toma listas numéricas y las \"transforma\" en vectores con los que podemos operar. Para ello utilizamos la función \"array\" de <code>Numpy</code> sobre una lista de números."
      ],
      "metadata": {
        "id": "GTT5RgXgM9dL"
      }
    },
    {
      "cell_type": "code",
      "source": [
        "v = np.array([3, -1, 4])\n",
        "u = np.array([-4, 1, 3])\n",
        "w = np.array([1,1])\n",
        "v+u, 2*w"
      ],
      "metadata": {
        "colab": {
          "base_uri": "https://localhost:8080/"
        },
        "id": "ogUToC-yM25R",
        "outputId": "c4c87691-581e-4fd9-c51f-d9fea750fa93"
      },
      "execution_count": null,
      "outputs": [
        {
          "output_type": "execute_result",
          "data": {
            "text/plain": [
              "(array([-1,  0,  7]), array([2, 2]))"
            ]
          },
          "metadata": {},
          "execution_count": 7
        }
      ]
    },
    {
      "cell_type": "markdown",
      "source": [
        " <p align=\"justify\">\n",
        "Las listas tienen un conjunto de métodos y atributos propios que mantienen al ser transformados en arrays, a la vez que ganan nuevos métodos y atributos.<br><br>\n",
        "Las operaciones mencionadas entre vectores presentan un conjunto de propiedades.<br><br>\n",
        "✅ <strong>Propiedades de las operaciones entre vectores</strong><br><br>\n",
        "Sean $u,v$ y $w$ vectores de $R^n$ y sean $c$ y $d$ escalares (números reales). Se cumple que:<br><br>\n",
        "1. $u+v = v+u$<br><br>\n",
        "2. $(u+v) + w = u+(v+w)$<br><br>\n",
        "3. Existe el vector $\\textbf{0} \\in R^n$ tal que $u+\\textbf{0} = u$<br><br>\n",
        "4. Para cada vector $u \\in R^n$ existe $-u$ tal que $u + (-u) = \\textbf{0}$<br><br>\n",
        "5. $(c+d)u=cu + du$<br><br>\n",
        "6. $c(u+v)=cu+cv$<br><br>\n",
        "7. $(cd)u=c(du)=d(cu)$<br><br>\n",
        "8. $1u = u$<br><br>\n",
        "✅ <strong>Combinación lineal:</strong> Decimos que el vector $u$ es combinación lineal de los vectores $v_1, v_2, ..., v_k$ si existen escalares $c_1, c_2,...,c_k$ tales que:<br><br>\n",
        "$$u=c_1v_1+c_2v_2+...+c_nv_n$$<br><br>\n",
        "👀 Ejemplo:<br><br>\n",
        "$$(-1)\\begin{bmatrix} 3 \\\\ -1 \\\\ 8 \\end{bmatrix} + 2\\begin{bmatrix} -4 \\\\ 1 \\\\ 3 \\end{bmatrix} = \\begin{bmatrix} -11 \\\\ 3 \\\\ -2 \\end{bmatrix}$$<br><br>\n",
        "✅ <strong>Aplicación</strong><br><br>\n",
        "Sea $f:R^2 \\to R / f(x,y) = x^2y - \\frac{1}{y}$. Esta función toma como argumento de entrada un vector de $R^2$ y devuelve un número real. Una pregunta a hacernos aquí es ¿qué es la derivada en esta función?<br><br>\n",
        "En este caso, no existe \"La Derivada\", si no que exite una derivada específica para cada variable independiente considerada. Es decir, en un caso vamos a derivar unicamente con respecto a $x$ considerando $y$ constante y en otro vamos a derivar con respecto $y$ considerando $x$ constante. A la derivada de $f$ respecto de $x$ la denotamos $f'_x$ y a la derivada de $f$ respecto de $y$ la denotamos $f'_y$. El elemento análogo a La Derivada para funciones multivaluadas es el vector gradiente, que es el vector que contiene, en orden, la derivada de la función estudiada respecto de cada variable independiente. Para este caso:<br><br>\n",
        "$$ \\nabla f(x,y) = \\begin{bmatrix} f'_x(x,y) \\\\ f'_y(x,y) \\end{bmatrix} $$<br><br>\n",
        "Para este caso, $\\nabla f$ es una función que toma vectores de $R^2$ y devuelve vectores de $R^2$.<br><br>\n",
        "La información contenida en el vector $\\nabla f$ es similar a la información  contenida en el valor de la derivada para una función univaluada. Si la primer componente del vector $\\nabla f$ es positiva entonces la función es creciente en la primer variable considerada y si es negativo la función es decreciente en esta variable. Es decir, el vector $\\nabla f$ nos da información de crecimiento y decrecimiento pero variable a variable.<br><br>\n",
        "✅ <strong>Ejercicio</strong>: construya una función que compute el vector gradiente de $f(x,y)=x^2y - 1/y$\n",
        "\n",
        "</p>"
      ],
      "metadata": {
        "id": "XpAZeG7IOy5W"
      }
    },
    {
      "cell_type": "code",
      "source": [
        "x = sp.Symbol('x')\n",
        "y = sp.Symbol('y')\n",
        "f_alg = x**2 * y - 1/y\n",
        "f_alg"
      ],
      "metadata": {
        "colab": {
          "base_uri": "https://localhost:8080/",
          "height": 75
        },
        "id": "25LBemkMcHkR",
        "outputId": "22116c09-1ffe-4930-8ac3-489ed6beb6ea"
      },
      "execution_count": null,
      "outputs": [
        {
          "output_type": "execute_result",
          "data": {
            "text/plain": [
              "x**2*y - 1/y"
            ],
            "text/latex": "$\\displaystyle x^{2} y - \\frac{1}{y}$"
          },
          "metadata": {},
          "execution_count": 8
        }
      ]
    },
    {
      "cell_type": "code",
      "source": [
        "f = sp.lambdify([x, y], f_alg)\n",
        "f(1,1)"
      ],
      "metadata": {
        "colab": {
          "base_uri": "https://localhost:8080/"
        },
        "id": "sZeqTovxsEp5",
        "outputId": "9d2b9d44-c593-4156-bf6f-78e1a228c067"
      },
      "execution_count": null,
      "outputs": [
        {
          "output_type": "execute_result",
          "data": {
            "text/plain": [
              "0.0"
            ]
          },
          "metadata": {},
          "execution_count": 9
        }
      ]
    },
    {
      "cell_type": "code",
      "source": [
        "def df(u,v):\n",
        "  dfx = sp.lambdify([x, y], sp.diff(f_alg,x))\n",
        "  dfy = sp.lambdify([x, y], sp.diff(f_alg,y))\n",
        "  return np.array([dfx(u,v), dfy(u,v)])"
      ],
      "metadata": {
        "id": "NlFp3kWFs2gP"
      },
      "execution_count": null,
      "outputs": []
    },
    {
      "cell_type": "code",
      "source": [
        "df(2,3)"
      ],
      "metadata": {
        "colab": {
          "base_uri": "https://localhost:8080/"
        },
        "id": "HawVEWd9tZ2u",
        "outputId": "1cde9e40-0ecf-48d8-edeb-008a6fa670dd"
      },
      "execution_count": null,
      "outputs": [
        {
          "output_type": "execute_result",
          "data": {
            "text/plain": [
              "array([12.        ,  4.11111111])"
            ]
          },
          "metadata": {},
          "execution_count": 11
        }
      ]
    },
    {
      "cell_type": "markdown",
      "source": [
        " <p align=\"justify\">\n",
        "✅ <strong>Vectorización</strong>: Sea $f$ una función definida de reales en raeles y sea $u$ un vector de $R^n$, definimos $f(u)$ como el vector de $R^n$ que se obtiene al aplicar $f$ a cada componente de $u$. Computacionalmente esta operación se denomina vectorización y Numpy nos permite aplicarla facilmente.\n",
        "\n",
        "</p>"
      ],
      "metadata": {
        "id": "k9qkB29GN3VT"
      }
    },
    {
      "cell_type": "code",
      "source": [
        "u = np.array([1,2,1])\n",
        "v = np.array([2,2,2])\n",
        "u*v"
      ],
      "metadata": {
        "colab": {
          "base_uri": "https://localhost:8080/"
        },
        "id": "XZQLkYYxOY11",
        "outputId": "ec28e6a2-e558-4318-d259-07ded354b0db"
      },
      "execution_count": null,
      "outputs": [
        {
          "output_type": "execute_result",
          "data": {
            "text/plain": [
              "array([2, 4, 2])"
            ]
          },
          "metadata": {},
          "execution_count": 26
        }
      ]
    },
    {
      "cell_type": "markdown",
      "source": [
        "❗<strong>Ejercicio bis</strong>: Construya una función que devuelva el vector gradiente calculado por derivación numérica"
      ],
      "metadata": {
        "id": "aGkeLiWhu_Rz"
      }
    },
    {
      "cell_type": "markdown",
      "source": [
        " # **<font color=\"DeepPink\">Producto Punto y Norma</font>**"
      ],
      "metadata": {
        "id": "DBRNHsXcu9nV"
      }
    },
    {
      "cell_type": "markdown",
      "source": [
        " <p align=\"justify\">\n",
        "Un vector, entendido como un desplazamiento, tiene dirección, sentido y longitud. Estos atributos quedan perfectamente determinados por las componentes del vector.<br><br>\n",
        "Si pensamos en un auto que se desplaza por una ruta, la dirección viene representada por la ruta en si misma, sin importar si va o viene (esto representa el sentido). Otra forma de verlo, si viajo a Buenos Aires desde Mendoza, la dirección es este-oeste y el sentido es hacia el este.<br><br>\n",
        "Más formalmente, los vectores:<br>\n",
        "$$\\begin{bmatrix} 2 \\\\ 1 \\end{bmatrix} \\text{ y } \\begin{bmatrix} -2 \\\\ -1 \\end{bmatrix}$$<br>\n",
        "tienen la misma dirección pero sentido contrario. Más aun, si $u$ es un vector de $R^n$ y $c$ es un escalar, los vectores $u$ y $cu$ tienen la misma dirección. Lo que hace el escalar es modificar la longitud del desplazamiento y el sentido (si genera un cambio de signo en las componentes del vector resultante). Intuitivamente, $u$ representa un desplazamiento dado, el vector $2u$ representa un desplazamiento en la misma dirección y sentido que $u$ pero con el doble de longitud.<br><br>\n",
        "Dado, dos vectores $u$ y $v$ de $R^n$, decimos que $u$ y $v$ son paralelos si existe un escalar $c$ o un escalar $k$ tales que:<br>\n",
        "$$ u = cv  \\quad \\text{o} \\quad v=ku.$$<br>\n",
        "Formalmente, decimos que $u$ es múltiplo escalar de $v$.<br><br>\n",
        "Esta es la primera noción de relación de dirección entre vectores. Para entender la segunda relación de direcciones entre vectores que vamos a estudiar primero debemos definir una nueva operación entre vectores, el producto punto, y el concepto de longitud de un vector (formalmente llamada norma).<br><br>\n",
        "✅ <strong>Producto punto:</strong> Dado dos vectores $u$ y $v$ de $R^n$ definimos el producto punto (o producto interior) entre $u$ y $v$ de la siguiente forma:<br>\n",
        "$$ u.v= u_1v_1 + u_2v_2 + ...+u_nv_n $$<br>\n",
        "El producto punto entre $u$ y $v$ se denota $u.v$, $uv$ o $< u , v >$.<br><br>  \n",
        "👀 Numpy tiene más de una función específica que calcula el producto punto entre vectores, pero nosotros vamos a construir la nuestra.\n",
        "</p>"
      ],
      "metadata": {
        "id": "kA_sKwU2vXMt"
      }
    },
    {
      "cell_type": "code",
      "source": [
        "def pp(u,v):\n",
        "  if len(u) == len(v):\n",
        "    return(np.sum(u*v))\n",
        "  else:\n",
        "    'Los vectores tienen distinta cantidad de componentes'"
      ],
      "metadata": {
        "id": "j4baf_Ve07lt"
      },
      "execution_count": null,
      "outputs": []
    },
    {
      "cell_type": "code",
      "source": [
        "u = np.array([2,1,2])\n",
        "v = np.array([1,1,1])\n",
        "pp(u,v)"
      ],
      "metadata": {
        "id": "PAsgUvYG1Oac",
        "colab": {
          "base_uri": "https://localhost:8080/"
        },
        "outputId": "4a2b8d1d-30c0-4009-e83a-5f59658fce60"
      },
      "execution_count": null,
      "outputs": [
        {
          "output_type": "execute_result",
          "data": {
            "text/plain": [
              "5"
            ]
          },
          "metadata": {},
          "execution_count": 13
        }
      ]
    },
    {
      "cell_type": "markdown",
      "source": [
        "👀 A partir de esto vamos a estudiar la longitud (o norma) de un vector."
      ],
      "metadata": {
        "id": "3zOUrNxDKJ0I"
      }
    },
    {
      "cell_type": "markdown",
      "source": [
        "<p align=\"center\">\n",
        "<img src=\"https://github.com/cristiandarioortegayubro/BDS/blob/main/images/Image_0021.png?raw=true\" width=\"400\" height=\"\">\n",
        "</p>\n"
      ],
      "metadata": {
        "id": "ZIk11U6G_OmQ"
      }
    },
    {
      "cell_type": "markdown",
      "source": [
        " <p align=\"justify\">\n",
        "✅ <strong>Norma de un vector</strong>: Una norma en $R^n$ es una función $||\\cdot||:R^n \\to R$ tal que cumple las siguientes propiedades:<br><br>\n",
        "1. $||u||\\geq0$ para todo $u \\in R^n$ y $||u||=0$ si y solo si $u = \\textbf{0}$.<br><br>\n",
        "2. Si $u \\in R^n$ y $c \\in R$ entonces $||cu||=|c|.||u||.$<br><br>\n",
        "3. Si $u,v \\in R^n$ entonces $||u+v|| \\leq ||u|| + ||v||$<br><br>\n",
        "Las 3 normas más utilizadas son:<br><br>\n",
        "a. Norma Manhatan o Norma-1: $||u|| = |u_1| + |u_2| + ...+ |u_n|.$<br><br>\n",
        "b. Norma Euclidea o Norma-2: $||u|| = \\sqrt{u_1^2 + u_2^2 + ...+ u_n^2}$<br><br>\n",
        "c. Norma Sup o Norma-$\\infty$ = $||u|| = \\max { \\{|u_1| , |u_2| , ..., |u_n| \\} }$<br><br>\n",
        "A modo general, podemos considerar la Norma de Minkowski:<br><br>\n",
        "$$ ||u|| = ( |u_1| ^ p + |u_2| ^ p + ... + |u_n| ^ p ) ^{ \\frac {1} {p} } \\text{con }p>0 $$<br><br>\n",
        "La norma de Minkowski es igual a la Norma-1 cuando consideramos $p=1$, a la Norma-2 cuando consideramos $p=2$ y a la Norma sup cuando $p \\to \\infty$. En este apunte trabajaremos solo con Norma-2.\n",
        "\n",
        "</p>"
      ],
      "metadata": {
        "id": "5IwYMk1zKQZ9"
      }
    },
    {
      "cell_type": "code",
      "source": [
        "#Norma 2\n",
        "def norma(u):\n",
        "  return np.sqrt(np.sum(u*u))    #u*u es un nuevo vector cuyas componentes son los cuadrados de las componentes de u."
      ],
      "metadata": {
        "id": "GLGrQnaONt4v"
      },
      "execution_count": null,
      "outputs": []
    },
    {
      "cell_type": "code",
      "source": [
        "u = np.array([1,-1,0,4])\n",
        "norma(u)"
      ],
      "metadata": {
        "colab": {
          "base_uri": "https://localhost:8080/"
        },
        "id": "7CLSy_gUOzlt",
        "outputId": "1a1ce78f-14ae-4bd1-858e-63656d549b09"
      },
      "execution_count": null,
      "outputs": [
        {
          "output_type": "execute_result",
          "data": {
            "text/plain": [
              "4.242640687119285"
            ]
          },
          "metadata": {},
          "execution_count": 15
        }
      ]
    },
    {
      "cell_type": "markdown",
      "source": [
        " <p align=\"justify\">\n",
        "Las normas nos permiten calcular distancia entre vectores. Sean $u$ y $v$ dos vectores de $R^n$, definimos la distancia entre $u$ y $v$ como la norma del vector diferencia entre $u$ y $v$:<br><br>\n",
        "$$ d(u,v)=||u-v|| $$<br><br>\n",
        "En términos generales, la distancia entre dos vectores nos dice cuanto se parecen esos dos vectores. Si la distancia es 0 entonces los dos vectores son iguales. Mientras mayor sea la distancia más disímiles son.\n",
        "\n",
        "</p>"
      ],
      "metadata": {
        "id": "1a1CTNWzO_AP"
      }
    },
    {
      "cell_type": "code",
      "source": [
        "u = np.array([1,-1,0,4])\n",
        "v = np.array([-1,2,2,1])\n",
        "norma(u-v), norma(v-u)         #La distáncia entre u y v es la misma que la distáncia entre v y u"
      ],
      "metadata": {
        "colab": {
          "base_uri": "https://localhost:8080/"
        },
        "id": "x4cmC7MEP5P3",
        "outputId": "6d822fbd-68ad-4b74-9eb4-9875adabf410"
      },
      "execution_count": null,
      "outputs": [
        {
          "output_type": "execute_result",
          "data": {
            "text/plain": [
              "(5.0990195135927845, 5.0990195135927845)"
            ]
          },
          "metadata": {},
          "execution_count": 16
        }
      ]
    },
    {
      "cell_type": "markdown",
      "source": [
        " <p align=\"justify\">\n",
        "✅ <strong>Ortogonalidad</strong>: Sean $u$ y $v$ dos vectores de $R^n$, decimos que son ortogonales si se cumple que:<br><br>\n",
        "$$ u.v = 0 $$<br><br>\n",
        "La idea de ortogonalidad es importante. En el espacio bidimiensional o tridimensional, que dos vectores sean ortogonales significa que forman un ángulo recto. Esto quiere decir, si $u$ y $v$ son ortogonales, al avanzar en la dirección de uno de ellos no avanzo en la dirección del otro.<br><br>\n",
        "A modo de ejemplo, las direcciones Norte-Sur y Este-Oeste son ortogonales. Pero la dirección Sureste-Noroeste no es ortogonal a la dirección Norte-Sur. Al avanzar en el dirección Sureste-Noroeste algo avanzo en la dirección Norte-Sur.<br><br>\n",
        "De un modo más general, si dos vectores son ortogonales al aprender en la dirección de uno, no aprendo nada en la dirección del otro.<br><br>\n",
        "✅ <strong>Aplicación:</strong> Dada una función $f:R^2 \\to R$ diferenciable, $f'_x$ nos da información de como varía $f$ al variar solo $x$ y $f'_y$ nos da información de como varía $f$ al variar solo $y$. Podemos calcular una derivada que nos diga como varía $f$ al variar $x$ e $y$ en una proporción fija entre ellos. Esta derivada se obtiene mediante el proudto punto:<br><br>\n",
        "$$f'_u(x,y) = \\nabla f (x,y). u$$<br><br>\n",
        "donde $u$ debe ser un vector de norma euclidia igual a 1. No obstante, Si solo estamos interesados en saber si la función crece o decrece en la dirección y sentido de un determinado vectro $v$ (cualquiera, sin importar su norma), nos basta aplicar el producto punto directo:<br><br>\n",
        "1. Si $\\nabla f(x,y) . v >0$ la función crece cuando variamos $x$ e $y$ en la dirección y sentido del vector $v$. <br><br>\n",
        "2. Si $\\nabla f (x,y). v < 0$ la función decrece cuando variamos $x$ e $y$ en la dirección y sentido del vector $v$. <br><br>\n",
        "3. Si $\\nabla f (x,y). v = 0$ la función no varía cuando variamos $x$ e $y$ en la dirección (no importa sentido) del vector $v$. <br><br>\n",
        "Dado $\\nabla f(x_0,y_0)$, la dirección y sentido de mayor crecimiento para la función en $(x_0,y_0)$ viene dada por el mismo vector $\\nabla f(x_0,y_0)$, mentras que la dirección y sentido de mayor decrecimiento viene dada por $-\\nabla f(x_0,y_0)$. Ejemplo, si el vector gradiente de $f$ en un punto $(x_0,y_0)$ es<br><br>\n",
        "$$ \\nabla f(x_0,y_0) = \\begin{bmatrix} 2 \\\\ -1 \\end{bmatrix}$$<br><br>\n",
        "Entonces el crecimiento de $f$ es máximo cuando disminuimos en 1 unidad el valor de $y$ por cada $2$ unidades que aumentamos la $x$. Y el decrecimiento es máximo cuando aumentamos en 1 unidad $y$ por cada 2 unidades que disminuimos $x$.\n",
        "\n",
        "</p>"
      ],
      "metadata": {
        "id": "TavE146xQMmM"
      }
    },
    {
      "cell_type": "markdown",
      "source": [
        " # **<font color=\"DeepPink\">Matrices</font>**"
      ],
      "metadata": {
        "id": "UPbXFKTXVZiK"
      }
    },
    {
      "cell_type": "markdown",
      "source": [
        " <p align=\"justify\">\n",
        "✅ <strong>Definición</strong>: Una matriz es un arreglo rectangular de números reales. Concretamente, una matriz $A_{m \\times n}$ contiene $m\\times n$ números reales ordenados en $m$ filas y $n$ columnas.<br><br>\n",
        "$$A_{m \\times n} = \\begin{bmatrix}\n",
        "            a_{1,1} & a_{1,2} & \\cdots & a_{1,n} \\\\\n",
        "            a_{2,1} & a_{2,2} & \\cdots & a_{2,n} \\\\\n",
        "            \\vdots  & \\vdots  & \\ddots & \\vdots  \\\\\n",
        "            a_{m,1} & a_{m,2} & \\cdots & a_{m,n}\n",
        "            \\end{bmatrix}$$<br><br>\n",
        "El tamaño de la matriz viene dado por la cantidad de filas y columnas que tiene especificadas en ese orden ($m \\times n$), y $a_{i,j}$ representa al elemento que ocupa el lugar de la fila $i$ columna $j$. Ejemplo:<br><br>\n",
        "\n",
        "$$B = \\begin{bmatrix} 2 & 3 & 1 \\\\ 1 & -1 & -2 \\end{bmatrix}$$<br><br>\n",
        "La matriz $B$ es de tamaño $2 \\times 3$ y el elemento $(2,3)$ es $-2$ ($b_{2,3}=-2$).<br><br>\n",
        "Una matriz de $m \\times n$ se puede entender como $m$ vectores fila pegados uno debajo del otro, o como $n$ vectores columna pegados uno al lado del otro<br><br>\n",
        "Un vector de $R^n$ puede entenderse como una matriz de $n \\times 1$. De hecho, a este tipo de matrices las llamaremos vectores.<br><br>\n",
        "Las matrices son útiles para almacenar información que guarda algún tipo de relación entre filas y columnas. Por ejemplo, una matriz puede contener las ventas anuales de distintas sucursales de una empresa. Cada columna representa una sucursal y cada fila un año. Las encestas almacenan su información en matrices donde una fila contiene toda la información relativa a una observación, y una columna contine la información relativa a una de las variables estudiadas para todas las observaciones.<br><br>\n",
        "Las matrices <strong>pueden sumarse si tienen el mismo tamaño</strong> y la suma se realiza elemento a elemento respectivamente. También se define el producto de un escalar por una matriz de la misma forma que se define para vectores. Más aún, las propiedades de estas operaciones son las mismas que las propiedades de las operaciones análogas para vectores.<br><br>\n",
        "Para cargar una matriz en Python debemos usar la misma función array de Numpy, pero en esta ocación debemos suministrar como input una lista de listas. Cada lista dentre de la lista principal será una fila de la matriz.\n",
        "            \n",
        "            \n",
        "\n",
        "</p>"
      ],
      "metadata": {
        "id": "TdwKtcj9VwJQ"
      }
    },
    {
      "cell_type": "code",
      "source": [
        "lista = [[2,1],[1,1]]\n",
        "lista[1]"
      ],
      "metadata": {
        "colab": {
          "base_uri": "https://localhost:8080/"
        },
        "id": "PK0AolcmcRwu",
        "outputId": "88bf2de7-2ea9-4ec1-b0ff-4ceac45c5843"
      },
      "execution_count": null,
      "outputs": [
        {
          "output_type": "execute_result",
          "data": {
            "text/plain": [
              "[1, 1]"
            ]
          },
          "metadata": {},
          "execution_count": 17
        }
      ]
    },
    {
      "cell_type": "code",
      "source": [
        "A = np.array([[2,1],\n",
        "              [1,1]])\n",
        "\n",
        "B = np.array([[-2,1],\n",
        "              [-1,4]])\n",
        "\n",
        "C = np.array([[2,1,1],\n",
        "              [1,1,0]])\n",
        "#Para sumar, multiplicar por un escalar o vectorizar funciona igual que para vectores\n",
        "np.sin(A)"
      ],
      "metadata": {
        "colab": {
          "base_uri": "https://localhost:8080/"
        },
        "id": "uKgRXuohaJBs",
        "outputId": "e688e03a-b485-4330-fbcf-b89c55ecbccb"
      },
      "execution_count": null,
      "outputs": [
        {
          "output_type": "execute_result",
          "data": {
            "text/plain": [
              "array([[0.90929743, 0.84147098],\n",
              "       [0.84147098, 0.84147098]])"
            ]
          },
          "metadata": {},
          "execution_count": 18
        }
      ]
    },
    {
      "cell_type": "markdown",
      "source": [
        " <p align=\"justify\">\n",
        "✅ <strong>Multiplicación de matrices:</strong> Sea $A_{m \\times n}$ y $B_{n \\times p}$ matrices. Dado que el número de columnas de $A$ coincide con el número de filas de $B$, el producto $AB$ está definido y es una nueva matriz de tamaño $m \\times p$ cuyo elemneto $(i,j)$ se obtine calculando el producto punto entre el i-ésimo vector fila de $A$ y el j-ésimo vector columna de $B$.<br><br>\n",
        "👀 Ejemplo:<br><br>\n",
        "$$A = \\begin{bmatrix} 2 & 3 & 0 \\\\ 1 & 0 & 1 \\end{bmatrix}_{2 \\times 3} \\text{  y } B = \\begin{bmatrix} -2 \\\\ -1 \\\\ 1 \\end{bmatrix}_{3 \\times 1} \\to \\begin{bmatrix} 2 & 3 & 0 \\\\ 1 & 0 & 1 \\end{bmatrix} \\begin{bmatrix} -2 \\\\ -1 \\\\ 1 \\end{bmatrix} = \\begin{bmatrix} 2.(-2)+3.(-1)+1.0 \\\\ 1.(-2)+0.1+1.1  \\end{bmatrix}_{2 \\times 1} = \\begin{bmatrix} -7 \\\\ -1  \\end{bmatrix}_{2 \\times 1}$$<br><br>\n",
        "Note que el producto $BA$ no está definido puesto que el número de columnas de $B$ (una sola) no coincide con el número de filas de $A$ (tres). <br><br>\n",
        "El producto de matrices no cumple la propiedad conmutativa. Por lo tanto, hay que ser cuidadosos al operar con productos de matrices.<br><br>\n",
        "✅ <strong>Propiedades de la multiplicación de matrices</strong><br><br>\n",
        "Sean $A,B,C$ matrices de tamaños adecuados para realizar las operaciones siguentes, se cumple que:<br><br>\n",
        "1. $(AB)C = A(BC)$.<br><br>\n",
        "2. $A(B+C) = AB + AC$.<br><br>\n",
        "3. $(A+B)C = AC + BC$.<br><br>\n",
        "4. Existe una matriz $I$ tal que $AI=A$ y otra matriz $I'$ tal que $I'A = A.$<br><br>\n",
        "✅ <strong>Matrices Cuadradas:</strong> una matriz es cuadrada si tiene la misma cantidad de filas y de columnas. Una matriz especial cuadrada es la matriz Identidad de orden $n$ ($I_n$). Esta matriz tiene $n$ filas y $n$ columnas, todos los elementos $(i,i)$ toman valor $1$ mienstras que los restantes toman valor $0$.\n",
        "<br><br>\n",
        "👀 Ejemplo:<br><br>\n",
        "$$ I_3 = \\begin{bmatrix} 1&0&0 \\\\ 0&1&0 \\\\ 0&0&1 \\end{bmatrix}$$<br><br>\n",
        "Para multiplicar matrices con Numpy se utiliza @.\n",
        "\n",
        "\n",
        "\n",
        "</p>"
      ],
      "metadata": {
        "id": "HHFalLGM0yhd"
      }
    },
    {
      "cell_type": "code",
      "source": [
        "A = np.array([[1,2,3], [2,1,1]])    #A es 2x3\n",
        "B = np.array([[1,1],[0,1],[1,-3]])  #B es 3x2\n",
        "A@B                                 #AB es 2x2 y BA es 3x3"
      ],
      "metadata": {
        "colab": {
          "base_uri": "https://localhost:8080/"
        },
        "id": "W5iGmlYc3KOV",
        "outputId": "32d624aa-563e-4d12-e315-b1cd6abd6a1d"
      },
      "execution_count": null,
      "outputs": [
        {
          "output_type": "execute_result",
          "data": {
            "text/plain": [
              "array([[ 4, -6],\n",
              "       [ 3,  0]])"
            ]
          },
          "metadata": {},
          "execution_count": 19
        }
      ]
    },
    {
      "cell_type": "code",
      "source": [
        "#Para Numpy los vectores no son matrices\n",
        "v = np.array([1,2])    # v matriz fila 1x2\n",
        "v@A, B@v"
      ],
      "metadata": {
        "colab": {
          "base_uri": "https://localhost:8080/"
        },
        "id": "K-Z94geTOOOg",
        "outputId": "90319182-fd0f-451f-d6e2-143223c93be5"
      },
      "execution_count": null,
      "outputs": [
        {
          "output_type": "execute_result",
          "data": {
            "text/plain": [
              "(array([5, 4, 5]), array([ 3,  2, -5]))"
            ]
          },
          "metadata": {},
          "execution_count": 20
        }
      ]
    },
    {
      "cell_type": "code",
      "source": [
        "#Para transformar una vector en una matriz usamos reshape\n",
        "#v.shape\n",
        "vcol = np.reshape(v,(2,1))\n",
        "vfil = np.reshape(v,(1,2))\n",
        "vfil.shape, v.shape"
      ],
      "metadata": {
        "colab": {
          "base_uri": "https://localhost:8080/"
        },
        "id": "vND9EbShwl0V",
        "outputId": "811f4ae3-9c74-4965-bdee-393e3c36cb03"
      },
      "execution_count": null,
      "outputs": [
        {
          "output_type": "execute_result",
          "data": {
            "text/plain": [
              "((1, 2), (2,))"
            ]
          },
          "metadata": {},
          "execution_count": 21
        }
      ]
    },
    {
      "cell_type": "markdown",
      "source": [
        " <p align=\"justify\">\n",
        "✅ <strong>Transpuesta de una matriz:</strong> Sea $A$ una matriz de tamaño $m \\times n$, la matriz transpuesta de $A$ es una matriz de tamaño $n \\times m$ que denotamos $A'$ (o $A^t$) en la que las filas de $A'$ son las columnas de $A$.<br><br>\n",
        "\n",
        "\n",
        "\n",
        "\n",
        "</p>"
      ],
      "metadata": {
        "id": "W8y8qI6TZvaF"
      }
    },
    {
      "cell_type": "code",
      "source": [
        "A\n",
        "B = A.T\n",
        "B"
      ],
      "metadata": {
        "colab": {
          "base_uri": "https://localhost:8080/"
        },
        "id": "ond9gmbe9wVW",
        "outputId": "1945702c-3386-41f0-a4c3-f612bf4bbf05"
      },
      "execution_count": null,
      "outputs": [
        {
          "output_type": "execute_result",
          "data": {
            "text/plain": [
              "array([[1, 2],\n",
              "       [2, 1],\n",
              "       [3, 1]])"
            ]
          },
          "metadata": {},
          "execution_count": 28
        }
      ]
    },
    {
      "cell_type": "markdown",
      "source": [
        "<p align=\"justify\">\n",
        "✅ <strong>Propiedades:</strong> Sean $A$ y $B$ matrices tales que las siguientes operaciones estan definidas y $c$ un escalar:<br><br>\n",
        "1. $(A')'=A.$<br><br>\n",
        "2. $(A+B)'=A'+B'$.<br><br>\n",
        "3. $(cA)'=cA'$.<br><br>\n",
        "4. $(AB)'=B'A'$.\n",
        "\n",
        "\n",
        "\n",
        "\n",
        "</p>"
      ],
      "metadata": {
        "id": "0OFCTVKQt7gG"
      }
    },
    {
      "cell_type": "markdown",
      "source": [
        " <p align=\"justify\">\n",
        "✅ <strong>Inversa de una Matriz</strong><br><br>\n",
        "Sea $A$ una matriz cuadrada $n \\times n$, decimos que $A$ es invertible si existe una matriz $B$ (también cuadrada) tal que:<br><br>\n",
        "$$ AB = BA = I_n $$<br><br>\n",
        "A dicha matriz $B$ la llamamos inversa de $A$ y la denotamos $A^{-1}$.\n",
        "\n",
        "\n",
        "\n",
        "\n",
        "\n",
        "</p>"
      ],
      "metadata": {
        "id": "z1ZAWM5SujfO"
      }
    },
    {
      "cell_type": "code",
      "source": [
        "A = np.array([[1,2],\n",
        "              [2,1]])\n",
        "\n",
        "B = np.linalg.inv(A)\n",
        "B"
      ],
      "metadata": {
        "colab": {
          "base_uri": "https://localhost:8080/"
        },
        "id": "dPcCbzfhvhBq",
        "outputId": "3cea1898-2e1e-4c84-e424-9371b6d23e99"
      },
      "execution_count": null,
      "outputs": [
        {
          "output_type": "execute_result",
          "data": {
            "text/plain": [
              "array([[-0.33333333,  0.66666667],\n",
              "       [ 0.66666667, -0.33333333]])"
            ]
          },
          "metadata": {},
          "execution_count": 22
        }
      ]
    },
    {
      "cell_type": "markdown",
      "source": [
        " <p align=\"justify\">\n",
        "✅ <strong>Propiedades:</strong> Sean $A$ y $B$ matricies invertibles del mismo tamaño y sea $c$ un escalar: <br><br>\n",
        "1. $(A^{-1})^{-1}=A.$<br><br>\n",
        "2. $(cA)^{-1}=\\frac{1}{c}A^{-1}$<br><br>\n",
        "3. $(AB)^{-1}=B^{-1}A^{-1}$<br><br>\n",
        "4. $(A')^{-1}=(A^{-1})'$<br><br>\n",
        "¿Cómo determinamos si una matriz es invertible? Para ello vamos a utilizar el rango de una matriz.<br><br>\n",
        "✅ <strong>Rango de una matriz:</strong> Sea $A$ una matriz $m \\times n$, el rango de $A$, al que denotamos $\\text{Rango}(A)$, es el número que representa la cantidad de vectores fila de la matriz $A$ que no pueden ser escritos como combinación lineal de los restantes vectores filas de la matriz.<br><br>\n",
        "👀 Ejemplo:<br><br>\n",
        "$$ A = \\begin{bmatrix} 1 & 1 \\\\ 0 & 1 \\\\ 2 & 1 \\end{bmatrix} $$<br><br>\n",
        "Llamando $F_i$ a al i-ésimo vector fila de la matriz $A$, vemos que $F_3$ es combinación linel de $F_2$ y de $F_1$:<br><br>\n",
        "$$ 2F_1 + (-1)F_2 = F_3 $$<br><br>\n",
        "$$ 2\\begin{bmatrix} 1 \\\\ 1 \\end{bmatrix} + (-1)\\begin{bmatrix} 0 \\\\ 1 \\end{bmatrix} = \\begin{bmatrix} 2 \\\\ 1 \\end{bmatrix} $$<br><br>\n",
        "Una vez descartado $F_3$, ni la primer fila no puede escribirse como combinación lineal de la segunda ni la segunda como combinación lineal de la primera. Esto es, no existen $c \\in R$ ni $k \\in R$ tales que:<br><br>\n",
        "$$ c\\begin{bmatrix} 1 \\\\ 1 \\end{bmatrix} = \\begin{bmatrix} 0 \\\\ 1 \\end{bmatrix} $$<br>\n",
        "$$ k\\begin{bmatrix} 0 \\\\ 1 \\end{bmatrix} = \\begin{bmatrix} 1 \\\\ 1 \\end{bmatrix} $$<br><br>\n",
        "Luego, $\\text{Rango}(A) = 2$<br><br>\n",
        "✅ <strong>Dos propiedades importantes</strong> referidas al rango de una matriz:<br><br>\n",
        "1. Si $A$ es $m \\times n$ entonces $\\text{Rango}(A) \\leq \\min \\{ m;n \\}$<br><br>\n",
        "2. Si $A$ y $B$ son dos matrices tales que $AB$ está definido entonces $\\text{Rango}(AB) = \\min \\{\\text{Rango}(A);\\text{Rango}(B) \\}$<br><br>\n",
        "👀 Para obtener el rango de una matriz con Numpy se utiliza la función linalg.matrix_rank (A).\n",
        "\n",
        "\n",
        "</p>"
      ],
      "metadata": {
        "id": "jRlB0MFXVb-b"
      }
    },
    {
      "cell_type": "code",
      "source": [
        "A = np.array([[1,1],[0,1],[2,1]])\n",
        "np.linalg.matrix_rank(A)"
      ],
      "metadata": {
        "colab": {
          "base_uri": "https://localhost:8080/"
        },
        "id": "Llux0kCZ-sNM",
        "outputId": "52172dac-a24f-4da1-9e3d-c1eb59ee1267"
      },
      "execution_count": null,
      "outputs": [
        {
          "output_type": "execute_result",
          "data": {
            "text/plain": [
              "2"
            ]
          },
          "metadata": {},
          "execution_count": 23
        }
      ]
    },
    {
      "cell_type": "markdown",
      "source": [
        "✅ <strong>Propiedad:</strong> Una matriz cuadrada $A$ de tamaño $n \\times n$ es invertible si $\\text{Rango}(A) = n$. Es decir, una matriz cuadrada es invertible si su rango es igual a la cantidad de filas que tiene la matriz."
      ],
      "metadata": {
        "id": "pmw2xh8k--Lt"
      }
    },
    {
      "cell_type": "markdown",
      "source": [
        " # **<font color=\"DeepPink\">Sistemas de Ecuaciones Lineales</font>**"
      ],
      "metadata": {
        "id": "h1GO8Ez5_bHP"
      }
    },
    {
      "cell_type": "markdown",
      "source": [
        " <p align=\"justify\">\n",
        "Una ecuación es lineale si las incognitas presententes solo aparecen multiplicadas por escalares:<br><br>\n",
        "Ejemplo, la siguiente es una ecuación lineal con incógnitas $x$, $y$, $z$ y $w$:<br><br>\n",
        "$$ 2x + 3y - z -4w = 8 $$<br><br>\n",
        "Un sistema de ecuaciones lineales es un conjunto de ecuaciones lineales con las mismas incognitas. Por ejemplo:<br><br>\n",
        "$$   \\begin{cases}\n",
        "    2x + 3y -z -4w =8\\\\ 1x - 3y +z +2w =0 \\\\ -x - y + 4z +0w =-4\n",
        "  \\end{cases} $$<br><br>\n",
        "Podemos utilizar la multiplicación matricial para escribir este sistema:<br><br>\n",
        "$$ \\begin{bmatrix} 2&3&-1&-4\\\\1&-3&1&2\\\\-1&-1&4&0 \\end{bmatrix} \\begin{bmatrix} x \\\\ y \\\\ z \\\\ w \\end{bmatrix} = \\begin{bmatrix} 8 \\\\ 0 \\\\ -4 \\end{bmatrix}$$<br><br>\n",
        "La expresión anterior es la forma matricial del sistema de ecuaciones. Esta forma es la más usada y la más práctica para estudiar al sistema.<br><br>\n",
        "Cualquier sistema de $m$ ecuaciones lineales con $n$ incognitas se puede escribir en forma matrical:<br><br>\n",
        "$$ A_{m \\times n} X_{n \\times 1} = B_{m \\times 1}, $$<br><br>\n",
        "donde $A$ es la matriz de coeficientes del sistema, $X$ es la matriz de incógnitas del sistema y $B$ es la matriz de términos independientes del sistema.<br><br>\n",
        "Una solución para un sistema como el anterior es un vector $s \\in R^n$ tal que se cumple la igualdad matricial:<br><br>\n",
        "$$ A s = B $$<br><br>\n",
        "Se denomina conjunto solución del sistema al conjunto de todos los vectores que son solución al sistema:<br><br>\n",
        "$$S = \\bigg\\{ s \\in R^n / As = B \\bigg \\}$$<br><br>\n",
        "Los sistemas de ecuaciones lieales son importantes desde un punto de vista matemático porque conocemos muy bien como \"funcionan\".<br><br>\n",
        "Un sistema de ecuaciones lineales $AX = B$ puede tener:<br><br>\n",
        "1. Un conjunto solución vacío (0 soluciones).<br><br>\n",
        "2. Un conjunto solución unitario (solución única)<br><br>\n",
        "3. Un conjunto solución infinito (infinita cantidad de soluciones)<br><br>\n",
        "La propiedad implica que si un sistema de ecuaciones lineales tiene dos soluciones entonces tiene infinitas soluciones. Los sistemas que no tienen solución alguna se denominan Inconsistentes (o incompatibles) mientras que los sistemas que presentan al menos una solución se denominan consitentes. Los sistemas consistentes pueden ser Determinados si tienen solución única o Indeterminados si tienen infinitas soluciones. Nos vamos a centrar unicamente en sistemas consistentes determinados y veremos algunos casos especiales de sistemas inconsistentes.<br><br>\n",
        "Dado un sistema de ecuaciones lineales $AX = B$, denominamos <strong>matriz ampliada</strong> del sistema a la matriz que se obtiene al pegar el matriz las matrices $A$ y $B$ una al lado de la otra, en el orden mencionado, y la denotamos $[A|B]$. En nuestro ejemplo, la matriz ampliada del sistema es:<br><br>\n",
        "$$ [A|B] = \\begin{bmatrix} 2&3&-1&-4&8\\\\1&-3&1&2&0\\\\-1&-1&4&0&4 \\end{bmatrix}  $$<br><br>\n",
        "A partir de la matriz ampliada podemos determinar si un sistema de ecuaciones tiene solución o no:<br><br>\n",
        "✅ <strong>Teorema Rouche-Frobenius:</strong> Un sistema de ecuaciones lineales $AX = B$ es consistente si $\\text{Rango}(A) = \\text{Rango}(A|B)$ (un sistema de ecuaciones lineales tiene solución si el rango de la matriz e coeficientes es igual al rango de la matriz ampliada).<br><br>\n",
        "✅ <strong>Teorema del Rango: </strong>Dado un sistema de ecuaciones lineales $AX = B$ consistente, el sitema tendrá solución única si el $\\text{Rango}(A) = n° \\text{ } incognitas$ (o al número de columnas de $A$).<br><br>\n",
        "\n",
        "\n",
        "\n",
        "</p>"
      ],
      "metadata": {
        "id": "o4ZLSjC5_e-k"
      }
    },
    {
      "cell_type": "markdown",
      "source": [
        " # **<font color=\"DeepPink\">Resolución de Sistemas de Ecuaciones Lineales</font>**"
      ],
      "metadata": {
        "id": "KUblHbUwOhuc"
      }
    },
    {
      "cell_type": "markdown",
      "source": [
        " <p align=\"justify\">\n",
        "El método de Gauss (y su variante Gauss-Jordan) es el método general utilizado para encontrar el conjunto solución a cualquier sistema de ecuaciones lineales. Al aplicarlo nos damos cuenta facilmente si el sistema es consitente o no, y si es determiando o indeterminado. No vamos a estudiarlo en este apunte, puede consultar los temas de Operaciones elementales por filas y Método de Gauss en el libro de Poole si está interesado.<br><br>\n",
        "El método consiste en reeemplazar ecuaciones en el sistema original por nuevas ecuaciones que facilitan el cálculo de la solución. Una ecuación se reemplaza por una Combinación lineal entre si misma y las restantes ecuaciones lineales. Esto se puede hacer directamente utilizando la matriz ampliada del sistema, reempelzando una fila de la matriz ampliada por una combinación lineal de si misma y de las restantes filas. Esto permite que algunas filas se transformen en filas completas de ceros y dejen de tenerse en cuenta (reduciendo el tamaño del problema). También se busca que cada ecuación tenga la menor cantidad de incognitas posibles transformando en ceros los correspondientes coeficientes.<br><br>\n",
        "Vamos a estudiar aquí dos tipos de Sistemas de Ecuaciones Lineales, matriz de coeficientes cuadrada y matriz de coeficientes con más filas que columnas, y para ambos tipos consideraremos que el rango de la matriz de coeficientes es igual al número de columnas dela matriz.<br><br>\n",
        "Sea $AX = B$ un sistema de ecuaciones lineales tal que $A$ es cuadrada $n \\times n$ y $\\text{Rango}(A) = n$. Bajo estas condiciones la matriz $A$ es invertible y por los teoremas anteriores el sistema tiene solución única. Paratamos de la ecuación matricial inicial:<br><br>\n",
        "$$ AX = B $$<br>\n",
        "$$ A^{-1}AX = A^{-1}B $$<br>\n",
        "$$ IX = A^{-1}B $$<br>\n",
        "$$ X = A^{-1}B $$<br>\n",
        "La única solución del sistema viene dada por $A^{-1}X$<br><br>\n",
        "Resuelva el siguiente sistema de ecuaciones lineales:<br><br>\n",
        "$$ \\begin{bmatrix} 2&1 \\\\ 3&3 \\end{bmatrix} \\begin{bmatrix} x \\\\ y \\end{bmatrix} = \\begin{bmatrix} 1 \\\\ 1 \\end{bmatrix} $$\n",
        "</p>"
      ],
      "metadata": {
        "id": "MfCnyGhWOmSV"
      }
    },
    {
      "cell_type": "code",
      "source": [
        "#Cargamos las matrices\n",
        "A = np.array([[2,1],[3,3]])\n",
        "B = np.array([1,1])"
      ],
      "metadata": {
        "id": "HuJJKEwYMz3h"
      },
      "execution_count": null,
      "outputs": []
    },
    {
      "cell_type": "code",
      "source": [
        "#Determinamos si A es invertible\n",
        "np.linalg.matrix_rank(A)"
      ],
      "metadata": {
        "colab": {
          "base_uri": "https://localhost:8080/"
        },
        "id": "ygnRzj5eVVbo",
        "outputId": "58ab1fb7-c48a-4c69-9f1c-eb353c394731"
      },
      "execution_count": null,
      "outputs": [
        {
          "output_type": "execute_result",
          "data": {
            "text/plain": [
              "2"
            ]
          },
          "metadata": {},
          "execution_count": 25
        }
      ]
    },
    {
      "cell_type": "code",
      "source": [
        "#Buscamos la solución\n",
        "X = np.linalg.inv(A)@B\n",
        "X"
      ],
      "metadata": {
        "colab": {
          "base_uri": "https://localhost:8080/"
        },
        "id": "xj0Bu1sJV27i",
        "outputId": "93bfe359-220e-4ed1-e3d2-7ae1821d3bd7"
      },
      "execution_count": null,
      "outputs": [
        {
          "output_type": "execute_result",
          "data": {
            "text/plain": [
              "array([ 0.66666667, -0.33333333])"
            ]
          },
          "metadata": {},
          "execution_count": 26
        }
      ]
    },
    {
      "cell_type": "markdown",
      "source": [
        " <p align=\"justify\">\n",
        "Sea $AX = B$ un sistema consistente con $m$ ecuaciones y $n$ ingonitas tal que $m>n$ (hay más ecuaciones que incognitas), $\\text{Rango}(A) = n$. Por las condiciones mencionadas, el sistema tiene solución única. Trabajemos con la ecuación matricial:<br><br>\n",
        "$$ A_{m \\times n}X_{n \\times 1} = B_{m \\times 1} $$<br>\n",
        "$$ A'_{n\\times m}(A_{m \\times n}X_{n \\times 1})= A'_{n\\times m}B_{m \\times 1} $$<br>\n",
        "$$ (A'_{n\\times m}A_{m \\times n})X_{n \\times 1}= A'_{n\\times m}B_{m \\times 1} $$<br>\n",
        "$$ (A'A)X= (A'B) $$<br>\n",
        "Ahora tenemos un nuevo sistema $(A'A)X=(A'B)$. Note que la matriz $A'A$ es de cuadrada de tamaño $n \\times n$ con $\\text{Rango (A'A)=n}$. Es decir, $A'A$ es una matriz invertible, por lo que podemos emplear el método anterior para resolver el nuevo sistema:<br><br>\n",
        "$$ X = (A'A)^{-1}(A'B) $$<br><br>\n",
        "Resuelva el siguiente sistema de ecuaciones:<br><br>\n",
        "$$ \\begin{bmatrix} 2&1 \\\\ 3&3 \\\\ 1&2 \\end{bmatrix} \\begin{bmatrix} x \\\\ y \\end{bmatrix} = \\begin{bmatrix} 1 \\\\ 1 \\\\ 0 \\end{bmatrix} $$\n",
        "\n",
        "</p>"
      ],
      "metadata": {
        "id": "nvZFKbztWRyD"
      }
    },
    {
      "cell_type": "code",
      "source": [
        "#Cargamos las matrices\n",
        "A = np.array([[2,1],[3,3],[1,2]])\n",
        "B = np.array([1,1,0])\n",
        "AB = np.array([[2,1,1],[3,3,1],[1,2,0]])"
      ],
      "metadata": {
        "id": "wRobdfFqZLN_"
      },
      "execution_count": null,
      "outputs": []
    },
    {
      "cell_type": "code",
      "source": [
        "#Verificamos condiciones de rangos\n",
        "np.linalg.matrix_rank(A),np.linalg.matrix_rank(AB)"
      ],
      "metadata": {
        "colab": {
          "base_uri": "https://localhost:8080/"
        },
        "id": "Ssov84VTaYxk",
        "outputId": "5b00d6b5-baeb-4f59-8c77-50f80ac4cbba"
      },
      "execution_count": null,
      "outputs": [
        {
          "output_type": "execute_result",
          "data": {
            "text/plain": [
              "(2, 2)"
            ]
          },
          "metadata": {},
          "execution_count": 28
        }
      ]
    },
    {
      "cell_type": "code",
      "source": [
        "#Resolvemos\n",
        "X = np.linalg.inv(A.T @ A) @ (A.T @ B)\n",
        "X"
      ],
      "metadata": {
        "colab": {
          "base_uri": "https://localhost:8080/"
        },
        "id": "nMhAQ5-pcQqQ",
        "outputId": "82e28706-dacd-4a5e-ad04-c125e5f13b59"
      },
      "execution_count": null,
      "outputs": [
        {
          "output_type": "execute_result",
          "data": {
            "text/plain": [
              "array([ 0.66666667, -0.33333333])"
            ]
          },
          "metadata": {},
          "execution_count": 29
        }
      ]
    },
    {
      "cell_type": "markdown",
      "source": [
        " <p align=\"justify\">\n",
        "Finalmente, vamos a trabajar con sistema $AX = B$ con $m$ ecuaciones y $n$ incongnitas tal que $\\text{Rango}(A) = n$ pero inconsistente. Este sistema no tiene solucion:<br><br>\n",
        "$$ AX \\neq B \\qquad \\forall X \\in R^n $$<br><br>\n",
        "Podemos reformular este problema para que tenga sentido buscando un vector $X$ tal que la distancia entre $AX$ y $B$ sea mínima. Es decir, podemos resolver el siguiente problema:<br><br>\n",
        "$$ \\min_X ||AX - B|| $$<br>\n",
        "Que es equivalente a:<br><br>\n",
        "$$ \\min_X ||AX - B||^2 $$<br>\n",
        "Si bien no lo vamos a probar, la solución a este problema viene dada por:<br><br>\n",
        "$$ X = (A'A)^{-1}(A'B) $$<br><br>\n",
        "Busque la solución que mejor aproxima a un solución del sistema corroborando todas las condiciones que se deben cumplir:<br><br>\n",
        "$$ \\begin{bmatrix} 2&1 \\\\ 3&3 \\\\ 1&2 \\end{bmatrix} \\begin{bmatrix} x \\\\ y \\end{bmatrix} = \\begin{bmatrix} 1 \\\\ 1 \\\\ 1 \\end{bmatrix} $$<br><br>\n",
        "</p>"
      ],
      "metadata": {
        "id": "IAEF2Ypvchyo"
      }
    },
    {
      "cell_type": "markdown",
      "source": [
        " # **<font color=\"DeepPink\">Aplicación: Sistemas de ecuaciones no lineales</font>**"
      ],
      "metadata": {
        "id": "2bBLj9y9e9yZ"
      }
    },
    {
      "cell_type": "markdown",
      "source": [
        " <p align=\"justify\">\n",
        "✅ <strong>Funciones de $R^n$ en $ R^n$</strong><br><br>\n",
        "Una función de $f:A \\subset R^n \\to R^n$ es una aplicación que toma vectores de $R^n$ y devuelve vectores de $R^n$ cuya regla puede escribirse de la siguiente forma:<br><br>\n",
        "$$ f(X) = f(x_1, x_2, ..., x_n) = \\begin{bmatrix} f^1(X) \\\\ f^2(X) \\\\ ... \\\\ f^n(X) \\end{bmatrix} = \\begin{bmatrix} f^1(x_1, x_2, ..., x_n) \\\\ f^2(x_1, x_2, ..., x_n) \\\\ ... \\\\ f^n(x_1, x_2, ..., x_n) \\end{bmatrix} $$<br><br>\n",
        "donde $f^i$ es una función de $R^n$ en $R$ para cada $i$ y $X=(x_1,x_2,...,x_n)$. Además, que $f(X)$ es un vector de $R^n$. Por ejemplo:<br><br>\n",
        "$$  f(x,y) = \\begin{bmatrix} x + y^2 \\\\ y \\log{(x+y)}  \\end{bmatrix}  $$<br><br>\n",
        "Su \"derivada\", si existe, ahora será una matriz de $n \\times n$ ya que cada función $f^{i}$ tiene $n$ derivadas parciales:<br><br>\n",
        "$$ \\nabla f(X) = \\begin{bmatrix} f^1_{x_1}(X)&f^1_{x_2}(X)&...&f^1_{x_n}(X) \\\\ f^2_{x_1}(X)&f^2_{x_2}(X)&...&f^2_{x_n}(X) \\\\ ... & ... & ... & ... \\\\ f^n_{x_1}(X)&f^n_{x_2}(X)&...&f^n_{x_n}(X) \\end{bmatrix}$$<br><br>\n",
        "✅ <strong>Aproximación lineal para funciones de $R^n$ a $R^n$</strong><br><br>\n",
        "Empecemos por el caso ssencillo. Sea $f:A \\subset R^2 \\to R$ y sea $(x_0,y_0)$ un punto del dominio de $f$. Si $f$ es diferenciable en el punto $(x_0,y_0)$ entonces podemos aproximar la función $f$ (en un entorno de $(x_0,y_0)$) mediante:<br><br>\n",
        "$$ f(x,y) \\approx f(x_0,y_0) + f'_x(x_0,y_0) \\times (x - x_0) + f'_y(x_0,y_0) \\times (y - y_0) $$<br><br>\n",
        "Esta expresión es análoga a la aproximación lineal para funciones de una variable real. El primer termino aproxima el cambio en $f$ debido a la variación en $x$ y el segundo el cambio en $f$ debido a la variación en $y$. El cambio total en $f$ es la suma de ambos. Ahora bien, utilizando lo que hemos aprendido de producto punto entre vectores:<br><br>\n",
        "$$ f(x,y) \\approx f(x_0,y_0) + f'_x(x_0,y_0) \\times (x - x_0) + f'_y(x_0,y_0) \\times (y - y_0) = f(x_0,y_0) + \\begin{bmatrix} f'_x(x_0,y_0) \\\\ f'_y(x_0,y_0) \\end{bmatrix}\\begin{bmatrix} x-x_0 \\\\ y-y_0 \\end{bmatrix}$$<br><br>\n",
        "Finalmente, por suma (o resta) de vectores, podemos escribir:<br><br>\n",
        "$$ f(x,y) \\approx f(x_0,y_0) + \\begin{bmatrix} f'_x(x_0,y_0) \\\\ f'_y(x_0,y_0) \\end{bmatrix}\\Bigg( \\begin{bmatrix} x \\\\ y \\end{bmatrix} - \\begin{bmatrix} x_0 \\\\ y_0 \\end{bmatrix} \\Bigg) = f(x_0,y_0) + \\nabla f(x_0,y_0) \\big(X-X_0 \\big)$$<br><br>\n",
        "Sea $f:A \\subset R^n \\to R^n$ y sea $X_0 \\in R^n$ un punto del dominio de $f$. Si $f$ es diferenciable en $X_0$ entonces la aproximación lineal de $f$ entorno a $X_0$ viene dada por:<br><br>\n",
        "$$ f(X) = f(X_0) + \\nabla f(X_0).\\big(X-X_0 \\big) $$<br><br>\n",
        "✅ <strong>Sistemas de ecuaciones no lineales</strong><br><br>\n",
        "Un sistema de $n$ ecuaciones no lineales en $n$ incognitas puede ser escrito de la siguiente forma:<br><br>\n",
        "$$ f(X) = 0 $$<br><br>\n",
        "donde $f$ es una función con dominio en un subconjunto de $R^n$, $X$ es un vector de $n$ incognitas y $0$ es el vector nulo de $R^n$.<br><br>\n",
        "Para un sistema de este tipo, sin importar las condiciones de $f$ sabemos poco. <strong>¿Tiene o no tiene solución? Si tiene, ¿una, dos, 10, infinitas? ¿Hay algún método de resolución general?</strong> No lo sabemos. <br><br>\n",
        "Si $f$ es diferenciable en su dominio entonces podemos aplicar el análogo del método de Newton para encontrar la solución al sistema. Empezando en un punto $X_0$ tenemos que:<br><br>\n",
        "$$ f(X) \\approx f(X_0) + \\nabla f(X_0).\\big(X-X_0 \\big) $$<br><br>\n",
        "$$ 0 \\approx f(X_0) + \\nabla f(X_0).X- \\nabla f(X_0)X_0  $$<br><br>\n",
        "$$  \\nabla f(X_0).X \\approx -f(X_0) + \\nabla f(X_0)X_0  $$<br><br>\n",
        "Teniendo en cuenta que $\\nabla f(X_0)$ es una matriz cuadrada que por cosntrucción es invertible:<br><br>\n",
        "$$  X \\approx X_0 - \\nabla f(X_0)^{-1} f(X_0)   $$<br><br>\n",
        "De esta forma, obtenemos un nuevo valor $X$ el cual está más cerca de la verdadera solución. Podemos iterar usando este método para acercarnos más a la solución verdadera usando la siguiente regla:<br><br>\n",
        "$$  X_k = X_{k-1} - \\nabla f(X_{k-1})^{-1} f(X_{k-1})   $$<br><br>\n",
        "\n",
        "</p>"
      ],
      "metadata": {
        "id": "QNIsQTq7gon3"
      }
    },
    {
      "cell_type": "markdown",
      "source": [
        " # **<font color=\"DeepPink\">Aplicación: optimización</font>**"
      ],
      "metadata": {
        "id": "5QDmZtEh-Mke"
      }
    },
    {
      "cell_type": "markdown",
      "source": [
        " <p align=\"justify\">\n",
        "Sea $f:A \\subset R^n \\to R$, queremos resolver el siguiente problema:<br><br>\n",
        "$$ \\min_{X} f(X) $$<br><br>\n",
        "✅ <strong>Método de Newton</strong><br><br>\n",
        "Si la función $f$ es diferenciable, entonces estamos buscando un punto del dominio $X$ para el cual se cumpla la siguiente condición análoga a la condición para funciones de una variable real:<br><br>\n",
        "$$ \\nabla f(X) = 0 $$<br><br>\n",
        "Si $f$ es dos veces diferenciable, podemos aplicar el método de Newton para optimizar la función partiendo desde un punto inicial $X_0$ y actualizando el punto mediante la siguiente regla:<br><br>\n",
        "$$ X_k = X_{k-1} - H_{f}(X_{k-1})^{-1} \\nabla f(X_{k-1}) $$<br><br>\n",
        "donde $H_{f}(X)$ es la matriz de derivadas segundas de $f$. Esta matriz debe ser simétrica, $H(X)^{t}=H(X)$. <br><br>\n",
        "El proceso continua hasta que se cumpla el criterio de parada, generalemnte:<br><br>\n",
        "$$ ||X_{k+1} - X_{k}||_{2}<\\text{tolerancia} $$<br><br>\n",
        "✅ <strong>Gradiente del descenso</strong><br><br>\n",
        "Si $f$ es diferenciable en casi todo punto de su dominio, teniendo en cuenta que hemos mencionado que $\\nabla f(X)$ determina la dirección y sentido de máximo crecimiento de la función en el punto $X$ y que <strong>$-\\nabla f(X)$ determina la dirección y sentido de máximo decrecimiento</strong> de la función en el punto $X$, podemos:<br><br>\n",
        "1. Tomar un punto inicial $X_0$.<br><br>\n",
        "2. Determinar un tamaño de paso $\\alpha$.<br><br>\n",
        "3. Actualizar el valor del punto mediante la regla:<br><br>\n",
        "$$ X_{k+1} = X_{K} - \\alpha \\nabla f(X_k) $$<br><br>\n",
        "4. Continuar hasta que se cumpla el criterio de parada.<br><br>\n",
        "Este método no requiere que $f$ sea diferenciable en el punto óptimo.<br><br>\n",
        "✅ <strong>Métodos de orden 0</strong><br><br>\n",
        "Existen métodos que no requieren de la derivada de la función. Vimos que el método de busqueda directa es uno de ellos, pero la complejidad computacional de este método crece exponencialmente cuando crece la dimensión del problema. Para ver esto, suponga que necesita evaluar $1000$ puntos distintos para buscar el mínimo de una función de $R$ en $R$, entonces necesita $1000^2$ puntos para obtener un resultado igual de eficiente para una función de $R^2$ en $R$ y $1000^3$ puntos para una función de $R^3$ en $R$.<br><br>\n",
        "Una alternativa a este método es el método de busqueda aleatoria:<br><br>\n",
        "1. Determine una región de busqueda (un cuadrado en $R^2$, un cubo $R^3$).<br><br>\n",
        "2. Genere una cantidad finita pero grande de puntos aleatorios dentro de la región de búsqueda.<br><br>\n",
        "3. Determine que punto entre los generados tiene un menor valor para $f$.\n",
        "4. Construya una nueva región de búsqueda centrada en el punto determinado en (3.) cuya medida (superficie, volumen) sea menor que la original y repita el proceso.<br><br>\n",
        "5. Continue hasta que se cumpla el criterio de parada.<br><br>\n",
        "\n",
        "\n",
        "\n",
        "</p>"
      ],
      "metadata": {
        "id": "YTTI53GtRPD3"
      }
    },
    {
      "cell_type": "markdown",
      "source": [
        " # **<font color=\"DeepPink\">Ejercicios a resolver</font>**"
      ],
      "metadata": {
        "id": "wl7FXW8CFCUk"
      }
    },
    {
      "cell_type": "markdown",
      "source": [
        " <p align=\"justify\">\n",
        "🏷 <strong>Ejercicio 1</strong><br><br>\n",
        "a. Construya <strong>una</strong> función que tome una matriz de coeficientes y una matriz de terminos independientes, evalue el rango de la matriz de coeficientes para determianar si puede resolver el sistema invirtiendo la matriz adecuada y que devuelva la solución al sistema o un mensaje que diga \"El rango de la matriz no es igual al número de columnas\".<br><br>\n",
        "b. Determine si los siguientes sistemas son compatibles o incompatibles y utilice la función construida para resolverlos. Interprete adecuadamente la solución hallada según la clasificación que haya hecho de cada sistema.<br><br>\n",
        "$$ \\begin{bmatrix} 2&1 \\\\ 3&-4 \\end{bmatrix} \\begin{bmatrix} x \\\\ y \\end{bmatrix} = \\begin{bmatrix} 1 \\\\ 1 \\end{bmatrix}$$<br><br>\n",
        "$$ \\begin{bmatrix} 2&1 \\\\ 3&-4 \\\\ 5&-3 \\end{bmatrix} \\begin{bmatrix} x \\\\ y \\end{bmatrix} = \\begin{bmatrix} 1 \\\\ 1 \\\\ 2 \\end{bmatrix}$$<br><br>\n",
        "$$ \\begin{bmatrix} 2&1 \\\\ 3&-4 \\\\ 5&-3 \\end{bmatrix} \\begin{bmatrix} x \\\\ y \\end{bmatrix} = \\begin{bmatrix} 1 \\\\ 1 \\\\ -2 \\end{bmatrix}$$<br><br>\n",
        "🏷 <strong>Ejercicio 2</strong><br><br>\n",
        "a. Construya una función que tome como argumentos un vector de $R^n$ cualquiera sea $n$ y un valor $p$ para que calcule la norma de Minkowski con parámetro $p$. Construya una función que determine la Norma sup de cualquier vector de $R^n$ <br><br>\n",
        "b. Utilice las funciones anteriores para calcular la Norma-1, la Norma-2 y la Norma sup de los siguientes vectores:<br><br>\n",
        "$$ v_1 = \\begin{bmatrix} 2 \\\\ 1 \\\\ -3 \\end{bmatrix} \\quad  v_2 = \\begin{bmatrix} 2 \\\\ 1 \\\\ -3 \\end{bmatrix} $$<br><br>\n",
        "Compare los resultados entre distintas normas.<br><br>\n",
        "c. Utilice las funciones anteriores para calcular la norma de Minkoski del vector $v_1$ anterior para valores de $p$ que van aumentando desde $1$ hasta $1000$. Construya un gráfico que muestre como varia la norma calculada al aumentar $p$ y grafique una linea recta a la altura del valor de la Norma-sup del mismo vector. Interprete el resultado.<br><br>\n",
        "🏷 <strong>Ejercicio 3</strong><br><br>\n",
        "a. La función $f:R^2 \\to R / f(x,y) = (3-x)^2 + (2-y)^2$ presenta un mínimo en el punto $(3,2)$. Construya una función (o un programa) en Python que le permíta aplicar el método de gradiente de descenso para buscar el mínimo de la función. Conociendo cual es el resultado deseado, ajuste $\\alpha$ adecuadamente si su algoritmo no encuentra un punto cercano al óptimo. <br><br> b. Investigue alguna función de Scipy que le permita aplicar el método de Newton para minimizar funciones y utilicela para resolver el problema. Compare el resultado de su programa con el obtenido con la función de Scipy.\n",
        "\n",
        "\n",
        "</p>"
      ],
      "metadata": {
        "id": "UOOjHdzsFIQw"
      }
    }
  ]
}