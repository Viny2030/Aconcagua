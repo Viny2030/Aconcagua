{
  "nbformat": 4,
  "nbformat_minor": 0,
  "metadata": {
    "colab": {
      "provenance": []
    },
    "kernelspec": {
      "name": "python3",
      "display_name": "Python 3"
    },
    "language_info": {
      "name": "python"
    }
  },
  "cells": [
    {
      "cell_type": "markdown",
      "source": [
        "<p align=\"center\">\n",
        "<img src=\"https://pypi.org/static/images/logo-small.8998e9d1.svg\" width=\"90\" height=\"\">\n",
        "</p>"
      ],
      "metadata": {
        "id": "OO-n0v5_O0ss"
      }
    },
    {
      "cell_type": "code",
      "source": [
        "import numpy as np\n",
        "import matplotlib.pyplot as plt\n",
        "import sympy as sp\n",
        "import scipy as sc\n",
        "import random as rd"
      ],
      "metadata": {
        "id": "Uk1BOhy2O4_8"
      },
      "execution_count": null,
      "outputs": []
    },
    {
      "cell_type": "markdown",
      "source": [
        " # **<font color=\"DeepPink\"> Ejercicios de Probabilidad</font>**"
      ],
      "metadata": {
        "id": "eMB3JjULOvvd"
      }
    },
    {
      "cell_type": "markdown",
      "source": [
        "<p align=\"justify\">\n",
        "✅ <strong>Ejercicio 1: Simulación</strong><br><br>\n",
        "Repita el ejercicio de simular el lanzamiento de una moneda utilizando la función random.choice pero suponga ahora que la moneda está cargada y existe una probabilidad de $3/5$ de que salga cara y de $2/5$ de que salga seca. <br><br> Haga un gráfico que le perimita comprobar que a medida que aumenta la cantidad de lanzamientos la frecuencia relativa de ocurrencias de cada evento converge al verdadero valor de la probabilidad de ocurrencia de cada evento. <br><br> 🔎 Pista: puede modificar las probabilidades agregando \"cara\" y \"seca\" tanats veces como sea necesario en la lista sobre la que aplica la función random.choice\n",
        "\n",
        "\n",
        "</p>"
      ],
      "metadata": {
        "id": "5GrwWRS2M1r8"
      }
    },
    {
      "cell_type": "markdown",
      "source": [
        "<p align=\"justify\">\n",
        "✅ <strong>Ejercicio 2: Simulación</strong><br><br>\n",
        "Repita el ejercicio anterior pero utilizando la función <code>bernoulli.rvs</code> de scipy.stats.\n",
        "\n",
        "\n",
        "</p>"
      ],
      "metadata": {
        "id": "9yL1gQdkNW0j"
      }
    },
    {
      "cell_type": "markdown",
      "source": [
        "<p align=\"justify\">\n",
        "✅ <strong>Ejercicio 3: Simulación</strong><br><br>\n",
        "Pedro y Juan tienen 100 dólares cada uno y han dicidido jugar al siguiente juego. Van a tirar una moneda al aire varias veces. En cada tirada si sale cara Juan le paga un dólar a Pedro y si sale seca Pedro le paga un dólar a Juan. El juego termina cuando uno de los dos se queda sin dinero o cuando llegan a la repetición 1000 .<br><br>\n",
        "🏷 a. Construya un programa que le permita simular el juego utilizando la función choice del paquete random vista al principio de este colab.<br><br>\n",
        "🏷 b. Utilice el programa construido para simular muchas veces el juego, $1000$ o más, y poder así calcular la probabilidad de que uno de los dos se quede con todo el dinero antes de tirar 1000 veces la moneda.<br><br>\n",
        "\n",
        "\n",
        "</p>"
      ],
      "metadata": {
        "id": "WhlEh6Q-OqzE"
      }
    },
    {
      "cell_type": "markdown",
      "source": [
        "✅ <strong>Ejercicio 4: Distribución Uniforme</strong><br><br>\n",
        "La variable aleatoria $X$ tiene distribución uniforme en el intervalo $[0,1]$. Utilizando solo Numpy, Matplotlib.pyplot y la función integrate de Scypy debe:<br><br>\n",
        "🏷 a. Construir y graficar la función densidad de probabilidad de $X$.<br><br>\n",
        "🏷 b. Construir y grafica la función de distribución acumulada de $X$<br><br>\n",
        "🏷 c. Calcular Esperanza y Varianza de $X$ comparando los resultados con los establecidos en el modelo teórico. <br><br>\n",
        "🏷 d. Calcular la probabilidad de que $X$ tome valores entre $0$ y $0.5$.<br><br>\n",
        "⭐ e. <strong>Bonus</strong>: investigue como obtener los mismos resultados utilizando la distribución uniforma que viene en Scypy y compare (uniform)."
      ],
      "metadata": {
        "id": "Rv48_fPzO9B7"
      }
    },
    {
      "cell_type": "markdown",
      "source": [
        "<p align=\"justify\">\n",
        "✅ <strong>Ejercicio 5: Distribución Chi-cuadrado</strong><br><br>\n",
        "Investigue un poco sobre la distribución Chi-cuadrado. <br><br>\n",
        "▪ ¿Qué valores puede tomar una V.A. con esta distribución? <br>\n",
        "▪ ¿Qué forma tiene la distribución? <br>\n",
        "▪ ¿Cuántos parámetros necesitamos conocer para determinar la distribución y cómo se llaman?<br><br>\n",
        "Utilizando scipy, grafique la función densidad de una variable aleatoria con distribución Chi-cuadrado con 1 grado de libertad. ¿Cuál debería ser su media? ¿Su mediana debería estar a la izquierda o a la derecha de la media?<br><br>\n",
        "Utilice scipy.integrate para calcular la media y la mediana de esta distribución y compare con las respuestas del punto anterior.<br>\n",
        "Pista: cuiadado al integrar. ¿Debe integrar desde $-\\infty$ hasta $\\infty$ o puede empezar en algún punto específico?\n",
        "\n",
        "</p>"
      ],
      "metadata": {
        "id": "UpzxBmeGOWss"
      }
    }
  ]
}