{
  "nbformat": 4,
  "nbformat_minor": 0,
  "metadata": {
    "colab": {
      "provenance": []
    },
    "kernelspec": {
      "name": "python3",
      "display_name": "Python 3"
    },
    "language_info": {
      "name": "python"
    }
  },
  "cells": [
    {
      "cell_type": "markdown",
      "source": [
        "<p align=\"center\">\n",
        "<img src=\"https://scipy.org/images/logo.svg\" width=\"90\" height=\"\">\n",
        "</p>\n"
      ],
      "metadata": {
        "id": "knbSb9aRhIse"
      }
    },
    {
      "cell_type": "markdown",
      "source": [
        "https://scipy.org"
      ],
      "metadata": {
        "id": "FSyYsryviKn-"
      }
    },
    {
      "cell_type": "markdown",
      "source": [
        " # **<font color=\"DeepPink\">Funciones</font>**"
      ],
      "metadata": {
        "id": "blVlMxReq1rK"
      }
    },
    {
      "cell_type": "code",
      "source": [
        "import scipy as sc\n",
        "import sympy as sp\n",
        "import numpy as np"
      ],
      "metadata": {
        "id": "k3PLkeyxtL-P"
      },
      "execution_count": null,
      "outputs": []
    },
    {
      "cell_type": "code",
      "source": [
        "import matplotlib.pyplot as plt\n",
        "import plotly.express as px"
      ],
      "metadata": {
        "id": "uDWSQ1J5zXSu"
      },
      "execution_count": null,
      "outputs": []
    },
    {
      "cell_type": "markdown",
      "source": [
        "<ol align=\"justify\">\n",
        "<li>\n",
        "<code>scipy as sc</code>: <code>scipy</code> es una biblioteca de Python que proporciona funcionalidades para realizar cálculos científicos y matemáticos.\n",
        "</li>\n",
        "<li>\n",
        "<code>sympy as sp</code>: <code>sympy</code> es una biblioteca de Python para matemáticas simbólicas, lo que significa que puede trabajar con expresiones matemáticas simbólicas en lugar de numéricas.\n",
        "</li>\n",
        "<li>\n",
        "<code>numpy as np</code>: <code>numpy</code> es una biblioteca fundamental para computación numérica en Python. Proporciona estructuras de datos y funciones para trabajar con matrices y arrays multidimensionales.\n",
        "</li>\n",
        "<li>\n",
        "<code>matplotlib.pyplot as plt</code>: <code>matplotlib</code> es una biblioteca de visualización en Python que permite crear gráficos de alta calidad. <code>pyplot</code> es un módulo dentro de <code>matplotlib</code> que proporciona una interfaz similar a MATLAB para la creación de gráficos.\n",
        "</li>\n",
        "</ol>"
      ],
      "metadata": {
        "id": "Q2l76TOXoCOd"
      }
    },
    {
      "cell_type": "code",
      "source": [
        "A = np.array([[4,-2,2,-1,4],[3,4,-4,3,5],[-4,-3,-7,6,31],[8,5,13,-10,-53],[12,1,13,-2,-21]])\n",
        "B = np.array([[4,-2,2,5,16],[1,4,-4,1,-1],[-4,-3,8,-9,-29],[8,5,13,-10,2],[12,1,13,-2,-21]])"
      ],
      "metadata": {
        "id": "fmDQwFGzHfkP"
      },
      "execution_count": null,
      "outputs": []
    },
    {
      "cell_type": "markdown",
      "source": [
        "<p align =\"justify\">\n",
        "El script define dos matrices $A$ y $B$ utilizando la biblioteca NumPy.\n",
        "<br><br>\n",
        "La matriz $A$ es una matriz $5 \\times 5$ con números enteros como elementos, mientras que la matriz $B$ también es una matriz $5 \\times 5$ con números enteros como elementos. Ambas matrices están definidas como matrices NumPy utilizando la función <code>np.array()</code>, que toma una lista de listas como entrada, donde cada lista interna representa una fila de la matriz."
      ],
      "metadata": {
        "id": "14YbED8usz3_"
      }
    },
    {
      "cell_type": "code",
      "source": [
        "np.linalg.inv(B)"
      ],
      "metadata": {
        "id": "xUOfIN1YqwkL",
        "outputId": "b297f313-2da6-4cec-d03e-9c244f20d02c",
        "colab": {
          "base_uri": "https://localhost:8080/"
        }
      },
      "execution_count": null,
      "outputs": [
        {
          "output_type": "execute_result",
          "data": {
            "text/plain": [
              "array([[-1.        , -1.08589492, -0.71820362, -0.01818182,  0.27987792],\n",
              "       [ 1.        ,  1.26008284,  0.68938304,  0.05454545, -0.24490953],\n",
              "       [ 1.        ,  1.01591454,  0.67621539,  0.03636364, -0.21683017],\n",
              "       [ 1.        ,  1.07521256,  0.64512753, -0.03636364, -0.18364944],\n",
              "       [-0.        , -0.03400916, -0.02040549,  0.01818182, -0.01608895]])"
            ]
          },
          "metadata": {},
          "execution_count": 4
        }
      ]
    },
    {
      "cell_type": "markdown",
      "source": [
        "<p align=\"justify\">\n",
        "<code>np.linalg.inv(B)</code> es una expresión en Python que utiliza la biblioteca NumPy para calcular la inversa de la matriz <code>B</code>. La función <code>np.linalg.inv()</code> se utiliza para calcular la inversa de una matriz cuadrada.\n",
        "<br><br>\n",
        "En este caso, toma la matriz $B$ como argumento y devuelve la inversa de esta matriz si es posible. La inversa de una matriz es otra matriz tal que cuando se multiplica por la matriz original, el resultado es la matriz identidad. Sin embargo, es importante destacar que no todas las matrices tienen una inversa. Si la matriz $B$ no es invertible (es decir, no es una matriz cuadrada o su determinante es cero), la función generará un error o devolverá un resultado no válido."
      ],
      "metadata": {
        "id": "s3_m3vGvt2OR"
      }
    },
    {
      "cell_type": "code",
      "source": [
        "np.linalg.inv(A)"
      ],
      "metadata": {
        "id": "gDOutP9oukJq",
        "outputId": "8998a99a-5b3d-47f5-eaf3-e8f6f5e11c0c",
        "colab": {
          "base_uri": "https://localhost:8080/",
          "height": 282
        }
      },
      "execution_count": null,
      "outputs": [
        {
          "output_type": "error",
          "ename": "LinAlgError",
          "evalue": "Singular matrix",
          "traceback": [
            "\u001b[0;31m---------------------------------------------------------------------------\u001b[0m",
            "\u001b[0;31mLinAlgError\u001b[0m                               Traceback (most recent call last)",
            "\u001b[0;32m<ipython-input-5-ae645f97e1f8>\u001b[0m in \u001b[0;36m<cell line: 1>\u001b[0;34m()\u001b[0m\n\u001b[0;32m----> 1\u001b[0;31m \u001b[0mnp\u001b[0m\u001b[0;34m.\u001b[0m\u001b[0mlinalg\u001b[0m\u001b[0;34m.\u001b[0m\u001b[0minv\u001b[0m\u001b[0;34m(\u001b[0m\u001b[0mA\u001b[0m\u001b[0;34m)\u001b[0m\u001b[0;34m\u001b[0m\u001b[0;34m\u001b[0m\u001b[0m\n\u001b[0m",
            "\u001b[0;32m/usr/local/lib/python3.10/dist-packages/numpy/linalg/linalg.py\u001b[0m in \u001b[0;36minv\u001b[0;34m(a)\u001b[0m\n\u001b[1;32m    559\u001b[0m     \u001b[0msignature\u001b[0m \u001b[0;34m=\u001b[0m \u001b[0;34m'D->D'\u001b[0m \u001b[0;32mif\u001b[0m \u001b[0misComplexType\u001b[0m\u001b[0;34m(\u001b[0m\u001b[0mt\u001b[0m\u001b[0;34m)\u001b[0m \u001b[0;32melse\u001b[0m \u001b[0;34m'd->d'\u001b[0m\u001b[0;34m\u001b[0m\u001b[0;34m\u001b[0m\u001b[0m\n\u001b[1;32m    560\u001b[0m     \u001b[0mextobj\u001b[0m \u001b[0;34m=\u001b[0m \u001b[0mget_linalg_error_extobj\u001b[0m\u001b[0;34m(\u001b[0m\u001b[0m_raise_linalgerror_singular\u001b[0m\u001b[0;34m)\u001b[0m\u001b[0;34m\u001b[0m\u001b[0;34m\u001b[0m\u001b[0m\n\u001b[0;32m--> 561\u001b[0;31m     \u001b[0mainv\u001b[0m \u001b[0;34m=\u001b[0m \u001b[0m_umath_linalg\u001b[0m\u001b[0;34m.\u001b[0m\u001b[0minv\u001b[0m\u001b[0;34m(\u001b[0m\u001b[0ma\u001b[0m\u001b[0;34m,\u001b[0m \u001b[0msignature\u001b[0m\u001b[0;34m=\u001b[0m\u001b[0msignature\u001b[0m\u001b[0;34m,\u001b[0m \u001b[0mextobj\u001b[0m\u001b[0;34m=\u001b[0m\u001b[0mextobj\u001b[0m\u001b[0;34m)\u001b[0m\u001b[0;34m\u001b[0m\u001b[0;34m\u001b[0m\u001b[0m\n\u001b[0m\u001b[1;32m    562\u001b[0m     \u001b[0;32mreturn\u001b[0m \u001b[0mwrap\u001b[0m\u001b[0;34m(\u001b[0m\u001b[0mainv\u001b[0m\u001b[0;34m.\u001b[0m\u001b[0mastype\u001b[0m\u001b[0;34m(\u001b[0m\u001b[0mresult_t\u001b[0m\u001b[0;34m,\u001b[0m \u001b[0mcopy\u001b[0m\u001b[0;34m=\u001b[0m\u001b[0;32mFalse\u001b[0m\u001b[0;34m)\u001b[0m\u001b[0;34m)\u001b[0m\u001b[0;34m\u001b[0m\u001b[0;34m\u001b[0m\u001b[0m\n\u001b[1;32m    563\u001b[0m \u001b[0;34m\u001b[0m\u001b[0m\n",
            "\u001b[0;32m/usr/local/lib/python3.10/dist-packages/numpy/linalg/linalg.py\u001b[0m in \u001b[0;36m_raise_linalgerror_singular\u001b[0;34m(err, flag)\u001b[0m\n\u001b[1;32m    110\u001b[0m \u001b[0;34m\u001b[0m\u001b[0m\n\u001b[1;32m    111\u001b[0m \u001b[0;32mdef\u001b[0m \u001b[0m_raise_linalgerror_singular\u001b[0m\u001b[0;34m(\u001b[0m\u001b[0merr\u001b[0m\u001b[0;34m,\u001b[0m \u001b[0mflag\u001b[0m\u001b[0;34m)\u001b[0m\u001b[0;34m:\u001b[0m\u001b[0;34m\u001b[0m\u001b[0;34m\u001b[0m\u001b[0m\n\u001b[0;32m--> 112\u001b[0;31m     \u001b[0;32mraise\u001b[0m \u001b[0mLinAlgError\u001b[0m\u001b[0;34m(\u001b[0m\u001b[0;34m\"Singular matrix\"\u001b[0m\u001b[0;34m)\u001b[0m\u001b[0;34m\u001b[0m\u001b[0;34m\u001b[0m\u001b[0m\n\u001b[0m\u001b[1;32m    113\u001b[0m \u001b[0;34m\u001b[0m\u001b[0m\n\u001b[1;32m    114\u001b[0m \u001b[0;32mdef\u001b[0m \u001b[0m_raise_linalgerror_nonposdef\u001b[0m\u001b[0;34m(\u001b[0m\u001b[0merr\u001b[0m\u001b[0;34m,\u001b[0m \u001b[0mflag\u001b[0m\u001b[0;34m)\u001b[0m\u001b[0;34m:\u001b[0m\u001b[0;34m\u001b[0m\u001b[0;34m\u001b[0m\u001b[0m\n",
            "\u001b[0;31mLinAlgError\u001b[0m: Singular matrix"
          ]
        }
      ]
    },
    {
      "cell_type": "markdown",
      "source": [
        "<p align=\"justify\">\n",
        "El error es causado por la matriz $A$ siendo singular. Una matriz singular es una matriz que no tiene inversa. Esto significa que el determinante de la matriz es cero.\n"
      ],
      "metadata": {
        "id": "4cvQFGC7vbCI"
      }
    },
    {
      "cell_type": "markdown",
      "source": [
        " # **<font color=\"DeepPink\">Introducción</font>**\n"
      ],
      "metadata": {
        "id": "z0wM0t4lq94i"
      }
    },
    {
      "cell_type": "markdown",
      "source": [
        "<p align=\"justify\">\n",
        "✅ <strong> Objetivos </strong>\n",
        "<br><br>\n",
        "1. Comprender conceptos.\n",
        "<br>\n",
        "2. Armar algoritmos simples.\n",
        "<br>\n",
        "3. Nociones de matemática computacional.\n",
        "<br><br>\n",
        "👀<strong> Motivación</strong>: ¿Qué sabemos de chatgpt?\n",
        "<br> <br>\n",
        "📚 <strong>Bibliografía</strong> : Larson, R. y Edwards, B. (2010). Cálculo 1 de una variable. McGraw Hill, 9na edición.\n",
        "</p>"
      ],
      "metadata": {
        "id": "qeAUZFruJx8o"
      }
    },
    {
      "cell_type": "markdown",
      "source": [
        " # **<font color=\"DeepPink\">Funciones</font>**\n"
      ],
      "metadata": {
        "id": "qY-g1zMN1hMr"
      }
    },
    {
      "cell_type": "markdown",
      "source": [
        "<p align=\"justify\">\n",
        "✅ <strong>Matemáticamente</strong>:\n",
        "<br><br>\n",
        "Una función $f$ es una relación entre un conjunto $A$, llamado dominio de $f$, y un conjunto $B$, llamado codominio de $f$, tal que para cada elemento de $A$ la función $f$ asignia un y solo un elemento del conjunto $B$. La denotamos $f:A \\to B$.  \n",
        "<br><br>\n",
        "Generalmente trabajamos con funciones que tienen como dominio y codomino conjuntos numéricos. Ejemplos:  \n",
        "<br><br>\n",
        "$$f:R \\to R/f(x)=x^2$$  \n",
        "<br><br>\n",
        "$$g:R^{+} \\to R/g(x)=\\ln(x)$$\n",
        "<br><br>\n",
        "$$h:[1,2] \\to R / h(x) = \\frac{1}{x}$$\n",
        "<br><br>\n",
        "👀 Desde el punto de vista matemático, la función no es la cuenta u operación que se realiza con algún dato de entrada. La función está formada por el dominio, el codominio y la relación entre ambos conjuntos. Esto es lo que permite el análisis de funciones.\n",
        "</p>"
      ],
      "metadata": {
        "id": "Cx6qMED61nYq"
      }
    },
    {
      "cell_type": "markdown",
      "source": [
        "<p align=\"justify\">\n",
        "👀 Desde un </strong>punto de vista más práctico</strong>, podemos considerar función a cualquier mecanismo de la realidad que asigne un unico resultado a cada situación posible. Por ejemplo, un semáforo. En cada momento del tiempo el semáforo dice al auto que llega a la esquina si debe avanzar o  detenerse, y no hay confusión alguna. Imaginemos un semaforo que durante los primeros 35 segundos de cada minuto está en rojo y durante los siguientes 25 está en verde. Podemos modelar matemáticamente a este semáforo mediante la siguiente función: <br><br> $$ f:[0,60] \\to \\{0,1 \\}/f(x)= \\begin{cases} 0 & \\text{si }x \\leq35 \\\\ 1 & \\text{si }x > 25 \\end{cases} $$\n",
        "<br>\n",
        "Si bien este ejemplo parece sensillo, el modelo de semaforo anterior se puede integrar a un modelo complejo, con multiples funciones, que nos permita representar el flujo de tránsito en una ciudad. <br><br> Desde un <strong>punto de vista computacional</strong> una función es un conjunto de operaciones que se realizan sobre una determina entrada para obtener un resultado final.\n",
        "<br><br>\n",
        "Ejemplo, una función toma una lista y nos devuelve el primer elemento de la misma.\n",
        "</p>"
      ],
      "metadata": {
        "id": "2FXeA2b34Y2_"
      }
    },
    {
      "cell_type": "code",
      "execution_count": null,
      "metadata": {
        "id": "ti1tpzOYrQOK"
      },
      "outputs": [],
      "source": [
        "def primer(lista):\n",
        "  if type(lista) is list:\n",
        "    return lista[0]\n",
        "  else:\n",
        "    return 'No ha ingresado una lista'"
      ]
    },
    {
      "cell_type": "markdown",
      "source": [
        "<p align=\"justify\">\n",
        "¿Qué entiende Python por $f:A\\to B/f(x)=x^2$ ?\n",
        "<br><br>\n",
        "❗Python no puede hacer analisis de funciones. Para Python no existe dominio o codominio, solo existe una regla (elevar al cuadrado) que aplicará a cada entrada que se le de a la función. Si la entrada \"se puede\" elevar al cuadrado entonces Python devolverá el resultado. Si no, nos avisará que se ha producido un error.\n",
        "</p>"
      ],
      "metadata": {
        "id": "m8jhho3tA0Wu"
      }
    },
    {
      "cell_type": "code",
      "source": [
        "f = lambda x: x**2\n",
        "f(2)"
      ],
      "metadata": {
        "colab": {
          "base_uri": "https://localhost:8080/"
        },
        "id": "5k24_CdKvEAQ",
        "outputId": "5ad0a4c3-67b2-477a-c5bd-28b8ffa1ef0d"
      },
      "execution_count": null,
      "outputs": [
        {
          "output_type": "execute_result",
          "data": {
            "text/plain": [
              "4"
            ]
          },
          "metadata": {},
          "execution_count": 7
        }
      ]
    },
    {
      "cell_type": "markdown",
      "source": [
        "<p align=\"justify\">\n",
        "Para graficar, Python toma una lista de valores del dominio, calcula la imagen de cada uno de estos valores y simplemente grafica los puntos obtenidos. Entre punto y punto rellena con una linea recta.\n",
        "</p>\n"
      ],
      "metadata": {
        "id": "1fLj2yb4vw66"
      }
    },
    {
      "cell_type": "code",
      "source": [
        "X = np.linspace(-4, 4, 6)\n",
        "X"
      ],
      "metadata": {
        "colab": {
          "base_uri": "https://localhost:8080/"
        },
        "id": "2v4LUFnXckd9",
        "outputId": "c4b5549e-2c9b-4834-8dbb-11bf8e8b3237"
      },
      "execution_count": null,
      "outputs": [
        {
          "output_type": "execute_result",
          "data": {
            "text/plain": [
              "array([-4. , -2.4, -0.8,  0.8,  2.4,  4. ])"
            ]
          },
          "metadata": {},
          "execution_count": 8
        }
      ]
    },
    {
      "cell_type": "markdown",
      "source": [
        "👀 Graficando con <code>matplotlib</code>"
      ],
      "metadata": {
        "id": "tp89pEy9zmNC"
      }
    },
    {
      "cell_type": "code",
      "source": [
        "X = np.linspace(-6, 6, 13, dtype=int)\n",
        "plt.plot(X, f(X));"
      ],
      "metadata": {
        "colab": {
          "base_uri": "https://localhost:8080/",
          "height": 430
        },
        "id": "tsKxxyaivgz-",
        "outputId": "b63b99d6-fc64-4e0a-a817-fb17412b0f66"
      },
      "execution_count": null,
      "outputs": [
        {
          "output_type": "display_data",
          "data": {
            "text/plain": [
              "<Figure size 640x480 with 1 Axes>"
            ],
            "image/png": "[encoded data removed]"
          },
          "metadata": {}
        }
      ]
    },
    {
      "cell_type": "markdown",
      "source": [
        "👀 Graficando con <code>plotly</code>"
      ],
      "metadata": {
        "id": "4RrODmf6x7fK"
      }
    },
    {
      "cell_type": "code",
      "source": [
        "px.line(x=X, y=f(X), template=\"gridon\", markers=True, labels={\"y\":\"f(x)\"})"
      ],
      "metadata": {
        "colab": {
          "base_uri": "https://localhost:8080/",
          "height": 542
        },
        "id": "1hXdF-W7F_-L",
        "outputId": "2248fd8e-fd68-4590-ed51-45ea4b295a92"
      },
      "execution_count": null,
      "outputs": [
        {
          "output_type": "display_data",
          "data": {
            "text/html": [
              "<html>\n",
              "<head><meta charset=\"utf-8\" /></head>\n",
              "<body>\n",
              "    <div>            <script src=\"https://cdnjs.cloudflare.com/ajax/libs/mathjax/2.7.5/MathJax.js?config=TeX-AMS-MML_SVG\"></script><script type=\"text/javascript\">if (window.MathJax && window.MathJax.Hub && window.MathJax.Hub.Config) {window.MathJax.Hub.Config({SVG: {font: \"STIX-Web\"}});}</script>                <script type=\"text/javascript\">window.PlotlyConfig = {MathJaxConfig: 'local'};</script>\n",
              "        <script charset=\"utf-8\" src=\"https://cdn.plot.ly/plotly-2.24.1.min.js\"></script>                <div id=\"3a573be6-ebd1-451f-b980-668524810ef4\" class=\"plotly-graph-div\" style=\"height:525px; width:100%;\"></div>            <script type=\"text/javascript\">                                    window.PLOTLYENV=window.PLOTLYENV || {};                                    if (document.getElementById(\"3a573be6-ebd1-451f-b980-668524810ef4\")) {                    Plotly.newPlot(                        \"3a573be6-ebd1-451f-b980-668524810ef4\",                        [{\"hovertemplate\":\"x=%{x}\\u003cbr\\u003ef(x)=%{y}\\u003cextra\\u003e\\u003c\\u002fextra\\u003e\",\"legendgroup\":\"\",\"line\":{\"color\":\"#1F77B4\",\"dash\":\"solid\"},\"marker\":{\"symbol\":\"circle\"},\"mode\":\"lines+markers\",\"name\":\"\",\"orientation\":\"v\",\"showlegend\":false,\"x\":[-6,-5,-4,-3,-2,-1,0,1,2,3,4,5,6],\"xaxis\":\"x\",\"y\":[36,25,16,9,4,1,0,1,4,9,16,25,36],\"yaxis\":\"y\",\"type\":\"scatter\"}],                        {\"template\":{\"data\":{\"pie\":[{\"automargin\":true,\"type\":\"pie\"}]},\"layout\":{\"xaxis\":{\"showgrid\":true,\"title\":{\"standoff\":15}},\"yaxis\":{\"showgrid\":true,\"title\":{\"standoff\":15}}}},\"xaxis\":{\"anchor\":\"y\",\"domain\":[0.0,1.0],\"title\":{\"text\":\"x\"}},\"yaxis\":{\"anchor\":\"x\",\"domain\":[0.0,1.0],\"title\":{\"text\":\"f(x)\"}},\"legend\":{\"tracegroupgap\":0},\"margin\":{\"t\":60}},                        {\"responsive\": true}                    ).then(function(){\n",
              "                            \n",
              "var gd = document.getElementById('3a573be6-ebd1-451f-b980-668524810ef4');\n",
              "var x = new MutationObserver(function (mutations, observer) {{\n",
              "        var display = window.getComputedStyle(gd).display;\n",
              "        if (!display || display === 'none') {{\n",
              "            console.log([gd, 'removed!']);\n",
              "            Plotly.purge(gd);\n",
              "            observer.disconnect();\n",
              "        }}\n",
              "}});\n",
              "\n",
              "// Listen for the removal of the full notebook cells\n",
              "var notebookContainer = gd.closest('#notebook-container');\n",
              "if (notebookContainer) {{\n",
              "    x.observe(notebookContainer, {childList: true});\n",
              "}}\n",
              "\n",
              "// Listen for the clearing of the current output cell\n",
              "var outputEl = gd.closest('.output');\n",
              "if (outputEl) {{\n",
              "    x.observe(outputEl, {childList: true});\n",
              "}}\n",
              "\n",
              "                        })                };                            </script>        </div>\n",
              "</body>\n",
              "</html>"
            ]
          },
          "metadata": {}
        }
      ]
    },
    {
      "cell_type": "markdown",
      "source": [
        "<p align=\"center\">\n",
        "<img src=\"https://www.sympy.org/static/images/logo.png\" width=\"90\" height=\"\">\n",
        "</p>\n"
      ],
      "metadata": {
        "id": "YgDOKNhS5l0f"
      }
    },
    {
      "cell_type": "markdown",
      "source": [
        "https://www.sympy.org/es/"
      ],
      "metadata": {
        "id": "jvON2WHD5wOp"
      }
    },
    {
      "cell_type": "markdown",
      "source": [
        "<p align=\"justify\">\n",
        "✅ <strong><code>Sympy</code></strong> es un módulo de Python que nos permite trabajar con expesiones algebraicas. Estrictamente, cualquier expresión algebraica es para <code>Sympy</code> una cadena de caracteres que a nosotros nos presenta de una forma \"atractiva\" y con la cual <code>Sympy</code> puede operar de diversas formas para generar nuevas cadenas de caracteres relacionadas.\n",
        "<br><br>\n",
        "👀 Para trabajar con <code>Sympy</code>, primero debemos definir las variables que vamos a utilizar como variables simbólicas.\n",
        "</p>\n"
      ],
      "metadata": {
        "id": "KuF4ReNexIu4"
      }
    },
    {
      "cell_type": "code",
      "source": [
        "x = sp.Symbol('x')  # definimos x como un símbolo, un string\n",
        "f = x**2            # f parece que es el resultado de una operación matemática, pero es una cadena de caracteres"
      ],
      "metadata": {
        "id": "XLhMbQZkwofk"
      },
      "execution_count": null,
      "outputs": []
    },
    {
      "cell_type": "code",
      "source": [
        "f"
      ],
      "metadata": {
        "id": "885eyhlK6xR-",
        "outputId": "85768bdb-78a2-4bf4-9542-c511ef882a6e",
        "colab": {
          "base_uri": "https://localhost:8080/",
          "height": 38
        }
      },
      "execution_count": null,
      "outputs": [
        {
          "output_type": "execute_result",
          "data": {
            "text/plain": [
              "x**2"
            ],
            "text/latex": "$\\displaystyle x^{2}$"
          },
          "metadata": {},
          "execution_count": 12
        }
      ]
    },
    {
      "cell_type": "markdown",
      "source": [
        "<p align=\"justify\">\n",
        "Note que ahora <code>f</code> no es una función de Python, es solo una cadena de caracteres.\n",
        "</p>"
      ],
      "metadata": {
        "id": "RGJ9NdRt1DLl"
      }
    },
    {
      "cell_type": "code",
      "source": [
        "f(2)"
      ],
      "metadata": {
        "id": "VXpy9L811NkU",
        "colab": {
          "base_uri": "https://localhost:8080/",
          "height": 139
        },
        "outputId": "66b0124b-c8f2-4ae2-e595-5d4e490e0bb7"
      },
      "execution_count": null,
      "outputs": [
        {
          "output_type": "error",
          "ename": "TypeError",
          "evalue": "'Pow' object is not callable",
          "traceback": [
            "\u001b[0;31m---------------------------------------------------------------------------\u001b[0m",
            "\u001b[0;31mTypeError\u001b[0m                                 Traceback (most recent call last)",
            "\u001b[0;32m<ipython-input-13-c510dc86724b>\u001b[0m in \u001b[0;36m<cell line: 1>\u001b[0;34m()\u001b[0m\n\u001b[0;32m----> 1\u001b[0;31m \u001b[0mf\u001b[0m\u001b[0;34m(\u001b[0m\u001b[0;36m2\u001b[0m\u001b[0;34m)\u001b[0m\u001b[0;34m\u001b[0m\u001b[0;34m\u001b[0m\u001b[0m\n\u001b[0m",
            "\u001b[0;31mTypeError\u001b[0m: 'Pow' object is not callable"
          ]
        }
      ]
    },
    {
      "cell_type": "markdown",
      "source": [
        "<p align=\"justify\">\n",
        "<code>Sympy</code> tiene sus propias funciones matemáticas cargadas en el módulo para poder expresar expresiones no polinómicas, como logaritmos y funciones trigonométricas, entre otras.\n",
        "</p>"
      ],
      "metadata": {
        "id": "0oiMc3eC0FUM"
      }
    },
    {
      "cell_type": "code",
      "source": [
        "g = sp.sin(x)\n",
        "h = sp.log(x)\n",
        "g"
      ],
      "metadata": {
        "id": "V-i17xhuya29",
        "colab": {
          "base_uri": "https://localhost:8080/",
          "height": 38
        },
        "outputId": "e5f2fc64-888c-48df-d0dd-81d208ca6fa5"
      },
      "execution_count": null,
      "outputs": [
        {
          "output_type": "execute_result",
          "data": {
            "text/plain": [
              "sin(x)"
            ],
            "text/latex": "$\\displaystyle \\sin{\\left(x \\right)}$"
          },
          "metadata": {},
          "execution_count": 14
        }
      ]
    },
    {
      "cell_type": "markdown",
      "source": [
        "<p align=\"justify\">\n",
        "Un aspecto interesante de <code>Sympy</code> es que nos permite transformar fácilmente cualquier expresión algebraica en una función de Python (para hacer cálculos numéricos) mediante la función <code>lambdify</code>.\n",
        "</p>"
      ],
      "metadata": {
        "id": "yhlkU5CP0iGX"
      }
    },
    {
      "cell_type": "code",
      "source": [
        "f_lambda = sp.lambdify(x, f)\n",
        "f_lambda(2)"
      ],
      "metadata": {
        "colab": {
          "base_uri": "https://localhost:8080/"
        },
        "id": "8Cp_3fYH1cvr",
        "outputId": "7dfdf128-8f72-4d83-a896-74fe059e3af5"
      },
      "execution_count": null,
      "outputs": [
        {
          "output_type": "execute_result",
          "data": {
            "text/plain": [
              "4"
            ]
          },
          "metadata": {},
          "execution_count": 15
        }
      ]
    },
    {
      "cell_type": "markdown",
      "source": [
        "<p align=\"justify\">\n",
        "👀 También podemos graficar con <code>Sympy</code> utilizando la función <code>plot()</code>.\n",
        "</p>"
      ],
      "metadata": {
        "id": "JwKUtSkW21NO"
      }
    },
    {
      "cell_type": "code",
      "source": [
        "import warnings\n",
        "warnings.filterwarnings(\"ignore\")"
      ],
      "metadata": {
        "id": "HnQRGuyfHPSq"
      },
      "execution_count": null,
      "outputs": []
    },
    {
      "cell_type": "code",
      "source": [
        "sp.plot(x**(2/3))"
      ],
      "metadata": {
        "colab": {
          "base_uri": "https://localhost:8080/",
          "height": 501
        },
        "id": "RrSXlQcp2CPc",
        "outputId": "6915732c-dbf7-4325-878c-9877990291c1"
      },
      "execution_count": null,
      "outputs": [
        {
          "output_type": "display_data",
          "data": {
            "text/plain": [
              "<Figure size 640x480 with 1 Axes>"
            ],
            "image/png": "[encoded data removed]"
          },
          "metadata": {}
        },
        {
          "output_type": "execute_result",
          "data": {
            "text/plain": [
              "<sympy.plotting.plot.Plot at 0x7f312807f010>"
            ]
          },
          "metadata": {},
          "execution_count": 17
        }
      ]
    },
    {
      "cell_type": "markdown",
      "source": [
        "¿Qué podemos hacer con Sympy?\n",
        "*   Derivar e integrar funciones.\n",
        "*   Transformar funciones algebraicas en funciones lambda.\n",
        "*   Cálculo de límites.\n",
        "*   Resolver ecuaciones.\n",
        "*   Reducir expresiones complejas.\n",
        "*   Factorizar polinomios.\n",
        "*   Etc.\n"
      ],
      "metadata": {
        "id": "OdRl9wwy2-jd"
      }
    },
    {
      "cell_type": "markdown",
      "source": [
        " # **<font color=\"DeepPink\">Función derivada</font>**"
      ],
      "metadata": {
        "id": "9KSWqNeT95Gc"
      }
    },
    {
      "cell_type": "markdown",
      "source": [
        " ## **<font color=\"DeepPink\">Función cociente incremental</font>**"
      ],
      "metadata": {
        "id": "tQCGH-S0EWEt"
      }
    },
    {
      "cell_type": "markdown",
      "source": [
        "<p align=\"justify\">\n",
        "Sea $f:A \\to B$ , con $A,B \\subset R$ a la función $\\frac{ \\Delta f}{\\Delta x}:C\\subset R^2\\to R$ definida por :\n",
        "<br><br>\n",
        "$$ \\frac{ \\Delta f}{\\Delta x}(x,h)=\\frac{f(x+h)-f(x)}{h} $$<br><br>\n",
        "la llamamos función cociente incremental de $f$.<br><br>\n",
        "La función cociente incremetal depende de $x$, el punto donde evaluamos a $f$, y de $h$, el incremento considerado para la variable $x$.<br><br>\n",
        "Ejemplo:<br><br>\n",
        "Si $f:R\\to R/f(x) = x^2$, la función cociente incremental de $f$ viene dada por:<br><br>\n",
        "$$ \\frac{ \\Delta f}{\\Delta x}(x,h)=\\frac{(x+h)^2-x^2}{h} $$<br><br>\n",
        "Y podemos evaluar esta función en distintos puntos:<br><br>\n",
        "$$ \\frac{ \\Delta f}{\\Delta x}(0,3)=\\frac{(0+3)^2-0^2}{3}=3 $$\n",
        "<br>\n",
        "$$ \\frac{ \\Delta f}{\\Delta x}(0,2)=\\frac{(0+2)^2-0^2}{2}=2 $$\n",
        "<br>\n",
        "$$ \\frac{ \\Delta f}{\\Delta x}(-2,2)=\\frac{(-2+2)^2-(-2)^2}{2}=-2 $$\n",
        "<br><br>\n",
        "Esta función representa la proporción entre la variación de $f$ y la variación de $x$. Si en $(x_0,h_0)$ la función cociente incremental toma un valor positivo (negativo), significa que $f$ está aumentando (disminuyendo) cuando $x$ aumenta en $h_0$ unidades. <br><br>\n",
        "Fijemos un punto y tomemos valores de $h$ cada vez menores en valor absoluto.\n",
        "</p>\n"
      ],
      "metadata": {
        "id": "QMKAOXKG995z"
      }
    },
    {
      "cell_type": "code",
      "source": [
        "def f(x,h):\n",
        "  return ((x+h)**2 - x**2)/h\n",
        "\n",
        "v = []\n",
        "H = np.linspace(-1,1,1000)\n",
        "for h in H:\n",
        "  v.append(f(1,h))       #v es el valor que toma la función cociente incremental para x=1 y distintos valores de h\n",
        "\n",
        "plt.plot(H,v)\n",
        "plt.plot(H,np.ones(1000)+1, color='black');"
      ],
      "metadata": {
        "colab": {
          "base_uri": "https://localhost:8080/",
          "height": 430
        },
        "id": "B1IxVAckD3QP",
        "outputId": "705479c0-9ab0-482e-e393-b0c9b024bea5"
      },
      "execution_count": null,
      "outputs": [
        {
          "output_type": "display_data",
          "data": {
            "text/plain": [
              "<Figure size 640x480 with 1 Axes>"
            ],
            "image/png": "[encoded data removed]"
          },
          "metadata": {}
        }
      ]
    },
    {
      "cell_type": "markdown",
      "source": [
        "👀 con <code>Plotly</code>"
      ],
      "metadata": {
        "id": "J-w7G9XvCHGH"
      }
    },
    {
      "cell_type": "code",
      "source": [
        "fig = px.line(x=H,\n",
        "              y=v,\n",
        "              labels={\"y\":\"f(x)\"},\n",
        "              template=\"gridon\")\n",
        "\n",
        "v_additional = np.ones(1000) + 1\n",
        "\n",
        "fig.add_scatter(x=H,\n",
        "                y=v_additional,\n",
        "                mode=\"lines\")\n",
        "\n",
        "fig.update_layout(showlegend=False)\n",
        "fig.show()"
      ],
      "metadata": {
        "id": "3_zvojYJCEbg",
        "outputId": "24d16ff6-9031-44bf-e5dd-a3929a5184fb",
        "colab": {
          "base_uri": "https://localhost:8080/",
          "height": 542
        }
      },
      "execution_count": null,
      "outputs": [
        {
          "output_type": "display_data",
          "data": {
            "text/html": [
              "<html>\n",
              "<head><meta charset=\"utf-8\" /></head>\n",
              "<body>\n",
              "    <div>            <script src=\"https://cdnjs.cloudflare.com/ajax/libs/mathjax/2.7.5/MathJax.js?config=TeX-AMS-MML_SVG\"></script><script type=\"text/javascript\">if (window.MathJax && window.MathJax.Hub && window.MathJax.Hub.Config) {window.MathJax.Hub.Config({SVG: {font: \"STIX-Web\"}});}</script>                <script type=\"text/javascript\">window.PlotlyConfig = {MathJaxConfig: 'local'};</script>\n",
              "        <script charset=\"utf-8\" src=\"https://cdn.plot.ly/plotly-2.24.1.min.js\"></script>                <div id=\"c6b83c7d-e04b-48cb-9d74-b7594b73ab54\" class=\"plotly-graph-div\" style=\"height:525px; width:100%;\"></div>            <script type=\"text/javascript\">                                    window.PLOTLYENV=window.PLOTLYENV || {};                                    if (document.getElementById(\"c6b83c7d-e04b-48cb-9d74-b7594b73ab54\")) {                    Plotly.newPlot(                        \"c6b83c7d-e04b-48cb-9d74-b7594b73ab54\",                        [{\"hovertemplate\":\"x=%{x}\\u003cbr\\u003ef(x)=%{y}\\u003cextra\\u003e\\u003c\\u002fextra\\u003e\",\"legendgroup\":\"\",\"line\":{\"color\":\"#1F77B4\",\"dash\":\"solid\"},\"marker\":{\"symbol\":\"circle\"},\"mode\":\"lines\",\"name\":\"\",\"orientation\":\"v\",\"showlegend\":false,\"x\":[-1.0,-0.997997997997998,-0.995995995995996,-0.993993993993994,-0.991991991991992,-0.98998998998999,-0.987987987987988,-0.985985985985986,-0.983983983983984,-0.9819819819819819,-0.97997997997998,-0.977977977977978,-0.975975975975976,-0.973973973973974,-0.9719719719719719,-0.96996996996997,-0.967967967967968,-0.965965965965966,-0.963963963963964,-0.9619619619619619,-0.95995995995996,-0.957957957957958,-0.955955955955956,-0.953953953953954,-0.9519519519519519,-0.94994994994995,-0.9479479479479479,-0.9459459459459459,-0.943943943943944,-0.9419419419419419,-0.93993993993994,-0.9379379379379379,-0.9359359359359359,-0.933933933933934,-0.9319319319319319,-0.92992992992993,-0.9279279279279279,-0.9259259259259259,-0.9239239239239239,-0.9219219219219219,-0.91991991991992,-0.9179179179179179,-0.9159159159159159,-0.9139139139139139,-0.9119119119119119,-0.9099099099099099,-0.9079079079079079,-0.9059059059059059,-0.9039039039039038,-0.9019019019019019,-0.8998998998998999,-0.8978978978978979,-0.8958958958958959,-0.8938938938938938,-0.8918918918918919,-0.8898898898898899,-0.8878878878878879,-0.8858858858858859,-0.8838838838838838,-0.8818818818818819,-0.8798798798798799,-0.8778778778778779,-0.8758758758758759,-0.8738738738738738,-0.8718718718718719,-0.8698698698698699,-0.8678678678678678,-0.8658658658658659,-0.8638638638638638,-0.8618618618618619,-0.8598598598598599,-0.8578578578578578,-0.8558558558558559,-0.8538538538538538,-0.8518518518518519,-0.8498498498498499,-0.8478478478478478,-0.8458458458458459,-0.8438438438438438,-0.8418418418418419,-0.8398398398398399,-0.8378378378378378,-0.8358358358358359,-0.8338338338338338,-0.8318318318318318,-0.8298298298298299,-0.8278278278278278,-0.8258258258258259,-0.8238238238238238,-0.8218218218218218,-0.8198198198198199,-0.8178178178178178,-0.8158158158158157,-0.8138138138138138,-0.8118118118118118,-0.8098098098098099,-0.8078078078078078,-0.8058058058058057,-0.8038038038038038,-0.8018018018018018,-0.7997997997997999,-0.7977977977977978,-0.7957957957957957,-0.7937937937937938,-0.7917917917917918,-0.7897897897897898,-0.7877877877877878,-0.7857857857857857,-0.7837837837837838,-0.7817817817817818,-0.7797797797797797,-0.7777777777777778,-0.7757757757757757,-0.7737737737737738,-0.7717717717717718,-0.7697697697697697,-0.7677677677677678,-0.7657657657657657,-0.7637637637637638,-0.7617617617617618,-0.7597597597597597,-0.7577577577577578,-0.7557557557557557,-0.7537537537537538,-0.7517517517517518,-0.7497497497497497,-0.7477477477477478,-0.7457457457457457,-0.7437437437437437,-0.7417417417417418,-0.7397397397397397,-0.7377377377377378,-0.7357357357357357,-0.7337337337337337,-0.7317317317317318,-0.7297297297297297,-0.7277277277277278,-0.7257257257257257,-0.7237237237237237,-0.7217217217217218,-0.7197197197197197,-0.7177177177177176,-0.7157157157157157,-0.7137137137137137,-0.7117117117117118,-0.7097097097097097,-0.7077077077077076,-0.7057057057057057,-0.7037037037037037,-0.7017017017017018,-0.6996996996996997,-0.6976976976976976,-0.6956956956956957,-0.6936936936936937,-0.6916916916916918,-0.6896896896896897,-0.6876876876876876,-0.6856856856856857,-0.6836836836836837,-0.6816816816816818,-0.6796796796796797,-0.6776776776776776,-0.6756756756756757,-0.6736736736736737,-0.6716716716716717,-0.6696696696696697,-0.6676676676676676,-0.6656656656656657,-0.6636636636636637,-0.6616616616616617,-0.6596596596596597,-0.6576576576576576,-0.6556556556556556,-0.6536536536536537,-0.6516516516516517,-0.6496496496496497,-0.6476476476476476,-0.6456456456456456,-0.6436436436436437,-0.6416416416416417,-0.6396396396396397,-0.6376376376376376,-0.6356356356356356,-0.6336336336336337,-0.6316316316316316,-0.6296296296296297,-0.6276276276276276,-0.6256256256256256,-0.6236236236236237,-0.6216216216216216,-0.6196196196196196,-0.6176176176176176,-0.6156156156156156,-0.6136136136136137,-0.6116116116116116,-0.6096096096096096,-0.6076076076076076,-0.6056056056056056,-0.6036036036036037,-0.6016016016016016,-0.5995995995995996,-0.5975975975975976,-0.5955955955955956,-0.5935935935935936,-0.5915915915915916,-0.5895895895895895,-0.5875875875875876,-0.5855855855855856,-0.5835835835835836,-0.5815815815815816,-0.5795795795795795,-0.5775775775775776,-0.5755755755755756,-0.5735735735735736,-0.5715715715715716,-0.5695695695695695,-0.5675675675675675,-0.5655655655655656,-0.5635635635635636,-0.5615615615615616,-0.5595595595595595,-0.5575575575575575,-0.5555555555555556,-0.5535535535535536,-0.5515515515515516,-0.5495495495495495,-0.5475475475475475,-0.5455455455455456,-0.5435435435435436,-0.5415415415415415,-0.5395395395395395,-0.5375375375375375,-0.5355355355355356,-0.5335335335335336,-0.5315315315315315,-0.5295295295295295,-0.5275275275275275,-0.5255255255255256,-0.5235235235235236,-0.5215215215215215,-0.5195195195195195,-0.5175175175175175,-0.5155155155155156,-0.5135135135135136,-0.5115115115115115,-0.5095095095095095,-0.5075075075075075,-0.5055055055055055,-0.5035035035035035,-0.5015015015015015,-0.49949949949949946,-0.4974974974974975,-0.49549549549549554,-0.4934934934934935,-0.4914914914914915,-0.48948948948948945,-0.4874874874874875,-0.48548548548548554,-0.48348348348348347,-0.4814814814814815,-0.47947947947947944,-0.4774774774774775,-0.47547547547547553,-0.47347347347347346,-0.4714714714714715,-0.46946946946946944,-0.4674674674674675,-0.4654654654654655,-0.46346346346346345,-0.4614614614614615,-0.45945945945945943,-0.4574574574574575,-0.4554554554554555,-0.45345345345345345,-0.4514514514514515,-0.4494494494494494,-0.44744744744744747,-0.4454454454454454,-0.44344344344344344,-0.4414414414414415,-0.4394394394394394,-0.43743743743743746,-0.4354354354354354,-0.43343343343343343,-0.4314314314314315,-0.4294294294294294,-0.42742742742742745,-0.4254254254254254,-0.42342342342342343,-0.42142142142142147,-0.4194194194194194,-0.41741741741741745,-0.4154154154154154,-0.4134134134134134,-0.41141141141141147,-0.4094094094094094,-0.40740740740740744,-0.4054054054054054,-0.4034034034034034,-0.40140140140140146,-0.3993993993993994,-0.39739739739739743,-0.39539539539539537,-0.3933933933933934,-0.39139139139139134,-0.3893893893893894,-0.3873873873873874,-0.38538538538538536,-0.3833833833833834,-0.38138138138138133,-0.3793793793793794,-0.3773773773773774,-0.37537537537537535,-0.3733733733733734,-0.37137137137137133,-0.36936936936936937,-0.3673673673673674,-0.36536536536536535,-0.3633633633633634,-0.3613613613613613,-0.35935935935935936,-0.3573573573573574,-0.35535535535535534,-0.3533533533533534,-0.3513513513513513,-0.34934934934934936,-0.3473473473473474,-0.34534534534534533,-0.3433433433433434,-0.3413413413413413,-0.33933933933933935,-0.3373373373373374,-0.3353353353353353,-0.33333333333333337,-0.3313313313313313,-0.32932932932932935,-0.3273273273273274,-0.3253253253253253,-0.32332332332332336,-0.3213213213213213,-0.31931931931931934,-0.31731731731731727,-0.3153153153153153,-0.31331331331331336,-0.3113113113113113,-0.30930930930930933,-0.30730730730730726,-0.3053053053053053,-0.30330330330330335,-0.3013013013013013,-0.2992992992992993,-0.29729729729729726,-0.2952952952952953,-0.29329329329329334,-0.2912912912912913,-0.2892892892892893,-0.28728728728728725,-0.2852852852852853,-0.28328328328328334,-0.28128128128128127,-0.2792792792792793,-0.27727727727727725,-0.2752752752752753,-0.27327327327327333,-0.27127127127127126,-0.2692692692692693,-0.26726726726726724,-0.2652652652652653,-0.2632632632632632,-0.26126126126126126,-0.2592592592592593,-0.25725725725725723,-0.2552552552552553,-0.2532532532532532,-0.25125125125125125,-0.2492492492492493,-0.24724724724724723,-0.24524524524524527,-0.2432432432432432,-0.24124124124124124,-0.2392392392392393,-0.23723723723723722,-0.23523523523523526,-0.2332332332332332,-0.23123123123123124,-0.22922922922922928,-0.2272272272272272,-0.22522522522522526,-0.2232232232232232,-0.22122122122122123,-0.21921921921921927,-0.2172172172172172,-0.21521521521521525,-0.21321321321321318,-0.21121121121121122,-0.20920920920920927,-0.2072072072072072,-0.20520520520520524,-0.20320320320320318,-0.20120120120120122,-0.19919919919919926,-0.1971971971971972,-0.19519519519519524,-0.19319319319319317,-0.1911911911911912,-0.18918918918918914,-0.1871871871871872,-0.18518518518518523,-0.18318318318318316,-0.1811811811811812,-0.17917917917917914,-0.17717717717717718,-0.17517517517517522,-0.17317317317317316,-0.1711711711711712,-0.16916916916916913,-0.16716716716716717,-0.16516516516516522,-0.16316316316316315,-0.1611611611611612,-0.15915915915915912,-0.15715715715715717,-0.1551551551551552,-0.15315315315315314,-0.1511511511511512,-0.14914914914914912,-0.14714714714714716,-0.1451451451451452,-0.14314314314314314,-0.14114114114114118,-0.1391391391391391,-0.13713713713713716,-0.1351351351351351,-0.13313313313313313,-0.13113113113113117,-0.1291291291291291,-0.12712712712712715,-0.12512512512512508,-0.12312312312312312,-0.12112112112112117,-0.1191191191191191,-0.11711711711711714,-0.11511511511511507,-0.11311311311311312,-0.11111111111111116,-0.10910910910910909,-0.10710710710710714,-0.10510510510510507,-0.10310310310310311,-0.10110110110110115,-0.09909909909909909,-0.09709709709709713,-0.09509509509509506,-0.0930930930930931,-0.09109109109109115,-0.08908908908908908,-0.08708708708708712,-0.08508508508508505,-0.0830830830830831,-0.08108108108108114,-0.07907907907907907,-0.07707707707707712,-0.07507507507507505,-0.07307307307307309,-0.07107107107107113,-0.06906906906906907,-0.06706706706706711,-0.06506506506506504,-0.06306306306306309,-0.06106106106106102,-0.05905905905905906,-0.0570570570570571,-0.055055055055055035,-0.05305305305305308,-0.05105105105105101,-0.049049049049049054,-0.0470470470470471,-0.04504504504504503,-0.04304304304304307,-0.041041041041041004,-0.03903903903903905,-0.03703703703703709,-0.03503503503503502,-0.033033033033033066,-0.031031031031030998,-0.02902902902902904,-0.027027027027027084,-0.025025025025025016,-0.02302302302302306,-0.02102102102102099,-0.019019019019019034,-0.017017017017017078,-0.01501501501501501,-0.013013013013013053,-0.011011011011010985,-0.009009009009009028,-0.00700700700700696,-0.005005005005005003,-0.0030030030030030463,-0.0010010010010009784,0.0010010010010010895,0.0030030030030030463,0.005005005005005003,0.00700700700700696,0.009009009009008917,0.011011011011011096,0.013013013013013053,0.01501501501501501,0.017017017017016967,0.019019019019018923,0.021021021021021102,0.02302302302302306,0.025025025025025016,0.027027027027026973,0.02902902902902893,0.03103103103103111,0.033033033033033066,0.03503503503503502,0.03703703703703698,0.039039039039038936,0.041041041041041115,0.04304304304304307,0.04504504504504503,0.047047047047046986,0.04904904904904894,0.05105105105105112,0.05305305305305308,0.055055055055055035,0.05705705705705699,0.05905905905905895,0.06106106106106113,0.06306306306306309,0.06506506506506504,0.067067067067067,0.06906906906906896,0.07107107107107113,0.07307307307307309,0.07507507507507505,0.077077077077077,0.07907907907907896,0.08108108108108114,0.0830830830830831,0.08508508508508505,0.08708708708708701,0.08908908908908897,0.09109109109109115,0.0930930930930931,0.09509509509509506,0.09709709709709702,0.0990990990990992,0.10110110110110115,0.10310310310310311,0.10510510510510507,0.10710710710710702,0.1091091091091092,0.11111111111111116,0.11311311311311312,0.11511511511511507,0.11711711711711703,0.11911911911911921,0.12112112112112117,0.12312312312312312,0.12512512512512508,0.12712712712712704,0.12912912912912922,0.13113113113113117,0.13313313313313313,0.1351351351351351,0.13713713713713704,0.13913913913913922,0.14114114114114118,0.14314314314314314,0.1451451451451451,0.14714714714714705,0.14914914914914923,0.1511511511511512,0.15315315315315314,0.1551551551551551,0.15715715715715706,0.15915915915915924,0.1611611611611612,0.16316316316316315,0.1651651651651651,0.16716716716716706,0.16916916916916924,0.1711711711711712,0.17317317317317316,0.1751751751751751,0.17717717717717707,0.17917917917917925,0.1811811811811812,0.18318318318318316,0.18518518518518512,0.18718718718718708,0.18918918918918926,0.1911911911911912,0.19319319319319317,0.19519519519519513,0.19719719719719708,0.19919919919919926,0.20120120120120122,0.20320320320320318,0.20520520520520513,0.2072072072072071,0.20920920920920927,0.21121121121121122,0.21321321321321318,0.21521521521521514,0.21721721721721732,0.21921921921921927,0.22122122122122123,0.2232232232232232,0.22522522522522515,0.22722722722722732,0.22922922922922928,0.23123123123123124,0.2332332332332332,0.23523523523523515,0.23723723723723733,0.2392392392392393,0.24124124124124124,0.2432432432432432,0.24524524524524516,0.24724724724724734,0.2492492492492493,0.25125125125125125,0.2532532532532532,0.25525525525525516,0.25725725725725734,0.2592592592592593,0.26126126126126126,0.2632632632632632,0.26526526526526517,0.26726726726726735,0.2692692692692693,0.27127127127127126,0.2732732732732732,0.2752752752752752,0.27727727727727736,0.2792792792792793,0.28128128128128127,0.2832832832832832,0.2852852852852852,0.28728728728728736,0.2892892892892893,0.2912912912912913,0.29329329329329323,0.2952952952952952,0.29729729729729737,0.2992992992992993,0.3013013013013013,0.30330330330330324,0.3053053053053052,0.3073073073073074,0.30930930930930933,0.3113113113113113,0.31331331331331325,0.3153153153153152,0.3173173173173174,0.31931931931931934,0.3213213213213213,0.32332332332332325,0.3253253253253252,0.3273273273273274,0.32932932932932935,0.3313313313313313,0.33333333333333326,0.3353353353353352,0.3373373373373374,0.33933933933933935,0.3413413413413413,0.34334334334334327,0.3453453453453452,0.3473473473473474,0.34934934934934936,0.3513513513513513,0.35335335335335327,0.35535535535535545,0.3573573573573574,0.35935935935935936,0.3613613613613613,0.3633633633633633,0.36536536536536546,0.3673673673673674,0.36936936936936937,0.37137137137137133,0.3733733733733733,0.37537537537537546,0.3773773773773774,0.3793793793793794,0.38138138138138133,0.3833833833833833,0.38538538538538547,0.3873873873873874,0.3893893893893894,0.39139139139139134,0.3933933933933933,0.3953953953953955,0.39739739739739743,0.3993993993993994,0.40140140140140135,0.4034034034034033,0.4054054054054055,0.40740740740740744,0.4094094094094094,0.41141141141141135,0.4134134134134133,0.4154154154154155,0.41741741741741745,0.4194194194194194,0.42142142142142136,0.4234234234234233,0.4254254254254255,0.42742742742742745,0.4294294294294294,0.43143143143143137,0.4334334334334333,0.4354354354354355,0.43743743743743746,0.4394394394394394,0.4414414414414414,0.44344344344344333,0.4454454454454455,0.44744744744744747,0.4494494494494494,0.4514514514514514,0.45345345345345334,0.4554554554554555,0.4574574574574575,0.45945945945945943,0.4614614614614614,0.46346346346346334,0.4654654654654655,0.4674674674674675,0.46946946946946944,0.4714714714714714,0.47347347347347357,0.47547547547547553,0.4774774774774775,0.47947947947947944,0.4814814814814814,0.4834834834834836,0.48548548548548554,0.4874874874874875,0.48948948948948945,0.4914914914914914,0.4934934934934936,0.49549549549549554,0.4974974974974975,0.49949949949949946,0.5015015015015014,0.5035035035035036,0.5055055055055055,0.5075075075075075,0.5095095095095095,0.5115115115115114,0.5135135135135136,0.5155155155155156,0.5175175175175175,0.5195195195195195,0.5215215215215214,0.5235235235235236,0.5255255255255256,0.5275275275275275,0.5295295295295295,0.5315315315315314,0.5335335335335336,0.5355355355355356,0.5375375375375375,0.5395395395395395,0.5415415415415414,0.5435435435435436,0.5455455455455456,0.5475475475475475,0.5495495495495495,0.5515515515515514,0.5535535535535536,0.5555555555555556,0.5575575575575575,0.5595595595595595,0.5615615615615615,0.5635635635635636,0.5655655655655656,0.5675675675675675,0.5695695695695695,0.5715715715715715,0.5735735735735736,0.5755755755755756,0.5775775775775776,0.5795795795795795,0.5815815815815815,0.5835835835835836,0.5855855855855856,0.5875875875875876,0.5895895895895895,0.5915915915915915,0.5935935935935936,0.5955955955955956,0.5975975975975976,0.5995995995995995,0.6016016016016015,0.6036036036036037,0.6056056056056056,0.6076076076076076,0.6096096096096095,0.6116116116116117,0.6136136136136137,0.6156156156156156,0.6176176176176176,0.6196196196196195,0.6216216216216217,0.6236236236236237,0.6256256256256256,0.6276276276276276,0.6296296296296295,0.6316316316316317,0.6336336336336337,0.6356356356356356,0.6376376376376376,0.6396396396396395,0.6416416416416417,0.6436436436436437,0.6456456456456456,0.6476476476476476,0.6496496496496496,0.6516516516516517,0.6536536536536537,0.6556556556556556,0.6576576576576576,0.6596596596596596,0.6616616616616617,0.6636636636636637,0.6656656656656657,0.6676676676676676,0.6696696696696696,0.6716716716716717,0.6736736736736737,0.6756756756756757,0.6776776776776776,0.6796796796796796,0.6816816816816818,0.6836836836836837,0.6856856856856857,0.6876876876876876,0.6896896896896896,0.6916916916916918,0.6936936936936937,0.6956956956956957,0.6976976976976976,0.6996996996996996,0.7017017017017018,0.7037037037037037,0.7057057057057057,0.7077077077077076,0.7097097097097096,0.7117117117117118,0.7137137137137137,0.7157157157157157,0.7177177177177176,0.7197197197197196,0.7217217217217218,0.7237237237237237,0.7257257257257257,0.7277277277277276,0.7297297297297298,0.7317317317317318,0.7337337337337337,0.7357357357357357,0.7377377377377377,0.7397397397397398,0.7417417417417418,0.7437437437437437,0.7457457457457457,0.7477477477477477,0.7497497497497498,0.7517517517517518,0.7537537537537538,0.7557557557557557,0.7577577577577577,0.7597597597597598,0.7617617617617618,0.7637637637637638,0.7657657657657657,0.7677677677677677,0.7697697697697699,0.7717717717717718,0.7737737737737738,0.7757757757757757,0.7777777777777777,0.7797797797797799,0.7817817817817818,0.7837837837837838,0.7857857857857857,0.7877877877877877,0.7897897897897899,0.7917917917917918,0.7937937937937938,0.7957957957957957,0.7977977977977977,0.7997997997997999,0.8018018018018018,0.8038038038038038,0.8058058058058057,0.8078078078078077,0.8098098098098099,0.8118118118118118,0.8138138138138138,0.8158158158158157,0.8178178178178177,0.8198198198198199,0.8218218218218218,0.8238238238238238,0.8258258258258258,0.8278278278278277,0.8298298298298299,0.8318318318318318,0.8338338338338338,0.8358358358358358,0.8378378378378377,0.8398398398398399,0.8418418418418419,0.8438438438438438,0.8458458458458458,0.8478478478478477,0.8498498498498499,0.8518518518518519,0.8538538538538538,0.8558558558558558,0.8578578578578577,0.8598598598598599,0.8618618618618619,0.8638638638638638,0.8658658658658658,0.867867867867868,0.8698698698698699,0.8718718718718719,0.8738738738738738,0.8758758758758758,0.877877877877878,0.8798798798798799,0.8818818818818819,0.8838838838838838,0.8858858858858858,0.887887887887888,0.8898898898898899,0.8918918918918919,0.8938938938938938,0.8958958958958958,0.897897897897898,0.8998998998998999,0.9019019019019019,0.9039039039039038,0.9059059059059058,0.907907907907908,0.9099099099099099,0.9119119119119119,0.9139139139139139,0.9159159159159158,0.917917917917918,0.91991991991992,0.9219219219219219,0.9239239239239239,0.9259259259259258,0.927927927927928,0.92992992992993,0.9319319319319319,0.9339339339339339,0.9359359359359358,0.937937937937938,0.93993993993994,0.9419419419419419,0.9439439439439439,0.9459459459459458,0.947947947947948,0.94994994994995,0.9519519519519519,0.9539539539539539,0.9559559559559558,0.957957957957958,0.95995995995996,0.9619619619619619,0.9639639639639639,0.9659659659659658,0.967967967967968,0.96996996996997,0.9719719719719719,0.9739739739739739,0.9759759759759759,0.977977977977978,0.97997997997998,0.9819819819819819,0.9839839839839839,0.9859859859859861,0.987987987987988,0.98998998998999,0.991991991991992,0.9939939939939939,0.9959959959959961,0.997997997997998,1.0],\"xaxis\":\"x\",\"y\":[1.0,1.002002002002002,1.004004004004004,1.006006006006006,1.008008008008008,1.01001001001001,1.012012012012012,1.014014014014014,1.016016016016016,1.018018018018018,1.02002002002002,1.022022022022022,1.0240240240240241,1.026026026026026,1.028028028028028,1.03003003003003,1.032032032032032,1.034034034034034,1.0360360360360361,1.038038038038038,1.04004004004004,1.042042042042042,1.0440440440440442,1.0460460460460461,1.048048048048048,1.05005005005005,1.0520520520520522,1.054054054054054,1.056056056056056,1.058058058058058,1.06006006006006,1.062062062062062,1.0640640640640642,1.066066066066066,1.068068068068068,1.07007007007007,1.0720720720720722,1.074074074074074,1.0760760760760761,1.078078078078078,1.08008008008008,1.0820820820820822,1.084084084084084,1.0860860860860861,1.088088088088088,1.09009009009009,1.092092092092092,1.094094094094094,1.0960960960960962,1.098098098098098,1.1001001001001,1.102102102102102,1.104104104104104,1.1061061061061062,1.1081081081081081,1.11011011011011,1.1121121121121122,1.114114114114114,1.1161161161161162,1.1181181181181181,1.12012012012012,1.122122122122122,1.124124124124124,1.1261261261261262,1.1281281281281281,1.13013013013013,1.1321321321321323,1.134134134134134,1.1361361361361362,1.1381381381381381,1.14014014014014,1.142142142142142,1.1441441441441442,1.1461461461461462,1.1481481481481481,1.15015015015015,1.152152152152152,1.1541541541541542,1.1561561561561562,1.1581581581581581,1.16016016016016,1.1621621621621623,1.1641641641641642,1.1661661661661662,1.1681681681681682,1.17017017017017,1.1721721721721723,1.1741741741741742,1.1761761761761762,1.1781781781781782,1.1801801801801801,1.1821821821821823,1.1841841841841843,1.1861861861861862,1.1881881881881882,1.1901901901901901,1.1921921921921923,1.1941941941941943,1.1961961961961962,1.1981981981981982,1.2002002002002001,1.2022022022022023,1.2042042042042043,1.2062062062062062,1.2082082082082082,1.2102102102102101,1.212212212212212,1.2142142142142143,1.2162162162162162,1.2182182182182182,1.2202202202202201,1.222222222222222,1.2242242242242243,1.2262262262262262,1.2282282282282282,1.2302302302302301,1.2322322322322323,1.2342342342342343,1.2362362362362362,1.2382382382382382,1.2402402402402404,1.2422422422422423,1.2442442442442443,1.2462462462462462,1.2482482482482482,1.2502502502502502,1.2522522522522523,1.2542542542542543,1.2562562562562563,1.2582582582582582,1.2602602602602602,1.2622622622622623,1.2642642642642643,1.2662662662662663,1.2682682682682682,1.2702702702702704,1.2722722722722724,1.2742742742742743,1.2762762762762763,1.2782782782782782,1.2802802802802802,1.2822822822822824,1.2842842842842843,1.2862862862862863,1.2882882882882882,1.2902902902902902,1.2922922922922924,1.2942942942942943,1.2962962962962963,1.2982982982982982,1.3003003003003004,1.3023023023023024,1.3043043043043043,1.3063063063063063,1.3083083083083082,1.3103103103103104,1.3123123123123124,1.3143143143143143,1.3163163163163163,1.3183183183183182,1.3203203203203202,1.3223223223223224,1.3243243243243243,1.3263263263263263,1.3283283283283283,1.3303303303303304,1.3323323323323324,1.3343343343343343,1.3363363363363363,1.3383383383383383,1.3403403403403402,1.3423423423423424,1.3443443443443444,1.3463463463463463,1.3483483483483483,1.3503503503503504,1.3523523523523524,1.3543543543543544,1.3563563563563563,1.3583583583583583,1.3603603603603605,1.3623623623623624,1.3643643643643644,1.3663663663663663,1.3683683683683685,1.3703703703703702,1.3723723723723724,1.3743743743743744,1.3763763763763763,1.3783783783783785,1.3803803803803802,1.3823823823823824,1.3843843843843844,1.3863863863863863,1.3883883883883885,1.3903903903903905,1.3923923923923924,1.3943943943943944,1.3963963963963963,1.3983983983983985,1.4004004004004003,1.4024024024024022,1.4044044044044044,1.4064064064064064,1.4084084084084083,1.4104104104104105,1.4124124124124124,1.4144144144144144,1.4164164164164164,1.4184184184184183,1.4204204204204205,1.4224224224224224,1.4244244244244244,1.4264264264264264,1.4284284284284283,1.4304304304304305,1.4324324324324325,1.4344344344344344,1.4364364364364364,1.4384384384384385,1.4404404404404405,1.4424424424424425,1.4444444444444444,1.4464464464464464,1.4484484484484486,1.4504504504504505,1.4524524524524525,1.4544544544544546,1.4564564564564564,1.4584584584584583,1.4604604604604605,1.4624624624624625,1.4644644644644644,1.4664664664664664,1.4684684684684683,1.4704704704704705,1.4724724724724725,1.4744744744744744,1.4764764764764764,1.4784784784784784,1.4804804804804805,1.4824824824824825,1.4844844844844844,1.4864864864864864,1.4884884884884886,1.4904904904904905,1.4924924924924925,1.4944944944944942,1.4964964964964964,1.4984984984984986,1.5005005005005005,1.5025025025025023,1.5045045045045045,1.5065065065065064,1.5085085085085086,1.5105105105105106,1.5125125125125125,1.5145145145145142,1.5165165165165164,1.5185185185185186,1.5205205205205206,1.5225225225225225,1.5245245245245245,1.5265265265265267,1.5285285285285284,1.5305305305305303,1.5325325325325323,1.5345345345345345,1.5365365365365367,1.5385385385385384,1.5405405405405406,1.5425425425425425,1.5445445445445443,1.5465465465465467,1.5485485485485484,1.5505505505505506,1.5525525525525525,1.5545545545545545,1.5565565565565567,1.5585585585585586,1.5605605605605608,1.5625625625625623,1.5645645645645645,1.5665665665665667,1.5685685685685684,1.5705705705705708,1.5725725725725725,1.5745745745745747,1.5765765765765767,1.5785785785785784,1.5805805805805806,1.5825825825825826,1.5845845845845845,1.5865865865865867,1.5885885885885886,1.5905905905905906,1.5925925925925923,1.5945945945945945,1.5965965965965965,1.5985985985985987,1.6006006006006006,1.6026026026026023,1.6046046046046047,1.6066066066066065,1.6086086086086087,1.6106106106106106,1.6126126126126126,1.6146146146146145,1.6166166166166165,1.6186186186186187,1.6206206206206206,1.6226226226226226,1.6246246246246245,1.6266266266266267,1.6286286286286287,1.6306306306306304,1.6326326326326328,1.6346346346346348,1.6366366366366365,1.6386386386386387,1.6406406406406409,1.6426426426426426,1.644644644644645,1.6466466466466465,1.648648648648649,1.6506506506506506,1.6526526526526528,1.6546546546546546,1.6566566566566565,1.6586586586586585,1.6606606606606604,1.6626626626626626,1.6646646646646646,1.6666666666666665,1.6686686686686687,1.6706706706706707,1.6726726726726726,1.6746746746746746,1.676676676676677,1.678678678678679,1.6806806806806809,1.6826826826826828,1.6846846846846846,1.6866866866866865,1.6886886886886887,1.6906906906906904,1.6926926926926928,1.694694694694695,1.6966966966966965,1.6986986986986985,1.7007007007007007,1.7027027027027026,1.7047047047047046,1.7067067067067065,1.708708708708709,1.7107107107107107,1.7127127127127129,1.7147147147147146,1.7167167167167168,1.7187187187187187,1.720720720720721,1.7227227227227226,1.7247247247247246,1.7267267267267268,1.7287287287287287,1.7307307307307307,1.7327327327327329,1.7347347347347348,1.7367367367367368,1.7387387387387387,1.740740740740741,1.7427427427427429,1.7447447447447448,1.7467467467467468,1.7487487487487487,1.7507507507507507,1.7527527527527527,1.7547547547547546,1.756756756756757,1.7587587587587588,1.7607607607607607,1.7627627627627627,1.764764764764765,1.7667667667667668,1.7687687687687685,1.770770770770771,1.772772772772773,1.7747747747747746,1.776776776776777,1.7787787787787785,1.780780780780781,1.7827827827827827,1.7847847847847849,1.7867867867867866,1.7887887887887888,1.7907907907907905,1.792792792792793,1.794794794794795,1.7967967967967966,1.7987987987987988,1.800800800800801,1.8028028028028027,1.8048048048048047,1.8068068068068068,1.8088088088088088,1.810810810810811,1.8128128128128127,1.8148148148148147,1.8168168168168168,1.8188188188188188,1.8208208208208208,1.822822822822823,1.8248248248248249,1.826826826826827,1.8288288288288288,1.8308308308308308,1.832832832832833,1.834834834834835,1.8368368368368369,1.8388388388388384,1.840840840840841,1.8428428428428432,1.844844844844845,1.8468468468468469,1.8488488488488493,1.850850850850851,1.852852852852853,1.8548548548548547,1.8568568568568564,1.8588588588588588,1.8608608608608612,1.8628628628628632,1.8648648648648647,1.8668668668668673,1.8688688688688686,1.870870870870871,1.872872872872873,1.874874874874875,1.8768768768768767,1.8788788788788788,1.880880880880881,1.882882882882883,1.884884884884885,1.8868868868868864,1.8888888888888884,1.8908908908908906,1.8928928928928934,1.8948948948948954,1.8968968968968967,1.8988988988988986,1.9009009009009006,1.9029029029029032,1.9049049049049052,1.9069069069069076,1.908908908908909,1.910910910910911,1.9129129129129123,1.9149149149149154,1.9169169169169162,1.918918918918919,1.9209209209209208,1.9229229229229234,1.9249249249249247,1.926926926926927,1.9289289289289282,1.9309309309309313,1.9329329329329337,1.934934934934935,1.936936936936937,1.9389389389389393,1.9409409409409408,1.942942942942943,1.9449449449449459,1.9469469469469476,1.94894894894895,1.950950950950951,1.952952952952953,1.9549549549549556,1.956956956956957,1.958958958958959,1.9609609609609597,1.9629629629629641,1.9649649649649636,1.9669669669669676,1.9689689689689696,1.970970970970969,1.972972972972974,1.9749749749749763,1.976976976976976,1.9789789789789771,1.9809809809809804,1.9829829829829797,1.9849849849849885,1.9869869869869856,1.9889889889889847,1.9909909909909873,1.992992992992996,1.994994994994996,1.996996996997008,1.9989989989989903,2.0010010010008985,2.0030030030029917,2.005005005005026,2.00700700700702,2.0090090090090005,2.011011011011015,2.013013013013014,2.015015015015019,2.0170170170170136,2.019019019019014,2.0210210210210175,2.0230230230230237,2.0250250250250237,2.0270270270270263,2.029029029029031,2.03103103103103,2.0330330330330324,2.0350350350350364,2.037037037037036,2.0390390390390376,2.0410410410410407,2.0430430430430455,2.045045045045047,2.047047047047045,2.049049049049049,2.05105105105105,2.0530530530530524,2.0550550550550564,2.057057057057057,2.0590590590590594,2.0610610610610625,2.0630630630630633,2.065065065065065,2.067067067067068,2.069069069069069,2.0710710710710702,2.073073073073073,2.0750750750750737,2.077077077077078,2.0790790790790776,2.081081081081081,2.0830830830830824,2.0850850850850846,2.0870870870870877,2.089089089089089,2.0910910910910907,2.0930930930930938,2.095095095095095,2.097097097097097,2.0990990990990994,2.1011011011011003,2.103103103103102,2.1051051051051046,2.1071071071071077,2.1091091091091094,2.1111111111111116,2.1131131131131125,2.115115115115116,2.1171171171171164,2.119119119119119,2.1211211211211203,2.1231231231231225,2.125125125125125,2.1271271271271264,2.12912912912913,2.1311311311311307,2.1331331331331334,2.1351351351351355,2.1371371371371377,2.1391391391391386,2.1411411411411403,2.143143143143143,2.1451451451451455,2.1471471471471473,2.149149149149149,2.1511511511511516,2.153153153153153,2.155155155155155,2.1571571571571577,2.159159159159159,2.1611611611611607,2.1631631631631634,2.1651651651651647,2.1671671671671664,2.16916916916917,2.171171171171171,2.173173173173173,2.175175175175175,2.1771771771771764,2.179179179179179,2.181181181181181,2.1831831831831825,2.1851851851851856,2.1871871871871873,2.1891891891891895,2.191191191191191,2.193193193193193,2.1951951951951956,2.197197197197197,2.1991991991991995,2.2012012012012008,2.2032032032032034,2.205205205205205,2.2072072072072073,2.2092092092092095,2.2112112112112112,2.2132132132132134,2.2152152152152147,2.2172172172172173,2.219219219219219,2.2212212212212212,2.223223223223223,2.225225225225225,2.227227227227227,2.2292292292292295,2.2312312312312312,2.2332332332332334,2.235235235235235,2.2372372372372378,2.239239239239239,2.2412412412412412,2.243243243243243,2.245245245245245,2.2472472472472473,2.249249249249249,2.251251251251251,2.253253253253253,2.2552552552552547,2.2572572572572573,2.2592592592592595,2.2612612612612613,2.263263263263263,2.265265265265265,2.2672672672672673,2.269269269269269,2.2712712712712713,2.273273273273273,2.2752752752752756,2.2772772772772774,2.2792792792792795,2.2812812812812813,2.2832832832832834,2.2852852852852856,2.287287287287287,2.289289289289289,2.2912912912912913,2.2932932932932935,2.2952952952952956,2.2972972972972974,2.2992992992992995,2.3013013013013017,2.3033033033033035,2.305305305305305,2.3073073073073074,2.3093093093093096,2.311311311311311,2.3133133133133135,2.3153153153153156,2.3173173173173174,2.319319319319319,2.3213213213213213,2.323323323323323,2.3253253253253248,2.3273273273273274,2.3293293293293296,2.331331331331331,2.3333333333333335,2.3353353353353348,2.337337337337338,2.3393393393393396,2.3413413413413413,2.343343343343343,2.3453453453453457,2.3473473473473474,2.3493493493493496,2.3513513513513513,2.353353353353353,2.3553553553553557,2.3573573573573574,2.359359359359359,2.3613613613613613,2.363363363363363,2.3653653653653652,2.3673673673673674,2.3693693693693696,2.3713713713713713,2.3733733733733735,2.3753753753753752,2.377377377377378,2.379379379379379,2.3813813813813813,2.3833833833833835,2.3853853853853852,2.3873873873873874,2.389389389389389,2.391391391391392,2.393393393393393,2.3953953953953957,2.3973973973973974,2.3993993993993996,2.4014014014014013,2.403403403403403,2.4054054054054053,2.4074074074074074,2.4094094094094096,2.4114114114114114,2.4134134134134135,2.4154154154154157,2.417417417417417,2.4194194194194196,2.4214214214214214,2.423423423423423,2.4254254254254253,2.4274274274274275,2.4294294294294296,2.4314314314314314,2.433433433433433,2.4354354354354357,2.4374374374374375,2.4394394394394396,2.441441441441441,2.4434434434434436,2.4454454454454457,2.447447447447448,2.4494494494494496,2.451451451451452,2.453453453453453,2.4554554554554553,2.457457457457458,2.459459459459459,2.4614614614614614,2.463463463463463,2.4654654654654653,2.4674674674674675,2.469469469469469,2.471471471471472,2.473473473473473,2.4754754754754753,2.4774774774774775,2.4794794794794797,2.481481481481481,2.4834834834834836,2.4854854854854853,2.487487487487487,2.4894894894894892,2.4914914914914914,2.4934934934934936,2.4954954954954958,2.4974974974974975,2.4994994994994997,2.5015015015015014,2.5035035035035036,2.5055055055055058,2.507507507507507,2.5095095095095097,2.5115115115115114,2.513513513513513,2.5155155155155153,2.5175175175175175,2.5195195195195197,2.5215215215215214,2.523523523523524,2.525525525525526,2.527527527527528,2.5295295295295293,2.5315315315315314,2.5335335335335336,2.5355355355355353,2.537537537537538,2.5395395395395397,2.541541541541541,2.543543543543544,2.5455455455455454,2.547547547547548,2.5495495495495497,2.5515515515515514,2.5535535535535536,2.555555555555556,2.557557557557558,2.5595595595595597,2.5615615615615615,2.5635635635635636,2.565565565565566,2.5675675675675675,2.5695695695695693,2.5715715715715715,2.5735735735735736,2.575575575575576,2.5775775775775776,2.5795795795795797,2.581581581581582,2.5835835835835836,2.5855855855855854,2.587587587587587,2.5895895895895893,2.591591591591591,2.5935935935935936,2.5955955955955954,2.5975975975975976,2.5995995995995993,2.601601601601601,2.6036036036036037,2.605605605605606,2.607607607607607,2.6096096096096097,2.611611611611612,2.6136136136136137,2.6156156156156154,2.6176176176176176,2.6196196196196198,2.6216216216216215,2.623623623623624,2.625625625625626,2.6276276276276276,2.6296296296296298,2.6316316316316315,2.6336336336336337,2.6356356356356354,2.6376376376376376,2.6396396396396393,2.641641641641642,2.643643643643644,2.6456456456456454,2.6476476476476476,2.6496496496496493,2.6516516516516515,2.6536536536536537,2.6556556556556554,2.6576576576576576,2.65965965965966,2.661661661661662,2.6636636636636637,2.6656656656656654,2.6676676676676676,2.6696696696696693,2.6716716716716715,2.6736736736736737,2.6756756756756754,2.677677677677678,2.67967967967968,2.6816816816816815,2.6836836836836837,2.6856856856856854,2.6876876876876876,2.6896896896896894,2.6916916916916915,2.6936936936936937,2.695695695695696,2.697697697697697,2.6996996996997,2.7017017017017015,2.7037037037037037,2.7057057057057055,2.7077077077077076,2.70970970970971,2.7117117117117115,2.713713713713714,2.715715715715716,2.7177177177177176,2.71971971971972,2.7217217217217216,2.7237237237237237,2.7257257257257255,2.7277277277277276,2.7297297297297303,2.731731731731732,2.7337337337337333,2.7357357357357355,2.7377377377377377,2.73973973973974,2.7417417417417416,2.7437437437437437,2.7457457457457455,2.7477477477477477,2.74974974974975,2.751751751751752,2.7537537537537538,2.755755755755756,2.7577577577577577,2.7597597597597603,2.7617617617617616,2.7637637637637638,2.7657657657657655,2.7677677677677677,2.76976976976977,2.771771771771772,2.7737737737737738,2.7757757757757755,2.777777777777778,2.77977977977978,2.781781781781782,2.7837837837837838,2.7857857857857855,2.7877877877877877,2.78978978978979,2.791791791791792,2.793793793793794,2.795795795795796,2.7977977977977977,2.7997997997998,2.801801801801802,2.803803803803804,2.8058058058058055,2.8078078078078077,2.80980980980981,2.811811811811812,2.8138138138138133,2.815815815815816,2.8178178178178177,2.81981981981982,2.8218218218218216,2.823823823823824,2.825825825825826,2.8278278278278277,2.82982982982983,2.831831831831832,2.8338338338338342,2.8358358358358355,2.8378378378378377,2.8398398398398403,2.841841841841842,2.843843843843844,2.8458458458458455,2.8478478478478477,2.84984984984985,2.851851851851852,2.853853853853854,2.8558558558558556,2.857857857857858,2.85985985985986,2.8618618618618616,2.863863863863864,2.8658658658658656,2.867867867867868,2.86986986986987,2.8718718718718717,2.873873873873874,2.875875875875876,2.8778778778778777,2.87987987987988,2.881881881881882,2.883883883883884,2.8858858858858856,2.887887887887888,2.88988988988989,2.891891891891892,2.893893893893894,2.8958958958958956,2.8978978978978978,2.8998998998999,2.9019019019019017,2.903903903903904,2.9059059059059056,2.9079079079079078,2.90990990990991,2.9119119119119117,2.913913913913914,2.915915915915916,2.9179179179179178,2.91991991991992,2.921921921921922,2.923923923923924,2.9259259259259256,2.9279279279279278,2.92992992992993,2.931931931931932,2.933933933933934,2.9359359359359356,2.937937937937938,2.93993993993994,2.941941941941942,2.943943943943944,2.9459459459459456,2.947947947947948,2.94994994994995,2.9519519519519517,2.953953953953954,2.9559559559559556,2.9579579579579582,2.95995995995996,2.961961961961962,2.963963963963964,2.965965965965966,2.967967967967968,2.96996996996997,2.971971971971972,2.973973973973974,2.975975975975976,2.9779779779779783,2.97997997997998,2.981981981981982,2.983983983983984,2.985985985985986,2.987987987987988,2.98998998998999,2.991991991991992,2.993993993993994,2.995995995995996,2.9979979979979983,3.0],\"yaxis\":\"y\",\"type\":\"scatter\"},{\"mode\":\"lines\",\"x\":[-1.0,-0.997997997997998,-0.995995995995996,-0.993993993993994,-0.991991991991992,-0.98998998998999,-0.987987987987988,-0.985985985985986,-0.983983983983984,-0.9819819819819819,-0.97997997997998,-0.977977977977978,-0.975975975975976,-0.973973973973974,-0.9719719719719719,-0.96996996996997,-0.967967967967968,-0.965965965965966,-0.963963963963964,-0.9619619619619619,-0.95995995995996,-0.957957957957958,-0.955955955955956,-0.953953953953954,-0.9519519519519519,-0.94994994994995,-0.9479479479479479,-0.9459459459459459,-0.943943943943944,-0.9419419419419419,-0.93993993993994,-0.9379379379379379,-0.9359359359359359,-0.933933933933934,-0.9319319319319319,-0.92992992992993,-0.9279279279279279,-0.9259259259259259,-0.9239239239239239,-0.9219219219219219,-0.91991991991992,-0.9179179179179179,-0.9159159159159159,-0.9139139139139139,-0.9119119119119119,-0.9099099099099099,-0.9079079079079079,-0.9059059059059059,-0.9039039039039038,-0.9019019019019019,-0.8998998998998999,-0.8978978978978979,-0.8958958958958959,-0.8938938938938938,-0.8918918918918919,-0.8898898898898899,-0.8878878878878879,-0.8858858858858859,-0.8838838838838838,-0.8818818818818819,-0.8798798798798799,-0.8778778778778779,-0.8758758758758759,-0.8738738738738738,-0.8718718718718719,-0.8698698698698699,-0.8678678678678678,-0.8658658658658659,-0.8638638638638638,-0.8618618618618619,-0.8598598598598599,-0.8578578578578578,-0.8558558558558559,-0.8538538538538538,-0.8518518518518519,-0.8498498498498499,-0.8478478478478478,-0.8458458458458459,-0.8438438438438438,-0.8418418418418419,-0.8398398398398399,-0.8378378378378378,-0.8358358358358359,-0.8338338338338338,-0.8318318318318318,-0.8298298298298299,-0.8278278278278278,-0.8258258258258259,-0.8238238238238238,-0.8218218218218218,-0.8198198198198199,-0.8178178178178178,-0.8158158158158157,-0.8138138138138138,-0.8118118118118118,-0.8098098098098099,-0.8078078078078078,-0.8058058058058057,-0.8038038038038038,-0.8018018018018018,-0.7997997997997999,-0.7977977977977978,-0.7957957957957957,-0.7937937937937938,-0.7917917917917918,-0.7897897897897898,-0.7877877877877878,-0.7857857857857857,-0.7837837837837838,-0.7817817817817818,-0.7797797797797797,-0.7777777777777778,-0.7757757757757757,-0.7737737737737738,-0.7717717717717718,-0.7697697697697697,-0.7677677677677678,-0.7657657657657657,-0.7637637637637638,-0.7617617617617618,-0.7597597597597597,-0.7577577577577578,-0.7557557557557557,-0.7537537537537538,-0.7517517517517518,-0.7497497497497497,-0.7477477477477478,-0.7457457457457457,-0.7437437437437437,-0.7417417417417418,-0.7397397397397397,-0.7377377377377378,-0.7357357357357357,-0.7337337337337337,-0.7317317317317318,-0.7297297297297297,-0.7277277277277278,-0.7257257257257257,-0.7237237237237237,-0.7217217217217218,-0.7197197197197197,-0.7177177177177176,-0.7157157157157157,-0.7137137137137137,-0.7117117117117118,-0.7097097097097097,-0.7077077077077076,-0.7057057057057057,-0.7037037037037037,-0.7017017017017018,-0.6996996996996997,-0.6976976976976976,-0.6956956956956957,-0.6936936936936937,-0.6916916916916918,-0.6896896896896897,-0.6876876876876876,-0.6856856856856857,-0.6836836836836837,-0.6816816816816818,-0.6796796796796797,-0.6776776776776776,-0.6756756756756757,-0.6736736736736737,-0.6716716716716717,-0.6696696696696697,-0.6676676676676676,-0.6656656656656657,-0.6636636636636637,-0.6616616616616617,-0.6596596596596597,-0.6576576576576576,-0.6556556556556556,-0.6536536536536537,-0.6516516516516517,-0.6496496496496497,-0.6476476476476476,-0.6456456456456456,-0.6436436436436437,-0.6416416416416417,-0.6396396396396397,-0.6376376376376376,-0.6356356356356356,-0.6336336336336337,-0.6316316316316316,-0.6296296296296297,-0.6276276276276276,-0.6256256256256256,-0.6236236236236237,-0.6216216216216216,-0.6196196196196196,-0.6176176176176176,-0.6156156156156156,-0.6136136136136137,-0.6116116116116116,-0.6096096096096096,-0.6076076076076076,-0.6056056056056056,-0.6036036036036037,-0.6016016016016016,-0.5995995995995996,-0.5975975975975976,-0.5955955955955956,-0.5935935935935936,-0.5915915915915916,-0.5895895895895895,-0.5875875875875876,-0.5855855855855856,-0.5835835835835836,-0.5815815815815816,-0.5795795795795795,-0.5775775775775776,-0.5755755755755756,-0.5735735735735736,-0.5715715715715716,-0.5695695695695695,-0.5675675675675675,-0.5655655655655656,-0.5635635635635636,-0.5615615615615616,-0.5595595595595595,-0.5575575575575575,-0.5555555555555556,-0.5535535535535536,-0.5515515515515516,-0.5495495495495495,-0.5475475475475475,-0.5455455455455456,-0.5435435435435436,-0.5415415415415415,-0.5395395395395395,-0.5375375375375375,-0.5355355355355356,-0.5335335335335336,-0.5315315315315315,-0.5295295295295295,-0.5275275275275275,-0.5255255255255256,-0.5235235235235236,-0.5215215215215215,-0.5195195195195195,-0.5175175175175175,-0.5155155155155156,-0.5135135135135136,-0.5115115115115115,-0.5095095095095095,-0.5075075075075075,-0.5055055055055055,-0.5035035035035035,-0.5015015015015015,-0.49949949949949946,-0.4974974974974975,-0.49549549549549554,-0.4934934934934935,-0.4914914914914915,-0.48948948948948945,-0.4874874874874875,-0.48548548548548554,-0.48348348348348347,-0.4814814814814815,-0.47947947947947944,-0.4774774774774775,-0.47547547547547553,-0.47347347347347346,-0.4714714714714715,-0.46946946946946944,-0.4674674674674675,-0.4654654654654655,-0.46346346346346345,-0.4614614614614615,-0.45945945945945943,-0.4574574574574575,-0.4554554554554555,-0.45345345345345345,-0.4514514514514515,-0.4494494494494494,-0.44744744744744747,-0.4454454454454454,-0.44344344344344344,-0.4414414414414415,-0.4394394394394394,-0.43743743743743746,-0.4354354354354354,-0.43343343343343343,-0.4314314314314315,-0.4294294294294294,-0.42742742742742745,-0.4254254254254254,-0.42342342342342343,-0.42142142142142147,-0.4194194194194194,-0.41741741741741745,-0.4154154154154154,-0.4134134134134134,-0.41141141141141147,-0.4094094094094094,-0.40740740740740744,-0.4054054054054054,-0.4034034034034034,-0.40140140140140146,-0.3993993993993994,-0.39739739739739743,-0.39539539539539537,-0.3933933933933934,-0.39139139139139134,-0.3893893893893894,-0.3873873873873874,-0.38538538538538536,-0.3833833833833834,-0.38138138138138133,-0.3793793793793794,-0.3773773773773774,-0.37537537537537535,-0.3733733733733734,-0.37137137137137133,-0.36936936936936937,-0.3673673673673674,-0.36536536536536535,-0.3633633633633634,-0.3613613613613613,-0.35935935935935936,-0.3573573573573574,-0.35535535535535534,-0.3533533533533534,-0.3513513513513513,-0.34934934934934936,-0.3473473473473474,-0.34534534534534533,-0.3433433433433434,-0.3413413413413413,-0.33933933933933935,-0.3373373373373374,-0.3353353353353353,-0.33333333333333337,-0.3313313313313313,-0.32932932932932935,-0.3273273273273274,-0.3253253253253253,-0.32332332332332336,-0.3213213213213213,-0.31931931931931934,-0.31731731731731727,-0.3153153153153153,-0.31331331331331336,-0.3113113113113113,-0.30930930930930933,-0.30730730730730726,-0.3053053053053053,-0.30330330330330335,-0.3013013013013013,-0.2992992992992993,-0.29729729729729726,-0.2952952952952953,-0.29329329329329334,-0.2912912912912913,-0.2892892892892893,-0.28728728728728725,-0.2852852852852853,-0.28328328328328334,-0.28128128128128127,-0.2792792792792793,-0.27727727727727725,-0.2752752752752753,-0.27327327327327333,-0.27127127127127126,-0.2692692692692693,-0.26726726726726724,-0.2652652652652653,-0.2632632632632632,-0.26126126126126126,-0.2592592592592593,-0.25725725725725723,-0.2552552552552553,-0.2532532532532532,-0.25125125125125125,-0.2492492492492493,-0.24724724724724723,-0.24524524524524527,-0.2432432432432432,-0.24124124124124124,-0.2392392392392393,-0.23723723723723722,-0.23523523523523526,-0.2332332332332332,-0.23123123123123124,-0.22922922922922928,-0.2272272272272272,-0.22522522522522526,-0.2232232232232232,-0.22122122122122123,-0.21921921921921927,-0.2172172172172172,-0.21521521521521525,-0.21321321321321318,-0.21121121121121122,-0.20920920920920927,-0.2072072072072072,-0.20520520520520524,-0.20320320320320318,-0.20120120120120122,-0.19919919919919926,-0.1971971971971972,-0.19519519519519524,-0.19319319319319317,-0.1911911911911912,-0.18918918918918914,-0.1871871871871872,-0.18518518518518523,-0.18318318318318316,-0.1811811811811812,-0.17917917917917914,-0.17717717717717718,-0.17517517517517522,-0.17317317317317316,-0.1711711711711712,-0.16916916916916913,-0.16716716716716717,-0.16516516516516522,-0.16316316316316315,-0.1611611611611612,-0.15915915915915912,-0.15715715715715717,-0.1551551551551552,-0.15315315315315314,-0.1511511511511512,-0.14914914914914912,-0.14714714714714716,-0.1451451451451452,-0.14314314314314314,-0.14114114114114118,-0.1391391391391391,-0.13713713713713716,-0.1351351351351351,-0.13313313313313313,-0.13113113113113117,-0.1291291291291291,-0.12712712712712715,-0.12512512512512508,-0.12312312312312312,-0.12112112112112117,-0.1191191191191191,-0.11711711711711714,-0.11511511511511507,-0.11311311311311312,-0.11111111111111116,-0.10910910910910909,-0.10710710710710714,-0.10510510510510507,-0.10310310310310311,-0.10110110110110115,-0.09909909909909909,-0.09709709709709713,-0.09509509509509506,-0.0930930930930931,-0.09109109109109115,-0.08908908908908908,-0.08708708708708712,-0.08508508508508505,-0.0830830830830831,-0.08108108108108114,-0.07907907907907907,-0.07707707707707712,-0.07507507507507505,-0.07307307307307309,-0.07107107107107113,-0.06906906906906907,-0.06706706706706711,-0.06506506506506504,-0.06306306306306309,-0.06106106106106102,-0.05905905905905906,-0.0570570570570571,-0.055055055055055035,-0.05305305305305308,-0.05105105105105101,-0.049049049049049054,-0.0470470470470471,-0.04504504504504503,-0.04304304304304307,-0.041041041041041004,-0.03903903903903905,-0.03703703703703709,-0.03503503503503502,-0.033033033033033066,-0.031031031031030998,-0.02902902902902904,-0.027027027027027084,-0.025025025025025016,-0.02302302302302306,-0.02102102102102099,-0.019019019019019034,-0.017017017017017078,-0.01501501501501501,-0.013013013013013053,-0.011011011011010985,-0.009009009009009028,-0.00700700700700696,-0.005005005005005003,-0.0030030030030030463,-0.0010010010010009784,0.0010010010010010895,0.0030030030030030463,0.005005005005005003,0.00700700700700696,0.009009009009008917,0.011011011011011096,0.013013013013013053,0.01501501501501501,0.017017017017016967,0.019019019019018923,0.021021021021021102,0.02302302302302306,0.025025025025025016,0.027027027027026973,0.02902902902902893,0.03103103103103111,0.033033033033033066,0.03503503503503502,0.03703703703703698,0.039039039039038936,0.041041041041041115,0.04304304304304307,0.04504504504504503,0.047047047047046986,0.04904904904904894,0.05105105105105112,0.05305305305305308,0.055055055055055035,0.05705705705705699,0.05905905905905895,0.06106106106106113,0.06306306306306309,0.06506506506506504,0.067067067067067,0.06906906906906896,0.07107107107107113,0.07307307307307309,0.07507507507507505,0.077077077077077,0.07907907907907896,0.08108108108108114,0.0830830830830831,0.08508508508508505,0.08708708708708701,0.08908908908908897,0.09109109109109115,0.0930930930930931,0.09509509509509506,0.09709709709709702,0.0990990990990992,0.10110110110110115,0.10310310310310311,0.10510510510510507,0.10710710710710702,0.1091091091091092,0.11111111111111116,0.11311311311311312,0.11511511511511507,0.11711711711711703,0.11911911911911921,0.12112112112112117,0.12312312312312312,0.12512512512512508,0.12712712712712704,0.12912912912912922,0.13113113113113117,0.13313313313313313,0.1351351351351351,0.13713713713713704,0.13913913913913922,0.14114114114114118,0.14314314314314314,0.1451451451451451,0.14714714714714705,0.14914914914914923,0.1511511511511512,0.15315315315315314,0.1551551551551551,0.15715715715715706,0.15915915915915924,0.1611611611611612,0.16316316316316315,0.1651651651651651,0.16716716716716706,0.16916916916916924,0.1711711711711712,0.17317317317317316,0.1751751751751751,0.17717717717717707,0.17917917917917925,0.1811811811811812,0.18318318318318316,0.18518518518518512,0.18718718718718708,0.18918918918918926,0.1911911911911912,0.19319319319319317,0.19519519519519513,0.19719719719719708,0.19919919919919926,0.20120120120120122,0.20320320320320318,0.20520520520520513,0.2072072072072071,0.20920920920920927,0.21121121121121122,0.21321321321321318,0.21521521521521514,0.21721721721721732,0.21921921921921927,0.22122122122122123,0.2232232232232232,0.22522522522522515,0.22722722722722732,0.22922922922922928,0.23123123123123124,0.2332332332332332,0.23523523523523515,0.23723723723723733,0.2392392392392393,0.24124124124124124,0.2432432432432432,0.24524524524524516,0.24724724724724734,0.2492492492492493,0.25125125125125125,0.2532532532532532,0.25525525525525516,0.25725725725725734,0.2592592592592593,0.26126126126126126,0.2632632632632632,0.26526526526526517,0.26726726726726735,0.2692692692692693,0.27127127127127126,0.2732732732732732,0.2752752752752752,0.27727727727727736,0.2792792792792793,0.28128128128128127,0.2832832832832832,0.2852852852852852,0.28728728728728736,0.2892892892892893,0.2912912912912913,0.29329329329329323,0.2952952952952952,0.29729729729729737,0.2992992992992993,0.3013013013013013,0.30330330330330324,0.3053053053053052,0.3073073073073074,0.30930930930930933,0.3113113113113113,0.31331331331331325,0.3153153153153152,0.3173173173173174,0.31931931931931934,0.3213213213213213,0.32332332332332325,0.3253253253253252,0.3273273273273274,0.32932932932932935,0.3313313313313313,0.33333333333333326,0.3353353353353352,0.3373373373373374,0.33933933933933935,0.3413413413413413,0.34334334334334327,0.3453453453453452,0.3473473473473474,0.34934934934934936,0.3513513513513513,0.35335335335335327,0.35535535535535545,0.3573573573573574,0.35935935935935936,0.3613613613613613,0.3633633633633633,0.36536536536536546,0.3673673673673674,0.36936936936936937,0.37137137137137133,0.3733733733733733,0.37537537537537546,0.3773773773773774,0.3793793793793794,0.38138138138138133,0.3833833833833833,0.38538538538538547,0.3873873873873874,0.3893893893893894,0.39139139139139134,0.3933933933933933,0.3953953953953955,0.39739739739739743,0.3993993993993994,0.40140140140140135,0.4034034034034033,0.4054054054054055,0.40740740740740744,0.4094094094094094,0.41141141141141135,0.4134134134134133,0.4154154154154155,0.41741741741741745,0.4194194194194194,0.42142142142142136,0.4234234234234233,0.4254254254254255,0.42742742742742745,0.4294294294294294,0.43143143143143137,0.4334334334334333,0.4354354354354355,0.43743743743743746,0.4394394394394394,0.4414414414414414,0.44344344344344333,0.4454454454454455,0.44744744744744747,0.4494494494494494,0.4514514514514514,0.45345345345345334,0.4554554554554555,0.4574574574574575,0.45945945945945943,0.4614614614614614,0.46346346346346334,0.4654654654654655,0.4674674674674675,0.46946946946946944,0.4714714714714714,0.47347347347347357,0.47547547547547553,0.4774774774774775,0.47947947947947944,0.4814814814814814,0.4834834834834836,0.48548548548548554,0.4874874874874875,0.48948948948948945,0.4914914914914914,0.4934934934934936,0.49549549549549554,0.4974974974974975,0.49949949949949946,0.5015015015015014,0.5035035035035036,0.5055055055055055,0.5075075075075075,0.5095095095095095,0.5115115115115114,0.5135135135135136,0.5155155155155156,0.5175175175175175,0.5195195195195195,0.5215215215215214,0.5235235235235236,0.5255255255255256,0.5275275275275275,0.5295295295295295,0.5315315315315314,0.5335335335335336,0.5355355355355356,0.5375375375375375,0.5395395395395395,0.5415415415415414,0.5435435435435436,0.5455455455455456,0.5475475475475475,0.5495495495495495,0.5515515515515514,0.5535535535535536,0.5555555555555556,0.5575575575575575,0.5595595595595595,0.5615615615615615,0.5635635635635636,0.5655655655655656,0.5675675675675675,0.5695695695695695,0.5715715715715715,0.5735735735735736,0.5755755755755756,0.5775775775775776,0.5795795795795795,0.5815815815815815,0.5835835835835836,0.5855855855855856,0.5875875875875876,0.5895895895895895,0.5915915915915915,0.5935935935935936,0.5955955955955956,0.5975975975975976,0.5995995995995995,0.6016016016016015,0.6036036036036037,0.6056056056056056,0.6076076076076076,0.6096096096096095,0.6116116116116117,0.6136136136136137,0.6156156156156156,0.6176176176176176,0.6196196196196195,0.6216216216216217,0.6236236236236237,0.6256256256256256,0.6276276276276276,0.6296296296296295,0.6316316316316317,0.6336336336336337,0.6356356356356356,0.6376376376376376,0.6396396396396395,0.6416416416416417,0.6436436436436437,0.6456456456456456,0.6476476476476476,0.6496496496496496,0.6516516516516517,0.6536536536536537,0.6556556556556556,0.6576576576576576,0.6596596596596596,0.6616616616616617,0.6636636636636637,0.6656656656656657,0.6676676676676676,0.6696696696696696,0.6716716716716717,0.6736736736736737,0.6756756756756757,0.6776776776776776,0.6796796796796796,0.6816816816816818,0.6836836836836837,0.6856856856856857,0.6876876876876876,0.6896896896896896,0.6916916916916918,0.6936936936936937,0.6956956956956957,0.6976976976976976,0.6996996996996996,0.7017017017017018,0.7037037037037037,0.7057057057057057,0.7077077077077076,0.7097097097097096,0.7117117117117118,0.7137137137137137,0.7157157157157157,0.7177177177177176,0.7197197197197196,0.7217217217217218,0.7237237237237237,0.7257257257257257,0.7277277277277276,0.7297297297297298,0.7317317317317318,0.7337337337337337,0.7357357357357357,0.7377377377377377,0.7397397397397398,0.7417417417417418,0.7437437437437437,0.7457457457457457,0.7477477477477477,0.7497497497497498,0.7517517517517518,0.7537537537537538,0.7557557557557557,0.7577577577577577,0.7597597597597598,0.7617617617617618,0.7637637637637638,0.7657657657657657,0.7677677677677677,0.7697697697697699,0.7717717717717718,0.7737737737737738,0.7757757757757757,0.7777777777777777,0.7797797797797799,0.7817817817817818,0.7837837837837838,0.7857857857857857,0.7877877877877877,0.7897897897897899,0.7917917917917918,0.7937937937937938,0.7957957957957957,0.7977977977977977,0.7997997997997999,0.8018018018018018,0.8038038038038038,0.8058058058058057,0.8078078078078077,0.8098098098098099,0.8118118118118118,0.8138138138138138,0.8158158158158157,0.8178178178178177,0.8198198198198199,0.8218218218218218,0.8238238238238238,0.8258258258258258,0.8278278278278277,0.8298298298298299,0.8318318318318318,0.8338338338338338,0.8358358358358358,0.8378378378378377,0.8398398398398399,0.8418418418418419,0.8438438438438438,0.8458458458458458,0.8478478478478477,0.8498498498498499,0.8518518518518519,0.8538538538538538,0.8558558558558558,0.8578578578578577,0.8598598598598599,0.8618618618618619,0.8638638638638638,0.8658658658658658,0.867867867867868,0.8698698698698699,0.8718718718718719,0.8738738738738738,0.8758758758758758,0.877877877877878,0.8798798798798799,0.8818818818818819,0.8838838838838838,0.8858858858858858,0.887887887887888,0.8898898898898899,0.8918918918918919,0.8938938938938938,0.8958958958958958,0.897897897897898,0.8998998998998999,0.9019019019019019,0.9039039039039038,0.9059059059059058,0.907907907907908,0.9099099099099099,0.9119119119119119,0.9139139139139139,0.9159159159159158,0.917917917917918,0.91991991991992,0.9219219219219219,0.9239239239239239,0.9259259259259258,0.927927927927928,0.92992992992993,0.9319319319319319,0.9339339339339339,0.9359359359359358,0.937937937937938,0.93993993993994,0.9419419419419419,0.9439439439439439,0.9459459459459458,0.947947947947948,0.94994994994995,0.9519519519519519,0.9539539539539539,0.9559559559559558,0.957957957957958,0.95995995995996,0.9619619619619619,0.9639639639639639,0.9659659659659658,0.967967967967968,0.96996996996997,0.9719719719719719,0.9739739739739739,0.9759759759759759,0.977977977977978,0.97997997997998,0.9819819819819819,0.9839839839839839,0.9859859859859861,0.987987987987988,0.98998998998999,0.991991991991992,0.9939939939939939,0.9959959959959961,0.997997997997998,1.0],\"y\":[2.0,2.0,2.0,2.0,2.0,2.0,2.0,2.0,2.0,2.0,2.0,2.0,2.0,2.0,2.0,2.0,2.0,2.0,2.0,2.0,2.0,2.0,2.0,2.0,2.0,2.0,2.0,2.0,2.0,2.0,2.0,2.0,2.0,2.0,2.0,2.0,2.0,2.0,2.0,2.0,2.0,2.0,2.0,2.0,2.0,2.0,2.0,2.0,2.0,2.0,2.0,2.0,2.0,2.0,2.0,2.0,2.0,2.0,2.0,2.0,2.0,2.0,2.0,2.0,2.0,2.0,2.0,2.0,2.0,2.0,2.0,2.0,2.0,2.0,2.0,2.0,2.0,2.0,2.0,2.0,2.0,2.0,2.0,2.0,2.0,2.0,2.0,2.0,2.0,2.0,2.0,2.0,2.0,2.0,2.0,2.0,2.0,2.0,2.0,2.0,2.0,2.0,2.0,2.0,2.0,2.0,2.0,2.0,2.0,2.0,2.0,2.0,2.0,2.0,2.0,2.0,2.0,2.0,2.0,2.0,2.0,2.0,2.0,2.0,2.0,2.0,2.0,2.0,2.0,2.0,2.0,2.0,2.0,2.0,2.0,2.0,2.0,2.0,2.0,2.0,2.0,2.0,2.0,2.0,2.0,2.0,2.0,2.0,2.0,2.0,2.0,2.0,2.0,2.0,2.0,2.0,2.0,2.0,2.0,2.0,2.0,2.0,2.0,2.0,2.0,2.0,2.0,2.0,2.0,2.0,2.0,2.0,2.0,2.0,2.0,2.0,2.0,2.0,2.0,2.0,2.0,2.0,2.0,2.0,2.0,2.0,2.0,2.0,2.0,2.0,2.0,2.0,2.0,2.0,2.0,2.0,2.0,2.0,2.0,2.0,2.0,2.0,2.0,2.0,2.0,2.0,2.0,2.0,2.0,2.0,2.0,2.0,2.0,2.0,2.0,2.0,2.0,2.0,2.0,2.0,2.0,2.0,2.0,2.0,2.0,2.0,2.0,2.0,2.0,2.0,2.0,2.0,2.0,2.0,2.0,2.0,2.0,2.0,2.0,2.0,2.0,2.0,2.0,2.0,2.0,2.0,2.0,2.0,2.0,2.0,2.0,2.0,2.0,2.0,2.0,2.0,2.0,2.0,2.0,2.0,2.0,2.0,2.0,2.0,2.0,2.0,2.0,2.0,2.0,2.0,2.0,2.0,2.0,2.0,2.0,2.0,2.0,2.0,2.0,2.0,2.0,2.0,2.0,2.0,2.0,2.0,2.0,2.0,2.0,2.0,2.0,2.0,2.0,2.0,2.0,2.0,2.0,2.0,2.0,2.0,2.0,2.0,2.0,2.0,2.0,2.0,2.0,2.0,2.0,2.0,2.0,2.0,2.0,2.0,2.0,2.0,2.0,2.0,2.0,2.0,2.0,2.0,2.0,2.0,2.0,2.0,2.0,2.0,2.0,2.0,2.0,2.0,2.0,2.0,2.0,2.0,2.0,2.0,2.0,2.0,2.0,2.0,2.0,2.0,2.0,2.0,2.0,2.0,2.0,2.0,2.0,2.0,2.0,2.0,2.0,2.0,2.0,2.0,2.0,2.0,2.0,2.0,2.0,2.0,2.0,2.0,2.0,2.0,2.0,2.0,2.0,2.0,2.0,2.0,2.0,2.0,2.0,2.0,2.0,2.0,2.0,2.0,2.0,2.0,2.0,2.0,2.0,2.0,2.0,2.0,2.0,2.0,2.0,2.0,2.0,2.0,2.0,2.0,2.0,2.0,2.0,2.0,2.0,2.0,2.0,2.0,2.0,2.0,2.0,2.0,2.0,2.0,2.0,2.0,2.0,2.0,2.0,2.0,2.0,2.0,2.0,2.0,2.0,2.0,2.0,2.0,2.0,2.0,2.0,2.0,2.0,2.0,2.0,2.0,2.0,2.0,2.0,2.0,2.0,2.0,2.0,2.0,2.0,2.0,2.0,2.0,2.0,2.0,2.0,2.0,2.0,2.0,2.0,2.0,2.0,2.0,2.0,2.0,2.0,2.0,2.0,2.0,2.0,2.0,2.0,2.0,2.0,2.0,2.0,2.0,2.0,2.0,2.0,2.0,2.0,2.0,2.0,2.0,2.0,2.0,2.0,2.0,2.0,2.0,2.0,2.0,2.0,2.0,2.0,2.0,2.0,2.0,2.0,2.0,2.0,2.0,2.0,2.0,2.0,2.0,2.0,2.0,2.0,2.0,2.0,2.0,2.0,2.0,2.0,2.0,2.0,2.0,2.0,2.0,2.0,2.0,2.0,2.0,2.0,2.0,2.0,2.0,2.0,2.0,2.0,2.0,2.0,2.0,2.0,2.0,2.0,2.0,2.0,2.0,2.0,2.0,2.0,2.0,2.0,2.0,2.0,2.0,2.0,2.0,2.0,2.0,2.0,2.0,2.0,2.0,2.0,2.0,2.0,2.0,2.0,2.0,2.0,2.0,2.0,2.0,2.0,2.0,2.0,2.0,2.0,2.0,2.0,2.0,2.0,2.0,2.0,2.0,2.0,2.0,2.0,2.0,2.0,2.0,2.0,2.0,2.0,2.0,2.0,2.0,2.0,2.0,2.0,2.0,2.0,2.0,2.0,2.0,2.0,2.0,2.0,2.0,2.0,2.0,2.0,2.0,2.0,2.0,2.0,2.0,2.0,2.0,2.0,2.0,2.0,2.0,2.0,2.0,2.0,2.0,2.0,2.0,2.0,2.0,2.0,2.0,2.0,2.0,2.0,2.0,2.0,2.0,2.0,2.0,2.0,2.0,2.0,2.0,2.0,2.0,2.0,2.0,2.0,2.0,2.0,2.0,2.0,2.0,2.0,2.0,2.0,2.0,2.0,2.0,2.0,2.0,2.0,2.0,2.0,2.0,2.0,2.0,2.0,2.0,2.0,2.0,2.0,2.0,2.0,2.0,2.0,2.0,2.0,2.0,2.0,2.0,2.0,2.0,2.0,2.0,2.0,2.0,2.0,2.0,2.0,2.0,2.0,2.0,2.0,2.0,2.0,2.0,2.0,2.0,2.0,2.0,2.0,2.0,2.0,2.0,2.0,2.0,2.0,2.0,2.0,2.0,2.0,2.0,2.0,2.0,2.0,2.0,2.0,2.0,2.0,2.0,2.0,2.0,2.0,2.0,2.0,2.0,2.0,2.0,2.0,2.0,2.0,2.0,2.0,2.0,2.0,2.0,2.0,2.0,2.0,2.0,2.0,2.0,2.0,2.0,2.0,2.0,2.0,2.0,2.0,2.0,2.0,2.0,2.0,2.0,2.0,2.0,2.0,2.0,2.0,2.0,2.0,2.0,2.0,2.0,2.0,2.0,2.0,2.0,2.0,2.0,2.0,2.0,2.0,2.0,2.0,2.0,2.0,2.0,2.0,2.0,2.0,2.0,2.0,2.0,2.0,2.0,2.0,2.0,2.0,2.0,2.0,2.0,2.0,2.0,2.0,2.0,2.0,2.0,2.0,2.0,2.0,2.0,2.0,2.0,2.0,2.0,2.0,2.0,2.0,2.0,2.0,2.0,2.0,2.0,2.0,2.0,2.0,2.0,2.0,2.0,2.0,2.0,2.0,2.0,2.0,2.0,2.0,2.0,2.0,2.0,2.0,2.0,2.0,2.0,2.0,2.0,2.0,2.0,2.0,2.0,2.0,2.0,2.0,2.0,2.0,2.0,2.0,2.0,2.0,2.0,2.0,2.0,2.0,2.0,2.0,2.0,2.0,2.0,2.0,2.0,2.0,2.0,2.0,2.0,2.0,2.0,2.0,2.0,2.0,2.0,2.0,2.0,2.0,2.0,2.0,2.0,2.0,2.0,2.0,2.0,2.0,2.0,2.0,2.0,2.0,2.0,2.0,2.0,2.0,2.0,2.0,2.0,2.0,2.0,2.0,2.0,2.0,2.0,2.0,2.0,2.0,2.0,2.0,2.0,2.0,2.0,2.0,2.0,2.0,2.0,2.0,2.0,2.0,2.0,2.0,2.0,2.0,2.0,2.0,2.0,2.0,2.0,2.0,2.0,2.0,2.0,2.0,2.0,2.0,2.0,2.0,2.0,2.0,2.0,2.0,2.0,2.0,2.0,2.0,2.0,2.0,2.0,2.0,2.0,2.0,2.0,2.0,2.0,2.0,2.0,2.0,2.0,2.0,2.0,2.0,2.0,2.0,2.0,2.0,2.0,2.0,2.0,2.0,2.0,2.0,2.0,2.0,2.0,2.0,2.0,2.0,2.0,2.0,2.0,2.0,2.0,2.0,2.0,2.0,2.0,2.0,2.0,2.0,2.0,2.0,2.0,2.0,2.0,2.0,2.0,2.0,2.0,2.0,2.0,2.0,2.0,2.0,2.0,2.0,2.0,2.0,2.0,2.0,2.0,2.0,2.0,2.0,2.0,2.0,2.0],\"type\":\"scatter\"}],                        {\"template\":{\"data\":{\"pie\":[{\"automargin\":true,\"type\":\"pie\"}]},\"layout\":{\"xaxis\":{\"showgrid\":true,\"title\":{\"standoff\":15}},\"yaxis\":{\"showgrid\":true,\"title\":{\"standoff\":15}}}},\"xaxis\":{\"anchor\":\"y\",\"domain\":[0.0,1.0],\"title\":{\"text\":\"x\"}},\"yaxis\":{\"anchor\":\"x\",\"domain\":[0.0,1.0],\"title\":{\"text\":\"f(x)\"}},\"legend\":{\"tracegroupgap\":0},\"margin\":{\"t\":60},\"showlegend\":false},                        {\"responsive\": true}                    ).then(function(){\n",
              "                            \n",
              "var gd = document.getElementById('c6b83c7d-e04b-48cb-9d74-b7594b73ab54');\n",
              "var x = new MutationObserver(function (mutations, observer) {{\n",
              "        var display = window.getComputedStyle(gd).display;\n",
              "        if (!display || display === 'none') {{\n",
              "            console.log([gd, 'removed!']);\n",
              "            Plotly.purge(gd);\n",
              "            observer.disconnect();\n",
              "        }}\n",
              "}});\n",
              "\n",
              "// Listen for the removal of the full notebook cells\n",
              "var notebookContainer = gd.closest('#notebook-container');\n",
              "if (notebookContainer) {{\n",
              "    x.observe(notebookContainer, {childList: true});\n",
              "}}\n",
              "\n",
              "// Listen for the clearing of the current output cell\n",
              "var outputEl = gd.closest('.output');\n",
              "if (outputEl) {{\n",
              "    x.observe(outputEl, {childList: true});\n",
              "}}\n",
              "\n",
              "                        })                };                            </script>        </div>\n",
              "</body>\n",
              "</html>"
            ]
          },
          "metadata": {}
        }
      ]
    },
    {
      "cell_type": "markdown",
      "source": [
        " ## **<font color=\"DeepPink\">Función derivada</font>**"
      ],
      "metadata": {
        "id": "2xWh7V0gErAp"
      }
    },
    {
      "cell_type": "markdown",
      "source": [
        "<p align=\"justify\">\n",
        "Sea $f:A\\to B$ con $A,B \\subset R$, la función derivada de $f$ viene dada por:\n",
        "<br><br>\n",
        "$$ f':A'\\subset A \\to R/f'(x)=\\lim_{h \\to 0} \\frac{f(x+h)-f(x)}{h}. $$<br>\n",
        "$f'$ está defina en todo los puntos del dominio de $f$ para los cuales el límite anterior existe.<br><br>\n",
        "Puntos importantes:<br><br>\n",
        "1. $A'$ es un subconjunto de $A$. Es decir, $f$ puede estar definda para todos los números reales pero su derivada puede no existir para todos los reales.<br><br>\n",
        "2. Para que $f'$ esté definida en $a$ es necesario (pero no suficiente) que $f$ sea continua en $a$.<br><br>\n",
        "3. Si $f'(a)$ existe entonces el gráfico de $f$ en un entorno de $a$ viene dado por una curva \"suave\". Esto es, no presenta discontinuidades ni \"quiebres\" en $a$.\n",
        "<br><br>\n",
        "👀 <strong> Propiedades </strong><br><br>\n",
        "Si $f$ y $g$ son derivables en un punto $a$ y $c$ es un número real entonces:<br><br>\n",
        "1.   $f+g$ es derivable en $a$.<br><br>\n",
        "2.   $cf$ es derivable en $a$.<br><br>\n",
        "3.   $f/g$ es derivable en $a$ siempre que $g(a) \\neq 0$.<br><br>\n",
        "4.   $f \\circ g$ es derivable en $a$.<br><br>\n",
        "</p>"
      ],
      "metadata": {
        "id": "888yMTlcDui4"
      }
    },
    {
      "cell_type": "code",
      "source": [
        "g = sp.Piecewise((-1 , x<1),(1,x>=1)) #g no es derivable en x_0 = 1\n",
        "h = sp.Piecewise((-x , x<0),(x,x>=0)) #h no es derivable en x_0 = 0\n",
        "h"
      ],
      "metadata": {
        "colab": {
          "base_uri": "https://localhost:8080/",
          "height": 68
        },
        "id": "TBzxXFIlJP05",
        "outputId": "27a50082-b2f3-4ff6-946b-7d10e33b90a6"
      },
      "execution_count": null,
      "outputs": [
        {
          "output_type": "execute_result",
          "data": {
            "text/plain": [
              "Piecewise((-x, x < 0), (x, True))"
            ],
            "text/latex": "$\\displaystyle \\begin{cases} - x & \\text{for}\\: x < 0 \\\\x & \\text{otherwise} \\end{cases}$"
          },
          "metadata": {},
          "execution_count": 20
        }
      ]
    },
    {
      "cell_type": "code",
      "source": [
        "sp.plot(h)\n",
        "plt.show(block=False)"
      ],
      "metadata": {
        "id": "AWnf7bWEKQys",
        "colab": {
          "base_uri": "https://localhost:8080/",
          "height": 484
        },
        "outputId": "029f3b44-926b-4bf6-a861-2592210cc76a"
      },
      "execution_count": null,
      "outputs": [
        {
          "output_type": "display_data",
          "data": {
            "text/plain": [
              "<Figure size 640x480 with 1 Axes>"
            ],
            "image/png": "[encoded data removed]"
          },
          "metadata": {}
        }
      ]
    },
    {
      "cell_type": "markdown",
      "source": [
        "<p align=\"justify\">\n",
        "Computacionalmente hay 3 formas con las cuales podemos obtener la derivada de una función en un punto.\n"
      ],
      "metadata": {
        "id": "xYu5IlP9FXnn"
      }
    },
    {
      "cell_type": "markdown",
      "source": [
        " ## **<font color=\"DeepPink\">Derivación algebraica</font>**"
      ],
      "metadata": {
        "id": "pvaLjOvpFLcB"
      }
    },
    {
      "cell_type": "markdown",
      "source": [
        "<p align=\"justify\">\n",
        "Dada una función $f$, podemos buscar su función derivada manualmente o utilizando sympy. Dado que nos interesa el trabajo numérico, lo ideal sería transformar una función lambda en una función algebraica, derivar la función algebraica y luego transformar esta derivada a función lambda nuevamente utilizando <strong>lambdify</strong>. En la práctica el primer paso es complejo de realizar. Por este motivo, es más sencillo trabajar con la función lambda y una función auxiliar algebraica.\n",
        "</p>"
      ],
      "metadata": {
        "id": "nYmOEzja8aPU"
      }
    },
    {
      "cell_type": "code",
      "source": [
        "f = lambda x: np.log(x)   #definimos la función lambda\n",
        "f_alg = sp.log(x)         #definimos la función auxiliar en forma algebraica\n",
        "#sp.diff(f_alg,x)         # la función diff de sympy se utiliza para derivar\n",
        "df = sp.lambdify(x, sp.diff(f_alg,x))\n",
        "\n",
        "#Graficamos ambas funciones\n",
        "X = np.linspace(0.1,10,1000)\n",
        "cero = np.linspace(0,0,1000)\n",
        "fig, ax = plt.subplots(figsize=(9,6))  #creamos una figura vacía\n",
        "ax.plot(X, f(X), label='$f$', color='green')\n",
        "ax.plot(X, df(X), label='$df$', color='red')\n",
        "ax.plot(X, cero, color='black')\n",
        "ax.legend()\n",
        "plt.show;"
      ],
      "metadata": {
        "colab": {
          "base_uri": "https://localhost:8080/",
          "height": 522
        },
        "id": "5v8ks1qD--E4",
        "outputId": "73c75eb6-52bd-4f5e-bc11-37e6ff3b2ec6"
      },
      "execution_count": null,
      "outputs": [
        {
          "output_type": "display_data",
          "data": {
            "text/plain": [
              "<Figure size 900x600 with 1 Axes>"
            ],
            "image/png": "[encoded data removed]"
          },
          "metadata": {}
        }
      ]
    },
    {
      "cell_type": "markdown",
      "source": [
        " ## **<font color=\"DeepPink\">Derivación numérica</font>**"
      ],
      "metadata": {
        "id": "72PoGgaTFh-M"
      }
    },
    {
      "cell_type": "markdown",
      "source": [
        "<p align=\"justify\">\n",
        "Sea $f$ una función difrenciable en un subconjunto de puntos de su dominio. Dada la relación que existe entre la función conciente incremental de $f$ y la función derivada de $f$, podemos utilizar la primera para aproximar la segunda  tomando un valor fijo para $h$ \"suficientemente pequeño\". Es decir:\n",
        "\n",
        "$$ f'(x)\\approx \\frac{f(x+h)-f(x)}{h} \\quad \\text{ para } h \\text{ pequeño.} $$\n",
        "\n",
        "Dada la función lambda podemos construir su derivada directamente.\n",
        "</p>"
      ],
      "metadata": {
        "id": "XZOKqgJUZkua"
      }
    },
    {
      "cell_type": "code",
      "source": [
        "def df_num(x,h=0.0000001):\n",
        "  return (f(x+h) - f(x))/h"
      ],
      "metadata": {
        "id": "lHQny3778Zy3"
      },
      "execution_count": null,
      "outputs": []
    },
    {
      "cell_type": "code",
      "source": [
        "X = np.linspace(0.01,0.1,1000)\n",
        "cero = np.linspace(0,0,1000)\n",
        "\n",
        "fig, ax = plt.subplots(figsize=(9,6))\n",
        "ax.plot(X, df_num(X), label='$df$ numérica', color='green')\n",
        "ax.plot(X, df(X), label='$df$ algebraica', color='red')\n",
        "ax.plot(X, cero, color='black')\n",
        "ax.legend()\n",
        "plt.show;"
      ],
      "metadata": {
        "colab": {
          "base_uri": "https://localhost:8080/",
          "height": 522
        },
        "id": "gHfABYy_Ms8c",
        "outputId": "1222716b-620b-4324-9e78-c1c1c427a069"
      },
      "execution_count": null,
      "outputs": [
        {
          "output_type": "display_data",
          "data": {
            "text/plain": [
              "<Figure size 900x600 with 1 Axes>"
            ],
            "image/png": "[encoded data removed]"
          },
          "metadata": {}
        }
      ]
    },
    {
      "cell_type": "markdown",
      "source": [
        "¿Son exactamente iguales? No, mientras menor sea $h$ mejor será la aproximación."
      ],
      "metadata": {
        "id": "zFSH4jldbt7d"
      }
    },
    {
      "cell_type": "code",
      "source": [
        "np.abs(df(0.0001)-df_num(0.0001))"
      ],
      "metadata": {
        "id": "n7WHhZTXbbcq",
        "colab": {
          "base_uri": "https://localhost:8080/"
        },
        "outputId": "ecd34092-d628-4316-f413-8c56ee368af5"
      },
      "execution_count": null,
      "outputs": [
        {
          "output_type": "execute_result",
          "data": {
            "text/plain": [
              "4.996669181735342"
            ]
          },
          "metadata": {},
          "execution_count": 25
        }
      ]
    },
    {
      "cell_type": "markdown",
      "source": [
        "<p align=\"justify\">\n",
        "Mientras que la derivación algebraica nos permite hacer cálculos exactos, el método es lento y se ralentiza al aumentar el orden de derivación. Por otro lado, la derivación numérica es rápida pero presenta errores de cálculo que se acumulan al aumentar el orden de derivación. <br><br> Para resolver estos problemas se utiliza la <strong>derivación automática</strong>. Este método resuleve los problemas de los anteriores utilizando la regla de la cadena. No es tan sencillo de implementar. Para hacer cálculos por nuestra cuenta nos basta la derivada numérica.\n",
        "</p>"
      ],
      "metadata": {
        "id": "qzGxE_e8cqqL"
      }
    },
    {
      "cell_type": "markdown",
      "source": [
        " # **<font color=\"DeepPink\">Aplicaciones de la derivada</font>**\n",
        "\n",
        "<p align=\"justify\">\n",
        "La derivada de una función en un punto nos devuelve la pendiente de la recta tangente a la función $f$ en dicho punto. Ejemplo:<br><br>\n",
        "$$ f:R \\to R/f(x)=x^2$$<br><br>\n",
        "$$ f':R \\to R/f'(x)=2x$$<br><br>\n",
        "$$ f(1)=1 \\quad \\text{y} \\quad f'(1)=2$$<br><br>\n",
        "Esto quiere decir que el gráfico de la función $f$ pasa por el punto $(1,1)$ y la pendiente de la recta tangente al gráfico de la función en dicho punto es 1 (positiva).<br><br>\n",
        "\n",
        "</p>"
      ],
      "metadata": {
        "id": "P01AoqySeyT0"
      }
    },
    {
      "cell_type": "markdown",
      "source": [
        "<p align=\"center\">\n",
        "<img src=\"https://github.com/cristiandarioortegayubro/BDS/blob/main/images/Image_0022.png?raw=true\" width=\"550\" height=\"\">\n",
        "</p>\n"
      ],
      "metadata": {
        "id": "X_jzmGOjIKPs"
      }
    },
    {
      "cell_type": "markdown",
      "source": [
        "<p align=\"justify\">\n",
        "La <strong>derivada primera</strong> de una función nos da información sobre el crecimiento o decrecimiento de la misma.\n",
        "\n",
        "Si $f$ es una función diferenciable en el punto $a$ y $f'(a)>0$ entonces la función es creciente en $a$.\n",
        "\n",
        "Si $f$ es una función diferenciable en el punto $a$ y $f'(a) < 0$ entonces la función es decreciente en $a$.\n",
        "\n",
        "Si $f$ es una función diferenciable en el punto $a$ y $f'(a)=0$ entonces la función no crece ni decrece en $a$.\n",
        "\n",
        "La <strong>derivada segunda</strong> nos da información sobre la concavidad o convexidad de la misma.\n",
        "\n",
        "Si $f$ es una función dos veces diferenciable en el punto $a$ y $f''(a)>0$ entonces $f$ es convexa en $a$.\n",
        "\n",
        "Si $f$ es una función dos veces diferenciable en el punto $a$ y $f''(a)< 0$ entonces $f$ es concava en $a$.\n",
        "</p>"
      ],
      "metadata": {
        "id": "MlFNSeexiGJG"
      }
    },
    {
      "cell_type": "markdown",
      "source": [
        "<p align=\"center\">\n",
        "<img src=\"https://github.com/cristiandarioortegayubro/BDS/blob/main/images/Image_0023.png?raw=true\" width=\"550\" height=\"\">\n",
        "</p>\n"
      ],
      "metadata": {
        "id": "Fut7S00aXmEn"
      }
    },
    {
      "cell_type": "markdown",
      "source": [
        " ## **<font color=\"DeepPink\">Búsqueda de extremos locales</font>**"
      ],
      "metadata": {
        "id": "HH_dhx3XFuah"
      }
    },
    {
      "cell_type": "markdown",
      "source": [
        "<p align=\"justify\">\n",
        "Sea $f$ una función dos veces diferenciable en el interior de su dominio, y sea $c$ un punto interior del dominio de $f$.\n",
        "\n",
        "*   Si $f'(c)=0$ y $f''(c)>0$ entonces $f$ presenta un mínimo relativo en $c$ de valor $f(c)$.\n",
        "*   Si $f'(c)=0$ y $f''(c) < 0$ entonces $f$ presenta un máximo relativo en $c$ de valor $f(c)$.\n",
        "<br><br>\n",
        "Ejemplo:\n",
        "$$ f:R \\to R/ f(x)=x^2+8 \\quad \\to \\quad f'(x)=2x $$\n",
        "$$ f'(x)=0 \\quad \\to \\quad 2x=0 \\quad \\to \\quad x=0  $$\n",
        "<br>\n",
        "Luego $x_0 = 0$ es punto crítico de $f$. La derivada segunda de $f$ viene dada por:\n",
        "<br><br>\n",
        "$$ f''(x)=2 >0 \\quad \\forall x \\in R $$\n",
        "<br>\n",
        "$f$ presenta un mínimo relativo en $x_0 = 0$ de valor $f(0)=8$.\n",
        "\n",
        "\n",
        "</p>"
      ],
      "metadata": {
        "id": "V7R-dzah5WZ-"
      }
    },
    {
      "cell_type": "markdown",
      "source": [
        "<p align=\"center\">\n",
        "<img src=\"https://github.com/cristiandarioortegayubro/BDS/blob/main/images/Image_0024.png?raw=true\" width=\"450\" height=\"\">\n",
        "</p>\n"
      ],
      "metadata": {
        "id": "Vga9SXZ3X1Ix"
      }
    },
    {
      "cell_type": "markdown",
      "source": [
        " ## **<font color=\"DeepPink\">Puntos importantes</font>**"
      ],
      "metadata": {
        "id": "22YeDCJMF6sZ"
      }
    },
    {
      "cell_type": "markdown",
      "source": [
        "<p align=\"justify\">\n",
        "El método antes mencionado requiere que $f$ sea dos veces difrenciable. $f:R \\to R/f(x)=|x|$ presenta un mínimo relativo en $x_0 = 0$ pero no puede ser detectado por el método antes mencionado. No existe $f'(0)$ ni $f''(0)$. <br><br>El metodo sirve para encontrar <strong>extremos locales</strong>, es posible que si $f$ presenta un mínimo relativo en $x_0$ y un máximo relativo en $x_1$ el valor del mínimo sea mayor que el valor del máximo.\n",
        "Si existen, para buscar el mínimo o máximo absoluto de una función debemos comparar entre todos los extremos locales encontrados cuál es el menor y el mayor. Si la función está definida en un conjunto cerrado y acotado, debemos estudiar lo que ocurre en la frontera de dicho conjunto. La derivada de la función no está definida en esos puntos. <br><br>La función $f:[-1,2] \\to R/f(x)=x^2$ presenta un mínimo relativo y absoluto en $x_0=0$. Si bien no presenta máximos relativos, si presenta un máximo absoluto en $x_1=2$ de valor $f(2)=4$.\n",
        "\n",
        "</p>"
      ],
      "metadata": {
        "id": "2ELlC45jOaTW"
      }
    },
    {
      "cell_type": "markdown",
      "source": [
        "<p align=\"justify\">\n",
        "<strong>Ejercicio</strong> (para ir realizando)\n",
        "\n",
        "1) Encuentre, si existen, los extremos relativos que presenta $f:R \\to R / f(x)=2x^4 - 4x^3 -2x^2 + x-3.$\n",
        "\n",
        "2) Encuentre, si existen, los extremos relativos que presenta $g:R^+ \\to R / f(x)=|\\log(x)|$\n",
        "\n",
        "Comencemos haciendo un análisis gráfico de ambas funciones.\n",
        "</p>"
      ],
      "metadata": {
        "id": "DRwe0fkybi7J"
      }
    },
    {
      "cell_type": "code",
      "source": [
        "x = sp.Symbol('x')\n",
        "f = 2*x**4 - 4*x**3 -2*x**2 + x -3   #polinomio de grado 4\n",
        "g = sp.Abs(sp.log(x))\n",
        "sp.plot(f, xlim=(-2,3), ylim=(-11,26))\n",
        "#sp.plot(g, xlim=(0.01,3))"
      ],
      "metadata": {
        "colab": {
          "base_uri": "https://localhost:8080/",
          "height": 504
        },
        "id": "G3UhrNmqPiuT",
        "outputId": "827416c6-7540-4dd8-9ba7-eacdd39de0a0"
      },
      "execution_count": null,
      "outputs": [
        {
          "output_type": "display_data",
          "data": {
            "text/plain": [
              "<Figure size 640x480 with 1 Axes>"
            ],
            "image/png": "[encoded data removed]"
          },
          "metadata": {}
        },
        {
          "output_type": "execute_result",
          "data": {
            "text/plain": [
              "<sympy.plotting.plot.Plot at 0x7f3121d9fa00>"
            ]
          },
          "metadata": {},
          "execution_count": 26
        }
      ]
    },
    {
      "cell_type": "markdown",
      "source": [
        "<p align=\"justify\">\n",
        "$f$ presenta 3 extremos relativos, dos mínimos y un máximo. Para encontrarlo debemos resolver una ecuación de tercer grado. <br>\n",
        "$g$ presenta un mínimo relativo, pero no podemos encontrarlo por el método propuesto porque la función no es diferenciable en todo su dominio.\n",
        "</p>"
      ],
      "metadata": {
        "id": "odTsvO0NiPNE"
      }
    },
    {
      "cell_type": "markdown",
      "source": [
        " ## **<font color=\"DeepPink\">Cálculo de variaciones y aproximación lineal de una función</font>**"
      ],
      "metadata": {
        "id": "EwZ4x4PjGF9f"
      }
    },
    {
      "cell_type": "markdown",
      "source": [
        "<p align=\"justify\">\n",
        "Dada una función $f$. Definimos la variación de $f$ entre los puntos $x_0$ y $x_0 + h$ pertenecientes al dominio de $f$ mediante:<br><br>\n",
        "$$\\Delta f(x_0) = f(x_0 + h) - f(x_0).$$<br><br>\n",
        "Si conocemos el valor que toma la función en $x_0$ y la variación de $f$ en dicho punto, entonces podemos calcular el valor de la función en el punto $x_0 + h$:<br><br>\n",
        "$$ f(x_0 + h) = f(x_0) + \\Delta f(x_0).$$<br><br>\n",
        "Si la función es diferenciable en $x_0$, teniendo en cuenta que la derivada es un caso particular de un cociente incremental, podemos aproximar la variación de $f$ en dicho punto utilizando el diferencial de $f$:<br><br>\n",
        "$$ f'(x_0)  = \\frac{dy}{dx} \\to dy=f'(x_0)dx  $$<br><br>\n",
        "Considerando $dx=h$ y teniendo en cuenta que $f'(x_0)$ no es igual al cociente incremental de $f$ entre los puntos $x_0$ y $x_0 + h$ pero si se asemeja, tenemos:<br><br>\n",
        "$$ f(x_0 + h) \\approx f(x_0) + dy = f(x_0) + f'(x_0)h.$$<br><br>\n",
        "</p>"
      ],
      "metadata": {
        "id": "9FEJKDOgay1H"
      }
    },
    {
      "cell_type": "markdown",
      "source": [
        "<p align=\"center\">\n",
        "<img src=\"https://github.com/cristiandarioortegayubro/BDS/blob/main/images/Image_0025.png?raw=true\" width=\"350\" height=\"\">\n",
        "</p>\n"
      ],
      "metadata": {
        "id": "jgvMXKCfP5zA"
      }
    },
    {
      "cell_type": "markdown",
      "source": [
        "\n",
        "<p align=\"justify\">\n",
        "La \"bondad\" de esa aproximación dependerá de $h$ y de la curvatura de $f$.<br><br>\n",
        "Dado $x_0$ y $x_1$ dos puntos del dominio de $f$, el diferencial de $x$ viene dado por: <br><br>\n",
        "$$dx=h=x_1 - x_0$$\n",
        "Por lo tanto, conociendo el valor de la función y su derivada en $x_0$:<br><br>\n",
        "$$ f(x_1) \\approx f(x_0) + f'(x_0)(x_1 - x_0) $$<br><br>\n",
        "Esto lo podemos realizar con cualquier punto del dominio de $f$:<br><br>\n",
        "$$ f(x) \\approx f(x_0) + f'(x_0)(x - x_0) $$<br><br>\n",
        "Notemos que el lado derecho de la ecuación anterior es una función lineal de $x$ ya que $x_0$, $f(x_0)$ y $f'(x_0)$ son constantes. Por este motivo, se lo conoce como aproximación lineal de la función centrada en el punto $x_0$.<br><br> Notemos que en $x_0$ la aproximación es perfecta:<br><br>\n",
        "$$f(x_0) \\approx f(x_0) + f'(x_0)(x_0 - x_0) = f(x_0) $$<br><br>\n",
        "Mientras mayor sea la distancia entre el punto $x_0$ y el punto $x$ donde quiero aproximar el valor de $f$ peor tenderá a ser la aproximación. Esta aproximación puede ser muy mala para puntos \"lejanos\" de $x_0$.\n",
        "</p>"
      ],
      "metadata": {
        "id": "UJkMrzXhQBKH"
      }
    },
    {
      "cell_type": "markdown",
      "source": [
        "<p align=\"center\">\n",
        "<img src=\"https://github.com/cristiandarioortegayubro/BDS/blob/main/images/Image_0026.png?raw=true\" width=\"550\" height=\"\">\n",
        "</p>\n"
      ],
      "metadata": {
        "id": "hmdBRj4-TWyJ"
      }
    },
    {
      "cell_type": "markdown",
      "source": [
        "Vamos a aproximar $f(x)=\\ln(x)$ linealmente en $x_0=1$ y en $x_1=100$."
      ],
      "metadata": {
        "id": "rtgBMidFRIQr"
      }
    },
    {
      "cell_type": "code",
      "source": [
        "x_0 = 100                                             #establecemos x_0\n",
        "x = sp.Symbol('x')                                  #definimos x como simbólica\n",
        "f = lambda x: np.log(x)                             #definimos la función a aproximar\n",
        "f_alg = sp.log(x)                                   #definimos la función algebraica para obtener la derivada\n",
        "df = sp.lambdify(x, sp.diff(f_alg,x))               #definimos la función derivada\n",
        "flineal = lambda x: f(x_0) + df(x_0)*(x-x_0)        #construimos la aproximación lineal\n",
        "\n",
        "X = np.linspace(x_0 - 0.9, x_0 + 0.9, 1000)\n",
        "Y = np.linspace( 0.1, 120, 1000)\n",
        "fig, ax = plt.subplots(figsize=(9,6))\n",
        "#ax.plot(Y, f(Y), label='$f$', color='green')\n",
        "ax.plot(X, flineal(X), label='aproximación lineal de $f$', color='red')\n",
        "ax.legend()\n",
        "plt.show;"
      ],
      "metadata": {
        "colab": {
          "base_uri": "https://localhost:8080/",
          "height": 526
        },
        "id": "HN3htppxQqqI",
        "outputId": "a64eff07-d990-4065-f039-8bdc62923f00"
      },
      "execution_count": null,
      "outputs": [
        {
          "output_type": "display_data",
          "data": {
            "text/plain": [
              "<Figure size 900x600 with 1 Axes>"
            ],
            "image/png": "[encoded data removed]"
          },
          "metadata": {}
        }
      ]
    },
    {
      "cell_type": "markdown",
      "source": [
        " ## **<font color=\"DeepPink\">Búsqueda de los $0$ de una función o resolución de ecuaciones no lineales</font>**"
      ],
      "metadata": {
        "id": "Z3OntnVyGU8E"
      }
    },
    {
      "cell_type": "markdown",
      "source": [
        "<p align=\"justify\">\n",
        "Sea $f:A \\to B$, con $A,B \\subset R$, una función no lineal 2 veces diferenciable en todo el interior del conjunto $A$. Queremos resolver la ecuación: <br><br>\n",
        "$$ f(x)=0. $$<br><br>\n",
        "Dado que sabemos resolver ecuaciones lineales despejando la incognita, método que no siempre es aplicable a ecuaciones no lineales, podemos linealizar la función $f$ centrandonos en algún punto $x_0$:<br><br>\n",
        "$$f(x) \\approx f(x_0) + f'(x_0)(x-x_0)$$<br><br>\n",
        "Y dado que buscamos $x$ tal que $f(x)=0$ tenemos que:<br><br>\n",
        "$$ 0 \\approx f(x_0) + f'(x_0)(x-x_0) $$ <br><br>\n",
        "Despejando $x$ de la expresión anterior: <br><br>\n",
        "$$x \\approx x_0 - \\frac{f(x_0)}{f'(x_0)}$$  <br><br>\n",
        "Esta expresión nos dice que, partiendo de $x_0$, el valor $x_0 - \\frac{f(x_0)}{f'(x_0)}$ debería ser más próximo a la solución a la ecuación $ f(x)=0 $ que $x_0$. Dado que, en general el valor hallado no es una solución a la ecuación propuesta, podemos aplicar nuevamente el método aproximando linealmente a la función $f$ en el valor  $x_0 - \\frac{f(x_0)}{f'(x_0)}$. De esta forma, podemos construir un método iterativo que nos acerca paso a paso a la verdadera solución de la ecuación planteada. <br><br>\n",
        "El algoritmo entonces es:<br><br>\n",
        "1. Determine un valor inicial $x_0$.<br><br>\n",
        "2. Actualice el valor según la regla $x_k = x_{k-1} - \\frac{f(x_{k-1})}{f'(x_{k-1})}.$<br><br>\n",
        "3. Repita hasta estar lo suficientemente cerca de a solución.<br><br>\n",
        "✅ <strong>Este método se conoce como Newton-Raphson y tiene algunos puntos importantes a tener en cuenta:</strong><br><br>\n",
        "1. No sabemos cuantas soluciones tiene la ecuación no lineal. Si el método de \"funciona\" encuentra solo una solución.<br><br>\n",
        "2. El método no siempre funciona bien.<br><br>\n",
        "3. No es aplicable a todas las funciones.<br><br>\n",
        "4. El método puede ser sensible al valor inicial $x_0$ y requiere determinar adecuadamente el criterio de parada.\n",
        "</p>"
      ],
      "metadata": {
        "id": "4EBWUy-0ZQ0O"
      }
    },
    {
      "cell_type": "markdown",
      "source": [
        "<p align=\"center\">\n",
        "<img src=\"https://github.com/cristiandarioortegayubro/BDS/blob/main/images/Image_0027.png?raw=true\" width=\"750\" height=\"\">\n",
        "</p>\n"
      ],
      "metadata": {
        "id": "G5fclGNmZAvh"
      }
    },
    {
      "cell_type": "markdown",
      "source": [
        "Apliquemos el método para encontrar los extremos relativos de $f:R \\to R / f(x)=2x^4 - 4x^3 -2x^2 + x-3.$"
      ],
      "metadata": {
        "id": "9fuQtA_VZavf"
      }
    },
    {
      "cell_type": "code",
      "source": [
        "x = sp.Symbol('x')\n",
        "f = lambda x: 2*x**4-4*x**3-2*x**2+x-3\n",
        "f_alg = 2*x**4-4*x**3-2*x**2+x-3\n",
        "\n",
        "df = sp.lambdify(x, sp.diff(f_alg,x))               #función que queremos igualar a 0\n",
        "ddf = sp.lambdify(x, sp.diff(sp.diff(f_alg,x),x))\n",
        "\n",
        "x_0 = 2\n",
        "tol = 1\n",
        "t = 0\n",
        "\n",
        "while tol>0.0000001:\n",
        "  t += 1\n",
        "  x_1 = x_0 - df(x_0)/ddf(x_0)\n",
        "  tol = np.abs(x_1 - x_0)                           #El criterio de parada queda determinado por la distancia entre dos puntos sucesivos\n",
        "  x_0 = x_1\n",
        "\n",
        "x_0, df(x_0), t"
      ],
      "metadata": {
        "colab": {
          "base_uri": "https://localhost:8080/"
        },
        "id": "lGBrgXdLdQ-P",
        "outputId": "5d01909b-d914-4eaf-e78e-01ff66aa91b1"
      },
      "execution_count": null,
      "outputs": [
        {
          "output_type": "execute_result",
          "data": {
            "text/plain": [
              "(1.7454318076805162, 0.0, 5)"
            ]
          },
          "metadata": {},
          "execution_count": 28
        }
      ]
    },
    {
      "cell_type": "code",
      "source": [
        "X = np.linspace(-2, 3 ,10000)\n",
        "cero = np.linspace(0, 0 ,10000)\n",
        "fig, ax = plt.subplots(figsize=(9,6))\n",
        "ax.plot(X, df(X), label='$df$', color='green')\n",
        "ax.plot(X, cero , color='black')\n",
        "ax.legend()\n",
        "plt.show;"
      ],
      "metadata": {
        "colab": {
          "base_uri": "https://localhost:8080/",
          "height": 522
        },
        "id": "Kpx3iRoma7HT",
        "outputId": "70cfd691-4433-4022-8a30-30bd0631b822"
      },
      "execution_count": null,
      "outputs": [
        {
          "output_type": "display_data",
          "data": {
            "text/plain": [
              "<Figure size 900x600 with 1 Axes>"
            ],
            "image/png": "[encoded data removed]"
          },
          "metadata": {}
        }
      ]
    },
    {
      "cell_type": "code",
      "source": [
        "X = np.linspace(-2, 3 ,10000)\n",
        "cero = np.linspace(0, 0 ,10000)\n",
        "fig, ax = plt.subplots(figsize=(9,6))\n",
        "ax.plot(X, X**3, label='$x^3$', color='green')\n",
        "ax.plot(X, cero , color='black')\n",
        "ax.legend()\n",
        "plt.show;"
      ],
      "metadata": {
        "colab": {
          "base_uri": "https://localhost:8080/",
          "height": 522
        },
        "id": "LOV6eI850PWq",
        "outputId": "2b1f3d01-49ce-49cf-f8a3-494e8aded601"
      },
      "execution_count": null,
      "outputs": [
        {
          "output_type": "display_data",
          "data": {
            "text/plain": [
              "<Figure size 900x600 with 1 Axes>"
            ],
            "image/png": "[encoded data removed]"
          },
          "metadata": {}
        }
      ]
    },
    {
      "cell_type": "code",
      "source": [
        "x = sp.Symbol('x')\n",
        "f = lambda x: x**3\n",
        "f_alg = x**3\n",
        "df = sp.lambdify(x, sp.diff(f_alg,x))\n",
        "x_0 = 0\n",
        "tol = 1\n",
        "while tol>0.001:\n",
        "  x_1 = x_0 - f(x_0)/df(x_0)\n",
        "  tol = np.abs(x_1 - x_0)\n",
        "  x_0 = x_1\n",
        "x_0"
      ],
      "metadata": {
        "id": "UenYzIeYdAkZ",
        "colab": {
          "base_uri": "https://localhost:8080/",
          "height": 207
        },
        "outputId": "d23ed0f3-75d1-49a9-edb8-15f2cf1edffe"
      },
      "execution_count": null,
      "outputs": [
        {
          "output_type": "error",
          "ename": "ZeroDivisionError",
          "evalue": "division by zero",
          "traceback": [
            "\u001b[0;31m---------------------------------------------------------------------------\u001b[0m",
            "\u001b[0;31mZeroDivisionError\u001b[0m                         Traceback (most recent call last)",
            "\u001b[0;32m<ipython-input-31-414b7810affe>\u001b[0m in \u001b[0;36m<cell line: 7>\u001b[0;34m()\u001b[0m\n\u001b[1;32m      6\u001b[0m \u001b[0mtol\u001b[0m \u001b[0;34m=\u001b[0m \u001b[0;36m1\u001b[0m\u001b[0;34m\u001b[0m\u001b[0;34m\u001b[0m\u001b[0m\n\u001b[1;32m      7\u001b[0m \u001b[0;32mwhile\u001b[0m \u001b[0mtol\u001b[0m\u001b[0;34m>\u001b[0m\u001b[0;36m0.001\u001b[0m\u001b[0;34m:\u001b[0m\u001b[0;34m\u001b[0m\u001b[0;34m\u001b[0m\u001b[0m\n\u001b[0;32m----> 8\u001b[0;31m   \u001b[0mx_1\u001b[0m \u001b[0;34m=\u001b[0m \u001b[0mx_0\u001b[0m \u001b[0;34m-\u001b[0m \u001b[0mf\u001b[0m\u001b[0;34m(\u001b[0m\u001b[0mx_0\u001b[0m\u001b[0;34m)\u001b[0m\u001b[0;34m/\u001b[0m\u001b[0mdf\u001b[0m\u001b[0;34m(\u001b[0m\u001b[0mx_0\u001b[0m\u001b[0;34m)\u001b[0m\u001b[0;34m\u001b[0m\u001b[0;34m\u001b[0m\u001b[0m\n\u001b[0m\u001b[1;32m      9\u001b[0m   \u001b[0mtol\u001b[0m \u001b[0;34m=\u001b[0m \u001b[0mnp\u001b[0m\u001b[0;34m.\u001b[0m\u001b[0mabs\u001b[0m\u001b[0;34m(\u001b[0m\u001b[0mx_1\u001b[0m \u001b[0;34m-\u001b[0m \u001b[0mx_0\u001b[0m\u001b[0;34m)\u001b[0m\u001b[0;34m\u001b[0m\u001b[0;34m\u001b[0m\u001b[0m\n\u001b[1;32m     10\u001b[0m   \u001b[0mx_0\u001b[0m \u001b[0;34m=\u001b[0m \u001b[0mx_1\u001b[0m\u001b[0;34m\u001b[0m\u001b[0;34m\u001b[0m\u001b[0m\n",
            "\u001b[0;31mZeroDivisionError\u001b[0m: division by zero"
          ]
        }
      ]
    },
    {
      "cell_type": "markdown",
      "source": [
        "<p align=\"justify\">\n",
        "✅ <strong>Nota:</strong> El método de Newton se utiliza para obtener los ceros de una función $f$ y requiere  la derivada primera de $f$. Este método se puede adaptar para buscar los extremos relativos de una función $f$, buscando los ceros de su derivada $f'$. En este caso, el método requiere de la derivada segunda de $f$. Es decir, para poder buscar los extremos relativos de $f$ utilizando el método de Newton la función $f$ debe ser dos veces diferenciable en su dominio.\n",
        "\n",
        "</p>"
      ],
      "metadata": {
        "id": "FA_UgRM4foQl"
      }
    },
    {
      "cell_type": "markdown",
      "source": [
        " # **<font color=\"DeepPink\">Integral definida</font>**"
      ],
      "metadata": {
        "id": "asinYya_yIEF"
      }
    },
    {
      "cell_type": "markdown",
      "source": [
        "<p align=\"justify\">\n",
        "✅ <strong>Introducción al concepto</strong><br><br>\n",
        "Suponga que necesita calcular el valor total de las ventas de su empresa para el año 2022: <br><br>\n",
        "1. Si tiene el dato ya está.<br><br>\n",
        "2. Si se ha contabilizado las ventas mensuales, habrá que sumar las ventas de cada mes.<br><br>\n",
        "3. Si se ha contabilizado las ventas diarias, habrá que sumar las ventas de cada día.<br><br>\n",
        "4. Si se ha contabilizado las ventas por hora, habra que sumar las ventas de cada hora de cada día de cada mes.<br><br>\n",
        "5. Conclusión: si se ha contabilizado las ventas en cada instante en el tiempo hay que sumar las ventas de cada instante del tiempo durante todo el año. ¡Pero el tiempo medido de esta forma es continuo! <br><br>\n",
        "Esta es la idea de integral, una suma de infinitos valores en forma continua.\n",
        "<br><br>\n",
        "Si queremos <strong>integrar una función $f$ en un intervalo $[a,b]$</strong> de números reales, deberíamos \"sumar\" todos los valores que toma la función en dicho intervalo. Esto es claramente imposible. Para acercarnos a la solución de este problema, tomemos una función que solo toma valores positivos en $[a,b]$. Es este caso, la integral de $f$ en $[a,b]$ representa el area encerrada entre el eje x y el gráfico de la función en el intervalo mencionado.\n",
        "</p>"
      ],
      "metadata": {
        "id": "8J9-_4EKyO71"
      }
    },
    {
      "cell_type": "markdown",
      "source": [
        "<p align=\"center\">\n",
        "<img src=\"https://github.com/cristiandarioortegayubro/BDS/blob/main/images/Image_0028.png?raw=true\" width=\"350\" height=\"\">\n",
        "</p>\n"
      ],
      "metadata": {
        "id": "RpFVbdIUkU0z"
      }
    },
    {
      "cell_type": "markdown",
      "source": [
        "<p align=\"justify\">\n",
        "Para resolver este problema, podemos aproximar el area utilizando rectangulos. <br><br> 1.Elegimos $n+1$ puntos ${x_1, x_2, ..., x_{n+1}}$ equidistantes pertenecientes al intervalo $[a,b]$ con $x_1 = a$ y $x_{n+1}=b$. Note que la distancia entre el punto $x_1$ y $x_{n+1}$ es $b-a$, por lo que la distancia entre cada par de puntos contiguos es $\\frac{b-a}{n}$. Esta será la base de cada rectangulo. <br><br> 2. Vamos a construir $n$ rectángulos y lo podemos hacer de dos formas distintas. Por un lado, podemos tomar el valor $f(x_1)$ como altura para el primer rectángulo, $f(x_2)$ como altura para elsegundo rectángulo, y seguimos hasta obtener $f(x_n)$ para el último rectangulo. Y por otro, podemos considerar $f(x_2)$ como altura del primer rectángulo, $f(x_3)$ para el segundo, y así hasta llegar a $f(x_{n+1})$. Note que en cualquiera de los dos métodos excluimos un punto de los $n+1$ considerados, $a$ o $b$.</p>"
      ],
      "metadata": {
        "id": "l96ckC0wkmg_"
      }
    },
    {
      "cell_type": "markdown",
      "source": [
        "<p align=\"center\">\n",
        "<img src=\"https://github.com/cristiandarioortegayubro/BDS/blob/main/images/Image_0029.png?raw=true\" width=\"550\" height=\"\">\n",
        "</p>\n"
      ],
      "metadata": {
        "id": "Ls2ZVPnLpZle"
      }
    },
    {
      "cell_type": "markdown",
      "source": [
        "<p align=\"justify\">\n",
        "Podemos entonces aproximar el valor de la integral, $I$, de la función $f$ en el intervalo $[a,b]$ de dos formas distintas que llamaremos $I_I$ e $I_D$.\n",
        "Para $I_I$ será la primer aproximación mencionada e $I_D$ la segunda. <br><br>\n",
        "Para el calcular $I_I$ debemos tener en cuenta que el area del primer rectángulo viene dada por el producto entre su altura $f(x_1)$ y su base $(x_2 - x_1)$, el area del segundo rectángulo es el producto entre $f(x_2)$ y $(x_3 - x_2)$, y así hasta llegar al último (n-ésimo) rectángulo cuya area viene dada por el producto entre $f(x_n)$ y $(x_{n+1} - x_{n})$. <br><br>\n",
        "$$ I_I = f(x_1)(x_2-x_1) + f(x_2)(x_3-x_2) + ... +f(x_n)(x_{n+1}-x_n) $$ <br>\n",
        "$$ I_I = \\sum_{i=1}^{n} f(x_i)(x_{i+1}-x_i)  $$ <br>\n",
        "Teniendo en cuenta que las distancias entre los puntos son todas iguales:<br><br>\n",
        "$$ I_I = \\sum_{i=1}^{n} f(x_i)\\frac{(b-a)}{n}  $$<br>\n",
        "Para $I_D$ tenemos algo similar:<br>\n",
        "$$ I_D = \\sum_{i=1}^{n} f(x_{i+1})\\frac{(b-a)}{n}  $$<br>\n",
        "Estas dos son aproximaciones al verdadero valor de la integral de la función en el intervalo $[a,b]$, una por exceso y otra por defecto. A medida que consideramos rectángulos una base más pequeña, tomando más puntos para la construccion de las sumas $I_I$ e $I_D$, las aproximaciones se vuelven más precisas.<br><br>\n",
        "Si $f$ es integrable en $[a,b]$ entonces al considerar rectángulos de base infinitesimalmente pequeña las sumas $I_I$ e $I_D$ convergen a un mismo valor.<br><br>\n",
        "Al considerar que $f$ solo toma valores positivos en $[a,b]$, el valor de la integral de $f$ en $[a,b]$ representa el area encerrada entre el gráfico de $f$ y el eje x en el intervalo $[a,b]$. Si la función solo tomara valores negativos, esta integral representaría la menos area mencionada. Y si toma valores positivos y negativos se genera algún tipo de compensación.\n",
        "<br><br>Para este último caso considere la función de resultados instantaneos de una empresa, que pueden ser positivos y negativos, si integramos sobre el periodo que representa un año obtenemos el resultado acumulado de la empresa a lo largo del año. Este puede ser positivo o negativo.<br><br> La integral de $f$ en el intervalo $[a,b]$ la denotamos:<br><br>\n",
        "$$ I = \\int_{a}^{b}f(x)dx $$<br>\n",
        "A $a$ y $b$ se los conoce como extremos de integración, $f$ es la función a integrar y $dx$ es el diferencial de la variable $x$ que indica respecto de qué variable estamos integrando.<br><br>\n",
        "Algunas propiedades de la integral definida:<br><br>\n",
        "1. Sea $f$ una función integrable en el intervalo $[a,b]$ y sea $c$ un número real:<br><br>\n",
        "$$ \\int_{a}^{b}cf(x)dx = c\\int_{a}^{b}f(x)dx$$<br><br>\n",
        "2. Sean $f$ y $g$ dos funciones integrables en el intervalo $[a,b]$:<br><br>\n",
        "$$ \\int_{a}^{b}[f(x) + g(x)]dx = \\int_{a}^{b}f(x)dx + \\int_{a}^{b}g(x)dx$$<br><br>\n",
        "3. Sea $f$ una función integrable en $[a,b]$ y $c$ un punto del intervalo $[a,b]$ tal que $a< c < b$:<br><br>\n",
        "$$ \\int_{a}^{b} f(x)dx =\\int_{a}^{c} f(x)dx + \\int_{c}^{b} f(x)dx $$<br><br>\n",
        "4. Para que $f$ sea integrable en $[a,b]$ no es necesario que sea continua en $[a,b]$.<br><br> Para integrar con Pyhton podemos utilizar Sympy (integración algebraica).\n",
        "</p>"
      ],
      "metadata": {
        "id": "G8iakWZnpbbD"
      }
    },
    {
      "cell_type": "code",
      "source": [
        "x = sp.Symbol('x')\n",
        "f = x**2\n",
        "sp.integrate(f, (x,1,2))"
      ],
      "metadata": {
        "colab": {
          "base_uri": "https://localhost:8080/",
          "height": 52
        },
        "id": "4BOakc0rvUCP",
        "outputId": "92584727-579c-419b-9e93-c16c96437198"
      },
      "execution_count": null,
      "outputs": [
        {
          "output_type": "execute_result",
          "data": {
            "text/plain": [
              "7/3"
            ],
            "text/latex": "$\\displaystyle \\frac{7}{3}$"
          },
          "metadata": {},
          "execution_count": 32
        }
      ]
    },
    {
      "cell_type": "markdown",
      "source": [
        "<p align=\"justify\">\n",
        "Podemos integrar una función $f$ en un intervalo variable $[a,x]$ de forma tal de generar una nueva función que llamamos función integral:<br><br>\n",
        "$$ F(x) = \\int_{a}^{x}f(t)dt $$\n",
        "</p>"
      ],
      "metadata": {
        "id": "6Wzm4803vs4M"
      }
    },
    {
      "cell_type": "code",
      "source": [
        "t = sp.Symbol('t')\n",
        "f = t**2\n",
        "sp.integrate(f, (t,1,x))"
      ],
      "metadata": {
        "colab": {
          "base_uri": "https://localhost:8080/",
          "height": 55
        },
        "id": "3jVG_tnjvly8",
        "outputId": "1be47e50-3ad0-458b-e336-3a5b8f2776c8"
      },
      "execution_count": null,
      "outputs": [
        {
          "output_type": "execute_result",
          "data": {
            "text/plain": [
              "x**3/3 - 1/3"
            ],
            "text/latex": "$\\displaystyle \\frac{x^{3}}{3} - \\frac{1}{3}$"
          },
          "metadata": {},
          "execution_count": 33
        }
      ]
    },
    {
      "cell_type": "markdown",
      "source": [
        "<p align=\"justify\">\n",
        "A veces, podemos integrar una función $f$ \"pasando en forma aislada\" por puntos que no pertenecen al dominio de la función. Por ejemplo, podemos integrar la función $f:R-\\{0 \\} \\to R / f(x) = \\frac {1} {x^{2/3}} $ en el intervalo $[0,1]$.\n",
        "</p>"
      ],
      "metadata": {
        "id": "dAQxKOq_28IY"
      }
    },
    {
      "cell_type": "code",
      "source": [
        "sp.integrate(1/x**(2/3), (x,0,1))"
      ],
      "metadata": {
        "colab": {
          "base_uri": "https://localhost:8080/",
          "height": 37
        },
        "id": "HAI9pUr_27mq",
        "outputId": "d80eeaf3-95d7-4f5d-f2cd-5470b21e977b"
      },
      "execution_count": null,
      "outputs": [
        {
          "output_type": "execute_result",
          "data": {
            "text/plain": [
              "3.00000000000000"
            ],
            "text/latex": "$\\displaystyle 3.0$"
          },
          "metadata": {},
          "execution_count": 34
        }
      ]
    },
    {
      "cell_type": "markdown",
      "source": [
        "<p align=\"justify\">\n",
        "También podemos integrar desde $-\\infty$ o hasta $\\infty$. Por ejemplo:<br><br>\n",
        "$$ \\int_{1}^{\\infty} \\frac{1}{x^2}dx$$<br><br>\n",
        "Estos tipos de integrales se denominan impropias. Se dice que una integral impropia es convergente si su valor es finito.\n",
        "</p>"
      ],
      "metadata": {
        "id": "oQI0tZim4YVA"
      }
    },
    {
      "cell_type": "code",
      "source": [
        "sp.integrate(1/x**2, (x,1,sp.oo))"
      ],
      "metadata": {
        "colab": {
          "base_uri": "https://localhost:8080/",
          "height": 37
        },
        "id": "R2QgB2E3yYiY",
        "outputId": "4dc6fa0b-85d9-4bb0-f4d4-661ebdd05d29"
      },
      "execution_count": null,
      "outputs": [
        {
          "output_type": "execute_result",
          "data": {
            "text/plain": [
              "1"
            ],
            "text/latex": "$\\displaystyle 1$"
          },
          "metadata": {},
          "execution_count": 35
        }
      ]
    },
    {
      "cell_type": "markdown",
      "source": [
        "<p align=\"justify\">\n",
        "Así como ocurre con la derivada, podemos aproximar numéricamente el valor de la integral de una función en un intervalo dado. Existen distintos métodos:<br><br>\n",
        "1. Cálcular las sumas $I_I$ e $I_D$ y promediarlas. <br><br>\n",
        "2. Integración de Montecarlo.<br><br>\n",
        "3. Cuadratura Gaussiana.<br><br>\n",
        "4. Integral exacta mediante métodos algebraicos. <br><br>\n",
        "Vamos a usar un método sencillo que es una combinación de (1) y (2) y lo vamos a compar con los otros dos. Para ello, consideremos por ahora solo como hemos construido $I_I$:<br><br>\n",
        "$$ I_I = \\sum_{i=1}^{n} f(x_i)\\frac{(b-a)}{n}  $$<br>\n",
        "Dado que cada término de la suma está multiplicado por $\\frac{b-a}{n}$, podemos factorizar la expresión anterior de las siguiente forma:<br><br>\n",
        "$$ I_I = \\frac{(b-a)}{n} \\bigg( \\sum_{i=1}^{n} f(x_i) \\bigg). $$<br>\n",
        "Reordenando un poco:<br><br>\n",
        "$$ I_I =(b-a) \\Bigg[ \\frac{1}{n} \\bigg( \\sum_{i=1}^{n} f(x_i) \\bigg) \\Bigg]. $$<br>\n",
        "La expresión dentro del corchete no es más que el promedio de los valores que toma $f$ para los puntos $x_1,...,x_n$ y, en algún sentido, el factor $(b-a)$ nos indica la cantidad de puntos que realmente hay en el intervalo considerado.<br><br>\n",
        "Dado que al considerar $I_I$ hemos dejado fuera del promedio al punto $x_{n+1}$ y que si consideramos $I_D$ dejarimaos fuera al punto $x_1$, podemos usar una aproximación que promedie sobre los $n+1$ puntos seleccionados. De esta forma, el verdadero valor de la integral, $I$ sería aproximadado mediante la siguiente expresión.<br><br>\n",
        "$$ I \\approx (b-a) \\Bigg[ \\frac{1}{n+1} \\bigg( \\sum_{i=1}^{n+1} f(x_i) \\bigg) \\Bigg] $$<br>\n",
        "Claramente, mientras más puntos consideremos mejor será la aproximación. Veamos como funciona este método integrando $x^3$ en el intervalo $[0,3]$.\n",
        "</p>"
      ],
      "metadata": {
        "id": "VCP7eEtj48fa"
      }
    },
    {
      "cell_type": "code",
      "source": [
        "def integral(f,a,b,n):\n",
        "  \"f es la función a integrar, a y b son los extremos de integración, n es la cantidad de puntos a considerar\"\n",
        "  X = np.linspace(a,b,n)\n",
        "  valores = f(X)\n",
        "  return (b-a)*np.sum(valores)/n"
      ],
      "metadata": {
        "id": "fe2H5UEr4rfB"
      },
      "execution_count": null,
      "outputs": []
    },
    {
      "cell_type": "code",
      "source": [
        "f = lambda x: x**3\n",
        "integral(f,0,3,10000) #comparemos el resultado con la función de Sympy que lo hace en forma algebraica"
      ],
      "metadata": {
        "colab": {
          "base_uri": "https://localhost:8080/"
        },
        "id": "wgYEEBkMyiMt",
        "outputId": "5bb89fca-3245-4ab0-a571-2085df4cb153"
      },
      "execution_count": null,
      "outputs": [
        {
          "output_type": "execute_result",
          "data": {
            "text/plain": [
              "20.252025202520255"
            ]
          },
          "metadata": {},
          "execution_count": 37
        }
      ]
    },
    {
      "cell_type": "code",
      "source": [
        "sp.integrate(x**3,(x,0,3))"
      ],
      "metadata": {
        "colab": {
          "base_uri": "https://localhost:8080/",
          "height": 52
        },
        "id": "Hf_x1OYFzSHy",
        "outputId": "587d319f-b852-4ebb-c0ee-845b7028484a"
      },
      "execution_count": null,
      "outputs": [
        {
          "output_type": "execute_result",
          "data": {
            "text/plain": [
              "81/4"
            ],
            "text/latex": "$\\displaystyle \\frac{81}{4}$"
          },
          "metadata": {},
          "execution_count": 38
        }
      ]
    },
    {
      "cell_type": "markdown",
      "source": [
        "<p align=\"justify\">\n",
        "Estrictamente, el método de integración de Montecarlo lo que hace es elegir los puntos de forma aleatoria y no equidistantes. Finalmente, podemos utilizar el método de cuadratura gaussiana mediante la función <strong>\"quad\"</strong> de Scypy.\n",
        "</p>"
      ],
      "metadata": {
        "id": "-tQn7gs90AaY"
      }
    },
    {
      "cell_type": "code",
      "source": [
        "sc.integrate.quad(f, 0, 3)"
      ],
      "metadata": {
        "colab": {
          "base_uri": "https://localhost:8080/"
        },
        "id": "1o39WmFXzfC7",
        "outputId": "669ec95d-2136-47ea-b0b7-8c784c308050"
      },
      "execution_count": null,
      "outputs": [
        {
          "output_type": "execute_result",
          "data": {
            "text/plain": [
              "(20.249999999999996, 2.2482016248659415e-13)"
            ]
          },
          "metadata": {},
          "execution_count": 39
        }
      ]
    },
    {
      "cell_type": "code",
      "source": [
        "#Comparación de los tres métodos\n",
        "integral(f,0,3,100), sc.integrate.quad(f, 0, 3)[0], float(sp.integrate(x**3,(x,0,3)))"
      ],
      "metadata": {
        "colab": {
          "base_uri": "https://localhost:8080/"
        },
        "id": "JmRBIOQT12zQ",
        "outputId": "41554ed1-4ee0-4f72-a1fa-2c9a0d30503e"
      },
      "execution_count": null,
      "outputs": [
        {
          "output_type": "execute_result",
          "data": {
            "text/plain": [
              "(20.454545454545453, 20.249999999999996, 20.25)"
            ]
          },
          "metadata": {},
          "execution_count": 40
        }
      ]
    },
    {
      "cell_type": "markdown",
      "source": [
        " ## **<font color=\"DeepPink\">Ventajas y desventajas</font>**"
      ],
      "metadata": {
        "id": "RnnQoCzoGszP"
      }
    },
    {
      "cell_type": "markdown",
      "source": [
        "<p align=\"justify\">\n",
        "Cada método tiene ventajas y desventajas:<br><br>\n",
        "1. El <strong>método algebraico</strong> nos devuelve el valor exacto de la integral pero suele ser muy costoso en tiempo y no siempre funciona.<br><br>\n",
        "2. El <strong>método híbrido</strong> es muy rápido cuando se utilizan pocos puntos pero suele ser muy impreciso. Mejorar la precisión requiere aumentar la cantidad de puntos a considerar. Hacer esto implica que el costo computacional aumente más rápido que la ganancia en precisión.<br><br>\n",
        "3. El <strong>método de cuadratura gaussiana</strong> está entre ambos. Este método aproxima el valor de la integral por equivalencia con integrales de polinomios. Mientras más puntos de cuadratura utilicemos, mayor es el grado del polinomio considerado. Esto mejora la precisión pero lo vuelve muy costoso.<br><br>\n",
        "La utilización de uno u otro método depende del problema a resolver, pero en general se utiliza algún método numérico.\n",
        "</p>"
      ],
      "metadata": {
        "id": "rk9L2i4N10k4"
      }
    },
    {
      "cell_type": "code",
      "source": [
        "#Comparación costo precisión\n",
        "(integral(f,0,3,100000000) - sc.integrate.quad(f, 0, 3)[0])>0"
      ],
      "metadata": {
        "id": "PXpDVXoWQMsT",
        "colab": {
          "base_uri": "https://localhost:8080/"
        },
        "outputId": "60e93140-73f5-4208-ad1a-f370a2d00861"
      },
      "execution_count": null,
      "outputs": [
        {
          "output_type": "execute_result",
          "data": {
            "text/plain": [
              "True"
            ]
          },
          "metadata": {},
          "execution_count": 41
        }
      ]
    },
    {
      "cell_type": "markdown",
      "source": [
        " # **<font color=\"DeepPink\">Una nota sobre optimización</font>**"
      ],
      "metadata": {
        "id": "g3FQu_hU4ulY"
      }
    },
    {
      "cell_type": "markdown",
      "source": [
        "<p align=\"justify\">\n",
        "Hemos visto como podemos utilizar la derivada primera y segunda de una función para encontrar los extremos relativos de dicha función. Esto requiere que la función considerada sea, al menos, dos veces diferenciable en los extremos locales que estamos considerando. Aún así, hay casos en los que este método puede fallar. Un ejemplo de esto es $f:R \\to R / f(x)=x^4$.<br><br>\n",
        "Las derivadas primera y segunda de esta funciónson:<br>\n",
        "$$ f'(x) = 4x^3 $$.<br>\n",
        "$$ f''(x) = 12x^2 $$<br>\n",
        "Ambas expresiones se anulan en $x_0 = 0$, que es el punto donde $f$ presenta un mínimo relativo.<br><br>\n",
        "En general, los problemas de optimización se plantean con el fin de minimizar un cierta función $f$, y esto mismo es lo que resuelven los programas computacionales. No obstante, si queremos buscar un máximo para $f$ nos basta minimizar la función $-f$. Esto quiere decir que el problema:<br><br>\n",
        "$$ \\max_x f(x) $$<br>\n",
        "es equivalente al problema:<br>\n",
        "$$ \\min_x -f(x) $$<br>\n",
        "Por este motivo, nos podemos centrar en buscar mecanismos que resuelvan el problema de minimización unicamente y después adaptarlos para los casos de maximización.<br><br>\n",
        "Ya hemos visto que el método de Newton para la busqueda de ceros de una función es un método iterativo que nos puede servir para resolver el problema planteado. No obstante, este método, al resolver el problema de $f'(x)=0$, requiere de la derivada segunda. Es decir, para poder aplicar este método se requiere que $f$ sea dos veces diferenciable y no funciona cuando la derivada segunda se anula en en el mínimo que estamos buscando.<br><br>\n",
        "Existen métodos que no requieren de la derivada segunda para funcionar. El más \"famoso\" se llama <strong>descenso del gradiente</strong> y solo requiere que la función sea una vez diferenciable. El valor que toma la derivada en un punto nos indica si la función crece o decrece al aumentar el valor de $x$. Por ejemplo, si encontramos que $f'(3)=2$ esto quiere decir que al aumentar el valor de $x$ los valores que tomará $f$ serán mayores. Por lo tanto, si estamos buscando minimizar $f$ deberíamos considerar valores menores de $x$. Por otro lado, si $f'(3)=-4$ si aumentamos $x$ los valores que toma $f$ serán menores (lo que buscamos) y se disminuimos $x$ los valores que tomará $f$ serán mayores (lo opuesto a lo que buscamos).<br><br>\n",
        "En resumen, dado un punto $x_0$ del dominio de $f$ si $f'(x_0)$ es positiva muevase a la izquierda de $x_0$ (disminuya el valor), si es negativa muevase a la derecha (aumenatndo el valor). Podemos automatizar este proceso en forma iterativa:<br><br>\n",
        "$$ x_k = x_{k-1} - \\alpha f'(x_{k-1}) \\quad \\text{con } \\alpha>0 $$<br>\n",
        "En esta expresión, cuando $f'(x_{k-1})$ es positiva $x_{k}< x_{k-1}$, y cuando es negativa ocurrirá lo puesto. La formulación iterativa anterior describe el método de descenso del gradiente. Este proceso continua hasta sastisfacer algún criterio de parada. En general se considera el cambio en valor absoluto de $x$ sea pequeño, igual que para el método de Newton. <br><br>\n",
        "Al valor $\\alpha$ se lo conoce con el nombre de \"paso\" y se lo considera fijo. Tomar valores de $\\alpha$ grandes puede generar que el método no converja mientras que valores muy pequeños puede generar que el método se vuelva muy costoso computacionalmente.<br><br>\n",
        "Apliquemos este método para minimizar la función $x^4$ utilizando derivada numérica.\n",
        "\n",
        "\n",
        "\n",
        "</p>"
      ],
      "metadata": {
        "id": "JwJNU6SM4x1G"
      }
    },
    {
      "cell_type": "code",
      "source": [
        "f = lambda x: x**4\n",
        "\n",
        "def df(x, h=0.0001):\n",
        "  return (f(x+h) - f(x-h))/(2*h)"
      ],
      "metadata": {
        "id": "hTnFNKBW_qdb"
      },
      "execution_count": null,
      "outputs": []
    },
    {
      "cell_type": "code",
      "source": [
        "x_0 = 3\n",
        "alpha = 0.005\n",
        "tol = 1\n",
        "while tol>0.0000001:\n",
        "  x_1 = x_0 - alpha*df(x_0)\n",
        "  tol = np.abs(f(x_1))\n",
        "  x_0 = x_1\n",
        "x_1,f(x_0)"
      ],
      "metadata": {
        "colab": {
          "base_uri": "https://localhost:8080/"
        },
        "id": "ctS08EaNADt9",
        "outputId": "a940671c-1abf-47bc-9e5f-7fc0e33b0123"
      },
      "execution_count": null,
      "outputs": [
        {
          "output_type": "execute_result",
          "data": {
            "text/plain": [
              "(0.017782690411891653, 9.999766768731376e-08)"
            ]
          },
          "metadata": {},
          "execution_count": 43
        }
      ]
    },
    {
      "cell_type": "markdown",
      "source": [
        "<p align=\"justify\">\n",
        "El método suele ser sensible al punto inicial, al valor de paso considerado y al criterio de tolerancia.<br><br>\n",
        "Otro método que podemos utilizar para buscar el mínimo de una función es el método de búsqueda directa. Si queremos minimizar $f$ y sabemos que el valor que minimiza $f$ se encuentra dentro del intervalo $[a,b]$ podemos calcular para cada $x$ en $[a,b]$ el valor de $f(x)$ y buscar el menor entre todos los valores calculados. En la práctica no podemos calcular todos los valores dentro del intrevalo $[a,b]$, por lo que se suele hacer el cálculo para un conjunto de valores finito dentro de $[a,b]$. Concretamente, el algortimo sería el siguiente:<br><br>\n",
        "1. Seleccione una cantidad $n$ de puntos dentro del intervalo $[a,b]$.<br><br>\n",
        "2. Compute el valor de la función para cada punto seleccionado.<br><br>\n",
        "3. Elija entre los puntos seleccionados a aquel para el cual el valor de $f$ computado sea el menor.<br><br>\n",
        "Este algoritmo es muy sencillo. Su mayor fortaleza recide en el hecho de no necesitar que $f$ cumpla condición alguna para ser aplicado. Además, no requiere computar el valor de ninguna derivada de $f$. Sin embargo, presenta dos grandes debilidades. Tiende a ser muy impreciso y requiere conocer un intervalo por donde puede ubicarse el mínimo. Para mejorar la precisión lo mejor es aumentar la cantidad de puntos considerados pero, aún así, no tenemos control de la posible distancia respecto del verdadero valor que minimiza la función. Para determinar el intervalo donde puede ubicarse el mínimo se suele graficar la función.<br><br>\n",
        "\n",
        "\n",
        "</p>"
      ],
      "metadata": {
        "id": "p8pjMGh8B0fI"
      }
    },
    {
      "cell_type": "markdown",
      "source": [
        " # **<font color=\"DeepPink\">Ejercicios</font>**"
      ],
      "metadata": {
        "id": "Rv8tmPmIOcla"
      }
    },
    {
      "cell_type": "markdown",
      "source": [
        "<p align=\"justify\">\n",
        "🏷 <strong>Ejercicio 1</strong><br><br>\n",
        "a. Construya una función en Python que tome como argumentos de entrada una función algebraica, un número $n$ y un valor $x_0$, y que devuelva el valor de la función y de todas las deridas hasta el orden $n$ en el punto $x_0$. Utilice derivación algebraica con Sympy.<br><br>\n",
        "b. Con su función, calcule el valor de la función $f:R^{+} \\to R/ f(x) = \\log(x) - x^2$ y de todas sus derivadas hasta el orden 5 en el punto $x_0 = 1$. Interprete los resultados de obtenidos para la derivada primera y segunda.<br><br>\n",
        "c. Grafique la función en el intervalo $[-0.5;0.5]$ y compruebe los resultados obtenidos.<br><br>\n",
        "🏷 <strong>Ejercicio 2</strong><br><br>\n",
        "a. Construya una función que tome por argumentos una función lambda $f$ y un punto $x_0$ y que devuelva una función lambda $f_{aprox}$ que represente la aproximación lineal de $f$ centrada en $x_0$.<br><br>\n",
        "b. Utilice la función construida hacer distintas aproximaciones lineales en distintos puntos para la función $f:R-\\{0 \\} \\to R /f(x)=\\frac{1}{x}$. Elija 3 puntos del dominio para realizar la aproximación y construya un gráfico para cada aproximación. ¿En cuáles puntos la aproximación es mejor?<br><br>\n",
        "🏷 <strong>Ejercicio 3</strong><br><br>\n",
        "a. Contruya una función que tome como argumentos un función $f$, los extremos de un intervalo $[a,b]$ y un número $n$ y que devuelva el valor aproximado mediante el método hibrido visto en clase de la integral de $f$  en el intervalo $[a,b]$ utilizando $n$ puntos equidistantes.<br><br>\n",
        "b. Utilice la función cosntruida para aproximar el valor de la integral de $f(x) = \\log(x) - 2x$ en el intervalo $[1,3]$ para todos los valores de $n$ entre 1 y 1000. Calcule el valor de la integral algebraicamente con Sympy. Construya un gráfico que le permita comparar el valor de la integral aproximada con el valor de la integral real a medida que aumenta $n$.<br><br>\n",
        "🏷 <strong>Ejercicio 4</strong><br><br>\n",
        "a. Grafique la función $f(x) = |\\log(x)|$ y determine una región (intervalo) que incluya con seguridad el valor del dominio que minimiza a la función. <br><br>\n",
        "b. Construya un programa o una función que le permita hallar el mínimo de $f(x) = |\\log(x)|$ mediante el método de descenso del gradiente.<br><br>\n",
        "c. Construya un programa o una función que le permita hallar el mínimo de $f(x) = |\\log(x)|$ mediante el método de busqueda directa.<br><br>\n",
        "\n"
      ],
      "metadata": {
        "id": "UOSgQ9aIOfKr"
      }
    }
  ]
}