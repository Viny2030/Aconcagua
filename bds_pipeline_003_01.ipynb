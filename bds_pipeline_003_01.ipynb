{
  "nbformat": 4,
  "nbformat_minor": 0,
  "metadata": {
    "colab": {
      "provenance": []
    },
    "kernelspec": {
      "name": "python3",
      "display_name": "Python 3"
    },
    "language_info": {
      "name": "python"
    }
  },
  "cells": [
    {
      "cell_type": "markdown",
      "source": [
        "<p align=\"center\">\n",
        "<img src=\"https://github.com/cristiandarioortegayubro/BDS/blob/main/images/Logo%20Scikit-learn.png?raw=true\">\n",
        "</p>\n"
      ],
      "metadata": {
        "id": "XM-hn7ZLmgQc"
      }
    },
    {
      "cell_type": "markdown",
      "source": [
        " # **<font color=\"DeepPink\">Preprocesamiento para variables numéricas</font>**"
      ],
      "metadata": {
        "id": "_o8tuKydjnRZ"
      }
    },
    {
      "cell_type": "markdown",
      "source": [
        "<p align=\"justify\">\n",
        "👀 El preprocesamiento de variables numéricas en scikit-learn se refiere al proceso de transformar y preparar variables numéricas antes de utilizarlas para entrenar modelos de aprendizaje automático. Este preprocesamiento es esencial para garantizar que los datos sean adecuados y estén en el formato correcto para que los algoritmos de aprendizaje automático puedan funcionar de manera efectiva.\n",
        "<br><br>\n",
        "Algunas de las técnicas comunes de preprocesamiento de variables numéricas en scikit-learn incluyen:\n",
        "<br><br>\n",
        "<ol align=\"justify\">\n",
        "<li>\n",
        "<b>Escalamiento de características:</b> El escalamiento de características es el proceso de estandarizar o normalizar las características numéricas para que tengan una escala uniforme. Esto es importante porque muchos algoritmos de aprendizaje automático asumen que todas las características están en la misma escala. scikit-learn proporciona clases como <code>StandardScaler</code> y <code>MinMaxScaler</code> para realizar este tipo de escalamiento.\n",
        "</li>\n",
        "<li>\n",
        "<b>Imputación de valores perdidos:</b> La imputación de valores perdidos implica rellenar los valores faltantes en los datos numéricos con algún valor apropiado, como la media, la mediana o algún valor específico. scikit-learn proporciona la clase <code>SimpleImputer</code> para realizar este tipo de imputación.\n",
        "</li>\n",
        "<li>\n",
        "<b>Transformaciones de características:</b> A veces, es útil aplicar transformaciones matemáticas a las características numéricas para hacerlas más adecuadas para los algoritmos de aprendizaje automático. Por ejemplo, se pueden aplicar transformaciones logarítmicas o polinomiales para cambiar la distribución de las características. scikit-learn proporciona la clase <code>FunctionTransformer</code> para aplicar transformaciones personalizadas a las características.\n",
        "</li>\n",
        "<li>\n",
        "<b>Detección y manejo de valores atípicos:</b> Los valores atípicos pueden afectar negativamente el rendimiento de los modelos de aprendizaje automático. scikit-learn proporciona varias técnicas para detectar y manejar valores atípicos en los datos numéricos, como el uso de estadísticas descriptivas o algoritmos de detección de anomalías.\n",
        "</li></ol>"
      ],
      "metadata": {
        "id": "IwoTbXaTrsFC"
      }
    },
    {
      "cell_type": "markdown",
      "source": [
        "❤ https://scikit-learn.org/stable/"
      ],
      "metadata": {
        "id": "IKHZ3PLvPSvH"
      }
    },
    {
      "cell_type": "markdown",
      "source": [
        "<p align=\"justify\">\n",
        "👀 En este Colab, seguiremos con características numéricas, pero se agregan  nuevas tareas, como por ejemplo:</p><br>\n",
        "\n",
        "- El preprocesamiento escalando variables numéricas, convertirlas en una escala.\n",
        "- El uso de un Pipeline de <code>scikit-learn</code> para encadenar el preprocesamiento y el entrenamiento de un modelo.\n",
        "\n",
        "<br>\n",
        "<p align=\"justify\">\n",
        "👀 Y seguimos con el mismo conjunto de datos...</p>"
      ],
      "metadata": {
        "id": "Yxw_Z81Bw8hO"
      }
    },
    {
      "cell_type": "code",
      "source": [
        "import numpy as np\n",
        "import pandas as pd"
      ],
      "metadata": {
        "id": "KdD4Hy5zkFqj"
      },
      "execution_count": null,
      "outputs": []
    },
    {
      "cell_type": "code",
      "source": [
        "adult_census = pd.read_csv(\"https://raw.githubusercontent.com/cristiandarioortegayubro/BDS/main/datasets/adult_census.csv\")"
      ],
      "metadata": {
        "id": "KEGoCiUEkNaA"
      },
      "execution_count": null,
      "outputs": []
    },
    {
      "cell_type": "markdown",
      "source": [
        "<p align=\"justify\">\n",
        "👀 Armando nuestro <code>DataFrame</code>...</p>"
      ],
      "metadata": {
        "id": "bxhrE7b2QZ0n"
      }
    },
    {
      "cell_type": "code",
      "source": [
        "adult_census.drop(columns=[\"education-num\"], inplace=True)\n",
        "adult_census.head()"
      ],
      "metadata": {
        "colab": {
          "base_uri": "https://localhost:8080/",
          "height": 306
        },
        "id": "Gze8mHOtkRfo",
        "outputId": "ce50af8b-1de1-4958-f44c-1299cf098179"
      },
      "execution_count": null,
      "outputs": [
        {
          "output_type": "execute_result",
          "data": {
            "text/plain": [
              "   age   workclass      education       marital-status          occupation  \\\n",
              "0   25     Private           11th        Never-married   Machine-op-inspct   \n",
              "1   38     Private        HS-grad   Married-civ-spouse     Farming-fishing   \n",
              "2   28   Local-gov     Assoc-acdm   Married-civ-spouse     Protective-serv   \n",
              "3   44     Private   Some-college   Married-civ-spouse   Machine-op-inspct   \n",
              "4   18           ?   Some-college        Never-married                   ?   \n",
              "\n",
              "  relationship    race      sex  capital-gain  capital-loss  hours-per-week  \\\n",
              "0    Own-child   Black     Male             0             0              40   \n",
              "1      Husband   White     Male             0             0              50   \n",
              "2      Husband   White     Male             0             0              40   \n",
              "3      Husband   Black     Male          7688             0              40   \n",
              "4    Own-child   White   Female             0             0              30   \n",
              "\n",
              "   native-country   class  \n",
              "0   United-States   <=50K  \n",
              "1   United-States   <=50K  \n",
              "2   United-States    >50K  \n",
              "3   United-States    >50K  \n",
              "4   United-States   <=50K  "
            ],
            "text/html": [
              "\n",
              "  <div id=\"df-c312c3c8-5c1b-41cc-81f2-8928451c969d\" class=\"colab-df-container\">\n",
              "    <div>\n",
              "<style scoped>\n",
              "    .dataframe tbody tr th:only-of-type {\n",
              "        vertical-align: middle;\n",
              "    }\n",
              "\n",
              "    .dataframe tbody tr th {\n",
              "        vertical-align: top;\n",
              "    }\n",
              "\n",
              "    .dataframe thead th {\n",
              "        text-align: right;\n",
              "    }\n",
              "</style>\n",
              "<table border=\"1\" class=\"dataframe\">\n",
              "  <thead>\n",
              "    <tr style=\"text-align: right;\">\n",
              "      <th></th>\n",
              "      <th>age</th>\n",
              "      <th>workclass</th>\n",
              "      <th>education</th>\n",
              "      <th>marital-status</th>\n",
              "      <th>occupation</th>\n",
              "      <th>relationship</th>\n",
              "      <th>race</th>\n",
              "      <th>sex</th>\n",
              "      <th>capital-gain</th>\n",
              "      <th>capital-loss</th>\n",
              "      <th>hours-per-week</th>\n",
              "      <th>native-country</th>\n",
              "      <th>class</th>\n",
              "    </tr>\n",
              "  </thead>\n",
              "  <tbody>\n",
              "    <tr>\n",
              "      <th>0</th>\n",
              "      <td>25</td>\n",
              "      <td>Private</td>\n",
              "      <td>11th</td>\n",
              "      <td>Never-married</td>\n",
              "      <td>Machine-op-inspct</td>\n",
              "      <td>Own-child</td>\n",
              "      <td>Black</td>\n",
              "      <td>Male</td>\n",
              "      <td>0</td>\n",
              "      <td>0</td>\n",
              "      <td>40</td>\n",
              "      <td>United-States</td>\n",
              "      <td>&lt;=50K</td>\n",
              "    </tr>\n",
              "    <tr>\n",
              "      <th>1</th>\n",
              "      <td>38</td>\n",
              "      <td>Private</td>\n",
              "      <td>HS-grad</td>\n",
              "      <td>Married-civ-spouse</td>\n",
              "      <td>Farming-fishing</td>\n",
              "      <td>Husband</td>\n",
              "      <td>White</td>\n",
              "      <td>Male</td>\n",
              "      <td>0</td>\n",
              "      <td>0</td>\n",
              "      <td>50</td>\n",
              "      <td>United-States</td>\n",
              "      <td>&lt;=50K</td>\n",
              "    </tr>\n",
              "    <tr>\n",
              "      <th>2</th>\n",
              "      <td>28</td>\n",
              "      <td>Local-gov</td>\n",
              "      <td>Assoc-acdm</td>\n",
              "      <td>Married-civ-spouse</td>\n",
              "      <td>Protective-serv</td>\n",
              "      <td>Husband</td>\n",
              "      <td>White</td>\n",
              "      <td>Male</td>\n",
              "      <td>0</td>\n",
              "      <td>0</td>\n",
              "      <td>40</td>\n",
              "      <td>United-States</td>\n",
              "      <td>&gt;50K</td>\n",
              "    </tr>\n",
              "    <tr>\n",
              "      <th>3</th>\n",
              "      <td>44</td>\n",
              "      <td>Private</td>\n",
              "      <td>Some-college</td>\n",
              "      <td>Married-civ-spouse</td>\n",
              "      <td>Machine-op-inspct</td>\n",
              "      <td>Husband</td>\n",
              "      <td>Black</td>\n",
              "      <td>Male</td>\n",
              "      <td>7688</td>\n",
              "      <td>0</td>\n",
              "      <td>40</td>\n",
              "      <td>United-States</td>\n",
              "      <td>&gt;50K</td>\n",
              "    </tr>\n",
              "    <tr>\n",
              "      <th>4</th>\n",
              "      <td>18</td>\n",
              "      <td>?</td>\n",
              "      <td>Some-college</td>\n",
              "      <td>Never-married</td>\n",
              "      <td>?</td>\n",
              "      <td>Own-child</td>\n",
              "      <td>White</td>\n",
              "      <td>Female</td>\n",
              "      <td>0</td>\n",
              "      <td>0</td>\n",
              "      <td>30</td>\n",
              "      <td>United-States</td>\n",
              "      <td>&lt;=50K</td>\n",
              "    </tr>\n",
              "  </tbody>\n",
              "</table>\n",
              "</div>\n",
              "    <div class=\"colab-df-buttons\">\n",
              "\n",
              "  <div class=\"colab-df-container\">\n",
              "    <button class=\"colab-df-convert\" onclick=\"convertToInteractive('df-c312c3c8-5c1b-41cc-81f2-8928451c969d')\"\n",
              "            title=\"Convert this dataframe to an interactive table.\"\n",
              "            style=\"display:none;\">\n",
              "\n",
              "  <svg xmlns=\"http://www.w3.org/2000/svg\" height=\"24px\" viewBox=\"0 -960 960 960\">\n",
              "    <path d=\"M120-120v-720h720v720H120Zm60-500h600v-160H180v160Zm220 220h160v-160H400v160Zm0 220h160v-160H400v160ZM180-400h160v-160H180v160Zm440 0h160v-160H620v160ZM180-180h160v-160H180v160Zm440 0h160v-160H620v160Z\"/>\n",
              "  </svg>\n",
              "    </button>\n",
              "\n",
              "  <style>\n",
              "    .colab-df-container {\n",
              "      display:flex;\n",
              "      gap: 12px;\n",
              "    }\n",
              "\n",
              "    .colab-df-convert {\n",
              "      background-color: #E8F0FE;\n",
              "      border: none;\n",
              "      border-radius: 50%;\n",
              "      cursor: pointer;\n",
              "      display: none;\n",
              "      fill: #1967D2;\n",
              "      height: 32px;\n",
              "      padding: 0 0 0 0;\n",
              "      width: 32px;\n",
              "    }\n",
              "\n",
              "    .colab-df-convert:hover {\n",
              "      background-color: #E2EBFA;\n",
              "      box-shadow: 0px 1px 2px rgba(60, 64, 67, 0.3), 0px 1px 3px 1px rgba(60, 64, 67, 0.15);\n",
              "      fill: #174EA6;\n",
              "    }\n",
              "\n",
              "    .colab-df-buttons div {\n",
              "      margin-bottom: 4px;\n",
              "    }\n",
              "\n",
              "    [theme=dark] .colab-df-convert {\n",
              "      background-color: #3B4455;\n",
              "      fill: #D2E3FC;\n",
              "    }\n",
              "\n",
              "    [theme=dark] .colab-df-convert:hover {\n",
              "      background-color: #434B5C;\n",
              "      box-shadow: 0px 1px 3px 1px rgba(0, 0, 0, 0.15);\n",
              "      filter: drop-shadow(0px 1px 2px rgba(0, 0, 0, 0.3));\n",
              "      fill: #FFFFFF;\n",
              "    }\n",
              "  </style>\n",
              "\n",
              "    <script>\n",
              "      const buttonEl =\n",
              "        document.querySelector('#df-c312c3c8-5c1b-41cc-81f2-8928451c969d button.colab-df-convert');\n",
              "      buttonEl.style.display =\n",
              "        google.colab.kernel.accessAllowed ? 'block' : 'none';\n",
              "\n",
              "      async function convertToInteractive(key) {\n",
              "        const element = document.querySelector('#df-c312c3c8-5c1b-41cc-81f2-8928451c969d');\n",
              "        const dataTable =\n",
              "          await google.colab.kernel.invokeFunction('convertToInteractive',\n",
              "                                                    [key], {});\n",
              "        if (!dataTable) return;\n",
              "\n",
              "        const docLinkHtml = 'Like what you see? Visit the ' +\n",
              "          '<a target=\"_blank\" href=https://colab.research.google.com/notebooks/data_table.ipynb>data table notebook</a>'\n",
              "          + ' to learn more about interactive tables.';\n",
              "        element.innerHTML = '';\n",
              "        dataTable['output_type'] = 'display_data';\n",
              "        await google.colab.output.renderOutput(dataTable, element);\n",
              "        const docLink = document.createElement('div');\n",
              "        docLink.innerHTML = docLinkHtml;\n",
              "        element.appendChild(docLink);\n",
              "      }\n",
              "    </script>\n",
              "  </div>\n",
              "\n",
              "\n",
              "<div id=\"df-596ae1ee-a80c-4e63-8e8b-5f723828c0b3\">\n",
              "  <button class=\"colab-df-quickchart\" onclick=\"quickchart('df-596ae1ee-a80c-4e63-8e8b-5f723828c0b3')\"\n",
              "            title=\"Suggest charts\"\n",
              "            style=\"display:none;\">\n",
              "\n",
              "<svg xmlns=\"http://www.w3.org/2000/svg\" height=\"24px\"viewBox=\"0 0 24 24\"\n",
              "     width=\"24px\">\n",
              "    <g>\n",
              "        <path d=\"M19 3H5c-1.1 0-2 .9-2 2v14c0 1.1.9 2 2 2h14c1.1 0 2-.9 2-2V5c0-1.1-.9-2-2-2zM9 17H7v-7h2v7zm4 0h-2V7h2v10zm4 0h-2v-4h2v4z\"/>\n",
              "    </g>\n",
              "</svg>\n",
              "  </button>\n",
              "\n",
              "<style>\n",
              "  .colab-df-quickchart {\n",
              "      --bg-color: #E8F0FE;\n",
              "      --fill-color: #1967D2;\n",
              "      --hover-bg-color: #E2EBFA;\n",
              "      --hover-fill-color: #174EA6;\n",
              "      --disabled-fill-color: #AAA;\n",
              "      --disabled-bg-color: #DDD;\n",
              "  }\n",
              "\n",
              "  [theme=dark] .colab-df-quickchart {\n",
              "      --bg-color: #3B4455;\n",
              "      --fill-color: #D2E3FC;\n",
              "      --hover-bg-color: #434B5C;\n",
              "      --hover-fill-color: #FFFFFF;\n",
              "      --disabled-bg-color: #3B4455;\n",
              "      --disabled-fill-color: #666;\n",
              "  }\n",
              "\n",
              "  .colab-df-quickchart {\n",
              "    background-color: var(--bg-color);\n",
              "    border: none;\n",
              "    border-radius: 50%;\n",
              "    cursor: pointer;\n",
              "    display: none;\n",
              "    fill: var(--fill-color);\n",
              "    height: 32px;\n",
              "    padding: 0;\n",
              "    width: 32px;\n",
              "  }\n",
              "\n",
              "  .colab-df-quickchart:hover {\n",
              "    background-color: var(--hover-bg-color);\n",
              "    box-shadow: 0 1px 2px rgba(60, 64, 67, 0.3), 0 1px 3px 1px rgba(60, 64, 67, 0.15);\n",
              "    fill: var(--button-hover-fill-color);\n",
              "  }\n",
              "\n",
              "  .colab-df-quickchart-complete:disabled,\n",
              "  .colab-df-quickchart-complete:disabled:hover {\n",
              "    background-color: var(--disabled-bg-color);\n",
              "    fill: var(--disabled-fill-color);\n",
              "    box-shadow: none;\n",
              "  }\n",
              "\n",
              "  .colab-df-spinner {\n",
              "    border: 2px solid var(--fill-color);\n",
              "    border-color: transparent;\n",
              "    border-bottom-color: var(--fill-color);\n",
              "    animation:\n",
              "      spin 1s steps(1) infinite;\n",
              "  }\n",
              "\n",
              "  @keyframes spin {\n",
              "    0% {\n",
              "      border-color: transparent;\n",
              "      border-bottom-color: var(--fill-color);\n",
              "      border-left-color: var(--fill-color);\n",
              "    }\n",
              "    20% {\n",
              "      border-color: transparent;\n",
              "      border-left-color: var(--fill-color);\n",
              "      border-top-color: var(--fill-color);\n",
              "    }\n",
              "    30% {\n",
              "      border-color: transparent;\n",
              "      border-left-color: var(--fill-color);\n",
              "      border-top-color: var(--fill-color);\n",
              "      border-right-color: var(--fill-color);\n",
              "    }\n",
              "    40% {\n",
              "      border-color: transparent;\n",
              "      border-right-color: var(--fill-color);\n",
              "      border-top-color: var(--fill-color);\n",
              "    }\n",
              "    60% {\n",
              "      border-color: transparent;\n",
              "      border-right-color: var(--fill-color);\n",
              "    }\n",
              "    80% {\n",
              "      border-color: transparent;\n",
              "      border-right-color: var(--fill-color);\n",
              "      border-bottom-color: var(--fill-color);\n",
              "    }\n",
              "    90% {\n",
              "      border-color: transparent;\n",
              "      border-bottom-color: var(--fill-color);\n",
              "    }\n",
              "  }\n",
              "</style>\n",
              "\n",
              "  <script>\n",
              "    async function quickchart(key) {\n",
              "      const quickchartButtonEl =\n",
              "        document.querySelector('#' + key + ' button');\n",
              "      quickchartButtonEl.disabled = true;  // To prevent multiple clicks.\n",
              "      quickchartButtonEl.classList.add('colab-df-spinner');\n",
              "      try {\n",
              "        const charts = await google.colab.kernel.invokeFunction(\n",
              "            'suggestCharts', [key], {});\n",
              "      } catch (error) {\n",
              "        console.error('Error during call to suggestCharts:', error);\n",
              "      }\n",
              "      quickchartButtonEl.classList.remove('colab-df-spinner');\n",
              "      quickchartButtonEl.classList.add('colab-df-quickchart-complete');\n",
              "    }\n",
              "    (() => {\n",
              "      let quickchartButtonEl =\n",
              "        document.querySelector('#df-596ae1ee-a80c-4e63-8e8b-5f723828c0b3 button');\n",
              "      quickchartButtonEl.style.display =\n",
              "        google.colab.kernel.accessAllowed ? 'block' : 'none';\n",
              "    })();\n",
              "  </script>\n",
              "</div>\n",
              "\n",
              "    </div>\n",
              "  </div>\n"
            ],
            "application/vnd.google.colaboratory.intrinsic+json": {
              "type": "dataframe",
              "variable_name": "adult_census",
              "summary": "{\n  \"name\": \"adult_census\",\n  \"rows\": 48842,\n  \"fields\": [\n    {\n      \"column\": \"age\",\n      \"properties\": {\n        \"dtype\": \"number\",\n        \"std\": 13,\n        \"min\": 17,\n        \"max\": 90,\n        \"num_unique_values\": 74,\n        \"samples\": [\n          18,\n          74,\n          40\n        ],\n        \"semantic_type\": \"\",\n        \"description\": \"\"\n      }\n    },\n    {\n      \"column\": \"workclass\",\n      \"properties\": {\n        \"dtype\": \"category\",\n        \"num_unique_values\": 9,\n        \"samples\": [\n          \" Without-pay\",\n          \" Local-gov\",\n          \" State-gov\"\n        ],\n        \"semantic_type\": \"\",\n        \"description\": \"\"\n      }\n    },\n    {\n      \"column\": \"education\",\n      \"properties\": {\n        \"dtype\": \"category\",\n        \"num_unique_values\": 16,\n        \"samples\": [\n          \" 11th\",\n          \" HS-grad\",\n          \" Prof-school\"\n        ],\n        \"semantic_type\": \"\",\n        \"description\": \"\"\n      }\n    },\n    {\n      \"column\": \"marital-status\",\n      \"properties\": {\n        \"dtype\": \"category\",\n        \"num_unique_values\": 7,\n        \"samples\": [\n          \" Never-married\",\n          \" Married-civ-spouse\",\n          \" Married-spouse-absent\"\n        ],\n        \"semantic_type\": \"\",\n        \"description\": \"\"\n      }\n    },\n    {\n      \"column\": \"occupation\",\n      \"properties\": {\n        \"dtype\": \"category\",\n        \"num_unique_values\": 15,\n        \"samples\": [\n          \" Tech-support\",\n          \" Priv-house-serv\",\n          \" Machine-op-inspct\"\n        ],\n        \"semantic_type\": \"\",\n        \"description\": \"\"\n      }\n    },\n    {\n      \"column\": \"relationship\",\n      \"properties\": {\n        \"dtype\": \"category\",\n        \"num_unique_values\": 6,\n        \"samples\": [\n          \" Own-child\",\n          \" Husband\",\n          \" Other-relative\"\n        ],\n        \"semantic_type\": \"\",\n        \"description\": \"\"\n      }\n    },\n    {\n      \"column\": \"race\",\n      \"properties\": {\n        \"dtype\": \"category\",\n        \"num_unique_values\": 5,\n        \"samples\": [\n          \" White\",\n          \" Amer-Indian-Eskimo\",\n          \" Asian-Pac-Islander\"\n        ],\n        \"semantic_type\": \"\",\n        \"description\": \"\"\n      }\n    },\n    {\n      \"column\": \"sex\",\n      \"properties\": {\n        \"dtype\": \"category\",\n        \"num_unique_values\": 2,\n        \"samples\": [\n          \" Female\",\n          \" Male\"\n        ],\n        \"semantic_type\": \"\",\n        \"description\": \"\"\n      }\n    },\n    {\n      \"column\": \"capital-gain\",\n      \"properties\": {\n        \"dtype\": \"number\",\n        \"std\": 7452,\n        \"min\": 0,\n        \"max\": 99999,\n        \"num_unique_values\": 123,\n        \"samples\": [\n          4064,\n          4787\n        ],\n        \"semantic_type\": \"\",\n        \"description\": \"\"\n      }\n    },\n    {\n      \"column\": \"capital-loss\",\n      \"properties\": {\n        \"dtype\": \"number\",\n        \"std\": 403,\n        \"min\": 0,\n        \"max\": 4356,\n        \"num_unique_values\": 99,\n        \"samples\": [\n          2238,\n          1564\n        ],\n        \"semantic_type\": \"\",\n        \"description\": \"\"\n      }\n    },\n    {\n      \"column\": \"hours-per-week\",\n      \"properties\": {\n        \"dtype\": \"number\",\n        \"std\": 12,\n        \"min\": 1,\n        \"max\": 99,\n        \"num_unique_values\": 96,\n        \"samples\": [\n          9,\n          11\n        ],\n        \"semantic_type\": \"\",\n        \"description\": \"\"\n      }\n    },\n    {\n      \"column\": \"native-country\",\n      \"properties\": {\n        \"dtype\": \"category\",\n        \"num_unique_values\": 42,\n        \"samples\": [\n          \" Canada\",\n          \" Vietnam\"\n        ],\n        \"semantic_type\": \"\",\n        \"description\": \"\"\n      }\n    },\n    {\n      \"column\": \"class\",\n      \"properties\": {\n        \"dtype\": \"category\",\n        \"num_unique_values\": 2,\n        \"samples\": [\n          \" >50K\",\n          \" <=50K\"\n        ],\n        \"semantic_type\": \"\",\n        \"description\": \"\"\n      }\n    }\n  ]\n}"
            }
          },
          "metadata": {},
          "execution_count": 3
        }
      ]
    },
    {
      "cell_type": "code",
      "source": [
        "adult_census.shape"
      ],
      "metadata": {
        "colab": {
          "base_uri": "https://localhost:8080/"
        },
        "id": "jbeLUi2OQhwT",
        "outputId": "2915a81a-1315-46d6-e4ba-be0f1a0ec31f"
      },
      "execution_count": null,
      "outputs": [
        {
          "output_type": "execute_result",
          "data": {
            "text/plain": [
              "(48842, 13)"
            ]
          },
          "metadata": {},
          "execution_count": 4
        }
      ]
    },
    {
      "cell_type": "markdown",
      "source": [
        "<p align=\"justify\">\n",
        "👀 Separamos la variable objetivo, de las variables explicativas.\n",
        "</p>\n"
      ],
      "metadata": {
        "id": "maDN30FykfRq"
      }
    },
    {
      "cell_type": "code",
      "source": [
        "y = adult_census[\"class\"]\n",
        "X = adult_census.drop(columns=[\"class\"])"
      ],
      "metadata": {
        "id": "wIBR_HWskkes"
      },
      "execution_count": null,
      "outputs": []
    },
    {
      "cell_type": "code",
      "source": [
        "adult_census.shape"
      ],
      "metadata": {
        "colab": {
          "base_uri": "https://localhost:8080/"
        },
        "id": "ZfPZtVXUS4Pv",
        "outputId": "4e61f42b-5ca1-4586-82d8-73d1e292f37f"
      },
      "execution_count": null,
      "outputs": [
        {
          "output_type": "execute_result",
          "data": {
            "text/plain": [
              "(48842, 13)"
            ]
          },
          "metadata": {},
          "execution_count": 6
        }
      ]
    },
    {
      "cell_type": "code",
      "source": [
        "X.shape"
      ],
      "metadata": {
        "colab": {
          "base_uri": "https://localhost:8080/"
        },
        "id": "D2A3dquES0vb",
        "outputId": "f2344b7d-3ca5-4cb2-91b4-b2c6def63408"
      },
      "execution_count": null,
      "outputs": [
        {
          "output_type": "execute_result",
          "data": {
            "text/plain": [
              "(48842, 12)"
            ]
          },
          "metadata": {},
          "execution_count": 7
        }
      ]
    },
    {
      "cell_type": "markdown",
      "source": [
        "<p align=\"justify\">\n",
        "👀 Y obtenemos un resumen de nuestra variable $y$, nuestra variable objetivo...</p>"
      ],
      "metadata": {
        "id": "u5R9CGXPQsaY"
      }
    },
    {
      "cell_type": "code",
      "source": [
        "y.info()"
      ],
      "metadata": {
        "colab": {
          "base_uri": "https://localhost:8080/"
        },
        "id": "9w_av4jEkqhx",
        "outputId": "85818079-cc2e-4c43-9a60-dfe4f1bb1cbd"
      },
      "execution_count": null,
      "outputs": [
        {
          "output_type": "stream",
          "name": "stdout",
          "text": [
            "<class 'pandas.core.series.Series'>\n",
            "RangeIndex: 48842 entries, 0 to 48841\n",
            "Series name: class\n",
            "Non-Null Count  Dtype \n",
            "--------------  ----- \n",
            "48842 non-null  object\n",
            "dtypes: object(1)\n",
            "memory usage: 381.7+ KB\n"
          ]
        }
      ]
    },
    {
      "cell_type": "markdown",
      "source": [
        " # **<font color=\"DeepPink\">Seleccionando las columnas numéricas</font>**"
      ],
      "metadata": {
        "id": "8O_GWn2-lFgC"
      }
    },
    {
      "cell_type": "markdown",
      "source": [
        "<p align=\"justify\">\n",
        "👀 Ahora vamos a seleccionar las columnas numéricas, para ello, vemos un resumen de información del vector de caracteristicas, denominado $X$...</p>"
      ],
      "metadata": {
        "id": "3AuVj1NvQ_VR"
      }
    },
    {
      "cell_type": "code",
      "source": [
        "X.info()"
      ],
      "metadata": {
        "colab": {
          "base_uri": "https://localhost:8080/"
        },
        "id": "P27XvuGrkt7X",
        "outputId": "fe6f82c4-849f-45dd-d54e-bec78a8e758a"
      },
      "execution_count": null,
      "outputs": [
        {
          "output_type": "stream",
          "name": "stdout",
          "text": [
            "<class 'pandas.core.frame.DataFrame'>\n",
            "RangeIndex: 48842 entries, 0 to 48841\n",
            "Data columns (total 12 columns):\n",
            " #   Column          Non-Null Count  Dtype \n",
            "---  ------          --------------  ----- \n",
            " 0   age             48842 non-null  int64 \n",
            " 1   workclass       48842 non-null  object\n",
            " 2   education       48842 non-null  object\n",
            " 3   marital-status  48842 non-null  object\n",
            " 4   occupation      48842 non-null  object\n",
            " 5   relationship    48842 non-null  object\n",
            " 6   race            48842 non-null  object\n",
            " 7   sex             48842 non-null  object\n",
            " 8   capital-gain    48842 non-null  int64 \n",
            " 9   capital-loss    48842 non-null  int64 \n",
            " 10  hours-per-week  48842 non-null  int64 \n",
            " 11  native-country  48842 non-null  object\n",
            "dtypes: int64(4), object(8)\n",
            "memory usage: 4.5+ MB\n"
          ]
        }
      ]
    },
    {
      "cell_type": "markdown",
      "source": [
        "<p align=\"justify\">\n",
        "👀 Y creamos una lista con los nombres de las columnas numéricas...</p>"
      ],
      "metadata": {
        "id": "WqtLIkUaRMuD"
      }
    },
    {
      "cell_type": "code",
      "source": [
        "numerical_columns = [\"age\", \"capital-gain\", \"capital-loss\", \"hours-per-week\"]\n",
        "X_numeric = X[numerical_columns]"
      ],
      "metadata": {
        "id": "CSnfKrsul1HK"
      },
      "execution_count": null,
      "outputs": []
    },
    {
      "cell_type": "markdown",
      "source": [
        "<p align=\"justify\">\n",
        "👀 Podemos ver nuestro <code>DataFrame</code> numerico...</p>"
      ],
      "metadata": {
        "id": "AnahHzikRYZR"
      }
    },
    {
      "cell_type": "code",
      "source": [
        "X_numeric"
      ],
      "metadata": {
        "colab": {
          "base_uri": "https://localhost:8080/",
          "height": 419
        },
        "id": "LiSJOm98Remh",
        "outputId": "87362cf0-4f6b-4f1e-c531-f0c1a8e356bd"
      },
      "execution_count": null,
      "outputs": [
        {
          "output_type": "execute_result",
          "data": {
            "text/plain": [
              "       age  capital-gain  capital-loss  hours-per-week\n",
              "0       25             0             0              40\n",
              "1       38             0             0              50\n",
              "2       28             0             0              40\n",
              "3       44          7688             0              40\n",
              "4       18             0             0              30\n",
              "...    ...           ...           ...             ...\n",
              "48837   27             0             0              38\n",
              "48838   40             0             0              40\n",
              "48839   58             0             0              40\n",
              "48840   22             0             0              20\n",
              "48841   52         15024             0              40\n",
              "\n",
              "[48842 rows x 4 columns]"
            ],
            "text/html": [
              "\n",
              "  <div id=\"df-d70dcfba-cb45-41ab-99f8-2c035dcb7600\" class=\"colab-df-container\">\n",
              "    <div>\n",
              "<style scoped>\n",
              "    .dataframe tbody tr th:only-of-type {\n",
              "        vertical-align: middle;\n",
              "    }\n",
              "\n",
              "    .dataframe tbody tr th {\n",
              "        vertical-align: top;\n",
              "    }\n",
              "\n",
              "    .dataframe thead th {\n",
              "        text-align: right;\n",
              "    }\n",
              "</style>\n",
              "<table border=\"1\" class=\"dataframe\">\n",
              "  <thead>\n",
              "    <tr style=\"text-align: right;\">\n",
              "      <th></th>\n",
              "      <th>age</th>\n",
              "      <th>capital-gain</th>\n",
              "      <th>capital-loss</th>\n",
              "      <th>hours-per-week</th>\n",
              "    </tr>\n",
              "  </thead>\n",
              "  <tbody>\n",
              "    <tr>\n",
              "      <th>0</th>\n",
              "      <td>25</td>\n",
              "      <td>0</td>\n",
              "      <td>0</td>\n",
              "      <td>40</td>\n",
              "    </tr>\n",
              "    <tr>\n",
              "      <th>1</th>\n",
              "      <td>38</td>\n",
              "      <td>0</td>\n",
              "      <td>0</td>\n",
              "      <td>50</td>\n",
              "    </tr>\n",
              "    <tr>\n",
              "      <th>2</th>\n",
              "      <td>28</td>\n",
              "      <td>0</td>\n",
              "      <td>0</td>\n",
              "      <td>40</td>\n",
              "    </tr>\n",
              "    <tr>\n",
              "      <th>3</th>\n",
              "      <td>44</td>\n",
              "      <td>7688</td>\n",
              "      <td>0</td>\n",
              "      <td>40</td>\n",
              "    </tr>\n",
              "    <tr>\n",
              "      <th>4</th>\n",
              "      <td>18</td>\n",
              "      <td>0</td>\n",
              "      <td>0</td>\n",
              "      <td>30</td>\n",
              "    </tr>\n",
              "    <tr>\n",
              "      <th>...</th>\n",
              "      <td>...</td>\n",
              "      <td>...</td>\n",
              "      <td>...</td>\n",
              "      <td>...</td>\n",
              "    </tr>\n",
              "    <tr>\n",
              "      <th>48837</th>\n",
              "      <td>27</td>\n",
              "      <td>0</td>\n",
              "      <td>0</td>\n",
              "      <td>38</td>\n",
              "    </tr>\n",
              "    <tr>\n",
              "      <th>48838</th>\n",
              "      <td>40</td>\n",
              "      <td>0</td>\n",
              "      <td>0</td>\n",
              "      <td>40</td>\n",
              "    </tr>\n",
              "    <tr>\n",
              "      <th>48839</th>\n",
              "      <td>58</td>\n",
              "      <td>0</td>\n",
              "      <td>0</td>\n",
              "      <td>40</td>\n",
              "    </tr>\n",
              "    <tr>\n",
              "      <th>48840</th>\n",
              "      <td>22</td>\n",
              "      <td>0</td>\n",
              "      <td>0</td>\n",
              "      <td>20</td>\n",
              "    </tr>\n",
              "    <tr>\n",
              "      <th>48841</th>\n",
              "      <td>52</td>\n",
              "      <td>15024</td>\n",
              "      <td>0</td>\n",
              "      <td>40</td>\n",
              "    </tr>\n",
              "  </tbody>\n",
              "</table>\n",
              "<p>48842 rows × 4 columns</p>\n",
              "</div>\n",
              "    <div class=\"colab-df-buttons\">\n",
              "\n",
              "  <div class=\"colab-df-container\">\n",
              "    <button class=\"colab-df-convert\" onclick=\"convertToInteractive('df-d70dcfba-cb45-41ab-99f8-2c035dcb7600')\"\n",
              "            title=\"Convert this dataframe to an interactive table.\"\n",
              "            style=\"display:none;\">\n",
              "\n",
              "  <svg xmlns=\"http://www.w3.org/2000/svg\" height=\"24px\" viewBox=\"0 -960 960 960\">\n",
              "    <path d=\"M120-120v-720h720v720H120Zm60-500h600v-160H180v160Zm220 220h160v-160H400v160Zm0 220h160v-160H400v160ZM180-400h160v-160H180v160Zm440 0h160v-160H620v160ZM180-180h160v-160H180v160Zm440 0h160v-160H620v160Z\"/>\n",
              "  </svg>\n",
              "    </button>\n",
              "\n",
              "  <style>\n",
              "    .colab-df-container {\n",
              "      display:flex;\n",
              "      gap: 12px;\n",
              "    }\n",
              "\n",
              "    .colab-df-convert {\n",
              "      background-color: #E8F0FE;\n",
              "      border: none;\n",
              "      border-radius: 50%;\n",
              "      cursor: pointer;\n",
              "      display: none;\n",
              "      fill: #1967D2;\n",
              "      height: 32px;\n",
              "      padding: 0 0 0 0;\n",
              "      width: 32px;\n",
              "    }\n",
              "\n",
              "    .colab-df-convert:hover {\n",
              "      background-color: #E2EBFA;\n",
              "      box-shadow: 0px 1px 2px rgba(60, 64, 67, 0.3), 0px 1px 3px 1px rgba(60, 64, 67, 0.15);\n",
              "      fill: #174EA6;\n",
              "    }\n",
              "\n",
              "    .colab-df-buttons div {\n",
              "      margin-bottom: 4px;\n",
              "    }\n",
              "\n",
              "    [theme=dark] .colab-df-convert {\n",
              "      background-color: #3B4455;\n",
              "      fill: #D2E3FC;\n",
              "    }\n",
              "\n",
              "    [theme=dark] .colab-df-convert:hover {\n",
              "      background-color: #434B5C;\n",
              "      box-shadow: 0px 1px 3px 1px rgba(0, 0, 0, 0.15);\n",
              "      filter: drop-shadow(0px 1px 2px rgba(0, 0, 0, 0.3));\n",
              "      fill: #FFFFFF;\n",
              "    }\n",
              "  </style>\n",
              "\n",
              "    <script>\n",
              "      const buttonEl =\n",
              "        document.querySelector('#df-d70dcfba-cb45-41ab-99f8-2c035dcb7600 button.colab-df-convert');\n",
              "      buttonEl.style.display =\n",
              "        google.colab.kernel.accessAllowed ? 'block' : 'none';\n",
              "\n",
              "      async function convertToInteractive(key) {\n",
              "        const element = document.querySelector('#df-d70dcfba-cb45-41ab-99f8-2c035dcb7600');\n",
              "        const dataTable =\n",
              "          await google.colab.kernel.invokeFunction('convertToInteractive',\n",
              "                                                    [key], {});\n",
              "        if (!dataTable) return;\n",
              "\n",
              "        const docLinkHtml = 'Like what you see? Visit the ' +\n",
              "          '<a target=\"_blank\" href=https://colab.research.google.com/notebooks/data_table.ipynb>data table notebook</a>'\n",
              "          + ' to learn more about interactive tables.';\n",
              "        element.innerHTML = '';\n",
              "        dataTable['output_type'] = 'display_data';\n",
              "        await google.colab.output.renderOutput(dataTable, element);\n",
              "        const docLink = document.createElement('div');\n",
              "        docLink.innerHTML = docLinkHtml;\n",
              "        element.appendChild(docLink);\n",
              "      }\n",
              "    </script>\n",
              "  </div>\n",
              "\n",
              "\n",
              "<div id=\"df-3079019f-09ea-4950-82f0-65787fdd7fe2\">\n",
              "  <button class=\"colab-df-quickchart\" onclick=\"quickchart('df-3079019f-09ea-4950-82f0-65787fdd7fe2')\"\n",
              "            title=\"Suggest charts\"\n",
              "            style=\"display:none;\">\n",
              "\n",
              "<svg xmlns=\"http://www.w3.org/2000/svg\" height=\"24px\"viewBox=\"0 0 24 24\"\n",
              "     width=\"24px\">\n",
              "    <g>\n",
              "        <path d=\"M19 3H5c-1.1 0-2 .9-2 2v14c0 1.1.9 2 2 2h14c1.1 0 2-.9 2-2V5c0-1.1-.9-2-2-2zM9 17H7v-7h2v7zm4 0h-2V7h2v10zm4 0h-2v-4h2v4z\"/>\n",
              "    </g>\n",
              "</svg>\n",
              "  </button>\n",
              "\n",
              "<style>\n",
              "  .colab-df-quickchart {\n",
              "      --bg-color: #E8F0FE;\n",
              "      --fill-color: #1967D2;\n",
              "      --hover-bg-color: #E2EBFA;\n",
              "      --hover-fill-color: #174EA6;\n",
              "      --disabled-fill-color: #AAA;\n",
              "      --disabled-bg-color: #DDD;\n",
              "  }\n",
              "\n",
              "  [theme=dark] .colab-df-quickchart {\n",
              "      --bg-color: #3B4455;\n",
              "      --fill-color: #D2E3FC;\n",
              "      --hover-bg-color: #434B5C;\n",
              "      --hover-fill-color: #FFFFFF;\n",
              "      --disabled-bg-color: #3B4455;\n",
              "      --disabled-fill-color: #666;\n",
              "  }\n",
              "\n",
              "  .colab-df-quickchart {\n",
              "    background-color: var(--bg-color);\n",
              "    border: none;\n",
              "    border-radius: 50%;\n",
              "    cursor: pointer;\n",
              "    display: none;\n",
              "    fill: var(--fill-color);\n",
              "    height: 32px;\n",
              "    padding: 0;\n",
              "    width: 32px;\n",
              "  }\n",
              "\n",
              "  .colab-df-quickchart:hover {\n",
              "    background-color: var(--hover-bg-color);\n",
              "    box-shadow: 0 1px 2px rgba(60, 64, 67, 0.3), 0 1px 3px 1px rgba(60, 64, 67, 0.15);\n",
              "    fill: var(--button-hover-fill-color);\n",
              "  }\n",
              "\n",
              "  .colab-df-quickchart-complete:disabled,\n",
              "  .colab-df-quickchart-complete:disabled:hover {\n",
              "    background-color: var(--disabled-bg-color);\n",
              "    fill: var(--disabled-fill-color);\n",
              "    box-shadow: none;\n",
              "  }\n",
              "\n",
              "  .colab-df-spinner {\n",
              "    border: 2px solid var(--fill-color);\n",
              "    border-color: transparent;\n",
              "    border-bottom-color: var(--fill-color);\n",
              "    animation:\n",
              "      spin 1s steps(1) infinite;\n",
              "  }\n",
              "\n",
              "  @keyframes spin {\n",
              "    0% {\n",
              "      border-color: transparent;\n",
              "      border-bottom-color: var(--fill-color);\n",
              "      border-left-color: var(--fill-color);\n",
              "    }\n",
              "    20% {\n",
              "      border-color: transparent;\n",
              "      border-left-color: var(--fill-color);\n",
              "      border-top-color: var(--fill-color);\n",
              "    }\n",
              "    30% {\n",
              "      border-color: transparent;\n",
              "      border-left-color: var(--fill-color);\n",
              "      border-top-color: var(--fill-color);\n",
              "      border-right-color: var(--fill-color);\n",
              "    }\n",
              "    40% {\n",
              "      border-color: transparent;\n",
              "      border-right-color: var(--fill-color);\n",
              "      border-top-color: var(--fill-color);\n",
              "    }\n",
              "    60% {\n",
              "      border-color: transparent;\n",
              "      border-right-color: var(--fill-color);\n",
              "    }\n",
              "    80% {\n",
              "      border-color: transparent;\n",
              "      border-right-color: var(--fill-color);\n",
              "      border-bottom-color: var(--fill-color);\n",
              "    }\n",
              "    90% {\n",
              "      border-color: transparent;\n",
              "      border-bottom-color: var(--fill-color);\n",
              "    }\n",
              "  }\n",
              "</style>\n",
              "\n",
              "  <script>\n",
              "    async function quickchart(key) {\n",
              "      const quickchartButtonEl =\n",
              "        document.querySelector('#' + key + ' button');\n",
              "      quickchartButtonEl.disabled = true;  // To prevent multiple clicks.\n",
              "      quickchartButtonEl.classList.add('colab-df-spinner');\n",
              "      try {\n",
              "        const charts = await google.colab.kernel.invokeFunction(\n",
              "            'suggestCharts', [key], {});\n",
              "      } catch (error) {\n",
              "        console.error('Error during call to suggestCharts:', error);\n",
              "      }\n",
              "      quickchartButtonEl.classList.remove('colab-df-spinner');\n",
              "      quickchartButtonEl.classList.add('colab-df-quickchart-complete');\n",
              "    }\n",
              "    (() => {\n",
              "      let quickchartButtonEl =\n",
              "        document.querySelector('#df-3079019f-09ea-4950-82f0-65787fdd7fe2 button');\n",
              "      quickchartButtonEl.style.display =\n",
              "        google.colab.kernel.accessAllowed ? 'block' : 'none';\n",
              "    })();\n",
              "  </script>\n",
              "</div>\n",
              "\n",
              "  <div id=\"id_30d0f61d-9599-484a-8040-3e9339b64df2\">\n",
              "    <style>\n",
              "      .colab-df-generate {\n",
              "        background-color: #E8F0FE;\n",
              "        border: none;\n",
              "        border-radius: 50%;\n",
              "        cursor: pointer;\n",
              "        display: none;\n",
              "        fill: #1967D2;\n",
              "        height: 32px;\n",
              "        padding: 0 0 0 0;\n",
              "        width: 32px;\n",
              "      }\n",
              "\n",
              "      .colab-df-generate:hover {\n",
              "        background-color: #E2EBFA;\n",
              "        box-shadow: 0px 1px 2px rgba(60, 64, 67, 0.3), 0px 1px 3px 1px rgba(60, 64, 67, 0.15);\n",
              "        fill: #174EA6;\n",
              "      }\n",
              "\n",
              "      [theme=dark] .colab-df-generate {\n",
              "        background-color: #3B4455;\n",
              "        fill: #D2E3FC;\n",
              "      }\n",
              "\n",
              "      [theme=dark] .colab-df-generate:hover {\n",
              "        background-color: #434B5C;\n",
              "        box-shadow: 0px 1px 3px 1px rgba(0, 0, 0, 0.15);\n",
              "        filter: drop-shadow(0px 1px 2px rgba(0, 0, 0, 0.3));\n",
              "        fill: #FFFFFF;\n",
              "      }\n",
              "    </style>\n",
              "    <button class=\"colab-df-generate\" onclick=\"generateWithVariable('X_numeric')\"\n",
              "            title=\"Generate code using this dataframe.\"\n",
              "            style=\"display:none;\">\n",
              "\n",
              "  <svg xmlns=\"http://www.w3.org/2000/svg\" height=\"24px\"viewBox=\"0 0 24 24\"\n",
              "       width=\"24px\">\n",
              "    <path d=\"M7,19H8.4L18.45,9,17,7.55,7,17.6ZM5,21V16.75L18.45,3.32a2,2,0,0,1,2.83,0l1.4,1.43a1.91,1.91,0,0,1,.58,1.4,1.91,1.91,0,0,1-.58,1.4L9.25,21ZM18.45,9,17,7.55Zm-12,3A5.31,5.31,0,0,0,4.9,8.1,5.31,5.31,0,0,0,1,6.5,5.31,5.31,0,0,0,4.9,4.9,5.31,5.31,0,0,0,6.5,1,5.31,5.31,0,0,0,8.1,4.9,5.31,5.31,0,0,0,12,6.5,5.46,5.46,0,0,0,6.5,12Z\"/>\n",
              "  </svg>\n",
              "    </button>\n",
              "    <script>\n",
              "      (() => {\n",
              "      const buttonEl =\n",
              "        document.querySelector('#id_30d0f61d-9599-484a-8040-3e9339b64df2 button.colab-df-generate');\n",
              "      buttonEl.style.display =\n",
              "        google.colab.kernel.accessAllowed ? 'block' : 'none';\n",
              "\n",
              "      buttonEl.onclick = () => {\n",
              "        google.colab.notebook.generateWithVariable('X_numeric');\n",
              "      }\n",
              "      })();\n",
              "    </script>\n",
              "  </div>\n",
              "\n",
              "    </div>\n",
              "  </div>\n"
            ],
            "application/vnd.google.colaboratory.intrinsic+json": {
              "type": "dataframe",
              "variable_name": "X_numeric",
              "summary": "{\n  \"name\": \"X_numeric\",\n  \"rows\": 48842,\n  \"fields\": [\n    {\n      \"column\": \"age\",\n      \"properties\": {\n        \"dtype\": \"number\",\n        \"std\": 13,\n        \"min\": 17,\n        \"max\": 90,\n        \"num_unique_values\": 74,\n        \"samples\": [\n          18,\n          74,\n          40\n        ],\n        \"semantic_type\": \"\",\n        \"description\": \"\"\n      }\n    },\n    {\n      \"column\": \"capital-gain\",\n      \"properties\": {\n        \"dtype\": \"number\",\n        \"std\": 7452,\n        \"min\": 0,\n        \"max\": 99999,\n        \"num_unique_values\": 123,\n        \"samples\": [\n          4064,\n          4787,\n          401\n        ],\n        \"semantic_type\": \"\",\n        \"description\": \"\"\n      }\n    },\n    {\n      \"column\": \"capital-loss\",\n      \"properties\": {\n        \"dtype\": \"number\",\n        \"std\": 403,\n        \"min\": 0,\n        \"max\": 4356,\n        \"num_unique_values\": 99,\n        \"samples\": [\n          2238,\n          1564,\n          155\n        ],\n        \"semantic_type\": \"\",\n        \"description\": \"\"\n      }\n    },\n    {\n      \"column\": \"hours-per-week\",\n      \"properties\": {\n        \"dtype\": \"number\",\n        \"std\": 12,\n        \"min\": 1,\n        \"max\": 99,\n        \"num_unique_values\": 96,\n        \"samples\": [\n          9,\n          11,\n          98\n        ],\n        \"semantic_type\": \"\",\n        \"description\": \"\"\n      }\n    }\n  ]\n}"
            }
          },
          "metadata": {},
          "execution_count": 10
        }
      ]
    },
    {
      "cell_type": "markdown",
      "source": [
        " # **<font color=\"DeepPink\">Train-test, división del conjunto de datos</font>**"
      ],
      "metadata": {
        "id": "jBYjhfbwm2xB"
      }
    },
    {
      "cell_type": "markdown",
      "source": [
        "https://scikit-learn.org/stable/modules/generated/sklearn.model_selection.train_test_split.html"
      ],
      "metadata": {
        "id": "I9BBlnjORxMd"
      }
    },
    {
      "cell_type": "markdown",
      "source": [
        "<p align=\"justify\">\n",
        "👀 Procedemos a dividir el conjunto de datos con <code>train_test_split</code>... vemos que al no especificar los tamaños del conjunto de datos de prueba o del conjunto de datos de entrenamiento, por defecto toma los valores $25$% y $75$% respectivamente</p>"
      ],
      "metadata": {
        "id": "vzYHVWyPRyjZ"
      }
    },
    {
      "cell_type": "code",
      "source": [
        "from sklearn.model_selection import train_test_split\n",
        "X_train, X_test, y_train, y_test = train_test_split(X_numeric,\n",
        "                                                    y,\n",
        "                                                    random_state=123)"
      ],
      "metadata": {
        "id": "epi6n2xrm4LV"
      },
      "execution_count": null,
      "outputs": []
    },
    {
      "cell_type": "code",
      "source": [
        "X_train.shape"
      ],
      "metadata": {
        "colab": {
          "base_uri": "https://localhost:8080/"
        },
        "id": "1PBVM27Ym__m",
        "outputId": "789357b9-d923-4c21-a3d0-b4b900239054"
      },
      "execution_count": null,
      "outputs": [
        {
          "output_type": "execute_result",
          "data": {
            "text/plain": [
              "(36631, 4)"
            ]
          },
          "metadata": {},
          "execution_count": 12
        }
      ]
    },
    {
      "cell_type": "code",
      "source": [
        "X_test.shape"
      ],
      "metadata": {
        "colab": {
          "base_uri": "https://localhost:8080/"
        },
        "id": "WDbbtwNLnHO0",
        "outputId": "701925ac-8daf-4b88-8e47-d4a1a023bde3"
      },
      "execution_count": null,
      "outputs": [
        {
          "output_type": "execute_result",
          "data": {
            "text/plain": [
              "(12211, 4)"
            ]
          },
          "metadata": {},
          "execution_count": 13
        }
      ]
    },
    {
      "cell_type": "markdown",
      "source": [
        "<p align=\"justify\">\n",
        "👀 Tamaño del conjunto de datos de entrenamiento, respecto del total de datos...</p>"
      ],
      "metadata": {
        "id": "mPfwLAOTTTrK"
      }
    },
    {
      "cell_type": "code",
      "source": [
        "round(((X_train.shape[0])/(X_train.shape[0]+X_test.shape[0])),4)"
      ],
      "metadata": {
        "colab": {
          "base_uri": "https://localhost:8080/"
        },
        "id": "xQodqwp7Sbs2",
        "outputId": "764edd19-a9fb-4417-b2a5-80bec2a5244f"
      },
      "execution_count": null,
      "outputs": [
        {
          "output_type": "execute_result",
          "data": {
            "text/plain": [
              "0.75"
            ]
          },
          "metadata": {},
          "execution_count": 15
        }
      ]
    },
    {
      "cell_type": "markdown",
      "source": [
        "<p align=\"justify\">\n",
        "👀 Tamaño del conjunto de datos de prueba, respecto del total de datos...</p>"
      ],
      "metadata": {
        "id": "HN8QKtaPTf52"
      }
    },
    {
      "cell_type": "code",
      "source": [
        "round(((X_test.shape[0])/(X_train.shape[0]+X_test.shape[0])),4)"
      ],
      "metadata": {
        "colab": {
          "base_uri": "https://localhost:8080/"
        },
        "id": "TSqaqZ7GTk_A",
        "outputId": "733e371b-aaa2-40b3-e5e9-f5b3b2658611"
      },
      "execution_count": null,
      "outputs": [
        {
          "output_type": "execute_result",
          "data": {
            "text/plain": [
              "0.25"
            ]
          },
          "metadata": {},
          "execution_count": 16
        }
      ]
    },
    {
      "cell_type": "markdown",
      "source": [
        " # **<font color=\"DeepPink\">Ajuste del modelo con preprocesamiento</font>**"
      ],
      "metadata": {
        "id": "RQkO1sm1nNGk"
      }
    },
    {
      "cell_type": "markdown",
      "source": [
        "<p align=\"justify\">\n",
        "👀 Una gama de algoritmos de preprocesamiento en <code>scikit-learn</code> permite transformar los datos del vector de caracteristicas antes de entrenar un modelo respectivo. En el presente caso, estandarizaremos los datos y luego entrenaremos un nuevo modelo de regresión logística con esa nueva versión del conjunto de datos, es decir, con los datos estandarizados.\n",
        "<br><br>\n",
        "👀 Comenzamos entonces viendo algunas estadísticas sobre el conjunto de datos de entrenamiento..."
      ],
      "metadata": {
        "id": "AuYakQqZw8bd"
      }
    },
    {
      "cell_type": "code",
      "source": [
        "X_train.describe().round(2).T"
      ],
      "metadata": {
        "colab": {
          "base_uri": "https://localhost:8080/",
          "height": 173
        },
        "id": "DRaf9_V9nrbN",
        "outputId": "e0e71aee-3bf3-4eef-e328-f3894e498cfc"
      },
      "execution_count": null,
      "outputs": [
        {
          "output_type": "execute_result",
          "data": {
            "text/plain": [
              "                  count     mean      std   min   25%   50%   75%      max\n",
              "age             36631.0    38.62    13.67  17.0  28.0  37.0  48.0     90.0\n",
              "capital-gain    36631.0  1089.05  7511.18   0.0   0.0   0.0   0.0  99999.0\n",
              "capital-loss    36631.0    87.11   403.69   0.0   0.0   0.0   0.0   4356.0\n",
              "hours-per-week  36631.0    40.39    12.34   1.0  40.0  40.0  45.0     99.0"
            ],
            "text/html": [
              "\n",
              "  <div id=\"df-19d025b2-05d1-4669-acaf-b7a8ed59cbc4\" class=\"colab-df-container\">\n",
              "    <div>\n",
              "<style scoped>\n",
              "    .dataframe tbody tr th:only-of-type {\n",
              "        vertical-align: middle;\n",
              "    }\n",
              "\n",
              "    .dataframe tbody tr th {\n",
              "        vertical-align: top;\n",
              "    }\n",
              "\n",
              "    .dataframe thead th {\n",
              "        text-align: right;\n",
              "    }\n",
              "</style>\n",
              "<table border=\"1\" class=\"dataframe\">\n",
              "  <thead>\n",
              "    <tr style=\"text-align: right;\">\n",
              "      <th></th>\n",
              "      <th>count</th>\n",
              "      <th>mean</th>\n",
              "      <th>std</th>\n",
              "      <th>min</th>\n",
              "      <th>25%</th>\n",
              "      <th>50%</th>\n",
              "      <th>75%</th>\n",
              "      <th>max</th>\n",
              "    </tr>\n",
              "  </thead>\n",
              "  <tbody>\n",
              "    <tr>\n",
              "      <th>age</th>\n",
              "      <td>36631.0</td>\n",
              "      <td>38.62</td>\n",
              "      <td>13.67</td>\n",
              "      <td>17.0</td>\n",
              "      <td>28.0</td>\n",
              "      <td>37.0</td>\n",
              "      <td>48.0</td>\n",
              "      <td>90.0</td>\n",
              "    </tr>\n",
              "    <tr>\n",
              "      <th>capital-gain</th>\n",
              "      <td>36631.0</td>\n",
              "      <td>1089.05</td>\n",
              "      <td>7511.18</td>\n",
              "      <td>0.0</td>\n",
              "      <td>0.0</td>\n",
              "      <td>0.0</td>\n",
              "      <td>0.0</td>\n",
              "      <td>99999.0</td>\n",
              "    </tr>\n",
              "    <tr>\n",
              "      <th>capital-loss</th>\n",
              "      <td>36631.0</td>\n",
              "      <td>87.11</td>\n",
              "      <td>403.69</td>\n",
              "      <td>0.0</td>\n",
              "      <td>0.0</td>\n",
              "      <td>0.0</td>\n",
              "      <td>0.0</td>\n",
              "      <td>4356.0</td>\n",
              "    </tr>\n",
              "    <tr>\n",
              "      <th>hours-per-week</th>\n",
              "      <td>36631.0</td>\n",
              "      <td>40.39</td>\n",
              "      <td>12.34</td>\n",
              "      <td>1.0</td>\n",
              "      <td>40.0</td>\n",
              "      <td>40.0</td>\n",
              "      <td>45.0</td>\n",
              "      <td>99.0</td>\n",
              "    </tr>\n",
              "  </tbody>\n",
              "</table>\n",
              "</div>\n",
              "    <div class=\"colab-df-buttons\">\n",
              "\n",
              "  <div class=\"colab-df-container\">\n",
              "    <button class=\"colab-df-convert\" onclick=\"convertToInteractive('df-19d025b2-05d1-4669-acaf-b7a8ed59cbc4')\"\n",
              "            title=\"Convert this dataframe to an interactive table.\"\n",
              "            style=\"display:none;\">\n",
              "\n",
              "  <svg xmlns=\"http://www.w3.org/2000/svg\" height=\"24px\" viewBox=\"0 -960 960 960\">\n",
              "    <path d=\"M120-120v-720h720v720H120Zm60-500h600v-160H180v160Zm220 220h160v-160H400v160Zm0 220h160v-160H400v160ZM180-400h160v-160H180v160Zm440 0h160v-160H620v160ZM180-180h160v-160H180v160Zm440 0h160v-160H620v160Z\"/>\n",
              "  </svg>\n",
              "    </button>\n",
              "\n",
              "  <style>\n",
              "    .colab-df-container {\n",
              "      display:flex;\n",
              "      gap: 12px;\n",
              "    }\n",
              "\n",
              "    .colab-df-convert {\n",
              "      background-color: #E8F0FE;\n",
              "      border: none;\n",
              "      border-radius: 50%;\n",
              "      cursor: pointer;\n",
              "      display: none;\n",
              "      fill: #1967D2;\n",
              "      height: 32px;\n",
              "      padding: 0 0 0 0;\n",
              "      width: 32px;\n",
              "    }\n",
              "\n",
              "    .colab-df-convert:hover {\n",
              "      background-color: #E2EBFA;\n",
              "      box-shadow: 0px 1px 2px rgba(60, 64, 67, 0.3), 0px 1px 3px 1px rgba(60, 64, 67, 0.15);\n",
              "      fill: #174EA6;\n",
              "    }\n",
              "\n",
              "    .colab-df-buttons div {\n",
              "      margin-bottom: 4px;\n",
              "    }\n",
              "\n",
              "    [theme=dark] .colab-df-convert {\n",
              "      background-color: #3B4455;\n",
              "      fill: #D2E3FC;\n",
              "    }\n",
              "\n",
              "    [theme=dark] .colab-df-convert:hover {\n",
              "      background-color: #434B5C;\n",
              "      box-shadow: 0px 1px 3px 1px rgba(0, 0, 0, 0.15);\n",
              "      filter: drop-shadow(0px 1px 2px rgba(0, 0, 0, 0.3));\n",
              "      fill: #FFFFFF;\n",
              "    }\n",
              "  </style>\n",
              "\n",
              "    <script>\n",
              "      const buttonEl =\n",
              "        document.querySelector('#df-19d025b2-05d1-4669-acaf-b7a8ed59cbc4 button.colab-df-convert');\n",
              "      buttonEl.style.display =\n",
              "        google.colab.kernel.accessAllowed ? 'block' : 'none';\n",
              "\n",
              "      async function convertToInteractive(key) {\n",
              "        const element = document.querySelector('#df-19d025b2-05d1-4669-acaf-b7a8ed59cbc4');\n",
              "        const dataTable =\n",
              "          await google.colab.kernel.invokeFunction('convertToInteractive',\n",
              "                                                    [key], {});\n",
              "        if (!dataTable) return;\n",
              "\n",
              "        const docLinkHtml = 'Like what you see? Visit the ' +\n",
              "          '<a target=\"_blank\" href=https://colab.research.google.com/notebooks/data_table.ipynb>data table notebook</a>'\n",
              "          + ' to learn more about interactive tables.';\n",
              "        element.innerHTML = '';\n",
              "        dataTable['output_type'] = 'display_data';\n",
              "        await google.colab.output.renderOutput(dataTable, element);\n",
              "        const docLink = document.createElement('div');\n",
              "        docLink.innerHTML = docLinkHtml;\n",
              "        element.appendChild(docLink);\n",
              "      }\n",
              "    </script>\n",
              "  </div>\n",
              "\n",
              "\n",
              "<div id=\"df-57d42b94-f1e9-4427-8d09-0abf4241b617\">\n",
              "  <button class=\"colab-df-quickchart\" onclick=\"quickchart('df-57d42b94-f1e9-4427-8d09-0abf4241b617')\"\n",
              "            title=\"Suggest charts\"\n",
              "            style=\"display:none;\">\n",
              "\n",
              "<svg xmlns=\"http://www.w3.org/2000/svg\" height=\"24px\"viewBox=\"0 0 24 24\"\n",
              "     width=\"24px\">\n",
              "    <g>\n",
              "        <path d=\"M19 3H5c-1.1 0-2 .9-2 2v14c0 1.1.9 2 2 2h14c1.1 0 2-.9 2-2V5c0-1.1-.9-2-2-2zM9 17H7v-7h2v7zm4 0h-2V7h2v10zm4 0h-2v-4h2v4z\"/>\n",
              "    </g>\n",
              "</svg>\n",
              "  </button>\n",
              "\n",
              "<style>\n",
              "  .colab-df-quickchart {\n",
              "      --bg-color: #E8F0FE;\n",
              "      --fill-color: #1967D2;\n",
              "      --hover-bg-color: #E2EBFA;\n",
              "      --hover-fill-color: #174EA6;\n",
              "      --disabled-fill-color: #AAA;\n",
              "      --disabled-bg-color: #DDD;\n",
              "  }\n",
              "\n",
              "  [theme=dark] .colab-df-quickchart {\n",
              "      --bg-color: #3B4455;\n",
              "      --fill-color: #D2E3FC;\n",
              "      --hover-bg-color: #434B5C;\n",
              "      --hover-fill-color: #FFFFFF;\n",
              "      --disabled-bg-color: #3B4455;\n",
              "      --disabled-fill-color: #666;\n",
              "  }\n",
              "\n",
              "  .colab-df-quickchart {\n",
              "    background-color: var(--bg-color);\n",
              "    border: none;\n",
              "    border-radius: 50%;\n",
              "    cursor: pointer;\n",
              "    display: none;\n",
              "    fill: var(--fill-color);\n",
              "    height: 32px;\n",
              "    padding: 0;\n",
              "    width: 32px;\n",
              "  }\n",
              "\n",
              "  .colab-df-quickchart:hover {\n",
              "    background-color: var(--hover-bg-color);\n",
              "    box-shadow: 0 1px 2px rgba(60, 64, 67, 0.3), 0 1px 3px 1px rgba(60, 64, 67, 0.15);\n",
              "    fill: var(--button-hover-fill-color);\n",
              "  }\n",
              "\n",
              "  .colab-df-quickchart-complete:disabled,\n",
              "  .colab-df-quickchart-complete:disabled:hover {\n",
              "    background-color: var(--disabled-bg-color);\n",
              "    fill: var(--disabled-fill-color);\n",
              "    box-shadow: none;\n",
              "  }\n",
              "\n",
              "  .colab-df-spinner {\n",
              "    border: 2px solid var(--fill-color);\n",
              "    border-color: transparent;\n",
              "    border-bottom-color: var(--fill-color);\n",
              "    animation:\n",
              "      spin 1s steps(1) infinite;\n",
              "  }\n",
              "\n",
              "  @keyframes spin {\n",
              "    0% {\n",
              "      border-color: transparent;\n",
              "      border-bottom-color: var(--fill-color);\n",
              "      border-left-color: var(--fill-color);\n",
              "    }\n",
              "    20% {\n",
              "      border-color: transparent;\n",
              "      border-left-color: var(--fill-color);\n",
              "      border-top-color: var(--fill-color);\n",
              "    }\n",
              "    30% {\n",
              "      border-color: transparent;\n",
              "      border-left-color: var(--fill-color);\n",
              "      border-top-color: var(--fill-color);\n",
              "      border-right-color: var(--fill-color);\n",
              "    }\n",
              "    40% {\n",
              "      border-color: transparent;\n",
              "      border-right-color: var(--fill-color);\n",
              "      border-top-color: var(--fill-color);\n",
              "    }\n",
              "    60% {\n",
              "      border-color: transparent;\n",
              "      border-right-color: var(--fill-color);\n",
              "    }\n",
              "    80% {\n",
              "      border-color: transparent;\n",
              "      border-right-color: var(--fill-color);\n",
              "      border-bottom-color: var(--fill-color);\n",
              "    }\n",
              "    90% {\n",
              "      border-color: transparent;\n",
              "      border-bottom-color: var(--fill-color);\n",
              "    }\n",
              "  }\n",
              "</style>\n",
              "\n",
              "  <script>\n",
              "    async function quickchart(key) {\n",
              "      const quickchartButtonEl =\n",
              "        document.querySelector('#' + key + ' button');\n",
              "      quickchartButtonEl.disabled = true;  // To prevent multiple clicks.\n",
              "      quickchartButtonEl.classList.add('colab-df-spinner');\n",
              "      try {\n",
              "        const charts = await google.colab.kernel.invokeFunction(\n",
              "            'suggestCharts', [key], {});\n",
              "      } catch (error) {\n",
              "        console.error('Error during call to suggestCharts:', error);\n",
              "      }\n",
              "      quickchartButtonEl.classList.remove('colab-df-spinner');\n",
              "      quickchartButtonEl.classList.add('colab-df-quickchart-complete');\n",
              "    }\n",
              "    (() => {\n",
              "      let quickchartButtonEl =\n",
              "        document.querySelector('#df-57d42b94-f1e9-4427-8d09-0abf4241b617 button');\n",
              "      quickchartButtonEl.style.display =\n",
              "        google.colab.kernel.accessAllowed ? 'block' : 'none';\n",
              "    })();\n",
              "  </script>\n",
              "</div>\n",
              "\n",
              "    </div>\n",
              "  </div>\n"
            ],
            "application/vnd.google.colaboratory.intrinsic+json": {
              "type": "dataframe",
              "summary": "{\n  \"name\": \"X_train\",\n  \"rows\": 4,\n  \"fields\": [\n    {\n      \"column\": \"count\",\n      \"properties\": {\n        \"dtype\": \"number\",\n        \"std\": 0.0,\n        \"min\": 36631.0,\n        \"max\": 36631.0,\n        \"num_unique_values\": 1,\n        \"samples\": [\n          36631.0\n        ],\n        \"semantic_type\": \"\",\n        \"description\": \"\"\n      }\n    },\n    {\n      \"column\": \"mean\",\n      \"properties\": {\n        \"dtype\": \"number\",\n        \"std\": 517.3258092907537,\n        \"min\": 38.62,\n        \"max\": 1089.05,\n        \"num_unique_values\": 4,\n        \"samples\": [\n          1089.05\n        ],\n        \"semantic_type\": \"\",\n        \"description\": \"\"\n      }\n    },\n    {\n      \"column\": \"std\",\n      \"properties\": {\n        \"dtype\": \"number\",\n        \"std\": 3688.5740677304198,\n        \"min\": 12.34,\n        \"max\": 7511.18,\n        \"num_unique_values\": 4,\n        \"samples\": [\n          7511.18\n        ],\n        \"semantic_type\": \"\",\n        \"description\": \"\"\n      }\n    },\n    {\n      \"column\": \"min\",\n      \"properties\": {\n        \"dtype\": \"number\",\n        \"std\": 8.34665601703261,\n        \"min\": 0.0,\n        \"max\": 17.0,\n        \"num_unique_values\": 3,\n        \"samples\": [\n          17.0\n        ],\n        \"semantic_type\": \"\",\n        \"description\": \"\"\n      }\n    },\n    {\n      \"column\": \"25%\",\n      \"properties\": {\n        \"dtype\": \"number\",\n        \"std\": 20.231987873991358,\n        \"min\": 0.0,\n        \"max\": 40.0,\n        \"num_unique_values\": 3,\n        \"samples\": [\n          28.0\n        ],\n        \"semantic_type\": \"\",\n        \"description\": \"\"\n      }\n    },\n    {\n      \"column\": \"50%\",\n      \"properties\": {\n        \"dtype\": \"number\",\n        \"std\": 22.261701043121867,\n        \"min\": 0.0,\n        \"max\": 40.0,\n        \"num_unique_values\": 3,\n        \"samples\": [\n          37.0\n        ],\n        \"semantic_type\": \"\",\n        \"description\": \"\"\n      }\n    },\n    {\n      \"column\": \"75%\",\n      \"properties\": {\n        \"dtype\": \"number\",\n        \"std\": 26.874709300753377,\n        \"min\": 0.0,\n        \"max\": 48.0,\n        \"num_unique_values\": 3,\n        \"samples\": [\n          48.0\n        ],\n        \"semantic_type\": \"\",\n        \"description\": \"\"\n      }\n    },\n    {\n      \"column\": \"max\",\n      \"properties\": {\n        \"dtype\": \"number\",\n        \"std\": 49282.96072680699,\n        \"min\": 90.0,\n        \"max\": 99999.0,\n        \"num_unique_values\": 4,\n        \"samples\": [\n          99999.0\n        ],\n        \"semantic_type\": \"\",\n        \"description\": \"\"\n      }\n    }\n  ]\n}"
            }
          },
          "metadata": {},
          "execution_count": 17
        }
      ]
    },
    {
      "cell_type": "markdown",
      "source": [
        "<p align=\"justify\">\n",
        "👀 Vemos que las características de este conjunto de datos abarcan diferentes rangos. Algunos algoritmos hacen algunas suposiciones con respecto a las distribuciones de características y, por lo general, la estandarización de las características será útil para abordar estas suposiciones.\n"
      ],
      "metadata": {
        "id": "5J__ZKlPw8Wb"
      }
    },
    {
      "cell_type": "markdown",
      "source": [
        " ## **<font color=\"DeepPink\">Escalado de datos</font>**"
      ],
      "metadata": {
        "id": "ud2-OpRzfqw2"
      }
    },
    {
      "cell_type": "markdown",
      "source": [
        "<p align=\"justify\">\n",
        "💖 <b>Algunas razones para escalar características:</b>\n",
        "<br><br>\n",
        "<ul align=\"justify\">\n",
        "<li>\n",
        "Los modelos que se basan en la distancia entre un par de muestras, por ejemplo, los $k$ vecinos más cercanos, deben entrenarse en características estandarizadas para que cada característica contribuya aproximadamente por igual a los cálculos de distancia. Muchos modelos, como la regresión logística, utilizan un solucionador numérico, basado en el gradiente descendente, para encontrar sus parámetros óptimos. Este solucionador converge más rápido cuando se escalan las características.\n",
        "</li>\n",
        "<li>\n",
        "El hecho de que un modelo de aprendizaje automático requiera o no escalar las características depende de la familia del modelo.\n",
        "</li>\n",
        "<li>\n",
        "Los modelos lineales, como la regresión logística, generalmente se benefician al escalar las características, mientras que otros modelos, como los árboles de decisión, en principio no necesitan dicho preprocesamiento. Ahora mostramos cómo aplicar dicha estandarización usando un transformador de aprendizaje de <code>scikit-learn</code> llamado <code>StandardScaler</code>. Este transformador cambia y escala cada característica individualmente para que todas tengan una media de $0$ y una desviación estándar de $1$, es decir, que correspondan a una distribución normal.\n",
        "</li></ul>\n",
        "<br>\n",
        "<p align=\"justify\">\n",
        "👀 Investigaremos diferentes pasos utilizados en <code>scikit-learn</code> para lograr la transformación de los datos, pero primero uno necesita llamar al método <code>fit</code> para luego poder escalar los datos."
      ],
      "metadata": {
        "id": "vuzkWtOxgCPy"
      }
    },
    {
      "cell_type": "markdown",
      "source": [
        "https://scikit-learn.org/stable/modules/generated/sklearn.preprocessing.StandardScaler.html"
      ],
      "metadata": {
        "id": "o6p8m4tZWoHN"
      }
    },
    {
      "cell_type": "code",
      "source": [
        "from sklearn.preprocessing import StandardScaler\n",
        "scaler = StandardScaler()\n",
        "scaler.fit(X_train)"
      ],
      "metadata": {
        "colab": {
          "base_uri": "https://localhost:8080/",
          "height": 74
        },
        "id": "P3BzxaSqqtwE",
        "outputId": "d3f8da0b-ddff-4ba0-d2ef-497571a2599c"
      },
      "execution_count": null,
      "outputs": [
        {
          "output_type": "execute_result",
          "data": {
            "text/plain": [
              "StandardScaler()"
            ],
            "text/html": [
              "<style>#sk-container-id-2 {color: black;background-color: white;}#sk-container-id-2 pre{padding: 0;}#sk-container-id-2 div.sk-toggleable {background-color: white;}#sk-container-id-2 label.sk-toggleable__label {cursor: pointer;display: block;width: 100%;margin-bottom: 0;padding: 0.3em;box-sizing: border-box;text-align: center;}#sk-container-id-2 label.sk-toggleable__label-arrow:before {content: \"▸\";float: left;margin-right: 0.25em;color: #696969;}#sk-container-id-2 label.sk-toggleable__label-arrow:hover:before {color: black;}#sk-container-id-2 div.sk-estimator:hover label.sk-toggleable__label-arrow:before {color: black;}#sk-container-id-2 div.sk-toggleable__content {max-height: 0;max-width: 0;overflow: hidden;text-align: left;background-color: #f0f8ff;}#sk-container-id-2 div.sk-toggleable__content pre {margin: 0.2em;color: black;border-radius: 0.25em;background-color: #f0f8ff;}#sk-container-id-2 input.sk-toggleable__control:checked~div.sk-toggleable__content {max-height: 200px;max-width: 100%;overflow: auto;}#sk-container-id-2 input.sk-toggleable__control:checked~label.sk-toggleable__label-arrow:before {content: \"▾\";}#sk-container-id-2 div.sk-estimator input.sk-toggleable__control:checked~label.sk-toggleable__label {background-color: #d4ebff;}#sk-container-id-2 div.sk-label input.sk-toggleable__control:checked~label.sk-toggleable__label {background-color: #d4ebff;}#sk-container-id-2 input.sk-hidden--visually {border: 0;clip: rect(1px 1px 1px 1px);clip: rect(1px, 1px, 1px, 1px);height: 1px;margin: -1px;overflow: hidden;padding: 0;position: absolute;width: 1px;}#sk-container-id-2 div.sk-estimator {font-family: monospace;background-color: #f0f8ff;border: 1px dotted black;border-radius: 0.25em;box-sizing: border-box;margin-bottom: 0.5em;}#sk-container-id-2 div.sk-estimator:hover {background-color: #d4ebff;}#sk-container-id-2 div.sk-parallel-item::after {content: \"\";width: 100%;border-bottom: 1px solid gray;flex-grow: 1;}#sk-container-id-2 div.sk-label:hover label.sk-toggleable__label {background-color: #d4ebff;}#sk-container-id-2 div.sk-serial::before {content: \"\";position: absolute;border-left: 1px solid gray;box-sizing: border-box;top: 0;bottom: 0;left: 50%;z-index: 0;}#sk-container-id-2 div.sk-serial {display: flex;flex-direction: column;align-items: center;background-color: white;padding-right: 0.2em;padding-left: 0.2em;position: relative;}#sk-container-id-2 div.sk-item {position: relative;z-index: 1;}#sk-container-id-2 div.sk-parallel {display: flex;align-items: stretch;justify-content: center;background-color: white;position: relative;}#sk-container-id-2 div.sk-item::before, #sk-container-id-2 div.sk-parallel-item::before {content: \"\";position: absolute;border-left: 1px solid gray;box-sizing: border-box;top: 0;bottom: 0;left: 50%;z-index: -1;}#sk-container-id-2 div.sk-parallel-item {display: flex;flex-direction: column;z-index: 1;position: relative;background-color: white;}#sk-container-id-2 div.sk-parallel-item:first-child::after {align-self: flex-end;width: 50%;}#sk-container-id-2 div.sk-parallel-item:last-child::after {align-self: flex-start;width: 50%;}#sk-container-id-2 div.sk-parallel-item:only-child::after {width: 0;}#sk-container-id-2 div.sk-dashed-wrapped {border: 1px dashed gray;margin: 0 0.4em 0.5em 0.4em;box-sizing: border-box;padding-bottom: 0.4em;background-color: white;}#sk-container-id-2 div.sk-label label {font-family: monospace;font-weight: bold;display: inline-block;line-height: 1.2em;}#sk-container-id-2 div.sk-label-container {text-align: center;}#sk-container-id-2 div.sk-container {/* jupyter's `normalize.less` sets `[hidden] { display: none; }` but bootstrap.min.css set `[hidden] { display: none !important; }` so we also need the `!important` here to be able to override the default hidden behavior on the sphinx rendered scikit-learn.org. See: https://github.com/scikit-learn/scikit-learn/issues/21755 */display: inline-block !important;position: relative;}#sk-container-id-2 div.sk-text-repr-fallback {display: none;}</style><div id=\"sk-container-id-2\" class=\"sk-top-container\"><div class=\"sk-text-repr-fallback\"><pre>StandardScaler()</pre><b>In a Jupyter environment, please rerun this cell to show the HTML representation or trust the notebook. <br />On GitHub, the HTML representation is unable to render, please try loading this page with nbviewer.org.</b></div><div class=\"sk-container\" hidden><div class=\"sk-item\"><div class=\"sk-estimator sk-toggleable\"><input class=\"sk-toggleable__control sk-hidden--visually\" id=\"sk-estimator-id-2\" type=\"checkbox\" checked><label for=\"sk-estimator-id-2\" class=\"sk-toggleable__label sk-toggleable__label-arrow\">StandardScaler</label><div class=\"sk-toggleable__content\"><pre>StandardScaler()</pre></div></div></div></div></div>"
            ]
          },
          "metadata": {},
          "execution_count": 19
        }
      ]
    },
    {
      "cell_type": "markdown",
      "source": [
        "<p align=\"justify\">\n",
        "👀 El método <code>fit</code> para transformadores es similar al método <code>fit</code> para predictores. La principal diferencia es que el primero tiene un solo argumento (la matriz de datos), mientras que el segundo tiene dos argumentos (la matriz de datos y la variable objetivo)."
      ],
      "metadata": {
        "id": "u4XSBSdpw8Qw"
      }
    },
    {
      "cell_type": "markdown",
      "source": [
        "<p align=\"justify\">\n",
        "👀 En este caso, el algoritmo necesita calcular la media y la desviación estándar de cada característica y almacenarlas en matrices <code>NumPy</code>. Aquí, estas estadísticas son los famosos estados del modelo que mencionabamos en los Colabs anteriores.\n",
        "<br><br>\n",
        "🗒 <b>Nota</b>\n",
        "<br><br>\n",
        "El hecho de que los estados del modelo de este escalador sean matrices de medias y desviaciones estándar es algo específico de <code>StandardScaler</code>. Otros transformadores de <code>scikit-learn</code> calcularán diferentes estadísticas y las almacenarán como estados del modelo, de la misma manera.\n",
        "<br><br>\n",
        "👀 Podemos inspeccionar las medias calculadas y las desviaciones estándar con atributos del <code>StandardScaler</code>."
      ],
      "metadata": {
        "id": "nT8XTxllw8Ly"
      }
    },
    {
      "cell_type": "code",
      "source": [
        "X_train.columns"
      ],
      "metadata": {
        "colab": {
          "base_uri": "https://localhost:8080/"
        },
        "id": "xLzkFb-dX_nT",
        "outputId": "8092b4a0-9f39-4d61-f687-bd5e2189df50"
      },
      "execution_count": null,
      "outputs": [
        {
          "output_type": "execute_result",
          "data": {
            "text/plain": [
              "Index(['age', 'capital-gain', 'capital-loss', 'hours-per-week'], dtype='object')"
            ]
          },
          "metadata": {},
          "execution_count": 20
        }
      ]
    },
    {
      "cell_type": "code",
      "source": [
        "scaler.mean_"
      ],
      "metadata": {
        "colab": {
          "base_uri": "https://localhost:8080/"
        },
        "id": "CNovH086sJ2e",
        "outputId": "9b41642f-053c-4c9f-9924-bb2bd6929392"
      },
      "execution_count": null,
      "outputs": [
        {
          "output_type": "execute_result",
          "data": {
            "text/plain": [
              "array([  38.62168655, 1089.05115885,   87.10619421,   40.38519287])"
            ]
          },
          "metadata": {},
          "execution_count": 21
        }
      ]
    },
    {
      "cell_type": "code",
      "source": [
        "scaler.scale_"
      ],
      "metadata": {
        "colab": {
          "base_uri": "https://localhost:8080/"
        },
        "id": "6-BqN_Q6sPJ5",
        "outputId": "2d033793-0e3b-4348-d843-2f8e44bb1b21"
      },
      "execution_count": null,
      "outputs": [
        {
          "output_type": "execute_result",
          "data": {
            "text/plain": [
              "array([  13.66951337, 7511.07873828,  403.68282498,   12.34168499])"
            ]
          },
          "metadata": {},
          "execution_count": 22
        }
      ]
    },
    {
      "cell_type": "markdown",
      "source": [
        "<p align=\"justify\">\n",
        "🗒 <b>Nota</b>\n",
        "<br><br>\n",
        "Convención de <code>scikit-learn</code>: si un atributo aprende de los datos, su nombre termina con un guión bajo, como en <code>mean_</code> y <code>scale_</code> para <code>StandardScaler</code>. La escala de los datos se aplica a cada característica individualmente (es decir, cada columna en la matriz de datos). Para cada característica, restamos su media y dividimos por su desviación estándar.\n",
        "<br><br>\n",
        "Una vez que hemos llamado al método <code>fit</code>, podemos realizar la transformación de datos llamando al método <code>transform</code>."
      ],
      "metadata": {
        "id": "eXKmLZhtw8Gi"
      }
    },
    {
      "cell_type": "code",
      "source": [
        "X_train_scaled = scaler.transform(X_train)\n",
        "X_train_scaled"
      ],
      "metadata": {
        "colab": {
          "base_uri": "https://localhost:8080/"
        },
        "id": "CW5mb-3uto53",
        "outputId": "53f3bcfd-be4d-4d16-b7d4-93e369f72e97"
      },
      "execution_count": null,
      "outputs": [
        {
          "output_type": "execute_result",
          "data": {
            "text/plain": [
              "array([[ 0.24714219, -0.14499264, -0.2157788 , -0.27428936],\n",
              "       [-0.26494627,  0.87856206, -0.2157788 , -0.19326315],\n",
              "       [ 0.90554163, -0.14499264, -0.2157788 , -0.43634179],\n",
              "       ...,\n",
              "       [ 0.39345318, -0.14499264, -0.2157788 ,  0.77905141],\n",
              "       [-0.26494627, -0.14499264, -0.2157788 , -0.03121072],\n",
              "       [ 0.61291966,  1.85525266, -0.2157788 ,  0.77905141]])"
            ]
          },
          "metadata": {},
          "execution_count": 23
        }
      ]
    },
    {
      "cell_type": "markdown",
      "source": [
        "<p align=\"justify\">\n",
        "👀 El método <code>transform</code> para transformadores es similar al método <code>predict</code> para predictores. Utiliza una función predefinida, denominada función de transformación, y utiliza los estados del modelo y los datos de entrada. Sin embargo, en lugar de generar predicciones, el trabajo del método <code>transform</code> es generar una versión transformada de los datos de entrada.\n",
        "<br><br>\n",
        "Finalmente, el método <code>fit_transform</code> es un método abreviado para llamar sucesivamente al método <code>fit</code> y luego al método <code>transform</code>."
      ],
      "metadata": {
        "id": "dzcoy-L4w8B6"
      }
    },
    {
      "cell_type": "code",
      "source": [
        "X_train_scaled = scaler.fit_transform(X_train)\n",
        "X_train_scaled"
      ],
      "metadata": {
        "colab": {
          "base_uri": "https://localhost:8080/"
        },
        "id": "TVo2ACrwuX4-",
        "outputId": "a6229871-a6b2-4b1f-87a0-ac123e967319"
      },
      "execution_count": null,
      "outputs": [
        {
          "output_type": "execute_result",
          "data": {
            "text/plain": [
              "array([[ 0.24714219, -0.14499264, -0.2157788 , -0.27428936],\n",
              "       [-0.26494627,  0.87856206, -0.2157788 , -0.19326315],\n",
              "       [ 0.90554163, -0.14499264, -0.2157788 , -0.43634179],\n",
              "       ...,\n",
              "       [ 0.39345318, -0.14499264, -0.2157788 ,  0.77905141],\n",
              "       [-0.26494627, -0.14499264, -0.2157788 , -0.03121072],\n",
              "       [ 0.61291966,  1.85525266, -0.2157788 ,  0.77905141]])"
            ]
          },
          "metadata": {},
          "execution_count": 24
        }
      ]
    },
    {
      "cell_type": "markdown",
      "source": [
        "<p align=\"justify\">\n",
        "👀 Vamos a dar algunas opciones a nuestro <code>DataFrame</code> para ver numeros sin el formato científico y con dos decimales...\n",
        "</p>\n"
      ],
      "metadata": {
        "id": "MG1UA4KIZX9o"
      }
    },
    {
      "cell_type": "code",
      "source": [
        "pd.options.display.precision = 2\n",
        "pd.options.display.float_format = \"{:.2f}\".format"
      ],
      "metadata": {
        "id": "8Y-EySOQvFEy"
      },
      "execution_count": null,
      "outputs": []
    },
    {
      "cell_type": "markdown",
      "source": [
        "<p align=\"justify\">\n",
        "👀 Ahora podemos verificar, luedo de la estandarización, para cada una de las variables, las columnas, que el valor de media es cercana a $0$ y la desviación estándar es cercana a $1$...\n",
        "</p>\n"
      ],
      "metadata": {
        "id": "b-7xzy2oZosM"
      }
    },
    {
      "cell_type": "code",
      "source": [
        "X_train_scaled = pd.DataFrame(X_train_scaled, columns = X_train.columns)\n",
        "X_train_scaled.describe().T"
      ],
      "metadata": {
        "colab": {
          "base_uri": "https://localhost:8080/",
          "height": 173
        },
        "id": "tmyDkCG-uhce",
        "outputId": "70072728-dfc5-499d-ecb9-9a116c8ea247"
      },
      "execution_count": null,
      "outputs": [
        {
          "output_type": "execute_result",
          "data": {
            "text/plain": [
              "                  count  mean  std   min   25%   50%   75%   max\n",
              "age            36631.00 -0.00 1.00 -1.58 -0.78 -0.12  0.69  3.76\n",
              "capital-gain   36631.00 -0.00 1.00 -0.14 -0.14 -0.14 -0.14 13.17\n",
              "capital-loss   36631.00 -0.00 1.00 -0.22 -0.22 -0.22 -0.22 10.57\n",
              "hours-per-week 36631.00 -0.00 1.00 -3.19 -0.03 -0.03  0.37  4.75"
            ],
            "text/html": [
              "\n",
              "  <div id=\"df-e7278fba-464a-4361-bf9f-8f78122d0e0a\" class=\"colab-df-container\">\n",
              "    <div>\n",
              "<style scoped>\n",
              "    .dataframe tbody tr th:only-of-type {\n",
              "        vertical-align: middle;\n",
              "    }\n",
              "\n",
              "    .dataframe tbody tr th {\n",
              "        vertical-align: top;\n",
              "    }\n",
              "\n",
              "    .dataframe thead th {\n",
              "        text-align: right;\n",
              "    }\n",
              "</style>\n",
              "<table border=\"1\" class=\"dataframe\">\n",
              "  <thead>\n",
              "    <tr style=\"text-align: right;\">\n",
              "      <th></th>\n",
              "      <th>count</th>\n",
              "      <th>mean</th>\n",
              "      <th>std</th>\n",
              "      <th>min</th>\n",
              "      <th>25%</th>\n",
              "      <th>50%</th>\n",
              "      <th>75%</th>\n",
              "      <th>max</th>\n",
              "    </tr>\n",
              "  </thead>\n",
              "  <tbody>\n",
              "    <tr>\n",
              "      <th>age</th>\n",
              "      <td>36631.00</td>\n",
              "      <td>-0.00</td>\n",
              "      <td>1.00</td>\n",
              "      <td>-1.58</td>\n",
              "      <td>-0.78</td>\n",
              "      <td>-0.12</td>\n",
              "      <td>0.69</td>\n",
              "      <td>3.76</td>\n",
              "    </tr>\n",
              "    <tr>\n",
              "      <th>capital-gain</th>\n",
              "      <td>36631.00</td>\n",
              "      <td>-0.00</td>\n",
              "      <td>1.00</td>\n",
              "      <td>-0.14</td>\n",
              "      <td>-0.14</td>\n",
              "      <td>-0.14</td>\n",
              "      <td>-0.14</td>\n",
              "      <td>13.17</td>\n",
              "    </tr>\n",
              "    <tr>\n",
              "      <th>capital-loss</th>\n",
              "      <td>36631.00</td>\n",
              "      <td>-0.00</td>\n",
              "      <td>1.00</td>\n",
              "      <td>-0.22</td>\n",
              "      <td>-0.22</td>\n",
              "      <td>-0.22</td>\n",
              "      <td>-0.22</td>\n",
              "      <td>10.57</td>\n",
              "    </tr>\n",
              "    <tr>\n",
              "      <th>hours-per-week</th>\n",
              "      <td>36631.00</td>\n",
              "      <td>-0.00</td>\n",
              "      <td>1.00</td>\n",
              "      <td>-3.19</td>\n",
              "      <td>-0.03</td>\n",
              "      <td>-0.03</td>\n",
              "      <td>0.37</td>\n",
              "      <td>4.75</td>\n",
              "    </tr>\n",
              "  </tbody>\n",
              "</table>\n",
              "</div>\n",
              "    <div class=\"colab-df-buttons\">\n",
              "\n",
              "  <div class=\"colab-df-container\">\n",
              "    <button class=\"colab-df-convert\" onclick=\"convertToInteractive('df-e7278fba-464a-4361-bf9f-8f78122d0e0a')\"\n",
              "            title=\"Convert this dataframe to an interactive table.\"\n",
              "            style=\"display:none;\">\n",
              "\n",
              "  <svg xmlns=\"http://www.w3.org/2000/svg\" height=\"24px\" viewBox=\"0 -960 960 960\">\n",
              "    <path d=\"M120-120v-720h720v720H120Zm60-500h600v-160H180v160Zm220 220h160v-160H400v160Zm0 220h160v-160H400v160ZM180-400h160v-160H180v160Zm440 0h160v-160H620v160ZM180-180h160v-160H180v160Zm440 0h160v-160H620v160Z\"/>\n",
              "  </svg>\n",
              "    </button>\n",
              "\n",
              "  <style>\n",
              "    .colab-df-container {\n",
              "      display:flex;\n",
              "      gap: 12px;\n",
              "    }\n",
              "\n",
              "    .colab-df-convert {\n",
              "      background-color: #E8F0FE;\n",
              "      border: none;\n",
              "      border-radius: 50%;\n",
              "      cursor: pointer;\n",
              "      display: none;\n",
              "      fill: #1967D2;\n",
              "      height: 32px;\n",
              "      padding: 0 0 0 0;\n",
              "      width: 32px;\n",
              "    }\n",
              "\n",
              "    .colab-df-convert:hover {\n",
              "      background-color: #E2EBFA;\n",
              "      box-shadow: 0px 1px 2px rgba(60, 64, 67, 0.3), 0px 1px 3px 1px rgba(60, 64, 67, 0.15);\n",
              "      fill: #174EA6;\n",
              "    }\n",
              "\n",
              "    .colab-df-buttons div {\n",
              "      margin-bottom: 4px;\n",
              "    }\n",
              "\n",
              "    [theme=dark] .colab-df-convert {\n",
              "      background-color: #3B4455;\n",
              "      fill: #D2E3FC;\n",
              "    }\n",
              "\n",
              "    [theme=dark] .colab-df-convert:hover {\n",
              "      background-color: #434B5C;\n",
              "      box-shadow: 0px 1px 3px 1px rgba(0, 0, 0, 0.15);\n",
              "      filter: drop-shadow(0px 1px 2px rgba(0, 0, 0, 0.3));\n",
              "      fill: #FFFFFF;\n",
              "    }\n",
              "  </style>\n",
              "\n",
              "    <script>\n",
              "      const buttonEl =\n",
              "        document.querySelector('#df-e7278fba-464a-4361-bf9f-8f78122d0e0a button.colab-df-convert');\n",
              "      buttonEl.style.display =\n",
              "        google.colab.kernel.accessAllowed ? 'block' : 'none';\n",
              "\n",
              "      async function convertToInteractive(key) {\n",
              "        const element = document.querySelector('#df-e7278fba-464a-4361-bf9f-8f78122d0e0a');\n",
              "        const dataTable =\n",
              "          await google.colab.kernel.invokeFunction('convertToInteractive',\n",
              "                                                    [key], {});\n",
              "        if (!dataTable) return;\n",
              "\n",
              "        const docLinkHtml = 'Like what you see? Visit the ' +\n",
              "          '<a target=\"_blank\" href=https://colab.research.google.com/notebooks/data_table.ipynb>data table notebook</a>'\n",
              "          + ' to learn more about interactive tables.';\n",
              "        element.innerHTML = '';\n",
              "        dataTable['output_type'] = 'display_data';\n",
              "        await google.colab.output.renderOutput(dataTable, element);\n",
              "        const docLink = document.createElement('div');\n",
              "        docLink.innerHTML = docLinkHtml;\n",
              "        element.appendChild(docLink);\n",
              "      }\n",
              "    </script>\n",
              "  </div>\n",
              "\n",
              "\n",
              "<div id=\"df-326f8906-1520-457d-81f1-30e6732c3643\">\n",
              "  <button class=\"colab-df-quickchart\" onclick=\"quickchart('df-326f8906-1520-457d-81f1-30e6732c3643')\"\n",
              "            title=\"Suggest charts\"\n",
              "            style=\"display:none;\">\n",
              "\n",
              "<svg xmlns=\"http://www.w3.org/2000/svg\" height=\"24px\"viewBox=\"0 0 24 24\"\n",
              "     width=\"24px\">\n",
              "    <g>\n",
              "        <path d=\"M19 3H5c-1.1 0-2 .9-2 2v14c0 1.1.9 2 2 2h14c1.1 0 2-.9 2-2V5c0-1.1-.9-2-2-2zM9 17H7v-7h2v7zm4 0h-2V7h2v10zm4 0h-2v-4h2v4z\"/>\n",
              "    </g>\n",
              "</svg>\n",
              "  </button>\n",
              "\n",
              "<style>\n",
              "  .colab-df-quickchart {\n",
              "      --bg-color: #E8F0FE;\n",
              "      --fill-color: #1967D2;\n",
              "      --hover-bg-color: #E2EBFA;\n",
              "      --hover-fill-color: #174EA6;\n",
              "      --disabled-fill-color: #AAA;\n",
              "      --disabled-bg-color: #DDD;\n",
              "  }\n",
              "\n",
              "  [theme=dark] .colab-df-quickchart {\n",
              "      --bg-color: #3B4455;\n",
              "      --fill-color: #D2E3FC;\n",
              "      --hover-bg-color: #434B5C;\n",
              "      --hover-fill-color: #FFFFFF;\n",
              "      --disabled-bg-color: #3B4455;\n",
              "      --disabled-fill-color: #666;\n",
              "  }\n",
              "\n",
              "  .colab-df-quickchart {\n",
              "    background-color: var(--bg-color);\n",
              "    border: none;\n",
              "    border-radius: 50%;\n",
              "    cursor: pointer;\n",
              "    display: none;\n",
              "    fill: var(--fill-color);\n",
              "    height: 32px;\n",
              "    padding: 0;\n",
              "    width: 32px;\n",
              "  }\n",
              "\n",
              "  .colab-df-quickchart:hover {\n",
              "    background-color: var(--hover-bg-color);\n",
              "    box-shadow: 0 1px 2px rgba(60, 64, 67, 0.3), 0 1px 3px 1px rgba(60, 64, 67, 0.15);\n",
              "    fill: var(--button-hover-fill-color);\n",
              "  }\n",
              "\n",
              "  .colab-df-quickchart-complete:disabled,\n",
              "  .colab-df-quickchart-complete:disabled:hover {\n",
              "    background-color: var(--disabled-bg-color);\n",
              "    fill: var(--disabled-fill-color);\n",
              "    box-shadow: none;\n",
              "  }\n",
              "\n",
              "  .colab-df-spinner {\n",
              "    border: 2px solid var(--fill-color);\n",
              "    border-color: transparent;\n",
              "    border-bottom-color: var(--fill-color);\n",
              "    animation:\n",
              "      spin 1s steps(1) infinite;\n",
              "  }\n",
              "\n",
              "  @keyframes spin {\n",
              "    0% {\n",
              "      border-color: transparent;\n",
              "      border-bottom-color: var(--fill-color);\n",
              "      border-left-color: var(--fill-color);\n",
              "    }\n",
              "    20% {\n",
              "      border-color: transparent;\n",
              "      border-left-color: var(--fill-color);\n",
              "      border-top-color: var(--fill-color);\n",
              "    }\n",
              "    30% {\n",
              "      border-color: transparent;\n",
              "      border-left-color: var(--fill-color);\n",
              "      border-top-color: var(--fill-color);\n",
              "      border-right-color: var(--fill-color);\n",
              "    }\n",
              "    40% {\n",
              "      border-color: transparent;\n",
              "      border-right-color: var(--fill-color);\n",
              "      border-top-color: var(--fill-color);\n",
              "    }\n",
              "    60% {\n",
              "      border-color: transparent;\n",
              "      border-right-color: var(--fill-color);\n",
              "    }\n",
              "    80% {\n",
              "      border-color: transparent;\n",
              "      border-right-color: var(--fill-color);\n",
              "      border-bottom-color: var(--fill-color);\n",
              "    }\n",
              "    90% {\n",
              "      border-color: transparent;\n",
              "      border-bottom-color: var(--fill-color);\n",
              "    }\n",
              "  }\n",
              "</style>\n",
              "\n",
              "  <script>\n",
              "    async function quickchart(key) {\n",
              "      const quickchartButtonEl =\n",
              "        document.querySelector('#' + key + ' button');\n",
              "      quickchartButtonEl.disabled = true;  // To prevent multiple clicks.\n",
              "      quickchartButtonEl.classList.add('colab-df-spinner');\n",
              "      try {\n",
              "        const charts = await google.colab.kernel.invokeFunction(\n",
              "            'suggestCharts', [key], {});\n",
              "      } catch (error) {\n",
              "        console.error('Error during call to suggestCharts:', error);\n",
              "      }\n",
              "      quickchartButtonEl.classList.remove('colab-df-spinner');\n",
              "      quickchartButtonEl.classList.add('colab-df-quickchart-complete');\n",
              "    }\n",
              "    (() => {\n",
              "      let quickchartButtonEl =\n",
              "        document.querySelector('#df-326f8906-1520-457d-81f1-30e6732c3643 button');\n",
              "      quickchartButtonEl.style.display =\n",
              "        google.colab.kernel.accessAllowed ? 'block' : 'none';\n",
              "    })();\n",
              "  </script>\n",
              "</div>\n",
              "\n",
              "    </div>\n",
              "  </div>\n"
            ],
            "application/vnd.google.colaboratory.intrinsic+json": {
              "type": "dataframe",
              "summary": "{\n  \"name\": \"X_train_scaled\",\n  \"rows\": 4,\n  \"fields\": [\n    {\n      \"column\": \"count\",\n      \"properties\": {\n        \"dtype\": \"number\",\n        \"std\": 0.0,\n        \"min\": 36631.0,\n        \"max\": 36631.0,\n        \"num_unique_values\": 1,\n        \"samples\": [\n          36631.0\n        ],\n        \"semantic_type\": \"\",\n        \"description\": \"\"\n      }\n    },\n    {\n      \"column\": \"mean\",\n      \"properties\": {\n        \"dtype\": \"number\",\n        \"std\": 1.1716666271165054e-16,\n        \"min\": -2.574022577471685e-16,\n        \"max\": -2.424663317136101e-18,\n        \"num_unique_values\": 4,\n        \"samples\": [\n          -2.9289932871004104e-17\n        ],\n        \"semantic_type\": \"\",\n        \"description\": \"\"\n      }\n    },\n    {\n      \"column\": \"std\",\n      \"properties\": {\n        \"dtype\": \"number\",\n        \"std\": 1.8129866073473578e-16,\n        \"min\": 1.0000136499204897,\n        \"max\": 1.00001364992049,\n        \"num_unique_values\": 2,\n        \"samples\": [\n          1.0000136499204897\n        ],\n        \"semantic_type\": \"\",\n        \"description\": \"\"\n      }\n    },\n    {\n      \"column\": \"min\",\n      \"properties\": {\n        \"dtype\": \"number\",\n        \"std\": 1.4334832943399858,\n        \"min\": -3.1912330365897743,\n        \"max\": -0.14499264310789375,\n        \"num_unique_values\": 4,\n        \"samples\": [\n          -0.14499264310789375\n        ],\n        \"semantic_type\": \"\",\n        \"description\": \"\"\n      }\n    },\n    {\n      \"column\": \"25%\",\n      \"properties\": {\n        \"dtype\": \"number\",\n        \"std\": 0.3320091908617929,\n        \"min\": -0.7770347238747575,\n        \"max\": -0.031210719583149426,\n        \"num_unique_values\": 4,\n        \"samples\": [\n          -0.14499264310789375\n        ],\n        \"semantic_type\": \"\",\n        \"description\": \"\"\n      }\n    },\n    {\n      \"column\": \"50%\",\n      \"properties\": {\n        \"dtype\": \"number\",\n        \"std\": 0.07626543991278217,\n        \"min\": -0.21577879666405758,\n        \"max\": -0.031210719583149426,\n        \"num_unique_values\": 4,\n        \"samples\": [\n          -0.14499264310789375\n        ],\n        \"semantic_type\": \"\",\n        \"description\": \"\"\n      }\n    },\n    {\n      \"column\": \"75%\",\n      \"properties\": {\n        \"dtype\": \"number\",\n        \"std\": 0.430453374647992,\n        \"min\": -0.21577879666405758,\n        \"max\": 0.6860751508952135,\n        \"num_unique_values\": 4,\n        \"samples\": [\n          -0.14499264310789375\n        ],\n        \"semantic_type\": \"\",\n        \"description\": \"\"\n      }\n    },\n    {\n      \"column\": \"max\",\n      \"properties\": {\n        \"dtype\": \"number\",\n        \"std\": 4.541814035551281,\n        \"min\": 3.758605887912153,\n        \"max\": 13.168541069483373,\n        \"num_unique_values\": 4,\n        \"samples\": [\n          13.168541069483373\n        ],\n        \"semantic_type\": \"\",\n        \"description\": \"\"\n      }\n    }\n  ]\n}"
            }
          },
          "metadata": {},
          "execution_count": 26
        }
      ]
    },
    {
      "cell_type": "markdown",
      "source": [
        "<p align=\"justify\">\n",
        "👀 También podemos visualizar el efecto de <code>StandardScaler</code> usando un gráfico de dispersión de cualquier par de características numéricas al mismo tiempo. Podemos observar que <code>StandardScaler</code> no cambia la estructura de los datos en sí, pero los ejes se desplazan y escalan."
      ],
      "metadata": {
        "id": "E2P34bxYvu20"
      }
    },
    {
      "cell_type": "code",
      "source": [
        "import plotly.express as px"
      ],
      "metadata": {
        "id": "5qiYIkKiwQF0"
      },
      "execution_count": null,
      "outputs": []
    },
    {
      "cell_type": "markdown",
      "source": [
        "<p align=\"justify\">\n",
        "👀 Datos sin escalar...\n",
        "</p>\n"
      ],
      "metadata": {
        "id": "_9rlZewMbCbz"
      }
    },
    {
      "cell_type": "code",
      "source": [
        "px.scatter(X_train[:300],\n",
        "           x=\"age\",\n",
        "           y=\"hours-per-week\",\n",
        "           template=\"gridon\",\n",
        "           title=\"age vs. hours per week before StandarScaler\")"
      ],
      "metadata": {
        "colab": {
          "base_uri": "https://localhost:8080/",
          "height": 542
        },
        "id": "3KNEIBWTcge9",
        "outputId": "3ba9ce4f-c109-4079-97e2-f373e1a65a07"
      },
      "execution_count": null,
      "outputs": [
        {
          "output_type": "display_data",
          "data": {
            "text/html": [
              "<html>\n",
              "<head><meta charset=\"utf-8\" /></head>\n",
              "<body>\n",
              "    <div>            <script src=\"https://cdnjs.cloudflare.com/ajax/libs/mathjax/2.7.5/MathJax.js?config=TeX-AMS-MML_SVG\"></script><script type=\"text/javascript\">if (window.MathJax && window.MathJax.Hub && window.MathJax.Hub.Config) {window.MathJax.Hub.Config({SVG: {font: \"STIX-Web\"}});}</script>                <script type=\"text/javascript\">window.PlotlyConfig = {MathJaxConfig: 'local'};</script>\n",
              "        <script charset=\"utf-8\" src=\"https://cdn.plot.ly/plotly-2.24.1.min.js\"></script>                <div id=\"82c2dda3-599c-4140-a13d-a8b6ae98c0ec\" class=\"plotly-graph-div\" style=\"height:525px; width:100%;\"></div>            <script type=\"text/javascript\">                                    window.PLOTLYENV=window.PLOTLYENV || {};                                    if (document.getElementById(\"82c2dda3-599c-4140-a13d-a8b6ae98c0ec\")) {                    Plotly.newPlot(                        \"82c2dda3-599c-4140-a13d-a8b6ae98c0ec\",                        [{\"hovertemplate\":\"age=%{x}\\u003cbr\\u003ehours-per-week=%{y}\\u003cextra\\u003e\\u003c\\u002fextra\\u003e\",\"legendgroup\":\"\",\"marker\":{\"color\":\"#1F77B4\",\"symbol\":\"circle\"},\"mode\":\"markers\",\"name\":\"\",\"orientation\":\"v\",\"showlegend\":false,\"x\":[42,35,51,20,18,44,20,39,39,31,31,44,22,41,26,21,26,65,26,35,54,26,32,20,54,27,19,28,33,47,33,24,42,34,44,55,29,46,36,22,36,28,23,38,27,21,19,47,56,44,44,41,28,56,50,26,46,17,19,25,56,40,80,42,39,70,30,21,52,18,29,43,45,40,45,51,54,25,50,41,35,50,29,36,24,32,61,57,36,41,52,23,26,56,43,44,43,23,49,18,26,54,36,46,40,21,32,41,21,39,28,33,39,22,34,42,25,43,30,18,57,33,40,58,23,34,33,55,35,31,47,20,70,65,36,30,49,32,48,45,33,30,45,41,22,61,25,49,19,23,29,24,22,25,43,26,52,24,31,29,27,30,70,23,36,48,33,35,60,21,31,44,27,36,37,64,17,36,48,31,54,18,27,45,28,21,25,40,34,34,28,21,27,50,30,33,42,46,50,20,38,32,58,65,53,25,49,51,41,76,19,32,27,35,25,51,36,35,36,29,43,61,19,20,31,56,29,26,24,81,30,27,35,35,52,29,63,48,63,38,38,27,20,35,37,58,45,34,28,25,68,27,30,45,29,45,40,51,33,51,19,24,35,27,36,31,47,26,40,35,35,33,31,65,21,33,31,43,51,26,20,37,20,24,26,38,72,49,31,33,31,40,22,52,35,24,40,26,61,29],\"xaxis\":\"x\",\"y\":[37,38,35,80,25,50,12,40,50,70,40,40,40,55,40,40,40,40,40,40,43,40,40,26,35,70,20,40,40,50,50,40,40,40,50,40,25,65,70,25,48,40,50,50,40,40,25,35,40,35,40,45,35,50,35,50,50,20,32,40,40,40,15,8,10,34,40,40,40,35,45,40,40,55,40,30,45,40,40,45,7,40,35,50,40,77,50,40,45,55,16,40,40,55,15,36,40,25,35,25,40,40,40,45,40,30,45,40,35,50,40,45,45,20,59,40,40,55,58,20,57,40,40,20,40,70,60,20,42,42,40,20,30,64,50,40,40,40,40,40,40,40,55,43,40,40,40,60,20,40,40,40,30,40,40,35,48,40,40,20,50,40,40,40,55,40,60,40,15,32,45,55,10,24,99,60,10,48,55,37,40,20,40,40,17,40,45,40,50,40,40,25,50,40,40,15,38,40,50,30,30,35,20,50,36,40,20,40,40,20,18,40,40,35,48,40,40,30,60,30,40,30,40,40,30,40,24,40,50,25,40,48,40,44,46,40,18,60,30,32,48,50,40,40,40,40,40,40,40,34,35,80,40,50,25,40,20,55,50,20,25,30,40,40,40,55,70,38,40,40,40,50,40,24,40,40,50,40,40,40,46,40,40,25,60,40,40,40,40,40,40,60,40,32,40,60,20,45,40,50],\"yaxis\":\"y\",\"type\":\"scatter\"}],                        {\"template\":{\"data\":{\"pie\":[{\"automargin\":true,\"type\":\"pie\"}]},\"layout\":{\"xaxis\":{\"showgrid\":true,\"title\":{\"standoff\":15}},\"yaxis\":{\"showgrid\":true,\"title\":{\"standoff\":15}}}},\"xaxis\":{\"anchor\":\"y\",\"domain\":[0.0,1.0],\"title\":{\"text\":\"age\"}},\"yaxis\":{\"anchor\":\"x\",\"domain\":[0.0,1.0],\"title\":{\"text\":\"hours-per-week\"}},\"legend\":{\"tracegroupgap\":0},\"title\":{\"text\":\"age vs. hours per week before StandarScaler\"}},                        {\"responsive\": true}                    ).then(function(){\n",
              "                            \n",
              "var gd = document.getElementById('82c2dda3-599c-4140-a13d-a8b6ae98c0ec');\n",
              "var x = new MutationObserver(function (mutations, observer) {{\n",
              "        var display = window.getComputedStyle(gd).display;\n",
              "        if (!display || display === 'none') {{\n",
              "            console.log([gd, 'removed!']);\n",
              "            Plotly.purge(gd);\n",
              "            observer.disconnect();\n",
              "        }}\n",
              "}});\n",
              "\n",
              "// Listen for the removal of the full notebook cells\n",
              "var notebookContainer = gd.closest('#notebook-container');\n",
              "if (notebookContainer) {{\n",
              "    x.observe(notebookContainer, {childList: true});\n",
              "}}\n",
              "\n",
              "// Listen for the clearing of the current output cell\n",
              "var outputEl = gd.closest('.output');\n",
              "if (outputEl) {{\n",
              "    x.observe(outputEl, {childList: true});\n",
              "}}\n",
              "\n",
              "                        })                };                            </script>        </div>\n",
              "</body>\n",
              "</html>"
            ]
          },
          "metadata": {}
        }
      ]
    },
    {
      "cell_type": "markdown",
      "source": [
        "<p align=\"justify\">\n",
        "👀 Datos escalados...\n",
        "</p>\n"
      ],
      "metadata": {
        "id": "WDDaJnJ5bM3H"
      }
    },
    {
      "cell_type": "code",
      "source": [
        "px.scatter(X_train_scaled[:300],\n",
        "           x=\"age\",\n",
        "           y=\"hours-per-week\",\n",
        "           template=\"gridon\",\n",
        "           title=\"age vs. hours per week after StandarScaler\")"
      ],
      "metadata": {
        "colab": {
          "base_uri": "https://localhost:8080/",
          "height": 562
        },
        "id": "POd-SxFBdt4b",
        "outputId": "4b0b4746-a6b0-40c6-92c8-6fec33a7932d"
      },
      "execution_count": null,
      "outputs": [
        {
          "output_type": "display_data",
          "data": {
            "text/html": [
              "<html>\n",
              "<head><meta charset=\"utf-8\" /></head>\n",
              "<body>\n",
              "    <div>            <script src=\"https://cdnjs.cloudflare.com/ajax/libs/mathjax/2.7.5/MathJax.js?config=TeX-AMS-MML_SVG\"></script><script type=\"text/javascript\">if (window.MathJax && window.MathJax.Hub && window.MathJax.Hub.Config) {window.MathJax.Hub.Config({SVG: {font: \"STIX-Web\"}});}</script>                <script type=\"text/javascript\">window.PlotlyConfig = {MathJaxConfig: 'local'};</script>\n",
              "        <script charset=\"utf-8\" src=\"https://cdn.plot.ly/plotly-2.24.1.min.js\"></script>                <div id=\"ce726033-ace5-4b63-b239-32b281bcbd10\" class=\"plotly-graph-div\" style=\"height:525px; width:100%;\"></div>            <script type=\"text/javascript\">                                    window.PLOTLYENV=window.PLOTLYENV || {};                                    if (document.getElementById(\"ce726033-ace5-4b63-b239-32b281bcbd10\")) {                    Plotly.newPlot(                        \"ce726033-ace5-4b63-b239-32b281bcbd10\",                        [{\"hovertemplate\":\"age=%{x}\\u003cbr\\u003ehours-per-week=%{y}\\u003cextra\\u003e\\u003c\\u002fextra\\u003e\",\"legendgroup\":\"\",\"marker\":{\"color\":\"#1F77B4\",\"symbol\":\"circle\"},\"mode\":\"markers\",\"name\":\"\",\"orientation\":\"v\",\"showlegend\":false,\"x\":[0.24714218846422226,-0.26494626770526764,0.9055416321107093,-1.362278673782746,-1.5085896612597431,0.39345317594121937,-1.362278673782746,0.027675707248726592,0.027675707248726592,-0.5575682426592619,-0.5575682426592619,0.39345317594121937,-1.215967686305749,0.1739866947257237,-0.9233457113517546,-1.2891231800442473,-0.9233457113517546,1.929718544449689,-0.9233457113517546,-0.26494626770526764,1.1250081133262049,-0.9233457113517546,-0.4844127489207633,-1.362278673782746,1.1250081133262049,-0.8501902176132561,-1.4354341675212445,-0.7770347238747575,-0.41125725518226475,0.612919657156715,-0.41125725518226475,-1.0696566988287517,0.24714218846422226,-0.3381017614437662,0.39345317594121937,1.1981636070647035,-0.703879230136259,0.5397641634182164,-0.19179077396676908,-1.215967686305749,-0.19179077396676908,-0.7770347238747575,-1.1428121925672503,-0.04547978648977197,-0.8501902176132561,-1.2891231800442473,-1.4354341675212445,0.612919657156715,1.271319100803202,0.39345317594121937,0.39345317594121937,0.1739866947257237,-0.7770347238747575,1.271319100803202,0.8323861383722106,-0.9233457113517546,0.5397641634182164,-1.5817451549982415,-1.4354341675212445,-0.9965012050902532,1.271319100803202,0.10083120098722514,3.027050950527167,0.24714218846422226,0.027675707248726592,2.295496013142182,-0.6307237363977604,-1.2891231800442473,0.9786971258492078,-1.5085896612597431,-0.703879230136259,0.3202976822027208,0.4666086696797179,0.10083120098722514,0.4666086696797179,0.9055416321107093,1.1250081133262049,-0.9965012050902532,0.8323861383722106,0.1739866947257237,-0.26494626770526764,0.8323861383722106,-0.703879230136259,-0.19179077396676908,-1.0696566988287517,-0.4844127489207633,1.6370965694956947,1.3444745945417005,-0.19179077396676908,0.1739866947257237,0.9786971258492078,-1.1428121925672503,-0.9233457113517546,1.271319100803202,0.3202976822027208,0.39345317594121937,0.3202976822027208,-1.1428121925672503,0.7592306446337121,-1.5085896612597431,-0.9233457113517546,1.1250081133262049,-0.19179077396676908,0.5397641634182164,0.10083120098722514,-1.2891231800442473,-0.4844127489207633,0.1739866947257237,-1.2891231800442473,0.027675707248726592,-0.7770347238747575,-0.41125725518226475,0.027675707248726592,-1.215967686305749,-0.3381017614437662,0.24714218846422226,-0.9965012050902532,0.3202976822027208,-0.6307237363977604,-1.5085896612597431,1.3444745945417005,-0.41125725518226475,0.10083120098722514,1.417630088280199,-1.1428121925672503,-0.3381017614437662,-0.41125725518226475,1.1981636070647035,-0.26494626770526764,-0.5575682426592619,0.612919657156715,-1.362278673782746,2.295496013142182,1.929718544449689,-0.19179077396676908,-0.6307237363977604,0.7592306446337121,-0.4844127489207633,0.6860751508952135,0.4666086696797179,-0.41125725518226475,-0.6307237363977604,0.4666086696797179,0.1739866947257237,-1.215967686305749,1.6370965694956947,-0.9965012050902532,0.7592306446337121,-1.4354341675212445,-1.1428121925672503,-0.703879230136259,-1.0696566988287517,-1.215967686305749,-0.9965012050902532,0.3202976822027208,-0.9233457113517546,0.9786971258492078,-1.0696566988287517,-0.5575682426592619,-0.703879230136259,-0.8501902176132561,-0.6307237363977604,2.295496013142182,-1.1428121925672503,-0.19179077396676908,0.6860751508952135,-0.41125725518226475,-0.26494626770526764,1.5639410757571963,-1.2891231800442473,-0.5575682426592619,0.39345317594121937,-0.8501902176132561,-0.19179077396676908,-0.11863528022827052,1.8565630507111905,-1.5817451549982415,-0.19179077396676908,0.6860751508952135,-0.5575682426592619,1.1250081133262049,-1.5085896612597431,-0.8501902176132561,0.4666086696797179,-0.7770347238747575,-1.2891231800442473,-0.9965012050902532,0.10083120098722514,-0.3381017614437662,-0.3381017614437662,-0.7770347238747575,-1.2891231800442473,-0.8501902176132561,0.8323861383722106,-0.6307237363977604,-0.41125725518226475,0.24714218846422226,0.5397641634182164,0.8323861383722106,-1.362278673782746,-0.04547978648977197,-0.4844127489207633,1.417630088280199,1.929718544449689,1.0518526195877063,-0.9965012050902532,0.7592306446337121,0.9055416321107093,0.1739866947257237,2.734428975573173,-1.4354341675212445,-0.4844127489207633,-0.8501902176132561,-0.26494626770526764,-0.9965012050902532,0.9055416321107093,-0.19179077396676908,-0.26494626770526764,-0.19179077396676908,-0.703879230136259,0.3202976822027208,1.6370965694956947,-1.4354341675212445,-1.362278673782746,-0.5575682426592619,1.271319100803202,-0.703879230136259,-0.9233457113517546,-1.0696566988287517,3.100206444265666,-0.6307237363977604,-0.8501902176132561,-0.26494626770526764,-0.26494626770526764,0.9786971258492078,-0.703879230136259,1.783407556972692,0.6860751508952135,1.783407556972692,-0.04547978648977197,-0.04547978648977197,-0.8501902176132561,-1.362278673782746,-0.26494626770526764,-0.11863528022827052,1.417630088280199,0.4666086696797179,-0.3381017614437662,-0.7770347238747575,-0.9965012050902532,2.1491850256651848,-0.8501902176132561,-0.6307237363977604,0.4666086696797179,-0.703879230136259,0.4666086696797179,0.10083120098722514,0.9055416321107093,-0.41125725518226475,0.9055416321107093,-1.4354341675212445,-1.0696566988287517,-0.26494626770526764,-0.8501902176132561,-0.19179077396676908,-0.5575682426592619,0.612919657156715,-0.9233457113517546,0.10083120098722514,-0.26494626770526764,-0.26494626770526764,-0.41125725518226475,-0.5575682426592619,1.929718544449689,-1.2891231800442473,-0.41125725518226475,-0.5575682426592619,0.3202976822027208,0.9055416321107093,-0.9233457113517546,-1.362278673782746,-0.11863528022827052,-1.362278673782746,-1.0696566988287517,-0.9233457113517546,-0.04547978648977197,2.4418070006191788,0.7592306446337121,-0.5575682426592619,-0.41125725518226475,-0.5575682426592619,0.10083120098722514,-1.215967686305749,0.9786971258492078,-0.26494626770526764,-1.0696566988287517,0.10083120098722514,-0.9233457113517546,1.6370965694956947,-0.703879230136259],\"xaxis\":\"x\",\"y\":[-0.27428935935288984,-0.19326314609630968,-0.4363417858660501,3.209837810680056,-1.2466039184318514,0.7790514129826519,-2.299944690767393,-0.031210719583149426,0.7790514129826519,2.3995756781142545,-0.031210719583149426,-0.031210719583149426,-0.031210719583149426,1.1841824792655524,-0.031210719583149426,-0.031210719583149426,-0.031210719583149426,-0.031210719583149426,-0.031210719583149426,-0.031210719583149426,0.21186792018659095,-0.031210719583149426,-0.031210719583149426,-1.1655777051752712,-0.4363417858660501,2.3995756781142545,-1.651734984714752,-0.031210719583149426,-0.031210719583149426,0.7790514129826519,0.7790514129826519,-0.031210719583149426,-0.031210719583149426,-0.031210719583149426,0.7790514129826519,-0.031210719583149426,-1.2466039184318514,1.994444611831354,2.3995756781142545,-1.2466039184318514,0.6169989864694916,-0.031210719583149426,0.7790514129826519,0.7790514129826519,-0.031210719583149426,-0.031210719583149426,-1.2466039184318514,-0.4363417858660501,-0.031210719583149426,-0.4363417858660501,-0.031210719583149426,0.3739203466997512,-0.4363417858660501,0.7790514129826519,-0.4363417858660501,0.7790514129826519,0.7790514129826519,-1.651734984714752,-0.6794204256357904,-0.031210719583149426,-0.031210719583149426,-0.031210719583149426,-2.0568660509976526,-2.6240495437937135,-2.4619971172805535,-0.5173679991226302,-0.031210719583149426,-0.031210719583149426,-0.031210719583149426,-0.4363417858660501,0.3739203466997512,-0.031210719583149426,-0.031210719583149426,1.1841824792655524,-0.031210719583149426,-0.8414728521489507,0.3739203466997512,-0.031210719583149426,-0.031210719583149426,0.3739203466997512,-2.705075757050294,-0.031210719583149426,-0.4363417858660501,0.7790514129826519,-0.031210719583149426,2.9667591709103154,0.7790514129826519,-0.031210719583149426,0.3739203466997512,1.1841824792655524,-1.9758398377410726,-0.031210719583149426,-0.031210719583149426,1.1841824792655524,-2.0568660509976526,-0.35531557260946994,-0.031210719583149426,-1.2466039184318514,-0.4363417858660501,-1.2466039184318514,-0.031210719583149426,-0.031210719583149426,-0.031210719583149426,0.3739203466997512,-0.031210719583149426,-0.8414728521489507,0.3739203466997512,-0.031210719583149426,-0.4363417858660501,0.7790514129826519,-0.031210719583149426,0.3739203466997512,0.3739203466997512,-1.651734984714752,1.508287332291873,-0.031210719583149426,-0.031210719583149426,1.1841824792655524,1.4272611190352928,-1.651734984714752,1.3462349057787129,-0.031210719583149426,-0.031210719583149426,-1.651734984714752,-0.031210719583149426,2.3995756781142545,1.5893135455484533,-1.651734984714752,0.13084170693001082,0.13084170693001082,-0.031210719583149426,-1.651734984714752,-0.8414728521489507,1.9134183985747737,0.7790514129826519,-0.031210719583149426,-0.031210719583149426,-0.031210719583149426,-0.031210719583149426,-0.031210719583149426,-0.031210719583149426,-0.031210719583149426,1.1841824792655524,0.21186792018659095,-0.031210719583149426,-0.031210719583149426,-0.031210719583149426,1.5893135455484533,-1.651734984714752,-0.031210719583149426,-0.031210719583149426,-0.031210719583149426,-0.8414728521489507,-0.031210719583149426,-0.031210719583149426,-0.4363417858660501,0.6169989864694916,-0.031210719583149426,-0.031210719583149426,-1.651734984714752,0.7790514129826519,-0.031210719583149426,-0.031210719583149426,-0.031210719583149426,1.1841824792655524,-0.031210719583149426,1.5893135455484533,-0.031210719583149426,-2.0568660509976526,-0.6794204256357904,0.3739203466997512,1.1841824792655524,-2.4619971172805535,-1.3276301316884316,4.749335862555078,1.5893135455484533,-2.4619971172805535,0.6169989864694916,1.1841824792655524,-0.27428935935288984,-0.031210719583149426,-1.651734984714752,-0.031210719583149426,-0.031210719583149426,-1.8948136244844924,-0.031210719583149426,0.3739203466997512,-0.031210719583149426,0.7790514129826519,-0.031210719583149426,-0.031210719583149426,-1.2466039184318514,0.7790514129826519,-0.031210719583149426,-0.031210719583149426,-2.0568660509976526,-0.19326314609630968,-0.031210719583149426,0.7790514129826519,-0.8414728521489507,-0.8414728521489507,-0.4363417858660501,-1.651734984714752,0.7790514129826519,-0.35531557260946994,-0.031210719583149426,-1.651734984714752,-0.031210719583149426,-0.031210719583149426,-1.651734984714752,-1.8137874112279122,-0.031210719583149426,-0.031210719583149426,-0.4363417858660501,0.6169989864694916,-0.031210719583149426,-0.031210719583149426,-0.8414728521489507,1.5893135455484533,-0.8414728521489507,-0.031210719583149426,-0.8414728521489507,-0.031210719583149426,-0.031210719583149426,-0.8414728521489507,-0.031210719583149426,-1.3276301316884316,-0.031210719583149426,0.7790514129826519,-1.2466039184318514,-0.031210719583149426,0.6169989864694916,-0.031210719583149426,0.2928941334431711,0.4549465599563314,-0.031210719583149426,-1.8137874112279122,1.5893135455484533,-0.8414728521489507,-0.6794204256357904,0.6169989864694916,0.7790514129826519,-0.031210719583149426,-0.031210719583149426,-0.031210719583149426,-0.031210719583149426,-0.031210719583149426,-0.031210719583149426,-0.031210719583149426,-0.5173679991226302,-0.4363417858660501,3.209837810680056,-0.031210719583149426,0.7790514129826519,-1.2466039184318514,-0.031210719583149426,-1.651734984714752,1.1841824792655524,0.7790514129826519,-1.651734984714752,-1.2466039184318514,-0.8414728521489507,-0.031210719583149426,-0.031210719583149426,-0.031210719583149426,1.1841824792655524,2.3995756781142545,-0.19326314609630968,-0.031210719583149426,-0.031210719583149426,-0.031210719583149426,0.7790514129826519,-0.031210719583149426,-1.3276301316884316,-0.031210719583149426,-0.031210719583149426,0.7790514129826519,-0.031210719583149426,-0.031210719583149426,-0.031210719583149426,0.4549465599563314,-0.031210719583149426,-0.031210719583149426,-1.2466039184318514,1.5893135455484533,-0.031210719583149426,-0.031210719583149426,-0.031210719583149426,-0.031210719583149426,-0.031210719583149426,-0.031210719583149426,1.5893135455484533,-0.031210719583149426,-0.6794204256357904,-0.031210719583149426,1.5893135455484533,-1.651734984714752,0.3739203466997512,-0.031210719583149426,0.7790514129826519],\"yaxis\":\"y\",\"type\":\"scatter\"}],                        {\"template\":{\"data\":{\"pie\":[{\"automargin\":true,\"type\":\"pie\"}]},\"layout\":{\"xaxis\":{\"showgrid\":true,\"title\":{\"standoff\":15}},\"yaxis\":{\"showgrid\":true,\"title\":{\"standoff\":15}}}},\"xaxis\":{\"anchor\":\"y\",\"domain\":[0.0,1.0],\"title\":{\"text\":\"age\"}},\"yaxis\":{\"anchor\":\"x\",\"domain\":[0.0,1.0],\"title\":{\"text\":\"hours-per-week\"}},\"legend\":{\"tracegroupgap\":0},\"title\":{\"text\":\"age vs. hours per week after StandarScaler\"}},                        {\"responsive\": true}                    ).then(function(){\n",
              "                            \n",
              "var gd = document.getElementById('ce726033-ace5-4b63-b239-32b281bcbd10');\n",
              "var x = new MutationObserver(function (mutations, observer) {{\n",
              "        var display = window.getComputedStyle(gd).display;\n",
              "        if (!display || display === 'none') {{\n",
              "            console.log([gd, 'removed!']);\n",
              "            Plotly.purge(gd);\n",
              "            observer.disconnect();\n",
              "        }}\n",
              "}});\n",
              "\n",
              "// Listen for the removal of the full notebook cells\n",
              "var notebookContainer = gd.closest('#notebook-container');\n",
              "if (notebookContainer) {{\n",
              "    x.observe(notebookContainer, {childList: true});\n",
              "}}\n",
              "\n",
              "// Listen for the clearing of the current output cell\n",
              "var outputEl = gd.closest('.output');\n",
              "if (outputEl) {{\n",
              "    x.observe(outputEl, {childList: true});\n",
              "}}\n",
              "\n",
              "                        })                };                            </script>        </div>\n",
              "</body>\n",
              "</html>"
            ]
          },
          "metadata": {}
        }
      ]
    },
    {
      "cell_type": "markdown",
      "source": [
        " ## **<font color=\"DeepPink\">Combinación de operaciones secuenciales - Pipeline</font>**"
      ],
      "metadata": {
        "id": "bQn_FsPogqZa"
      }
    },
    {
      "cell_type": "markdown",
      "source": [
        "<p align=\"justify\">\n",
        "👀 Ahora podemos combinar fácilmente todas las operaciones secuenciales con un <code>Pipeline</code> de <code>scikit-learn</code>, que encadena las operaciones y se usa como cualquier otro clasificador o regresor.\n",
        "<br><br>\n",
        "La función auxiliar <code>make_pipeline()</code> creará un <code>Pipeline</code> y tomará como argumentos las sucesivas transformaciones a realizar en el conjunto de datos, seguidas del clasificador o modelo regresor que se esté formulando. Lo vemos a continuación:"
      ],
      "metadata": {
        "id": "xP8wxnRIech9"
      }
    },
    {
      "cell_type": "markdown",
      "source": [
        "https://scikit-learn.org/stable/modules/generated/sklearn.pipeline.make_pipeline.html"
      ],
      "metadata": {
        "id": "_9_ZH6IxbyhG"
      }
    },
    {
      "cell_type": "code",
      "source": [
        "import time\n",
        "from sklearn.linear_model import LogisticRegression\n",
        "from sklearn.pipeline import make_pipeline"
      ],
      "metadata": {
        "id": "8ABcEl00fI4f"
      },
      "execution_count": null,
      "outputs": []
    },
    {
      "cell_type": "code",
      "source": [
        "model = make_pipeline(StandardScaler(), LogisticRegression())\n",
        "model"
      ],
      "metadata": {
        "colab": {
          "base_uri": "https://localhost:8080/",
          "height": 164
        },
        "id": "vkNKsLf2fN9i",
        "outputId": "3b1f5794-d14e-4c16-bfab-9ac88d99fa18"
      },
      "execution_count": null,
      "outputs": [
        {
          "output_type": "execute_result",
          "data": {
            "text/plain": [
              "Pipeline(steps=[('standardscaler', StandardScaler()),\n",
              "                ('logisticregression', LogisticRegression())])"
            ],
            "text/html": [
              "<style>#sk-container-id-3 {color: black;background-color: white;}#sk-container-id-3 pre{padding: 0;}#sk-container-id-3 div.sk-toggleable {background-color: white;}#sk-container-id-3 label.sk-toggleable__label {cursor: pointer;display: block;width: 100%;margin-bottom: 0;padding: 0.3em;box-sizing: border-box;text-align: center;}#sk-container-id-3 label.sk-toggleable__label-arrow:before {content: \"▸\";float: left;margin-right: 0.25em;color: #696969;}#sk-container-id-3 label.sk-toggleable__label-arrow:hover:before {color: black;}#sk-container-id-3 div.sk-estimator:hover label.sk-toggleable__label-arrow:before {color: black;}#sk-container-id-3 div.sk-toggleable__content {max-height: 0;max-width: 0;overflow: hidden;text-align: left;background-color: #f0f8ff;}#sk-container-id-3 div.sk-toggleable__content pre {margin: 0.2em;color: black;border-radius: 0.25em;background-color: #f0f8ff;}#sk-container-id-3 input.sk-toggleable__control:checked~div.sk-toggleable__content {max-height: 200px;max-width: 100%;overflow: auto;}#sk-container-id-3 input.sk-toggleable__control:checked~label.sk-toggleable__label-arrow:before {content: \"▾\";}#sk-container-id-3 div.sk-estimator input.sk-toggleable__control:checked~label.sk-toggleable__label {background-color: #d4ebff;}#sk-container-id-3 div.sk-label input.sk-toggleable__control:checked~label.sk-toggleable__label {background-color: #d4ebff;}#sk-container-id-3 input.sk-hidden--visually {border: 0;clip: rect(1px 1px 1px 1px);clip: rect(1px, 1px, 1px, 1px);height: 1px;margin: -1px;overflow: hidden;padding: 0;position: absolute;width: 1px;}#sk-container-id-3 div.sk-estimator {font-family: monospace;background-color: #f0f8ff;border: 1px dotted black;border-radius: 0.25em;box-sizing: border-box;margin-bottom: 0.5em;}#sk-container-id-3 div.sk-estimator:hover {background-color: #d4ebff;}#sk-container-id-3 div.sk-parallel-item::after {content: \"\";width: 100%;border-bottom: 1px solid gray;flex-grow: 1;}#sk-container-id-3 div.sk-label:hover label.sk-toggleable__label {background-color: #d4ebff;}#sk-container-id-3 div.sk-serial::before {content: \"\";position: absolute;border-left: 1px solid gray;box-sizing: border-box;top: 0;bottom: 0;left: 50%;z-index: 0;}#sk-container-id-3 div.sk-serial {display: flex;flex-direction: column;align-items: center;background-color: white;padding-right: 0.2em;padding-left: 0.2em;position: relative;}#sk-container-id-3 div.sk-item {position: relative;z-index: 1;}#sk-container-id-3 div.sk-parallel {display: flex;align-items: stretch;justify-content: center;background-color: white;position: relative;}#sk-container-id-3 div.sk-item::before, #sk-container-id-3 div.sk-parallel-item::before {content: \"\";position: absolute;border-left: 1px solid gray;box-sizing: border-box;top: 0;bottom: 0;left: 50%;z-index: -1;}#sk-container-id-3 div.sk-parallel-item {display: flex;flex-direction: column;z-index: 1;position: relative;background-color: white;}#sk-container-id-3 div.sk-parallel-item:first-child::after {align-self: flex-end;width: 50%;}#sk-container-id-3 div.sk-parallel-item:last-child::after {align-self: flex-start;width: 50%;}#sk-container-id-3 div.sk-parallel-item:only-child::after {width: 0;}#sk-container-id-3 div.sk-dashed-wrapped {border: 1px dashed gray;margin: 0 0.4em 0.5em 0.4em;box-sizing: border-box;padding-bottom: 0.4em;background-color: white;}#sk-container-id-3 div.sk-label label {font-family: monospace;font-weight: bold;display: inline-block;line-height: 1.2em;}#sk-container-id-3 div.sk-label-container {text-align: center;}#sk-container-id-3 div.sk-container {/* jupyter's `normalize.less` sets `[hidden] { display: none; }` but bootstrap.min.css set `[hidden] { display: none !important; }` so we also need the `!important` here to be able to override the default hidden behavior on the sphinx rendered scikit-learn.org. See: https://github.com/scikit-learn/scikit-learn/issues/21755 */display: inline-block !important;position: relative;}#sk-container-id-3 div.sk-text-repr-fallback {display: none;}</style><div id=\"sk-container-id-3\" class=\"sk-top-container\"><div class=\"sk-text-repr-fallback\"><pre>Pipeline(steps=[(&#x27;standardscaler&#x27;, StandardScaler()),\n",
              "                (&#x27;logisticregression&#x27;, LogisticRegression())])</pre><b>In a Jupyter environment, please rerun this cell to show the HTML representation or trust the notebook. <br />On GitHub, the HTML representation is unable to render, please try loading this page with nbviewer.org.</b></div><div class=\"sk-container\" hidden><div class=\"sk-item sk-dashed-wrapped\"><div class=\"sk-label-container\"><div class=\"sk-label sk-toggleable\"><input class=\"sk-toggleable__control sk-hidden--visually\" id=\"sk-estimator-id-3\" type=\"checkbox\" ><label for=\"sk-estimator-id-3\" class=\"sk-toggleable__label sk-toggleable__label-arrow\">Pipeline</label><div class=\"sk-toggleable__content\"><pre>Pipeline(steps=[(&#x27;standardscaler&#x27;, StandardScaler()),\n",
              "                (&#x27;logisticregression&#x27;, LogisticRegression())])</pre></div></div></div><div class=\"sk-serial\"><div class=\"sk-item\"><div class=\"sk-estimator sk-toggleable\"><input class=\"sk-toggleable__control sk-hidden--visually\" id=\"sk-estimator-id-4\" type=\"checkbox\" ><label for=\"sk-estimator-id-4\" class=\"sk-toggleable__label sk-toggleable__label-arrow\">StandardScaler</label><div class=\"sk-toggleable__content\"><pre>StandardScaler()</pre></div></div></div><div class=\"sk-item\"><div class=\"sk-estimator sk-toggleable\"><input class=\"sk-toggleable__control sk-hidden--visually\" id=\"sk-estimator-id-5\" type=\"checkbox\" ><label for=\"sk-estimator-id-5\" class=\"sk-toggleable__label sk-toggleable__label-arrow\">LogisticRegression</label><div class=\"sk-toggleable__content\"><pre>LogisticRegression()</pre></div></div></div></div></div></div></div>"
            ]
          },
          "metadata": {},
          "execution_count": 30
        }
      ]
    },
    {
      "cell_type": "markdown",
      "source": [
        "<p align=\"justify\">\n",
        "👀 La función <code>make_pipeline</code> no requiere que se le dé un nombre a cada paso secuencial. De hecho, nótese que se asignó automáticamente el nombre \"standardscaler\" en el <code>Pipeline</code> resultante. Podemos comprobar el nombre de cada paso de nuestro modelo de la siguiente forma, utilizando la propiedad <code>named_steps</code>:"
      ],
      "metadata": {
        "id": "u7ocCgX5hDmA"
      }
    },
    {
      "cell_type": "code",
      "source": [
        "model.named_steps"
      ],
      "metadata": {
        "colab": {
          "base_uri": "https://localhost:8080/"
        },
        "id": "Kssl5gLKiJ6f",
        "outputId": "325bca76-094f-401e-bfe5-2c4fea6e8dd1"
      },
      "execution_count": null,
      "outputs": [
        {
          "output_type": "execute_result",
          "data": {
            "text/plain": [
              "{'standardscaler': StandardScaler(),\n",
              " 'logisticregression': LogisticRegression()}"
            ]
          },
          "metadata": {},
          "execution_count": 31
        }
      ]
    },
    {
      "cell_type": "markdown",
      "source": [
        " # **<font color=\"DeepPink\">Ajuste y prediccion</font>**"
      ],
      "metadata": {
        "id": "xVTqpi0rw782"
      }
    },
    {
      "cell_type": "code",
      "source": [
        "start = time.time()\n",
        "model.fit(X_train, y_train)\n",
        "elapsed_time = time.time() - start"
      ],
      "metadata": {
        "id": "DMbdgpF-jUDp"
      },
      "execution_count": null,
      "outputs": []
    },
    {
      "cell_type": "markdown",
      "source": [
        "<p align=\"justify\">\n",
        "👀 Al llamar al método <code>model.fit</code>, se llamará al método <code>fit_transform</code> de cada transformador subyacente (aquí, en este modelo hay un solo transformador) en el <code>Pipeline</code> para:\n",
        "<br><br>\n",
        "\n",
        "* Ajustar el modelo.\n",
        "* Transformar los datos de entrenamiento.\n",
        "\n",
        "<br>\n",
        "<p align=\"justify\">\n",
        "Finalmente, los datos preprocesados se proporcionan para entrenar al predictor."
      ],
      "metadata": {
        "id": "ZzbYNSztw73v"
      }
    },
    {
      "cell_type": "code",
      "source": [
        "predicted_target = model.predict(X_test)\n",
        "predicted_target[:10]"
      ],
      "metadata": {
        "colab": {
          "base_uri": "https://localhost:8080/"
        },
        "id": "45d8x4V_m90_",
        "outputId": "98342818-ee33-47b4-f12e-64c83d4caf3e"
      },
      "execution_count": null,
      "outputs": [
        {
          "output_type": "execute_result",
          "data": {
            "text/plain": [
              "array([' <=50K', ' <=50K', ' <=50K', ' <=50K', ' <=50K', ' <=50K',\n",
              "       ' <=50K', ' <=50K', ' <=50K', ' <=50K'], dtype=object)"
            ]
          },
          "metadata": {},
          "execution_count": 33
        }
      ]
    },
    {
      "cell_type": "markdown",
      "source": [
        "<p align=\"justify\">\n",
        "👀 Se llama al método <code>transform</code> de cada transformador (aquí, en este modelo tenemos un solo transformador) para preprocesar los datos.\n",
        "<br><br>\n",
        "Hay que tener en cuenta que no es necesario llamar al método de ajuste para estos transformadores porque estamos usando los estados del modelo calculados al llamar a <code>model.fit</code>. Luego, los datos preprocesados se proporcionan al predictor que generará el objetivo pronosticado utilizando el método <code>predict</code>.\n"
      ],
      "metadata": {
        "id": "oYT2FyOLw7yW"
      }
    },
    {
      "cell_type": "markdown",
      "source": [
        " # **<font color=\"DeepPink\">Score</font>**"
      ],
      "metadata": {
        "id": "r4HrsrujpNlT"
      }
    },
    {
      "cell_type": "markdown",
      "source": [
        "<p align=\"justify\">\n",
        "👀 Ahora podemos comprobar la puntuación llamando al método <code>model.score</code>. Por lo tanto, verificamos el rendimiento computacional y de generalización del <code>Pipeline</code> predictivo:\n"
      ],
      "metadata": {
        "id": "eJxU0tvvpZDu"
      }
    },
    {
      "cell_type": "code",
      "source": [
        "model_name = model.__class__.__name__\n",
        "score = model.score(X_test, y_test)\n",
        "print(\"\")\n",
        "print(f\"The accuracy using a {model_name} is {score:.3f} \\n\"\n",
        "      f\"with a fitting time of {elapsed_time:.3f} seconds \\n\"\n",
        "      f\"in {model[-1].n_iter_[0]} iterations...\")"
      ],
      "metadata": {
        "colab": {
          "base_uri": "https://localhost:8080/"
        },
        "id": "RJhZhM59ocJn",
        "outputId": "0adbf5a5-07af-4093-c6c6-e2e2c3ff8723"
      },
      "execution_count": null,
      "outputs": [
        {
          "output_type": "stream",
          "name": "stdout",
          "text": [
            "\n",
            "The accuracy using a Pipeline is 0.799 \n",
            "with a fitting time of 0.121 seconds \n",
            "in 12 iterations...\n"
          ]
        }
      ]
    },
    {
      "cell_type": "markdown",
      "source": [
        " # **<font color=\"DeepPink\">Comparando...</font>**"
      ],
      "metadata": {
        "id": "cAkREq5Mw7ou"
      }
    },
    {
      "cell_type": "markdown",
      "source": [
        "<p align=\"justify\">\n",
        "👀 Podríamos comparar el modelo predictivo anterior, con el modelo predictivo que no escala el vector de características:\n"
      ],
      "metadata": {
        "id": "I8e4oNaTpqE5"
      }
    },
    {
      "cell_type": "code",
      "source": [
        "model = LogisticRegression()\n",
        "start = time.time()\n",
        "model.fit(X_train, y_train)\n",
        "elapsed_time = time.time() - start"
      ],
      "metadata": {
        "id": "zM9CoJyepqk8"
      },
      "execution_count": null,
      "outputs": []
    },
    {
      "cell_type": "code",
      "source": [
        "model_name = model.__class__.__name__\n",
        "score = model.score(X_test, y_test)\n",
        "print(\"\")\n",
        "print(f\"The accuracy using a {model_name} is {score:.3f} \\n\"\n",
        "      f\"with a fitting time of {elapsed_time:.3f} seconds \\n\"\n",
        "      f\"in {model.n_iter_[0]} iterations...\")"
      ],
      "metadata": {
        "colab": {
          "base_uri": "https://localhost:8080/"
        },
        "id": "_oDPYNhQqJUj",
        "outputId": "7919fadd-40f3-44f0-e36c-f79244335e0b"
      },
      "execution_count": null,
      "outputs": [
        {
          "output_type": "stream",
          "name": "stdout",
          "text": [
            "\n",
            "The accuracy using a LogisticRegression is 0.799 \n",
            "with a fitting time of 0.262 seconds \n",
            "in 56 iterations...\n"
          ]
        }
      ]
    },
    {
      "cell_type": "markdown",
      "source": [
        "<p align=\"justify\">\n",
        "👀 Vemos que escalar los datos antes de entrenar la regresión logística fue beneficioso en términos de rendimiento computacional. De hecho, el número de iteraciones disminuyó al igual que el tiempo de entrenamiento. El rendimiento  no cambió ya que ambos modelos convergieron en el mismo valor de <code>accuracy</code>.\n",
        "\n",
        "Trabajar con datos no escalados forzará potencialmente al algoritmo a iterar más, como se muestra en el ejemplo anterior. También existe un escenario catastrófico donde el número de iteraciones requeridas podría ser mayor que el número máximo de iteraciones permitidas por el parámetro predictor (controlado por <code>max_iter</code>).\n",
        "<br><br>\n",
        "❗ Por lo tanto, antes de aumentar <code>max_iter</code>, hay que asegurarse de que los datos estén bien escalados."
      ],
      "metadata": {
        "id": "N7R0j_hPqA0H"
      }
    },
    {
      "cell_type": "markdown",
      "source": [
        " # **<font color=\"DeepPink\">Conclusiones</font>**"
      ],
      "metadata": {
        "id": "AeFSFlMVY2kF"
      }
    },
    {
      "cell_type": "markdown",
      "source": [
        "<p align=\"justify\">\n",
        "👀 En este colab nosotros:<br><br>\n",
        "✅ Cargamos los datos de un archivo <code>CSV</code> usando <code>Pandas</code>.<br>✅ Examinamos las variables numéricas.<br>✅\n",
        "Tambien hicimos un modelo dividiendo el conjunto de datos con <code>train_test_split()</code> <br>✅ Escalamos el vector de caracteristicas. <br>✅ Hicimos un Pipeline. <br>✅ Entrenamos un modelo de regresión logística. <br>✅ Predecimos en el modelo.<br>✅ Y por último comparamos con un modelo sin escalar el vector de características.\n",
        "</p>\n",
        "\n",
        "<p align=\"justify\">\n",
        "\n"
      ],
      "metadata": {
        "id": "hMlr5a9OY9xY"
      }
    },
    {
      "cell_type": "markdown",
      "source": [
        "<br>\n",
        "<br>\n",
        "<p align=\"center\"><b>\n",
        "💗\n",
        "<font color=\"DeepPink\">\n",
        "Hemos llegado al final de nuestro colab, a seguir codeando...\n",
        "</font>\n",
        "</p>\n"
      ],
      "metadata": {
        "id": "wtgChAZSaUMQ"
      }
    }
  ]
}