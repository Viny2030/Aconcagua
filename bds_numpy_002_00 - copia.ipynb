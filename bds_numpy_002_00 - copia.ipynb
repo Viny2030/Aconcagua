{
  "nbformat": 4,
  "nbformat_minor": 0,
  "metadata": {
    "colab": {
      "provenance": [],
      "toc_visible": true
    },
    "kernelspec": {
      "name": "python3",
      "display_name": "Python 3"
    },
    "language_info": {
      "name": "python"
    }
  },
  "cells": [
    {
      "cell_type": "markdown",
      "source": [
        "<p align=\"center\">\n",
        "<img src=\"https://numpy.org/images/logo.svg\" width=\"80\" height=\"\">\n",
        "</p>\n"
      ],
      "metadata": {
        "id": "XM-hn7ZLmgQc"
      }
    },
    {
      "cell_type": "markdown",
      "source": [
        "https://numpy.org"
      ],
      "metadata": {
        "id": "iw1xUwq1fpWm"
      }
    },
    {
      "cell_type": "markdown",
      "source": [
        " # **<font color=\"RoyalBlue\">Análisis de datos con Numpy</font>**"
      ],
      "metadata": {
        "id": "_o8tuKydjnRZ"
      }
    },
    {
      "cell_type": "markdown",
      "source": [
        "<p align=\"justify\">\n",
        "🔎 El análisis de datos con <code>NumPy</code> implica el extraer información valiosa de los conjuntos de datos. <code>NumPy</code> proporciona herramientas eficientes para manipular y analizar grandes cantidades de datos numéricos, lo que lo hace facilita el análisis de datos.\n",
        "<br><br>\n",
        "Con <code>NumPy</code>, se pueden realizar operaciones matemáticas y estadísticas avanzadas, como cálculos de promedios, desviaciones estándar, correlaciones y análisis de tendencias, que son fundamentales para comprender  rendimientos y tendencias del mercado. Además, <code>NumPy</code> permite la manipulación de arrays multidimensionales, lo que facilita la visualización y el procesamiento de datos complejos, como datos de ventas, finanzas, inventario y comportamiento del cliente."
      ],
      "metadata": {
        "id": "hdZ28u0geqFP"
      }
    },
    {
      "cell_type": "markdown",
      "source": [
        "<p align=\"justify\"> 👀 Por convención, de esta manera se importa <code>Numpy</code>:  </p>"
      ],
      "metadata": {
        "id": "riE9ZSRbOdsF"
      }
    },
    {
      "cell_type": "code",
      "source": [
        "import numpy as np"
      ],
      "metadata": {
        "id": "dQtWrchXqRb3"
      },
      "execution_count": null,
      "outputs": []
    },
    {
      "cell_type": "markdown",
      "source": [
        " # **<font color=\"RoyalBlue\">Carga de datos en NumPy</font>**"
      ],
      "metadata": {
        "id": "Y7LDCZ14PIKr"
      }
    },
    {
      "cell_type": "markdown",
      "source": [
        "<p align=\"justify\">\n",
        "La carga de datos es el primer paso en cualquier análisis de datos. NumPy proporciona varias funciones para cargar datos desde diferentes fuentes, como archivos CSV, TSV, TXT u otros formatos.\n",
        "<br><br>\n",
        "Estas son algunas de las formas comunes de cargar datos en NumPy:"
      ],
      "metadata": {
        "id": "YicJtxU_PTMu"
      }
    },
    {
      "cell_type": "markdown",
      "source": [
        " ## **<font color=\"RoyalBlue\">Carga de datos desde archivos CSV</font>**"
      ],
      "metadata": {
        "id": "60V6PtEHVutB"
      }
    },
    {
      "cell_type": "markdown",
      "source": [
        "<p align=\"justify\">\n",
        "✅ La función <code>numpy.loadtxt()</code> se utiliza para cargar datos desde archivos CSV.\n",
        "<br><br>\n",
        "Por ejemplo, supongamos que tenemos un archivo llamado \"DatosNumpy2.csv\" con datos separados por comas:\n",
        "\n",
        "```\n",
        " 450.  343.  1200.  7876.  2887.\n",
        "3837.  220.  3746.   897.  3487.\n",
        " 987.  483.  9874.  6473.  8662.\n",
        "5837.  614.  6846.  5239.  5958.\n",
        "```\n",
        "\n",
        "👀Podemos cargar estos datos en un array NumPy de la siguiente manera:\n",
        "\n"
      ],
      "metadata": {
        "id": "cfXlP2gCV5k6"
      }
    },
    {
      "cell_type": "code",
      "source": [
        "url = \"https://raw.githubusercontent.com/cristiandarioortegayubro/BDS/main/datasets/\"\n",
        "archivo = \"DatosNumPy2.csv\""
      ],
      "metadata": {
        "id": "mmz1LqYyXYTB"
      },
      "execution_count": null,
      "outputs": []
    },
    {
      "cell_type": "code",
      "source": [
        "data = np.loadtxt(url+archivo, delimiter=\";\")\n",
        "data"
      ],
      "metadata": {
        "colab": {
          "base_uri": "https://localhost:8080/"
        },
        "id": "S-b0E4QIXXPC",
        "outputId": "3ae3d5ab-fdb1-41c4-98d9-4f8bce36d132"
      },
      "execution_count": null,
      "outputs": [
        {
          "output_type": "execute_result",
          "data": {
            "text/plain": [
              "array([[ 450.,  343., 1200., 7876., 2887.],\n",
              "       [3837.,  220., 3746.,  897., 3487.],\n",
              "       [ 987.,  483., 9874., 6473., 8662.],\n",
              "       [5837.,  614., 6846., 5239., 5958.]])"
            ]
          },
          "metadata": {},
          "execution_count": 19
        }
      ]
    },
    {
      "cell_type": "markdown",
      "source": [
        "<p align=\"justify\">\n",
        "✅ Se crea un array NumPy bidimensional donde cada fila representa una observación y cada columna representa una variable."
      ],
      "metadata": {
        "id": "XAydOWOcbAby"
      }
    },
    {
      "cell_type": "markdown",
      "source": [
        " ## **<font color=\"RoyalBlue\">Carga de datos desde archivos TSV o TXT</font>**"
      ],
      "metadata": {
        "id": "SFKrNSPebXCO"
      }
    },
    {
      "cell_type": "markdown",
      "source": [
        "<p align=\"justify\">\n",
        "✅ La función <code>numpy.loadtxt()</code> también se puede utilizar para cargar datos desde archivos de texto con diferentes delimitadores.\n",
        "<br><br>\n",
        "Por ejemplo, si tenemos un archivo llamado \"DatosNumPy.tsv\" con datos separados por tabulaciones:\n",
        "\n",
        "```\n",
        " 450.  343.  1200.  7876.  2887.\n",
        "3837.  220.  3746.   897.  3487.\n",
        " 987.  483.  9874.  6473.  8662.\n",
        "5837.  614.  6846.  5239.  5958.\n",
        "```\n",
        "\n",
        "👀 Podemos cargar los datos de la misma manera que con un archivo CSV:\n"
      ],
      "metadata": {
        "id": "H8JfG6Fxbggi"
      }
    },
    {
      "cell_type": "code",
      "source": [
        "url_tsv = \"https://raw.githubusercontent.com/cristiandarioortegayubro/BDS/main/datasets/\"\n",
        "archivo_tsv = \"DatosNumPy.tsv\""
      ],
      "metadata": {
        "id": "4Bl3i1wob96Z"
      },
      "execution_count": null,
      "outputs": []
    },
    {
      "cell_type": "code",
      "source": [
        "data = np.loadtxt(url_tsv+archivo_tsv)\n",
        "data"
      ],
      "metadata": {
        "colab": {
          "base_uri": "https://localhost:8080/"
        },
        "id": "YqSzd5ANczNR",
        "outputId": "f80368ae-71a5-45b3-dba3-d5cf0a7e679d"
      },
      "execution_count": null,
      "outputs": [
        {
          "output_type": "execute_result",
          "data": {
            "text/plain": [
              "array([[ 450.,  343., 1200., 7876., 2887.],\n",
              "       [3837.,  220., 3746.,  897., 3487.],\n",
              "       [ 987.,  483., 9874., 6473., 8662.],\n",
              "       [5837.,  614., 6846., 5239., 5958.]])"
            ]
          },
          "metadata": {},
          "execution_count": 23
        }
      ]
    },
    {
      "cell_type": "markdown",
      "source": [
        " ## **<font color=\"RoyalBlue\">Manejo de datos faltantes</font>**"
      ],
      "metadata": {
        "id": "ll9pwvnWd2i5"
      }
    },
    {
      "cell_type": "markdown",
      "source": [
        "<p align=\"justify\">\n",
        "En algunos casos, los datos pueden tener valores faltantes representados por un valor especial, como \"nan\" (Not a Number) o \"-999\". NumPy proporciona opciones para manejar estos valores faltantes durante la carga de datos.\n",
        "<br>\n",
        "\n",
        "```\n",
        " 450.        1200.  7876.  2887.\n",
        "3837.  220.  3746.   897.  \n",
        " 987.               6473.  8662.\n",
        "       614.  6846.  5239.  5958.\n",
        "```\n",
        "\n",
        "\n",
        "\n",
        "👀 Por ejemplo, podemos especificar un valor de relleno utilizando el parámetro <code>filling_values</code>:\n",
        "\n",
        "```python\n",
        "data_with_missing = np.genfromtxt(url+archivo, delimiter=';', filling_values=-999)\n",
        "```"
      ],
      "metadata": {
        "id": "TIqmRhJkdyhf"
      }
    },
    {
      "cell_type": "code",
      "source": [
        "url = \"https://raw.githubusercontent.com/cristiandarioortegayubro/BDS/main/datasets/\"\n",
        "archivo = \"DatosFaltantesNumPy.csv\""
      ],
      "metadata": {
        "id": "gsTxe5znsxAu"
      },
      "execution_count": null,
      "outputs": []
    },
    {
      "cell_type": "code",
      "source": [
        "data_with_missing = np.genfromtxt(url+archivo, delimiter=';', filling_values=-999)\n",
        "data_with_missing"
      ],
      "metadata": {
        "colab": {
          "base_uri": "https://localhost:8080/"
        },
        "id": "FUJFaBiys4vv",
        "outputId": "c3e10081-08f4-42b0-95de-eff41dda52b6"
      },
      "execution_count": null,
      "outputs": [
        {
          "output_type": "execute_result",
          "data": {
            "text/plain": [
              "array([[ 450., -999., 1200., 7876., 2887.],\n",
              "       [3837.,  220., 3746.,  897., -999.],\n",
              "       [ 987., -999., -999., 6473., 8662.],\n",
              "       [-999.,  614., 6846., 5239., 5958.]])"
            ]
          },
          "metadata": {},
          "execution_count": 29
        }
      ]
    },
    {
      "cell_type": "code",
      "source": [
        "data_with_missing = np.genfromtxt(url+archivo, delimiter=';', filling_values=np.nan)\n",
        "data_with_missing"
      ],
      "metadata": {
        "colab": {
          "base_uri": "https://localhost:8080/"
        },
        "id": "wk9I5JbexvU4",
        "outputId": "62a138e9-2b47-40de-fdc3-e54e62142064"
      },
      "execution_count": null,
      "outputs": [
        {
          "output_type": "execute_result",
          "data": {
            "text/plain": [
              "array([[ 450.,   nan, 1200., 7876., 2887.],\n",
              "       [3837.,  220., 3746.,  897.,   nan],\n",
              "       [ 987.,   nan,   nan, 6473., 8662.],\n",
              "       [  nan,  614., 6846., 5239., 5958.]])"
            ]
          },
          "metadata": {},
          "execution_count": 30
        }
      ]
    },
    {
      "cell_type": "code",
      "source": [
        "data_with_missing = np.genfromtxt(url+archivo, delimiter=';', filling_values=\"NaN\")\n",
        "data_with_missing"
      ],
      "metadata": {
        "colab": {
          "base_uri": "https://localhost:8080/"
        },
        "id": "fkt51sIqx_y_",
        "outputId": "07ee99b2-6344-4e6a-be51-a5da3b123b5e"
      },
      "execution_count": null,
      "outputs": [
        {
          "output_type": "execute_result",
          "data": {
            "text/plain": [
              "array([[ 450.,   nan, 1200., 7876., 2887.],\n",
              "       [3837.,  220., 3746.,  897.,   nan],\n",
              "       [ 987.,   nan,   nan, 6473., 8662.],\n",
              "       [  nan,  614., 6846., 5239., 5958.]])"
            ]
          },
          "metadata": {},
          "execution_count": 31
        }
      ]
    },
    {
      "cell_type": "code",
      "source": [
        "data_with_missing = np.genfromtxt(url+archivo, delimiter=';', filling_values=None)\n",
        "data_with_missing"
      ],
      "metadata": {
        "colab": {
          "base_uri": "https://localhost:8080/"
        },
        "id": "ot8ZWk3pyC2R",
        "outputId": "1b8db843-9285-40c0-a471-9adc9bc2b44e"
      },
      "execution_count": null,
      "outputs": [
        {
          "output_type": "execute_result",
          "data": {
            "text/plain": [
              "array([[ 450.,   nan, 1200., 7876., 2887.],\n",
              "       [3837.,  220., 3746.,  897.,   nan],\n",
              "       [ 987.,   nan,   nan, 6473., 8662.],\n",
              "       [  nan,  614., 6846., 5239., 5958.]])"
            ]
          },
          "metadata": {},
          "execution_count": 32
        }
      ]
    },
    {
      "cell_type": "markdown",
      "source": [
        " # **<font color=\"RoyalBlue\">Filtrado y selección de datos</font>**"
      ],
      "metadata": {
        "id": "wlAjWBjlifcE"
      }
    },
    {
      "cell_type": "markdown",
      "source": [
        "<p align=\"justify\">\n",
        "👀 Una vez que hemos cargado nuestros datos en arrays NumPy, a menudo necesitamos filtrar y seleccionar subconjuntos de datos basados en ciertas condiciones. NumPy proporciona varias formas de realizar esta tarea de manera eficiente.\n",
        "<br><br>\n",
        "A continuación, se presentan algunos ejemplos de filtrado y selección de datos:\n",
        "\n"
      ],
      "metadata": {
        "id": "Mh3gvvz-yUZA"
      }
    },
    {
      "cell_type": "markdown",
      "source": [
        " ## **<font color=\"RoyalBlue\">Filtrado con expresiones booleanas</font>**"
      ],
      "metadata": {
        "id": "slUrQn400Td8"
      }
    },
    {
      "cell_type": "markdown",
      "source": [
        "<p align=\"justify\">\n",
        "✅ Podemos utilizar expresiones booleanas para filtrar elementos de un array NumPy basados en ciertas condiciones. Por ejemplo, supongamos que tenemos un array de datos de cantidades de unidades de botellas estibadas en una bodega y queremos filtrar las distintas producciones que estén estibadas por encima de 30 días:\n",
        "<br><br>\n",
        "🍷 Este código muestra los productos estibados en una bodega que están por encima de 30 días de estiba.\n",
        "\n"
      ],
      "metadata": {
        "id": "4eBfJQLy0ZtH"
      }
    },
    {
      "cell_type": "code",
      "source": [
        "dias_estiba_productos = np.array([25, 31, 28, 35, 29, 33, 27])\n",
        "dias_estiba_productos"
      ],
      "metadata": {
        "colab": {
          "base_uri": "https://localhost:8080/"
        },
        "id": "_xQlpBhM03NM",
        "outputId": "8b9388d3-1771-4bee-f9ae-07d6d63e3510"
      },
      "execution_count": null,
      "outputs": [
        {
          "output_type": "execute_result",
          "data": {
            "text/plain": [
              "array([25, 31, 28, 35, 29, 33, 27])"
            ]
          },
          "metadata": {},
          "execution_count": 33
        }
      ]
    },
    {
      "cell_type": "code",
      "source": [
        "mas_30_dias = dias_estiba_productos[dias_estiba_productos > 30]\n",
        "mas_30_dias"
      ],
      "metadata": {
        "colab": {
          "base_uri": "https://localhost:8080/"
        },
        "id": "6Y9oJd331IXI",
        "outputId": "8bf0e283-85f4-4d29-f497-767ed07a8e89"
      },
      "execution_count": null,
      "outputs": [
        {
          "output_type": "execute_result",
          "data": {
            "text/plain": [
              "array([31, 35, 33])"
            ]
          },
          "metadata": {},
          "execution_count": 34
        }
      ]
    },
    {
      "cell_type": "markdown",
      "source": [
        " ## **<font color=\"RoyalBlue\">Filtrado con la función numpy.where()</font>**"
      ],
      "metadata": {
        "id": "LNofuFYd1euG"
      }
    },
    {
      "cell_type": "markdown",
      "source": [
        "<p align=\"justify\">\n",
        "✅ La función <code>numpy.where()</code> se puede utilizar para realizar filtrados más complejos. Por ejemplo, supongamos que queremos clasificar las diferentes cantidades de estibas en tres categorías:\n",
        "<br><br>\n",
        "\n",
        "- \"joven\" para cantidad de meses por debajo de 4,\n",
        "- \"crianza\" para meses entre 4 y 36 meses, y\n",
        "- \"reserva\" para meses por encima de 36.\n",
        "\n",
        "<p align=\"justify\">\n",
        "<br>\n",
        "🍷 Este código clasificará en las categorías correspondientes.\n",
        "\n"
      ],
      "metadata": {
        "id": "2xWk6YeH1fn-"
      }
    },
    {
      "cell_type": "code",
      "source": [
        "meses_estiba_productos = np.array([2, 3, 5, 14, 2, 37, 54, 33, 22, 18, 4, 54])\n",
        "meses_estiba_productos"
      ],
      "metadata": {
        "colab": {
          "base_uri": "https://localhost:8080/"
        },
        "id": "k75k0AsL45yJ",
        "outputId": "3e172645-721a-4e2b-ee38-53cd919a828a"
      },
      "execution_count": null,
      "outputs": [
        {
          "output_type": "execute_result",
          "data": {
            "text/plain": [
              "array([ 2,  3,  5, 14,  2, 37, 54, 33, 22, 18,  4, 54])"
            ]
          },
          "metadata": {},
          "execution_count": 35
        }
      ]
    },
    {
      "cell_type": "code",
      "source": [
        "categorias = np.where(meses_estiba_productos <= 4, 'joven', np.where(meses_estiba_productos <= 36, 'crianza', 'reserva'))"
      ],
      "metadata": {
        "id": "JYuvyx2I5GLs"
      },
      "execution_count": null,
      "outputs": []
    },
    {
      "cell_type": "code",
      "source": [
        "categorias"
      ],
      "metadata": {
        "colab": {
          "base_uri": "https://localhost:8080/"
        },
        "id": "gLPlEvJ45mn8",
        "outputId": "bc9485e8-d320-4ede-9631-ee64db326a6f"
      },
      "execution_count": null,
      "outputs": [
        {
          "output_type": "execute_result",
          "data": {
            "text/plain": [
              "array(['joven', 'joven', 'crianza', 'crianza', 'joven', 'reserva',\n",
              "       'reserva', 'crianza', 'crianza', 'crianza', 'joven', 'reserva'],\n",
              "      dtype='<U7')"
            ]
          },
          "metadata": {},
          "execution_count": 37
        }
      ]
    },
    {
      "cell_type": "markdown",
      "source": [
        " ## **<font color=\"RoyalBlue\">Selección de datos por índices</font>**"
      ],
      "metadata": {
        "id": "moorPRyQ6Hj_"
      }
    },
    {
      "cell_type": "markdown",
      "source": [
        "<p align=\"justify\">\n",
        "También podemos seleccionar subconjuntos de datos utilizando índices específicos.\n",
        "<br><br>\n",
        "👀 Por ejemplo, supongamos que queremos seleccionar los primeros tres elementos del array"
      ],
      "metadata": {
        "id": "aBr7EDoj51dd"
      }
    },
    {
      "cell_type": "code",
      "source": [
        "primeros_tres = categorias[:3]\n",
        "primeros_tres"
      ],
      "metadata": {
        "colab": {
          "base_uri": "https://localhost:8080/"
        },
        "id": "fsX6wUYv6hQa",
        "outputId": "7a10f547-45f2-4d7a-d1ff-c96765ef5ed9"
      },
      "execution_count": null,
      "outputs": [
        {
          "output_type": "execute_result",
          "data": {
            "text/plain": [
              "array(['joven', 'joven', 'crianza'], dtype='<U7')"
            ]
          },
          "metadata": {},
          "execution_count": 38
        }
      ]
    },
    {
      "cell_type": "markdown",
      "source": [
        "👀 O queremos seleccionar los ultimos seis elementos del array"
      ],
      "metadata": {
        "id": "0WzbPrjo7VtF"
      }
    },
    {
      "cell_type": "code",
      "source": [
        "ultimos_seis = meses_estiba_productos[-6:]\n",
        "ultimos_seis"
      ],
      "metadata": {
        "colab": {
          "base_uri": "https://localhost:8080/"
        },
        "id": "ijYiPqbh6qhU",
        "outputId": "935fe019-55cf-41a0-918b-99d888366851"
      },
      "execution_count": null,
      "outputs": [
        {
          "output_type": "execute_result",
          "data": {
            "text/plain": [
              "array([54, 33, 22, 18,  4, 54])"
            ]
          },
          "metadata": {},
          "execution_count": 46
        }
      ]
    },
    {
      "cell_type": "markdown",
      "source": [
        " # **<font color=\"RoyalBlue\">Transformaciones de datos</font>**"
      ],
      "metadata": {
        "id": "9mIxtOfNiqPv"
      }
    },
    {
      "cell_type": "markdown",
      "source": [
        "<p align=\"justify\">\n",
        "Las transformaciones de datos son esenciales en el análisis de datos para preparar los datos de manera adecuada antes de realizar análisis estadísticos o entrenar modelos de aprendizaje automático.\n",
        "<br><br>\n",
        "A continuación, se presentan algunas transformaciones comunes de datos orientadas a negocios, junto con ejemplos específicos:"
      ],
      "metadata": {
        "id": "QLB7_5j_8Rk_"
      }
    },
    {
      "cell_type": "markdown",
      "source": [
        " ## **<font color=\"RoyalBlue\">Normalización de datos</font>**"
      ],
      "metadata": {
        "id": "925I-FNg8wNL"
      }
    },
    {
      "cell_type": "markdown",
      "source": [
        "<p align=\"justify\">\n",
        "✅ La normalización es útil en casos donde queremos comparar variables que están en diferentes escalas. Por ejemplo, supongamos que tenemos datos de ventas y gastos mensuales en dos arrays separados y queremos comparar su rendimiento relativo:\n",
        "\n",
        "```python\n",
        "import numpy as np\n",
        "\n",
        "# Datos de ventas mensuales en miles de dólares\n",
        "ventas = np.array([100, 120, 110, 130, 140])\n",
        "\n",
        "# Datos de gastos mensuales en miles de dólares\n",
        "gastos = np.array([50, 60, 55, 65, 70])\n",
        "\n",
        "# Normalización de datos\n",
        "ventas_normalizadas = (ventas - np.min(ventas)) / (np.max(ventas) - np.min(ventas))\n",
        "gastos_normalizados = (gastos - np.min(gastos)) / (np.max(gastos) - np.min(gastos))\n",
        "\n",
        "print(\"Ventas normalizadas:\", ventas_normalizadas)\n",
        "print(\"Gastos normalizados:\", gastos_normalizados)\n",
        "```\n",
        "\n"
      ],
      "metadata": {
        "id": "AnFAxGSH8V0Y"
      }
    },
    {
      "cell_type": "code",
      "source": [
        "# Datos de ventas mensuales en miles de dólares\n",
        "ventas = np.array([100, 120, 110, 130, 140])\n",
        "ventas"
      ],
      "metadata": {
        "colab": {
          "base_uri": "https://localhost:8080/"
        },
        "id": "3GREMBv29NwG",
        "outputId": "7395a5d9-757f-4eb9-9393-796d971c1035"
      },
      "execution_count": null,
      "outputs": [
        {
          "output_type": "execute_result",
          "data": {
            "text/plain": [
              "array([100, 120, 110, 130, 140])"
            ]
          },
          "metadata": {},
          "execution_count": 47
        }
      ]
    },
    {
      "cell_type": "code",
      "source": [
        "# Datos de gastos mensuales en miles de dólares\n",
        "gastos = np.array([50, 60, 55, 65, 70])\n",
        "gastos"
      ],
      "metadata": {
        "colab": {
          "base_uri": "https://localhost:8080/"
        },
        "id": "BiPt-GFL9Zd1",
        "outputId": "16301109-55f7-4865-c089-011af6e51182"
      },
      "execution_count": null,
      "outputs": [
        {
          "output_type": "execute_result",
          "data": {
            "text/plain": [
              "array([50, 60, 55, 65, 70])"
            ]
          },
          "metadata": {},
          "execution_count": 48
        }
      ]
    },
    {
      "cell_type": "code",
      "source": [
        "# Normalización de datos\n",
        "ventas_normalizadas = (ventas - np.min(ventas)) / (np.max(ventas) - np.min(ventas))\n",
        "gastos_normalizados = (gastos - np.min(gastos)) / (np.max(gastos) - np.min(gastos))"
      ],
      "metadata": {
        "id": "o2vAaV5z9kDi"
      },
      "execution_count": null,
      "outputs": []
    },
    {
      "cell_type": "code",
      "source": [
        "ventas_normalizadas"
      ],
      "metadata": {
        "colab": {
          "base_uri": "https://localhost:8080/"
        },
        "id": "FNkR48jY9l98",
        "outputId": "ee018ebb-4907-4bf8-bab6-8294f046c2ce"
      },
      "execution_count": null,
      "outputs": [
        {
          "output_type": "execute_result",
          "data": {
            "text/plain": [
              "array([0.  , 0.5 , 0.25, 0.75, 1.  ])"
            ]
          },
          "metadata": {},
          "execution_count": 50
        }
      ]
    },
    {
      "cell_type": "code",
      "source": [
        "gastos_normalizados"
      ],
      "metadata": {
        "colab": {
          "base_uri": "https://localhost:8080/"
        },
        "id": "mDyoSVKn9oSV",
        "outputId": "28f77ca7-c0cf-46e6-efd4-a1e815bd16e1"
      },
      "execution_count": null,
      "outputs": [
        {
          "output_type": "execute_result",
          "data": {
            "text/plain": [
              "array([0.  , 0.5 , 0.25, 0.75, 1.  ])"
            ]
          },
          "metadata": {},
          "execution_count": 51
        }
      ]
    },
    {
      "cell_type": "markdown",
      "source": [
        " ## **<font color=\"RoyalBlue\">Estandarización de datos</font>**"
      ],
      "metadata": {
        "id": "DRYGWqcu9Y4l"
      }
    },
    {
      "cell_type": "markdown",
      "source": [
        "<p align=\"justify\">\n",
        "✅ La estandarización es útil cuando queremos comparar variables que tienen diferentes distribuciones. Por ejemplo, supongamos que tenemos datos de puntajes de satisfacción del cliente en una escala del 1 al 10 y queremos estandarizarlos para compararlos con otros indicadores:\n",
        "\n",
        "```python\n",
        "# Datos de puntajes de satisfacción del cliente\n",
        "satisfaccion_cliente = np.array([7, 8, 6, 9, 7])\n",
        "\n",
        "# Estandarización de datos\n",
        "satisfaccion_estandarizada = (satisfaccion_cliente - np.mean(satisfaccion_cliente)) / np.std(satisfaccion_cliente)\n",
        "\n",
        "print(\"Satisfacción del cliente estandarizada:\", satisfaccion_estandarizada)\n",
        "```\n",
        "\n"
      ],
      "metadata": {
        "id": "jAeNZmJQ8XaB"
      }
    },
    {
      "cell_type": "code",
      "source": [
        "# Datos de puntajes de satisfacción del cliente\n",
        "satisfaccion_cliente = np.array([7, 8, 6, 9, 7])\n",
        "satisfaccion_cliente"
      ],
      "metadata": {
        "colab": {
          "base_uri": "https://localhost:8080/"
        },
        "id": "J_x6_03W-OL7",
        "outputId": "ac8141c0-e661-43ec-fa79-e181b793ca16"
      },
      "execution_count": null,
      "outputs": [
        {
          "output_type": "execute_result",
          "data": {
            "text/plain": [
              "array([7, 8, 6, 9, 7])"
            ]
          },
          "metadata": {},
          "execution_count": 53
        }
      ]
    },
    {
      "cell_type": "code",
      "source": [
        "# Estandarización de datos\n",
        "satisfaccion_estandarizada = (satisfaccion_cliente - np.mean(satisfaccion_cliente)) / np.std(satisfaccion_cliente)\n",
        "satisfaccion_estandarizada"
      ],
      "metadata": {
        "colab": {
          "base_uri": "https://localhost:8080/"
        },
        "id": "oRn6p55MB0IM",
        "outputId": "e208f443-d82c-4b58-b258-796f8a5b95ee"
      },
      "execution_count": null,
      "outputs": [
        {
          "output_type": "execute_result",
          "data": {
            "text/plain": [
              "array([-0.39223227,  0.58834841, -1.37281295,  1.56892908, -0.39223227])"
            ]
          },
          "metadata": {},
          "execution_count": 54
        }
      ]
    },
    {
      "cell_type": "markdown",
      "source": [
        " ## **<font color=\"RoyalBlue\">Discretización de datos</font>**"
      ],
      "metadata": {
        "id": "wrj_rljw-PrH"
      }
    },
    {
      "cell_type": "markdown",
      "source": [
        "<p align=\"justify\">\n",
        "✅ La discretización es útil cuando queremos agrupar datos continuos en categorías discretas. Por ejemplo, supongamos que tenemos datos de ingresos anuales y queremos discretizarlos en categorías de ingresos:\n",
        "\n",
        "```python\n",
        "# Datos de ingresos anuales en miles de dólares\n",
        "ingresos = np.array([250, 300, 200, 350, 400])\n",
        "\n",
        "# Discretización de datos\n",
        "categorias_ingresos = np.digitize(ingresos, bins=[0, 200, 300, np.inf], right=True)\n",
        "categorias_label = ['Bajo', 'Medio', 'Alto']\n",
        "\n",
        "ingresos_categorizados = [categorias_label[i-1] for i in categorias_ingresos]\n",
        "\n",
        "print(\"Ingresos categorizados:\", ingresos_categorizados)\n",
        "```\n"
      ],
      "metadata": {
        "id": "bwbcwBMB8Y7r"
      }
    },
    {
      "cell_type": "code",
      "source": [
        "# Datos de ingresos anuales en miles de dólares\n",
        "ingresos = np.array([250, 300, 200, 350, 400])\n",
        "ingresos"
      ],
      "metadata": {
        "colab": {
          "base_uri": "https://localhost:8080/"
        },
        "id": "l-jzyvn4CzLJ",
        "outputId": "33bc44ea-6d11-4888-89d6-d4ad68180fb7"
      },
      "execution_count": null,
      "outputs": [
        {
          "output_type": "execute_result",
          "data": {
            "text/plain": [
              "array([250, 300, 200, 350, 400])"
            ]
          },
          "metadata": {},
          "execution_count": 55
        }
      ]
    },
    {
      "cell_type": "code",
      "source": [
        "# Discretización de datos\n",
        "categorias_ingresos = np.digitize(ingresos, bins=[0, 200, 300, np.inf], right=True)\n",
        "categorias_label = ['Bajo', 'Medio', 'Alto']"
      ],
      "metadata": {
        "id": "ybgiZghZC8kh"
      },
      "execution_count": null,
      "outputs": []
    },
    {
      "cell_type": "code",
      "source": [
        "ingresos_categorizados = [categorias_label[i-1] for i in categorias_ingresos]\n",
        "ingresos_categorizados"
      ],
      "metadata": {
        "colab": {
          "base_uri": "https://localhost:8080/"
        },
        "id": "auGCHf0CDDhN",
        "outputId": "30fb6012-51cb-44b5-98b0-839a29ec1e44"
      },
      "execution_count": null,
      "outputs": [
        {
          "output_type": "execute_result",
          "data": {
            "text/plain": [
              "['Medio', 'Medio', 'Bajo', 'Alto', 'Alto']"
            ]
          },
          "metadata": {},
          "execution_count": 57
        }
      ]
    },
    {
      "cell_type": "markdown",
      "source": [
        " # **<font color=\"RoyalBlue\">Ejercicios prácticos</font>**"
      ],
      "metadata": {
        "id": "VEY_VjG1i0eW"
      }
    },
    {
      "cell_type": "markdown",
      "source": [
        "<p align=\"justify\">\n",
        "✅ A continuación, se presentan algunos ejercicios prácticos para aplicar los conceptos de este colab:\n",
        "<br><br>\n",
        "\n",
        "\n",
        "🏷 **a. Ejercicio 1: Normalización de Datos de Ventas y Gastos:**\n",
        "   - Supongamos que tenemos datos de ventas mensuales en miles de dólares y datos de gastos mensuales en miles de dólares para una empresa. Normaliza ambos conjuntos de datos y calcula el margen de beneficio (ventas - gastos) para cada mes.\n",
        "\n",
        "```python\n",
        "# Datos de ventas mensuales en miles de dólares\n",
        "ventas = np.array([100, 120, 110, 130, 140])\n",
        "\n",
        "# Datos de gastos mensuales en miles de dólares\n",
        "gastos = np.array([50, 60, 55, 65, 70])\n",
        "```\n",
        "\n",
        "🏷 **b. Ejercicio 2: Estandarización de Datos de Satisfacción del Cliente:**\n",
        "   - Supongamos que tenemos datos de puntajes de satisfacción del cliente en una escala del 1 al 10 para una empresa. Estandariza estos datos y calcula el promedio de satisfacción del cliente.\n",
        "\n",
        "```python\n",
        "# Datos de puntajes de satisfacción del cliente\n",
        "satisfaccion_cliente = np.array([7, 8, 6, 9, 7])\n",
        "```\n",
        "\n",
        "🏷 **c. Ejercicio 3: Discretización de Datos de Ingresos Anuales:**\n",
        "   - Supongamos que tenemos datos de ingresos anuales en miles de dólares para una empresa. Discretiza estos datos en tres categorías: \"bajo\", \"medio\" y \"alto\" ingresos.\n",
        "\n",
        "```python\n",
        "# Datos de ingresos anuales en miles de dólares\n",
        "ingresos = np.array([250, 300, 200, 350, 400])\n",
        "\n",
        "```\n",
        "\n"
      ],
      "metadata": {
        "id": "VChuYfN5EhN7"
      }
    },
    {
      "cell_type": "markdown",
      "source": [
        "<p align=\"justify\">\n",
        "<br>\n",
        "✅ A continuación, las soluciones sugeridas:\n",
        "<br><br>\n"
      ],
      "metadata": {
        "id": "_AnUe9T8F8_J"
      }
    },
    {
      "cell_type": "markdown",
      "source": [
        "🏷 **a. Ejercicio 1: Normalización de Datos de Ventas y Gastos:**\n",
        "   - Supongamos que tenemos datos de ventas mensuales en miles de dólares y datos de gastos mensuales en miles de dólares para una empresa. Normaliza ambos conjuntos de datos y calcula el margen de beneficio (ventas - gastos) para cada mes.\n",
        "\n",
        "```python\n",
        "# Datos de ventas mensuales en miles de dólares\n",
        "ventas = np.array([100, 120, 110, 130, 140])\n",
        "\n",
        "# Datos de gastos mensuales en miles de dólares\n",
        "gastos = np.array([50, 60, 55, 65, 70])\n",
        "\n",
        "# Normalización de datos\n",
        "ventas_normalizadas = (ventas - np.min(ventas)) / (np.max(ventas) - np.min(ventas))\n",
        "gastos_normalizados = (gastos - np.min(gastos)) / (np.max(gastos) - np.min(gastos))\n",
        "\n",
        "# Cálculo del margen de beneficio\n",
        "margen_beneficio = ventas_normalizadas - gastos_normalizadas\n",
        "\n",
        "print(\"Margen de beneficio:\", margen_beneficio)\n",
        "```\n",
        "\n",
        "🏷 **b. Ejercicio 2: Estandarización de Datos de Satisfacción del Cliente:**\n",
        "   - Supongamos que tenemos datos de puntajes de satisfacción del cliente en una escala del 1 al 10 para una empresa. Estandariza estos datos y calcula el promedio de satisfacción del cliente.\n",
        "\n",
        "```python\n",
        "# Datos de puntajes de satisfacción del cliente\n",
        "satisfaccion_cliente = np.array([7, 8, 6, 9, 7])\n",
        "\n",
        "# Estandarización de datos\n",
        "satisfaccion_estandarizada = (satisfaccion_cliente - np.mean(satisfaccion_cliente)) / np.std(satisfaccion_cliente)\n",
        "\n",
        "# Cálculo del promedio de satisfacción del cliente\n",
        "promedio_satisfaccion = np.mean(satisfaccion_estandarizada)\n",
        "\n",
        "print(\"Promedio de satisfacción del cliente:\", promedio_satisfaccion)\n",
        "```\n",
        "\n",
        "🏷 **c. Ejercicio 3: Discretización de Datos de Ingresos Anuales:**\n",
        "   - Supongamos que tenemos datos de ingresos anuales en miles de dólares para una empresa. Discretiza estos datos en tres categorías: \"bajo\", \"medio\" y \"alto\" ingresos.\n",
        "\n",
        "```python\n",
        "# Datos de ingresos anuales en miles de dólares\n",
        "ingresos = np.array([250, 300, 200, 350, 400])\n",
        "\n",
        "# Discretización de datos\n",
        "categorias_ingresos = np.digitize(ingresos, bins=[0, 200, 300, np.inf], right=True)\n",
        "categorias_label = ['Bajo', 'Medio', 'Alto']\n",
        "\n",
        "ingresos_categorizados = [categorias_label[i-1] for i in categorias_ingresos]\n",
        "\n",
        "print(\"Ingresos categorizados:\", ingresos_categorizados)\n",
        "```"
      ],
      "metadata": {
        "id": "V1L59ugSF-ze"
      }
    },
    {
      "cell_type": "markdown",
      "source": [
        "<br>\n",
        "<br>\n",
        "<p align=\"center\"><b>\n",
        "💗\n",
        "<font color=\"RoyalBlue\">\n",
        "Hemos llegado al final de nuestro colab, a seguir codeando en NumPy...\n",
        "</font>\n",
        "</p>\n"
      ],
      "metadata": {
        "id": "T7cpdclJUEHU"
      }
    }
  ]
}