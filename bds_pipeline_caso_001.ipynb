{
  "nbformat": 4,
  "nbformat_minor": 0,
  "metadata": {
    "colab": {
      "provenance": []
    },
    "kernelspec": {
      "name": "python3",
      "display_name": "Python 3"
    },
    "language_info": {
      "name": "python"
    }
  },
  "cells": [
    {
      "cell_type": "markdown",
      "source": [
        "<p align=\"center\">\n",
        "<img src=\"https://encrypted-tbn0.gstatic.com/images?q=tbn:ANd9GcQe50pBmDfPWmuHmgaJxOFGmbks2QMDJmovCN43cpNO0Q&s\">\n",
        "</p>\n"
      ],
      "metadata": {
        "id": "XM-hn7ZLmgQc"
      }
    },
    {
      "cell_type": "markdown",
      "source": [
        "<p align=\"justify\">\n",
        "👀 El objetivo es predecir si un cliente va a mejorar su suscripción a Disney, pasando a Disney +\n",
        "<br><br>\n",
        "❗ Para ello, debera auditar el caso-001-presentación, y en base a ese desarrollo, realizar el presente ejercicio.\n",
        "\n"
      ],
      "metadata": {
        "id": "Yxw_Z81Bw8hO"
      }
    },
    {
      "cell_type": "markdown",
      "source": [
        " # **<font color=\"DarkBlue\">Estado de suscripción a Disney +</font>**"
      ],
      "metadata": {
        "id": "_o8tuKydjnRZ"
      }
    },
    {
      "cell_type": "code",
      "source": [
        "import numpy as np\n",
        "import pandas as pd"
      ],
      "metadata": {
        "id": "KdD4Hy5zkFqj"
      },
      "execution_count": null,
      "outputs": []
    },
    {
      "cell_type": "code",
      "source": [
        "data = pd.read_csv(\"https://raw.githubusercontent.com/cristiandarioortegayubro/BDS/main/datasets/EstadoSuscripcionDisney.csv\")"
      ],
      "metadata": {
        "id": "KEGoCiUEkNaA"
      },
      "execution_count": null,
      "outputs": []
    },
    {
      "cell_type": "code",
      "source": [
        "data.info()"
      ],
      "metadata": {
        "colab": {
          "base_uri": "https://localhost:8080/"
        },
        "id": "Y5xoI7jHkLo3",
        "outputId": "63fa44a0-0130-4301-d309-bb758b35b247"
      },
      "execution_count": null,
      "outputs": [
        {
          "output_type": "stream",
          "name": "stdout",
          "text": [
            "<class 'pandas.core.frame.DataFrame'>\n",
            "RangeIndex: 1000 entries, 0 to 999\n",
            "Data columns (total 16 columns):\n",
            " #   Column                 Non-Null Count  Dtype \n",
            "---  ------                 --------------  ----- \n",
            " 0   id                     1000 non-null   int64 \n",
            " 1   first_name             1000 non-null   object\n",
            " 2   last_name              1000 non-null   object\n",
            " 3   email                  1000 non-null   object\n",
            " 4   gender                 1000 non-null   object\n",
            " 5   ip_address             1000 non-null   object\n",
            " 6   address                1000 non-null   object\n",
            " 7   country                1000 non-null   object\n",
            " 8   country_code           1000 non-null   object\n",
            " 9   city                   1000 non-null   object\n",
            " 10  latitud                1000 non-null   object\n",
            " 11  longitud               1000 non-null   object\n",
            " 12  income_currency        1000 non-null   object\n",
            " 13  income                 1000 non-null   object\n",
            " 14  subscription           1000 non-null   object\n",
            " 15  previous_subscription  1000 non-null   object\n",
            "dtypes: int64(1), object(15)\n",
            "memory usage: 125.1+ KB\n"
          ]
        }
      ]
    },
    {
      "cell_type": "markdown",
      "source": [
        " # **<font color=\"DarkBlue\">Selección basada en tipos de datos</font>**"
      ],
      "metadata": {
        "id": "8O_GWn2-lFgC"
      }
    },
    {
      "cell_type": "code",
      "source": [
        "from sklearn.compose import make_column_selector as selector"
      ],
      "metadata": {
        "id": "pdJ_IEplvBg-"
      },
      "execution_count": null,
      "outputs": []
    },
    {
      "cell_type": "markdown",
      "source": [
        " # **<font color=\"DarkBlue\">Enviar columnas a un procesador específico</font>**"
      ],
      "metadata": {
        "id": "0m8zQbP-VIUb"
      }
    },
    {
      "cell_type": "code",
      "source": [
        "from sklearn.preprocessing import OneHotEncoder, StandardScaler"
      ],
      "metadata": {
        "id": "YgIP5JYaYFGE"
      },
      "execution_count": null,
      "outputs": []
    },
    {
      "cell_type": "code",
      "source": [
        "from sklearn.compose import ColumnTransformer"
      ],
      "metadata": {
        "id": "myZ7dthTY14-"
      },
      "execution_count": null,
      "outputs": []
    },
    {
      "cell_type": "markdown",
      "source": [
        " # **<font color=\"DarkBlue\">Train-test, división del conjunto de datos</font>**"
      ],
      "metadata": {
        "id": "igHWdPxPj-9d"
      }
    },
    {
      "cell_type": "code",
      "source": [
        "from sklearn.model_selection import train_test_split"
      ],
      "metadata": {
        "id": "nCzlEO0mkEs4"
      },
      "execution_count": null,
      "outputs": []
    },
    {
      "cell_type": "markdown",
      "source": [
        " # **<font color=\"DarkBlue\">Ajuste y prediccion</font>**"
      ],
      "metadata": {
        "id": "G7RdmKAek-z3"
      }
    },
    {
      "cell_type": "markdown",
      "source": [
        " # **<font color=\"DarkBlue\">Evaluación del modelo con Cross-validation</font>**"
      ],
      "metadata": {
        "id": "uSIZJepvvioN"
      }
    },
    {
      "cell_type": "code",
      "source": [
        "from sklearn.model_selection import cross_validate"
      ],
      "metadata": {
        "id": "QXnwPkXuyhBJ"
      },
      "execution_count": null,
      "outputs": []
    },
    {
      "cell_type": "markdown",
      "source": [
        " # **<font color=\"DarkBlue\">¿Conclusiones?...</font>**"
      ],
      "metadata": {
        "id": "AeFSFlMVY2kF"
      }
    }
  ]
}