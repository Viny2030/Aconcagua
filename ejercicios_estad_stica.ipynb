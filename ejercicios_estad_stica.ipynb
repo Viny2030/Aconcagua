{
  "nbformat": 4,
  "nbformat_minor": 0,
  "metadata": {
    "colab": {
      "provenance": []
    },
    "kernelspec": {
      "name": "python3",
      "display_name": "Python 3"
    },
    "language_info": {
      "name": "python"
    }
  },
  "cells": [
    {
      "cell_type": "markdown",
      "source": [
        "<p align=\"center\">\n",
        "<img src=\"https://pypi.org/static/images/logo-small.8998e9d1.svg\" width=\"90\" height=\"\">\n",
        "</p>"
      ],
      "metadata": {
        "id": "5jZMhik1JE3J"
      }
    },
    {
      "cell_type": "code",
      "source": [
        "import numpy as np\n",
        "import matplotlib.pyplot as plt\n",
        "import pandas as pd\n",
        "import scipy as sc"
      ],
      "metadata": {
        "id": "s9CYwnRqp9zl"
      },
      "execution_count": null,
      "outputs": []
    },
    {
      "cell_type": "code",
      "source": [
        "EPH422 = pd.read_csv('https://raw.githubusercontent.com/cristiandarioortegayubro/BDS/main/datasets/usu_individual_T422.txt', sep=\";\")"
      ],
      "metadata": {
        "id": "eH5lLTK-qBI0"
      },
      "execution_count": null,
      "outputs": []
    },
    {
      "cell_type": "code",
      "source": [
        "#from google.colab import drive\n",
        "#drive.mount('/content/drive')\n",
        "#EPH422 = pd.read_csv('/content/drive/MyDrive/Datos/usu_individual_T422.txt.txt', sep=\";\") #debe copiar la ruta a su carpeta de drive."
      ],
      "metadata": {
        "id": "cFUg7M_4qMOc"
      },
      "execution_count": null,
      "outputs": []
    },
    {
      "cell_type": "markdown",
      "source": [
        "# **<font color=\"DeepPink\">Ejercicios</font>**\n",
        "<p align=\"justify\">\n",
        "✅ <strong>Ejercicio 1</strong><br><br>\n",
        "Repita (en forma completa <strong>sin modelo logit</strong>) el analisis realizado distinguiendo entre dos aglomerados urbanos, Gran Mendoza y CABA. Dentro de la base de datos, la variable \"AGLOMERADO\" contiene la información requerida, toma valor 10 para Gran Mendoza y 32 para CABA.<br><br>\n",
        "Estime la esperanza condicional a cada nivel educativo para cada aglomerado urbano por separado y muestre la información obtenida en un único gráfico que le permita hacer comparaciones. ¿Observa algo llamativo?<br><br>\n",
        "Estime un modelo lineal para el salario en función de la edad y de los años de eduación para cada aglomerado urbano. Compare los betas obtenidos.\n",
        "</p>\n"
      ],
      "metadata": {
        "id": "0kU9PdCMp7aE"
      }
    },
    {
      "cell_type": "markdown",
      "source": [
        "<p align=\"justify\">\n",
        "✅ <strong>Ejercicio 2</strong><br><br>\n",
        "Repita (en forma completa <strong>sin modelo logit</strong>) el analisis realizado en clase utilizando la base de datos de la encuesta permanente de hogares del cuarto trimestre del año 2023, la cual ppuede descargar del siguiente link:<br><br>\n",
        "\n",
        "https://www.indec.gob.ar/ftp/cuadros/menusuperior/eph/EPH_usu_4_Trim_2023_txt.zip<br><br>\n",
        "\n",
        "\n",
        "\n",
        "\n",
        "</p>\n"
      ],
      "metadata": {
        "id": "q15TF_hING9L"
      }
    },
    {
      "cell_type": "markdown",
      "source": [
        "✅ <p align=\"justify\">\n",
        "<strong>Ejercicio 3</strong><br><br>\n",
        "En el siguiente link encontrá el diseño de registro para poder trabajar con la base de datos de la Encuesta Permanente de Hogares.<br><br>\n",
        "\n",
        "https://www.indec.gob.ar/ftp/cuadros/menusuperior/eph/EPH_registro_4T2023.pdf<br><br>\n",
        "\n",
        "En la página 16 de dicho PDF comienza el diseño de registro de la base personas que es la que debe haber descargado en el punto anterior.<br><br>\n",
        "Busque en el documento cuál es la variable que registra las horas trabajadas por una persona en la semana de referencia. Trabajando solo con los individuos que presentan un nivel de ingreso en actividad principal positivo (Valor positivo en la variable P21):<br><br>\n",
        "1. Realice un histograma de las horas trabajadas. ¿La distribución de horas es simétrica? ¿Puede considerarse que la distribución es normal?<br><br>\n",
        "2. Estime las horas promedio trabajadas.<br><br>\n",
        "3. Estime el desvio estandar de las horas trabajadas.<br><br>\n",
        "4. Considerarndo como outlier aquellos datos que distan de la media en más de 3 desvios, ¿encuentra algún outlier en las horas trabajadas en la semana de referencia?\n",
        "\n",
        "\n",
        "\n",
        "\n",
        "</p>"
      ],
      "metadata": {
        "id": "ecmVt7m6OAhs"
      }
    },
    {
      "cell_type": "markdown",
      "source": [
        "<p align=\"justify\">\n",
        "✅ <strong>Ejercicio 4</strong><br><br>\n",
        "Usando la base de datos completa de la encuesta permanente de hogares del cuarto trimestre del año 2023:<br><br>\n",
        "1. Investigue en el diseño de registro que información contiene la variable \"ESTADO\"<br><br>\n",
        "2. Quedesé unicamente con los individuos que son OCUPADOS o DESOCUPADOS.<br><br>\n",
        "3. Construya una variable nueva la cual tome valor 1 si la persona está ocupada y 0 si no lo está.<br><br>\n",
        "4. Construya, como lo hicimos en clase, la variable años de estudio.<br><br>\n",
        "5. Busque un comando específico que le permita estimar un modelo logit y utiliceló para estimar la probabilidad de estar ocupado en función de los años de estudio de una persona. <br><br>\n",
        "6. Recupere los parámetros de dicha estimación y diga si al aumentar la cantidad de años de estudio es más probable que un individuo esté ocupado o no.\n",
        "\n",
        "\n",
        "\n",
        "\n",
        "</p>\n"
      ],
      "metadata": {
        "id": "OaJgBvWRQDnT"
      }
    }
  ]
}