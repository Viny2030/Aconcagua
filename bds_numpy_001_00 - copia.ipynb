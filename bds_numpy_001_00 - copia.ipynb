{
  "nbformat": 4,
  "nbformat_minor": 0,
  "metadata": {
    "colab": {
      "provenance": [],
      "toc_visible": true
    },
    "kernelspec": {
      "name": "python3",
      "display_name": "Python 3"
    },
    "language_info": {
      "name": "python"
    }
  },
  "cells": [
    {
      "cell_type": "markdown",
      "source": [
        "<p align=\"center\">\n",
        "<img src=\"https://numpy.org/images/logo.svg\" width=\"80\" height=\"\">\n",
        "</p>\n"
      ],
      "metadata": {
        "id": "XM-hn7ZLmgQc"
      }
    },
    {
      "cell_type": "markdown",
      "source": [
        "https://numpy.org"
      ],
      "metadata": {
        "id": "iw1xUwq1fpWm"
      }
    },
    {
      "cell_type": "markdown",
      "source": [
        " # **<font color=\"RoyalBlue\">Conociendo NumPy</font>**"
      ],
      "metadata": {
        "id": "_o8tuKydjnRZ"
      }
    },
    {
      "cell_type": "markdown",
      "source": [
        "<p align=\"justify\">\n",
        "📘 NumPy, una abreviatura de \"Numerical Python\", tiene una historia que se remonta al comienzo del siglo XXI.\n",
        "<br><br>\n",
        "✅ <b>Inicios</b>\n",
        "<br><br>\n",
        "<b>Orígenes en el Lenguaje Python</b>: A principios de los años 2000, Travis Oliphant, un científico de datos y programador, estaba trabajando en proyectos que involucraban cálculos numéricos intensivos. Sin embargo, encontró que el rendimiento de Python en tales tareas era insuficiente debido a la falta de estructuras de datos eficientes para cálculos numéricos.\n",
        "<br><br>\n",
        "<b>Inspiración en MATLAB</b>: Travis se inspiró en la sintaxis y las capacidades de MATLAB, un lenguaje de programación ampliamente utilizado en matemáticas y ciencia de la computación. Buscaba crear un equivalente de código abierto y gratuito que pudiera ofrecer funcionalidades similares a las de MATLAB, pero integradas en Python.\n",
        "<br><br>\n",
        "✅ <b>Desarrollo de NumPy</b>\n",
        "<br><br>\n",
        "<b>Numerical Python (NumPy) 1.0</b>: En 2006, Travis Oliphant, junto con otros colaboradores, lanzó la versión 1.0 de NumPy. Esta biblioteca ofrecía estructuras de datos como arrays multidimensionales y funciones para operaciones matemáticas sobre los arrays.\n",
        "<br><br>\n",
        "<b>Código abierto y colaboración</b>: NumPy fue lanzado como un proyecto de código abierto bajo la licencia BSD, lo que permitió a la comunidad científica y de programación contribuir con mejoras y nuevas características.\n",
        "<br><br>\n",
        "✅ <b>Evolución y popularidad</b>\n",
        "<br><br>\n",
        "<b>Adopción en la comunidad científica</b>: NumPy rápidamente ganó popularidad entre los científicos de datos, ingenieros y académicos debido a su facilidad de uso y su eficiencia en el manejo de grandes volúmenes de datos numéricos.\n",
        "<br><br>\n",
        "<b>Ecosistema científico de Python</b>: La aparición de NumPy impulsó el crecimiento de un ecosistema completo de herramientas y bibliotecas científicas tales como SciPy, Matplotlib, Pandas y Scikit-learn, entre otras."
      ],
      "metadata": {
        "id": "hdZ28u0geqFP"
      }
    },
    {
      "cell_type": "markdown",
      "source": [
        "<p align=\"justify\"> 👀 Por convención, de esta manera se importa <code>Numpy</code>:  </p>"
      ],
      "metadata": {
        "id": "riE9ZSRbOdsF"
      }
    },
    {
      "cell_type": "code",
      "source": [
        "import numpy as np"
      ],
      "metadata": {
        "id": "dQtWrchXqRb3"
      },
      "execution_count": null,
      "outputs": []
    },
    {
      "cell_type": "markdown",
      "source": [
        " # **<font color=\"RoyalBlue\">Introducción a NumPy</font>**"
      ],
      "metadata": {
        "id": "Y7LDCZ14PIKr"
      }
    },
    {
      "cell_type": "markdown",
      "source": [
        "<p align=\"justify\">\n",
        "📘 NumPy es una biblioteca fundamental en el ecosistema de Python para la computación numérica y científica. Proporciona una manera eficiente de trabajar con arrays multidimensionales (también conocidos como matrices) y funciones matemáticas para realizar operaciones rápidas en estos arrays.\n",
        "<br><br>\n",
        "👀 Algunas de las características principales de NumPy incluyen:\n",
        "<br><br>\n",
        "<ul align = \"justify\">\n",
        "<li>\n",
        "<b>Eficiencia</b>: NumPy está implementado en C, lo que lo hace muy rápido y eficiente en comparación con las listas de Python estándar para operaciones numéricas.</li>\n",
        "<li>\n",
        "<b>Arrays Multidimensionales</b>: NumPy proporciona un objeto de array multidimensional llamado <code>ndarray</code>, que permite representar datos en forma de matrices de cualquier número de dimensiones.</li>\n",
        "<li>\n",
        "<b>Funciones Matemáticas</b>: NumPy incluye una amplia gama de funciones matemáticas para realizar operaciones numéricas en arrays, como sumas, productos, exponenciación, funciones trigonométricas, y otras funciones.</li>\n",
        "<li>\n",
        "<b>Indexación y Slicing Avanzados</b>: NumPy proporciona formas flexibles de acceder y manipular elementos individuales o subconjuntos de elementos en arrays utilizando técnicas de indexación y slicing.</li>\n",
        "<li>\n",
        "<b>Álgebra Lineal</b>: NumPy incluye un conjunto completo de funciones para realizar operaciones de álgebra lineal, como la multiplicación de matrices, la inversión de matrices y el cálculo de determinantes y valores propios.\n",
        "</li></ul>\n"
      ],
      "metadata": {
        "id": "bQOruBSIqdh1"
      }
    },
    {
      "cell_type": "markdown",
      "source": [
        " # <font color=\"RoyalBlue\"><b>Creación de arrays NumPy</font>"
      ],
      "metadata": {
        "id": "yBB8whTUiKUq"
      }
    },
    {
      "cell_type": "markdown",
      "source": [
        "<p align=\"justify\">\n",
        "✅ Creación de Arrays NumPy\n",
        "<br><br>\n",
        "Una de las características más poderosas de NumPy es su capacidad para crear y manipular arrays de manera eficiente. Se puede crear arrays NumPy utilizando la función <code>numpy.array()</code> o utilizando otras funciones útiles, como <code>numpy.zeros()</code>, <code>numpy.ones()</code>, <code>numpy.arange()</code> y <code>numpy.linspace()</code>.\n"
      ],
      "metadata": {
        "id": "ur5XSLrpxpZe"
      }
    },
    {
      "cell_type": "markdown",
      "source": [
        "## <font color=\"RoyalBlue\"><b>Array unidimensional\n"
      ],
      "metadata": {
        "id": "HPXqTXLz1Erz"
      }
    },
    {
      "cell_type": "markdown",
      "source": [
        "<p align=\"center\">\n",
        "<img src=\"https://github.com/cristiandarioortegayubro/BDS/blob/main/images/array1d.png?raw=true\" width=\"150\" height=\"\">\n",
        "</p>\n"
      ],
      "metadata": {
        "id": "NpQPRantY-Bk"
      }
    },
    {
      "cell_type": "markdown",
      "source": [
        "### <font color=\"RoyalBlue\"><b>Creando un array unidimensional\n"
      ],
      "metadata": {
        "id": "xuZmgf1nufR9"
      }
    },
    {
      "cell_type": "code",
      "source": [
        "arr1d = np.array([1, 2, 3, 4, 5])\n",
        "arr1d"
      ],
      "metadata": {
        "colab": {
          "base_uri": "https://localhost:8080/"
        },
        "id": "KgzT084jvXIr",
        "outputId": "46ab72ab-dab3-4879-c09a-19b97ed459fc"
      },
      "execution_count": null,
      "outputs": [
        {
          "output_type": "execute_result",
          "data": {
            "text/plain": [
              "array([1, 2, 3, 4, 5])"
            ]
          },
          "metadata": {},
          "execution_count": 4
        }
      ]
    },
    {
      "cell_type": "code",
      "source": [
        "arr1d.shape"
      ],
      "metadata": {
        "colab": {
          "base_uri": "https://localhost:8080/"
        },
        "id": "dvgt0CkqN-ZY",
        "outputId": "faaa0b4c-064c-4a9f-f5e3-f96fcfb373d8"
      },
      "execution_count": null,
      "outputs": [
        {
          "output_type": "execute_result",
          "data": {
            "text/plain": [
              "(5,)"
            ]
          },
          "metadata": {},
          "execution_count": 5
        }
      ]
    },
    {
      "cell_type": "markdown",
      "source": [
        "<p align=\"justify\">\n",
        "👀 Este script crea un array unidimensional. Básicamente, este código representa la creación y visualización de un array unidimensional utilizando NumPy."
      ],
      "metadata": {
        "id": "CtcBCoCyI4Az"
      }
    },
    {
      "cell_type": "markdown",
      "source": [
        "### <font color=\"RoyalBlue\"><b>Creando un array de ceros\n"
      ],
      "metadata": {
        "id": "BEX0dl_m1d_q"
      }
    },
    {
      "cell_type": "code",
      "source": [
        "zeros_arr1d = np.zeros((9))\n",
        "zeros_arr1d"
      ],
      "metadata": {
        "colab": {
          "base_uri": "https://localhost:8080/"
        },
        "id": "RYKjCLpx1fQG",
        "outputId": "fe5e3fab-d04f-49e4-cfc1-c10b2732434d"
      },
      "execution_count": null,
      "outputs": [
        {
          "output_type": "execute_result",
          "data": {
            "text/plain": [
              "array([0., 0., 0., 0., 0., 0., 0., 0., 0.])"
            ]
          },
          "metadata": {},
          "execution_count": 6
        }
      ]
    },
    {
      "cell_type": "markdown",
      "source": [
        "<p align=\"justify\">\n",
        "👀 Este script utiliza la función <code>np.zeros()</code> para crear un array unidimensional de longitud 9, lleno de ceros de manera eficiente."
      ],
      "metadata": {
        "id": "7ZO7McseJPzu"
      }
    },
    {
      "cell_type": "markdown",
      "source": [
        "### <font color=\"RoyalBlue\"><b>Creando un array de unos\n"
      ],
      "metadata": {
        "id": "r2d65alg13Zk"
      }
    },
    {
      "cell_type": "code",
      "source": [
        "ones_arr1d = np.ones((5))\n",
        "ones_arr1d"
      ],
      "metadata": {
        "colab": {
          "base_uri": "https://localhost:8080/"
        },
        "id": "oZtfZP_D17eJ",
        "outputId": "113388bb-48b1-44d5-ad19-37ecb112bf9c"
      },
      "execution_count": null,
      "outputs": [
        {
          "output_type": "execute_result",
          "data": {
            "text/plain": [
              "array([1., 1., 1., 1., 1.])"
            ]
          },
          "metadata": {},
          "execution_count": 7
        }
      ]
    },
    {
      "cell_type": "markdown",
      "source": [
        "<p align=\"justify\">\n",
        "👀 Este script utiliza la función <code>np.ones()</code> para crear un array unidimensional de longitud 5 de acuerdo al ejemplo, lleno de unos."
      ],
      "metadata": {
        "id": "RqfvPfHxJqDx"
      }
    },
    {
      "cell_type": "markdown",
      "source": [
        "### <font color=\"RoyalBlue\"><b>Creando un array con valores espaciados uniformemente\n"
      ],
      "metadata": {
        "id": "1T0GEcmz2IJZ"
      }
    },
    {
      "cell_type": "code",
      "source": [
        "range_arr = np.arange(0, 10, 2)\n",
        "range_arr"
      ],
      "metadata": {
        "colab": {
          "base_uri": "https://localhost:8080/"
        },
        "id": "PxNWlY_q2NS4",
        "outputId": "ed72bc59-3585-47aa-f083-ca2ccf32eab5"
      },
      "execution_count": null,
      "outputs": [
        {
          "output_type": "execute_result",
          "data": {
            "text/plain": [
              "array([0, 2, 4, 6, 8])"
            ]
          },
          "metadata": {},
          "execution_count": 8
        }
      ]
    },
    {
      "cell_type": "markdown",
      "source": [
        "<p align = \"justify\">\n",
        "👀 Este script utiliza la función <code>np.arange()</code> para crear un array unidimensional que contiene una secuencia de números comenzando desde 0 (inclusive), hasta 10 (exclusivo), con un paso de 2 entre cada número.\n",
        "<br><br>\n",
        "A continuación, otros ejemplos:"
      ],
      "metadata": {
        "id": "fy8mDluqKd_c"
      }
    },
    {
      "cell_type": "code",
      "source": [
        "range_arr = np.arange(0, 21, 5)\n",
        "range_arr"
      ],
      "metadata": {
        "colab": {
          "base_uri": "https://localhost:8080/"
        },
        "id": "pbXn6HavK0-X",
        "outputId": "59b3a3aa-b852-4dd5-9af9-0389466c0208"
      },
      "execution_count": null,
      "outputs": [
        {
          "output_type": "execute_result",
          "data": {
            "text/plain": [
              "array([ 0,  5, 10, 15, 20])"
            ]
          },
          "metadata": {},
          "execution_count": 9
        }
      ]
    },
    {
      "cell_type": "code",
      "source": [
        "range_arr = np.arange(0, 31, 3)\n",
        "range_arr"
      ],
      "metadata": {
        "colab": {
          "base_uri": "https://localhost:8080/"
        },
        "id": "jK6B1TZjLIQx",
        "outputId": "223389cd-e841-4fa4-db69-da7f6f4eae93"
      },
      "execution_count": null,
      "outputs": [
        {
          "output_type": "execute_result",
          "data": {
            "text/plain": [
              "array([ 0,  3,  6,  9, 12, 15, 18, 21, 24, 27, 30])"
            ]
          },
          "metadata": {},
          "execution_count": 10
        }
      ]
    },
    {
      "cell_type": "markdown",
      "source": [
        "### <font color=\"RoyalBlue\"><b>Creando un array con valores espaciados linealmente\n"
      ],
      "metadata": {
        "id": "aYPm92oN2Sza"
      }
    },
    {
      "cell_type": "code",
      "source": [
        "linspace_arr = np.linspace(0, 5, 10)\n",
        "linspace_arr"
      ],
      "metadata": {
        "colab": {
          "base_uri": "https://localhost:8080/"
        },
        "id": "NPy0zMiB2UsX",
        "outputId": "4c824dd4-1e39-4986-f687-92209b3e1dbe"
      },
      "execution_count": null,
      "outputs": [
        {
          "output_type": "execute_result",
          "data": {
            "text/plain": [
              "array([0.        , 0.55555556, 1.11111111, 1.66666667, 2.22222222,\n",
              "       2.77777778, 3.33333333, 3.88888889, 4.44444444, 5.        ])"
            ]
          },
          "metadata": {},
          "execution_count": 11
        }
      ]
    },
    {
      "cell_type": "markdown",
      "source": [
        "<p align=\"justify\">\n",
        "👀 Este script utiliza la función <code>np.linspace()</code> para crear un array unidimensional que contiene una secuencia de números uniformemente espaciados entre dos valores dados. En este caso, el array comienza en 0 y termina en 5, con un total de 10 elementos igualmente espaciados a lo largo de ese intervalo. Por lo tanto, contendrá valores distribuidos uniformemente entre 0 y 5, incluyendo ambos extremos."
      ],
      "metadata": {
        "id": "zofafKi4LWJh"
      }
    },
    {
      "cell_type": "markdown",
      "source": [
        "👀 ahora con 5 elementos..."
      ],
      "metadata": {
        "id": "EP_2opaBNDpG"
      }
    },
    {
      "cell_type": "code",
      "source": [
        "linspace_arr = np.linspace(0, 5, 5)\n",
        "linspace_arr"
      ],
      "metadata": {
        "colab": {
          "base_uri": "https://localhost:8080/"
        },
        "id": "u09c813hLs3G",
        "outputId": "bb0d75e0-8a83-479e-9379-5abb13b50694"
      },
      "execution_count": null,
      "outputs": [
        {
          "output_type": "execute_result",
          "data": {
            "text/plain": [
              "array([0.  , 1.25, 2.5 , 3.75, 5.  ])"
            ]
          },
          "metadata": {},
          "execution_count": 12
        }
      ]
    },
    {
      "cell_type": "markdown",
      "source": [
        "👀 si queremos valores enteros, entonces usamos el parámetro <code>dtype</code>"
      ],
      "metadata": {
        "id": "VbpMlhO5L9fY"
      }
    },
    {
      "cell_type": "code",
      "source": [
        "linspace_arr = np.linspace(0, 5, 5, dtype=int)\n",
        "linspace_arr"
      ],
      "metadata": {
        "colab": {
          "base_uri": "https://localhost:8080/"
        },
        "id": "xYZwfXbRL4Gj",
        "outputId": "d3ae4e00-4d7a-4c5c-85e6-a502fa8211d9"
      },
      "execution_count": null,
      "outputs": [
        {
          "output_type": "execute_result",
          "data": {
            "text/plain": [
              "array([0, 1, 2, 3, 5])"
            ]
          },
          "metadata": {},
          "execution_count": 13
        }
      ]
    },
    {
      "cell_type": "markdown",
      "source": [
        "## <font color=\"RoyalBlue\"><b>Array bidimensional\n"
      ],
      "metadata": {
        "id": "i1ilvjYS1SMg"
      }
    },
    {
      "cell_type": "markdown",
      "source": [
        "<p align=\"center\">\n",
        "<img src=\"https://github.com/cristiandarioortegayubro/BDS/blob/main/images/array2d.png?raw=true\" width=\"150\" height=\"\">\n",
        "</p>\n"
      ],
      "metadata": {
        "id": "bSZr_U_gZ5Rl"
      }
    },
    {
      "cell_type": "markdown",
      "source": [
        "### <font color=\"RoyalBlue\"><b>Creando un array bidimensional\n",
        "\n"
      ],
      "metadata": {
        "id": "w8p37NG5umZ1"
      }
    },
    {
      "cell_type": "code",
      "source": [
        "arr2d = np.array([[1, 2, 3], [4, 5, 6]])\n",
        "arr2d"
      ],
      "metadata": {
        "colab": {
          "base_uri": "https://localhost:8080/"
        },
        "id": "aToDU-SovhrQ",
        "outputId": "6ec68b69-2495-45d0-8c88-3be4334290f4"
      },
      "execution_count": null,
      "outputs": [
        {
          "output_type": "execute_result",
          "data": {
            "text/plain": [
              "array([[1, 2, 3],\n",
              "       [4, 5, 6]])"
            ]
          },
          "metadata": {},
          "execution_count": 14
        }
      ]
    },
    {
      "cell_type": "markdown",
      "source": [
        "<p align=\"justify\">\n",
        "👀 Este script crea un array bidimensional con una lista de listas que contiene dos filas y tres columnas.\n",
        "<br><br>\n",
        "La primera fila contiene los elementos <code>[1, 2, 3]</code> y la segunda fila contiene los elementos <code>[4, 5, 6]</code>. En términos de matriz, esto representa una matriz con dos filas y tres columnas."
      ],
      "metadata": {
        "id": "jvoKAihqNf1k"
      }
    },
    {
      "cell_type": "code",
      "source": [
        "arr2d.shape"
      ],
      "metadata": {
        "colab": {
          "base_uri": "https://localhost:8080/"
        },
        "id": "DqC27KhmN18g",
        "outputId": "c59029b1-0b40-41d6-b012-27c92ce56c25"
      },
      "execution_count": null,
      "outputs": [
        {
          "output_type": "execute_result",
          "data": {
            "text/plain": [
              "(2, 3)"
            ]
          },
          "metadata": {},
          "execution_count": 15
        }
      ]
    },
    {
      "cell_type": "code",
      "source": [
        "arr_bidimensional = np.random.random((3, 3))\n",
        "arr_bidimensional"
      ],
      "metadata": {
        "colab": {
          "base_uri": "https://localhost:8080/"
        },
        "id": "IdhNSyslQK89",
        "outputId": "181dffcd-84b9-4402-8c0d-720530bdf9f1"
      },
      "execution_count": null,
      "outputs": [
        {
          "output_type": "execute_result",
          "data": {
            "text/plain": [
              "array([[0.04265582, 0.29961952, 0.95269111],\n",
              "       [0.09147089, 0.10829129, 0.7080117 ],\n",
              "       [0.49817769, 0.64560793, 0.40623386]])"
            ]
          },
          "metadata": {},
          "execution_count": 16
        }
      ]
    },
    {
      "cell_type": "markdown",
      "source": [
        "<p align=\"justify\">\n",
        "👀 Con la función <code>np.random.random()</code> se crea un array. Cada elemento de este array bidimensional es generado aleatoriamente y se encuentra en el rango de 0 a 1, siguiendo una distribución uniforme. Por lo tanto representa una matriz de 3 filas y 3 columnas, donde cada elemento es un número aleatorio entre 0 y 1."
      ],
      "metadata": {
        "id": "9h4H3Xa9QY5r"
      }
    },
    {
      "cell_type": "markdown",
      "source": [
        "### <font color=\"RoyalBlue\"><b>Creando un array de ceros\n",
        "\n"
      ],
      "metadata": {
        "id": "6iFpJ_eCusVO"
      }
    },
    {
      "cell_type": "code",
      "source": [
        "zeros_arr2d = np.zeros((3, 3))\n",
        "zeros_arr2d"
      ],
      "metadata": {
        "colab": {
          "base_uri": "https://localhost:8080/"
        },
        "id": "N8WfvWV6vmJs",
        "outputId": "f679727e-ae8e-4c62-a551-252bc0bb326a"
      },
      "execution_count": null,
      "outputs": [
        {
          "output_type": "execute_result",
          "data": {
            "text/plain": [
              "array([[0., 0., 0.],\n",
              "       [0., 0., 0.],\n",
              "       [0., 0., 0.]])"
            ]
          },
          "metadata": {},
          "execution_count": 17
        }
      ]
    },
    {
      "cell_type": "code",
      "source": [
        "zeros_arr2d.shape"
      ],
      "metadata": {
        "colab": {
          "base_uri": "https://localhost:8080/"
        },
        "id": "dAVhQqtNOjPu",
        "outputId": "ceb7a541-23fd-4536-e5f6-9797ffe0636f"
      },
      "execution_count": null,
      "outputs": [
        {
          "output_type": "execute_result",
          "data": {
            "text/plain": [
              "(3, 3)"
            ]
          },
          "metadata": {},
          "execution_count": 18
        }
      ]
    },
    {
      "cell_type": "markdown",
      "source": [
        "### <font color=\"RoyalBlue\"><b>Creando un array de unos\n",
        "\n"
      ],
      "metadata": {
        "id": "AGyyZzg3uwiD"
      }
    },
    {
      "cell_type": "code",
      "source": [
        "ones_arr2d = np.ones((2, 2))\n",
        "ones_arr2d"
      ],
      "metadata": {
        "colab": {
          "base_uri": "https://localhost:8080/"
        },
        "id": "5JyOMQrovq4F",
        "outputId": "9886865a-e846-437e-ffbb-034c82bf666f"
      },
      "execution_count": null,
      "outputs": [
        {
          "output_type": "execute_result",
          "data": {
            "text/plain": [
              "array([[1., 1.],\n",
              "       [1., 1.]])"
            ]
          },
          "metadata": {},
          "execution_count": 19
        }
      ]
    },
    {
      "cell_type": "markdown",
      "source": [
        "## <font color=\"RoyalBlue\"><b>Array n-dimensional\n"
      ],
      "metadata": {
        "id": "QStTJZk72xB_"
      }
    },
    {
      "cell_type": "markdown",
      "source": [
        "<p align=\"center\">\n",
        "<img src=\"https://github.com/cristiandarioortegayubro/BDS/blob/main/images/array3d.png?raw=true\" width=\"180\" height=\"\">\n",
        "</p>\n"
      ],
      "metadata": {
        "id": "V7ZZJsK2aASG"
      }
    },
    {
      "cell_type": "code",
      "source": [
        "arr_3d = np.random.random((2, 3, 4))\n",
        "arr_3d"
      ],
      "metadata": {
        "colab": {
          "base_uri": "https://localhost:8080/"
        },
        "id": "3AKNIXP32oWi",
        "outputId": "df54b64e-cfd9-4653-8e70-0d56b965da80"
      },
      "execution_count": null,
      "outputs": [
        {
          "output_type": "execute_result",
          "data": {
            "text/plain": [
              "array([[[0.82487753, 0.46307364, 0.84178052, 0.12877921],\n",
              "        [0.98773425, 0.33846272, 0.50773035, 0.13441338],\n",
              "        [0.8905191 , 0.32200432, 0.27308353, 0.37908094]],\n",
              "\n",
              "       [[0.26564289, 0.45536572, 0.85611282, 0.15469387],\n",
              "        [0.14978446, 0.07002455, 0.98424159, 0.21486234],\n",
              "        [0.262579  , 0.28292073, 0.06295597, 0.91892918]]])"
            ]
          },
          "metadata": {},
          "execution_count": 20
        }
      ]
    },
    {
      "cell_type": "markdown",
      "source": [
        " # **<font color=\"RoyalBlue\">Indexación y Slicing</font>**"
      ],
      "metadata": {
        "id": "wlAjWBjlifcE"
      }
    },
    {
      "cell_type": "markdown",
      "source": [
        "<p align=\"justify\">\n",
        "✅ NumPy permite acceder a elementos individuales, filas, columnas y secciones de arrays utilizando indexación y slicing. Esto proporciona una forma eficiente de manipular y trabajar con datos en arrays NumPy.\n",
        "\n"
      ],
      "metadata": {
        "id": "Wu3ooQOfx1yb"
      }
    },
    {
      "cell_type": "markdown",
      "source": [
        " ## **<font color=\"RoyalBlue\">Indexación de arrays unidimensionales</font>**"
      ],
      "metadata": {
        "id": "yHDKD29a3pYC"
      }
    },
    {
      "cell_type": "code",
      "source": [
        "arr = np.array([0, 1, 2, 3, 4, 5])"
      ],
      "metadata": {
        "id": "PXMNga_Nx2dj"
      },
      "execution_count": null,
      "outputs": []
    },
    {
      "cell_type": "code",
      "source": [
        "len(arr)"
      ],
      "metadata": {
        "colab": {
          "base_uri": "https://localhost:8080/"
        },
        "id": "26bR-tPdPCoS",
        "outputId": "2b885fab-117c-48a4-a439-fe4a810b5004"
      },
      "execution_count": null,
      "outputs": [
        {
          "output_type": "execute_result",
          "data": {
            "text/plain": [
              "6"
            ]
          },
          "metadata": {},
          "execution_count": 22
        }
      ]
    },
    {
      "cell_type": "code",
      "source": [
        "primer_elemento = arr[0]\n",
        "primer_elemento"
      ],
      "metadata": {
        "colab": {
          "base_uri": "https://localhost:8080/"
        },
        "id": "_97ppFFd3-r5",
        "outputId": "403323cc-b76a-4bde-c073-330a72e315b6"
      },
      "execution_count": null,
      "outputs": [
        {
          "output_type": "execute_result",
          "data": {
            "text/plain": [
              "0"
            ]
          },
          "metadata": {},
          "execution_count": 23
        }
      ]
    },
    {
      "cell_type": "code",
      "source": [
        "ultimo_elemento = arr[-1]\n",
        "ultimo_elemento"
      ],
      "metadata": {
        "colab": {
          "base_uri": "https://localhost:8080/"
        },
        "id": "qC3eKVgk4FMT",
        "outputId": "c68825b0-9663-4be5-f58f-cdb531932fab"
      },
      "execution_count": null,
      "outputs": [
        {
          "output_type": "execute_result",
          "data": {
            "text/plain": [
              "5"
            ]
          },
          "metadata": {},
          "execution_count": 24
        }
      ]
    },
    {
      "cell_type": "code",
      "source": [
        "sub_array = arr[2:5]\n",
        "sub_array"
      ],
      "metadata": {
        "colab": {
          "base_uri": "https://localhost:8080/"
        },
        "id": "bq8s2QBG4P5h",
        "outputId": "0552f88e-312a-46f3-ca4e-806a3966b55b"
      },
      "execution_count": null,
      "outputs": [
        {
          "output_type": "execute_result",
          "data": {
            "text/plain": [
              "array([2, 3, 4])"
            ]
          },
          "metadata": {},
          "execution_count": 25
        }
      ]
    },
    {
      "cell_type": "markdown",
      "source": [
        " ## **<font color=\"RoyalBlue\">Indexación de arrays bidimensionales</font>**"
      ],
      "metadata": {
        "id": "zW4YzFQs4a5J"
      }
    },
    {
      "cell_type": "code",
      "source": [
        "arr_2d = np.array([[0, 1, 2], [3, 4, 5], [6, 7, 8]])\n",
        "arr_2d"
      ],
      "metadata": {
        "colab": {
          "base_uri": "https://localhost:8080/"
        },
        "id": "RkmNl5Ba4uPu",
        "outputId": "d4d10662-12be-42c9-a7d4-c74cfba65ebb"
      },
      "execution_count": null,
      "outputs": [
        {
          "output_type": "execute_result",
          "data": {
            "text/plain": [
              "array([[0, 1, 2],\n",
              "       [3, 4, 5],\n",
              "       [6, 7, 8]])"
            ]
          },
          "metadata": {},
          "execution_count": 26
        }
      ]
    },
    {
      "cell_type": "code",
      "source": [
        "elemento = arr_2d[1, 1]\n",
        "elemento"
      ],
      "metadata": {
        "colab": {
          "base_uri": "https://localhost:8080/"
        },
        "id": "wYWDIZ_E40fH",
        "outputId": "47596033-c5ac-4a7f-ee5b-692be5df982b"
      },
      "execution_count": null,
      "outputs": [
        {
          "output_type": "execute_result",
          "data": {
            "text/plain": [
              "4"
            ]
          },
          "metadata": {},
          "execution_count": 27
        }
      ]
    },
    {
      "cell_type": "code",
      "source": [
        "fila = arr_2d[1]\n",
        "fila"
      ],
      "metadata": {
        "colab": {
          "base_uri": "https://localhost:8080/"
        },
        "id": "32zP0IRc49kv",
        "outputId": "1afd2db5-c2e9-4218-e6eb-f8bd819d6ced"
      },
      "execution_count": null,
      "outputs": [
        {
          "output_type": "execute_result",
          "data": {
            "text/plain": [
              "array([3, 4, 5])"
            ]
          },
          "metadata": {},
          "execution_count": 28
        }
      ]
    },
    {
      "cell_type": "code",
      "source": [
        "columna = arr_2d[:, 1]\n",
        "columna"
      ],
      "metadata": {
        "colab": {
          "base_uri": "https://localhost:8080/"
        },
        "id": "uQDnEzms5Ca3",
        "outputId": "63fb8bce-5f6b-408a-8faf-4ff2069cc7e0"
      },
      "execution_count": null,
      "outputs": [
        {
          "output_type": "execute_result",
          "data": {
            "text/plain": [
              "array([1, 4, 7])"
            ]
          },
          "metadata": {},
          "execution_count": 29
        }
      ]
    },
    {
      "cell_type": "code",
      "source": [
        "seccion = arr_2d[:2, 1:]\n",
        "seccion"
      ],
      "metadata": {
        "colab": {
          "base_uri": "https://localhost:8080/"
        },
        "id": "QjnOQxBX5PLB",
        "outputId": "ae928d5c-a28a-4527-db89-cf7ac2cb0845"
      },
      "execution_count": null,
      "outputs": [
        {
          "output_type": "execute_result",
          "data": {
            "text/plain": [
              "array([[1, 2],\n",
              "       [4, 5]])"
            ]
          },
          "metadata": {},
          "execution_count": 30
        }
      ]
    },
    {
      "cell_type": "markdown",
      "source": [
        " ## **<font color=\"RoyalBlue\">Indexación con expresiones booleanas</font>**"
      ],
      "metadata": {
        "id": "aKJjDgFs3r5G"
      }
    },
    {
      "cell_type": "code",
      "source": [
        "rand_arr = np.random.random(5)\n",
        "rand_arr"
      ],
      "metadata": {
        "colab": {
          "base_uri": "https://localhost:8080/"
        },
        "id": "2F83y3aW3uch",
        "outputId": "6ea313eb-175c-45a0-de8e-47b8d44fcaed"
      },
      "execution_count": null,
      "outputs": [
        {
          "output_type": "execute_result",
          "data": {
            "text/plain": [
              "array([0.05062282, 0.90786647, 0.0261457 , 0.40059993, 0.4581833 ])"
            ]
          },
          "metadata": {},
          "execution_count": 31
        }
      ]
    },
    {
      "cell_type": "code",
      "source": [
        "mascara = rand_arr > 0.5\n",
        "mascara"
      ],
      "metadata": {
        "colab": {
          "base_uri": "https://localhost:8080/"
        },
        "id": "QN_Vb8sh_B_h",
        "outputId": "20dc8f14-c92d-4696-d54e-17d2304b3601"
      },
      "execution_count": null,
      "outputs": [
        {
          "output_type": "execute_result",
          "data": {
            "text/plain": [
              "array([False,  True, False, False, False])"
            ]
          },
          "metadata": {},
          "execution_count": 32
        }
      ]
    },
    {
      "cell_type": "code",
      "source": [
        "valores_seleccionados = rand_arr[mascara]\n",
        "valores_seleccionados"
      ],
      "metadata": {
        "colab": {
          "base_uri": "https://localhost:8080/"
        },
        "id": "d5CsxBfu_HQN",
        "outputId": "6bcbf458-fe37-40f6-8e42-7ba317d8efcc"
      },
      "execution_count": null,
      "outputs": [
        {
          "output_type": "execute_result",
          "data": {
            "text/plain": [
              "array([0.90786647])"
            ]
          },
          "metadata": {},
          "execution_count": 33
        }
      ]
    },
    {
      "cell_type": "markdown",
      "source": [
        " # **<font color=\"RoyalBlue\">Operaciones básicas de álgebra lineal</font>**"
      ],
      "metadata": {
        "id": "9mIxtOfNiqPv"
      }
    },
    {
      "cell_type": "markdown",
      "source": [
        "<p align=\"justify\">\n",
        "✅ NumPy proporciona un conjunto completo de funciones para realizar operaciones básicas de álgebra lineal en arrays NumPy. Estas operaciones son fundamentales en el análisis de datos y el aprendizaje automático.\n",
        "<br><br>\n",
        "A continuación, se presentan algunos ejemplos de operaciones básicas de álgebra lineal:\n",
        "\n"
      ],
      "metadata": {
        "id": "Y9FNHvQHx3FK"
      }
    },
    {
      "cell_type": "markdown",
      "source": [
        " ## **<font color=\"RoyalBlue\">Transposición de matrices</font>**"
      ],
      "metadata": {
        "id": "_QXUZ3rfAAwX"
      }
    },
    {
      "cell_type": "code",
      "source": [
        "matriz = np.array([[1, 2], [3, 4]])\n",
        "matriz"
      ],
      "metadata": {
        "colab": {
          "base_uri": "https://localhost:8080/"
        },
        "id": "rQJEg6EQx3ke",
        "outputId": "fbdf1ec8-8124-4ed2-fe76-32bafabc6bee"
      },
      "execution_count": null,
      "outputs": [
        {
          "output_type": "execute_result",
          "data": {
            "text/plain": [
              "array([[1, 2],\n",
              "       [3, 4]])"
            ]
          },
          "metadata": {},
          "execution_count": 34
        }
      ]
    },
    {
      "cell_type": "code",
      "source": [
        "transpuesta = np.transpose(matriz)\n",
        "transpuesta"
      ],
      "metadata": {
        "colab": {
          "base_uri": "https://localhost:8080/"
        },
        "id": "oDtZ8bvJAPYM",
        "outputId": "a80bfea0-af88-45aa-86ff-24e71b60cff5"
      },
      "execution_count": null,
      "outputs": [
        {
          "output_type": "execute_result",
          "data": {
            "text/plain": [
              "array([[1, 3],\n",
              "       [2, 4]])"
            ]
          },
          "metadata": {},
          "execution_count": 35
        }
      ]
    },
    {
      "cell_type": "markdown",
      "source": [
        " ## **<font color=\"RoyalBlue\">Multiplicación de matrices</font>**"
      ],
      "metadata": {
        "id": "xpWKBRjUAjIG"
      }
    },
    {
      "cell_type": "code",
      "source": [
        "matriz1 = np.array([[1, 2], [3, 4]])\n",
        "matriz1"
      ],
      "metadata": {
        "colab": {
          "base_uri": "https://localhost:8080/"
        },
        "id": "nnBkP5brApyx",
        "outputId": "71d080fd-ceab-4f60-f455-79fd393fc89d"
      },
      "execution_count": null,
      "outputs": [
        {
          "output_type": "execute_result",
          "data": {
            "text/plain": [
              "array([[1, 2],\n",
              "       [3, 4]])"
            ]
          },
          "metadata": {},
          "execution_count": 36
        }
      ]
    },
    {
      "cell_type": "code",
      "source": [
        "matriz2 = np.array([[5, 6], [7, 8]])\n",
        "matriz2"
      ],
      "metadata": {
        "colab": {
          "base_uri": "https://localhost:8080/"
        },
        "id": "xcYru9vNAwrn",
        "outputId": "8a35ba49-e990-4c90-b4cb-48e379c30359"
      },
      "execution_count": null,
      "outputs": [
        {
          "output_type": "execute_result",
          "data": {
            "text/plain": [
              "array([[5, 6],\n",
              "       [7, 8]])"
            ]
          },
          "metadata": {},
          "execution_count": 37
        }
      ]
    },
    {
      "cell_type": "code",
      "source": [
        "producto = np.dot(matriz1, matriz2)\n",
        "producto"
      ],
      "metadata": {
        "colab": {
          "base_uri": "https://localhost:8080/"
        },
        "id": "dZUyztW5A3VX",
        "outputId": "88862bbd-9f9c-49b4-83d4-10512a685f83"
      },
      "execution_count": null,
      "outputs": [
        {
          "output_type": "execute_result",
          "data": {
            "text/plain": [
              "array([[19, 22],\n",
              "       [43, 50]])"
            ]
          },
          "metadata": {},
          "execution_count": 38
        }
      ]
    },
    {
      "cell_type": "markdown",
      "source": [
        " ## **<font color=\"RoyalBlue\">Cálculo de determinantes</font>**"
      ],
      "metadata": {
        "id": "TSTipLjdBOtC"
      }
    },
    {
      "cell_type": "code",
      "source": [
        "matriz"
      ],
      "metadata": {
        "colab": {
          "base_uri": "https://localhost:8080/"
        },
        "id": "x1VEorUqBcCT",
        "outputId": "ef937c2a-b9c3-4def-b29a-8386145417c6"
      },
      "execution_count": null,
      "outputs": [
        {
          "output_type": "execute_result",
          "data": {
            "text/plain": [
              "array([[1, 2],\n",
              "       [3, 4]])"
            ]
          },
          "metadata": {},
          "execution_count": 39
        }
      ]
    },
    {
      "cell_type": "code",
      "source": [
        "determinante = np.linalg.det(matriz)\n",
        "determinante.round(4)"
      ],
      "metadata": {
        "colab": {
          "base_uri": "https://localhost:8080/"
        },
        "id": "_hYboVp6BW8w",
        "outputId": "4ca457e9-28bf-44aa-f32f-0b66944121a5"
      },
      "execution_count": null,
      "outputs": [
        {
          "output_type": "execute_result",
          "data": {
            "text/plain": [
              "-2.0"
            ]
          },
          "metadata": {},
          "execution_count": 41
        }
      ]
    },
    {
      "cell_type": "markdown",
      "source": [
        " ## **<font color=\"RoyalBlue\">Cálculo de inversas</font>**"
      ],
      "metadata": {
        "id": "08GLlRzIBfI2"
      }
    },
    {
      "cell_type": "code",
      "source": [
        "matriz"
      ],
      "metadata": {
        "colab": {
          "base_uri": "https://localhost:8080/"
        },
        "id": "al5ssp3uBodi",
        "outputId": "6af3d8cd-5ae1-48b9-a937-f1647e121de0"
      },
      "execution_count": null,
      "outputs": [
        {
          "output_type": "execute_result",
          "data": {
            "text/plain": [
              "array([[1, 2],\n",
              "       [3, 4]])"
            ]
          },
          "metadata": {},
          "execution_count": 36
        }
      ]
    },
    {
      "cell_type": "code",
      "source": [
        "inversa = np.linalg.inv(matriz)\n",
        "inversa"
      ],
      "metadata": {
        "colab": {
          "base_uri": "https://localhost:8080/"
        },
        "id": "ubNivxYXBuVv",
        "outputId": "4259247f-6324-451b-b075-124002957910"
      },
      "execution_count": null,
      "outputs": [
        {
          "output_type": "execute_result",
          "data": {
            "text/plain": [
              "array([[-2. ,  1. ],\n",
              "       [ 1.5, -0.5]])"
            ]
          },
          "metadata": {},
          "execution_count": 37
        }
      ]
    },
    {
      "cell_type": "markdown",
      "source": [
        " ## **<font color=\"RoyalBlue\">Resolución de sistemas de ecuaciones lineales</font>**"
      ],
      "metadata": {
        "id": "oXuXhbzUB3M7"
      }
    },
    {
      "cell_type": "code",
      "source": [
        "A = np.array([[2, 3], [4, 5]])\n",
        "A"
      ],
      "metadata": {
        "colab": {
          "base_uri": "https://localhost:8080/"
        },
        "id": "p6PhJpHzCAOc",
        "outputId": "8b24932f-46dc-4108-e264-de75b1533c5c"
      },
      "execution_count": null,
      "outputs": [
        {
          "output_type": "execute_result",
          "data": {
            "text/plain": [
              "array([[2, 3],\n",
              "       [4, 5]])"
            ]
          },
          "metadata": {},
          "execution_count": 38
        }
      ]
    },
    {
      "cell_type": "code",
      "source": [
        "b = np.array([1, 2])\n",
        "b"
      ],
      "metadata": {
        "colab": {
          "base_uri": "https://localhost:8080/"
        },
        "id": "CFhQuxPuCEjP",
        "outputId": "1928a2c0-8551-4704-9d52-b4965e0dc569"
      },
      "execution_count": null,
      "outputs": [
        {
          "output_type": "execute_result",
          "data": {
            "text/plain": [
              "array([1, 2])"
            ]
          },
          "metadata": {},
          "execution_count": 39
        }
      ]
    },
    {
      "cell_type": "code",
      "source": [
        "x = np.linalg.solve(A, b)\n",
        "x"
      ],
      "metadata": {
        "colab": {
          "base_uri": "https://localhost:8080/"
        },
        "id": "sAWwH_m5CF2q",
        "outputId": "02ce08e6-c4ea-4a02-d708-3cecf9544e82"
      },
      "execution_count": null,
      "outputs": [
        {
          "output_type": "execute_result",
          "data": {
            "text/plain": [
              "array([0.5, 0. ])"
            ]
          },
          "metadata": {},
          "execution_count": 40
        }
      ]
    },
    {
      "cell_type": "markdown",
      "source": [
        "<p align=\"justify\">\n",
        "👀 Este script utiliza la función <code>np.linalg.solve()</code> para resolver un sistema de ecuaciones lineales representado por la matriz $A$ y el vector $b$.\n",
        "<br><br>\n",
        "La función <code>np.linalg.solve()</code> encuentra la solución para el vector <code>x</code> que satisface la ecuación $Ax = b$, donde $A$ es una matriz y $b$ es un vector, y se asigna el resultado a la variable $x$."
      ],
      "metadata": {
        "id": "Po1Op5HjT0Pp"
      }
    },
    {
      "cell_type": "markdown",
      "source": [
        " # **<font color=\"RoyalBlue\">Operaciones básicas de estadística descriptiva</font>**"
      ],
      "metadata": {
        "id": "S48LDQc4RQje"
      }
    },
    {
      "cell_type": "code",
      "source": [
        "arr_aleatorio = np.random.randint(0, 505, 30)\n",
        "arr_aleatorio"
      ],
      "metadata": {
        "colab": {
          "base_uri": "https://localhost:8080/"
        },
        "id": "qHH9VExBRNEB",
        "outputId": "bf89592c-8489-4ac1-b894-e9131bb80b7d"
      },
      "execution_count": null,
      "outputs": [
        {
          "output_type": "execute_result",
          "data": {
            "text/plain": [
              "array([397,   2, 499, 205, 441, 202, 469, 179, 459, 206, 160, 454, 274,\n",
              "       476, 259,  73, 334, 370, 347, 271,   7, 119, 166,  63, 272, 239,\n",
              "        86,  54, 120, 285])"
            ]
          },
          "metadata": {},
          "execution_count": 50
        }
      ]
    },
    {
      "cell_type": "markdown",
      "source": [
        "👀 Este script genera un rango de 30 valores enteros, entre 0 y 505."
      ],
      "metadata": {
        "id": "ZvV9UmEAU6jI"
      }
    },
    {
      "cell_type": "markdown",
      "source": [
        " ## **<font color=\"RoyalBlue\">Máximos y mínimos</font>**"
      ],
      "metadata": {
        "id": "YMaEnzImRZ9x"
      }
    },
    {
      "cell_type": "code",
      "source": [
        "valor_maximo = np.max(arr_aleatorio)\n",
        "valor_maximo"
      ],
      "metadata": {
        "colab": {
          "base_uri": "https://localhost:8080/"
        },
        "id": "tLnM6tLwReav",
        "outputId": "886201c9-1613-4e8e-cf00-fdbc6539a009"
      },
      "execution_count": null,
      "outputs": [
        {
          "output_type": "execute_result",
          "data": {
            "text/plain": [
              "499"
            ]
          },
          "metadata": {},
          "execution_count": 51
        }
      ]
    },
    {
      "cell_type": "code",
      "source": [
        "valor_minimo = np.min(arr_aleatorio)\n",
        "valor_minimo"
      ],
      "metadata": {
        "colab": {
          "base_uri": "https://localhost:8080/"
        },
        "id": "pXLroM0xR-aZ",
        "outputId": "e6441d80-e8f7-48f8-8b7d-05de57ef8505"
      },
      "execution_count": null,
      "outputs": [
        {
          "output_type": "execute_result",
          "data": {
            "text/plain": [
              "2"
            ]
          },
          "metadata": {},
          "execution_count": 52
        }
      ]
    },
    {
      "cell_type": "markdown",
      "source": [
        " ## **<font color=\"RoyalBlue\">Media, mediana y desviación estándar</font>**"
      ],
      "metadata": {
        "id": "4Q5ffb6xSYiq"
      }
    },
    {
      "cell_type": "code",
      "source": [
        "media = np.mean(arr_aleatorio).round(2)\n",
        "media"
      ],
      "metadata": {
        "colab": {
          "base_uri": "https://localhost:8080/"
        },
        "id": "7Fl82KZrSj9a",
        "outputId": "c998a9ea-66ba-434d-cd78-361a4d7b4caf"
      },
      "execution_count": null,
      "outputs": [
        {
          "output_type": "execute_result",
          "data": {
            "text/plain": [
              "249.6"
            ]
          },
          "metadata": {},
          "execution_count": 53
        }
      ]
    },
    {
      "cell_type": "code",
      "source": [
        "mediana = np.median(arr_aleatorio)\n",
        "mediana"
      ],
      "metadata": {
        "colab": {
          "base_uri": "https://localhost:8080/"
        },
        "id": "8Qj9N71QSn_i",
        "outputId": "5c79a183-d3ce-4b1d-cab7-2d43d3d23bbc"
      },
      "execution_count": null,
      "outputs": [
        {
          "output_type": "execute_result",
          "data": {
            "text/plain": [
              "249.0"
            ]
          },
          "metadata": {},
          "execution_count": 54
        }
      ]
    },
    {
      "cell_type": "code",
      "source": [
        "desviacion_estandar = np.std(arr_aleatorio)\n",
        "desviacion_estandar.round(2)"
      ],
      "metadata": {
        "colab": {
          "base_uri": "https://localhost:8080/"
        },
        "id": "xgtXQyweSxgH",
        "outputId": "594a8805-a178-4957-c97d-4c7011caf28c"
      },
      "execution_count": null,
      "outputs": [
        {
          "output_type": "execute_result",
          "data": {
            "text/plain": [
              "147.3"
            ]
          },
          "metadata": {},
          "execution_count": 55
        }
      ]
    },
    {
      "cell_type": "markdown",
      "source": [
        " ## **<font color=\"RoyalBlue\">Normalizado</font>**"
      ],
      "metadata": {
        "id": "gMwp2p98TaqC"
      }
    },
    {
      "cell_type": "code",
      "source": [
        "arr_aleatorio"
      ],
      "metadata": {
        "id": "Du5-Fu4nYMtd",
        "outputId": "1a4090c0-7a9d-4f55-e792-271744fff6b3",
        "colab": {
          "base_uri": "https://localhost:8080/"
        }
      },
      "execution_count": null,
      "outputs": [
        {
          "output_type": "execute_result",
          "data": {
            "text/plain": [
              "array([397,   2, 499, 205, 441, 202, 469, 179, 459, 206, 160, 454, 274,\n",
              "       476, 259,  73, 334, 370, 347, 271,   7, 119, 166,  63, 272, 239,\n",
              "        86,  54, 120, 285])"
            ]
          },
          "metadata": {},
          "execution_count": 57
        }
      ]
    },
    {
      "cell_type": "code",
      "source": [
        "arr_normalizado = (arr_aleatorio - np.min(arr_aleatorio)) / (np.max(arr_aleatorio) - np.min(arr_aleatorio))\n",
        "arr_normalizado"
      ],
      "metadata": {
        "colab": {
          "base_uri": "https://localhost:8080/"
        },
        "id": "FyhCx_81TXLB",
        "outputId": "565d9012-bad8-4649-d071-cd946d834ffb"
      },
      "execution_count": null,
      "outputs": [
        {
          "output_type": "execute_result",
          "data": {
            "text/plain": [
              "array([0.38157895, 0.45833333, 0.1754386 , 0.61184211, 0.75877193,\n",
              "       0.60087719, 0.43201754, 0.61403509, 0.03070175, 0.55701754,\n",
              "       0.66447368, 0.92324561, 0.36403509, 0.62938596, 0.02412281,\n",
              "       1.        , 0.19078947, 0.39692982, 0.14254386, 0.86184211,\n",
              "       0.95394737, 0.        , 0.50438596, 0.81798246, 0.71052632,\n",
              "       0.82675439, 0.46710526, 0.38157895, 0.77412281, 0.47807018])"
            ]
          },
          "metadata": {},
          "execution_count": 60
        }
      ]
    },
    {
      "cell_type": "markdown",
      "source": [
        " # **<font color=\"RoyalBlue\">Ejercicios prácticos</font>**"
      ],
      "metadata": {
        "id": "VEY_VjG1i0eW"
      }
    },
    {
      "cell_type": "markdown",
      "source": [
        "<p align=\"justify\">\n",
        "✅ A continuación, se presentan algunos ejercicios prácticos para aplicar los conceptos de este colab:\n",
        "<br><br>\n",
        "\n",
        "🏷 **a. Ejercicio 1: Creación de Arrays:**\n",
        "   - Crea un array unidimensional con los números del 1 al 10.\n",
        "   - Crea un array bidimensional de tamaño 3x3 con valores aleatorios entre 0 y 1.\n",
        "   - Crea un array tridimensional de tamaño 2x2x2 con unos.\n",
        "\n",
        "🏷 **b. Ejercicio 2: Indexación y Slicing:**\n",
        "   - Accede al tercer elemento del array unidimensional creado en el ejercicio 1.\n",
        "   - Accede a la primera fila del array bidimensional creado en el ejercicio 1.\n",
        "   - Accede a la primera columna del array bidimensional creado en el ejercicio 1.\n",
        "   - Accede a la última fila y última columna del array bidimensional creado en el ejercicio 1.\n",
        "\n",
        "🏷 **c. Ejercicio 3: Operaciones Básicas de Álgebra Lineal:**\n",
        "   - Crea dos matrices 2x2 y realiza la multiplicación de matrices.\n",
        "   - Calcula el determinante de una matriz 3x3.\n",
        "   - Calcula la inversa de una matriz 2x2.\n",
        "   - Resuelve el siguiente sistema de ecuaciones lineales:\n",
        "     - 2x + 3y = 1\n",
        "     - 4x + 5y = 2\n",
        "\n",
        "🏷 **d. Ejercicio 4: Aplicación de Funciones NumPy:**\n",
        "   - Crea un array unidimensional de tamaño 10 con valores aleatorios entre 0 y 100.\n",
        "   - Calcula la media, la mediana y la desviación estándar del array creado.\n",
        "   - Encuentra el valor máximo y mínimo del array creado.\n",
        "   - Normaliza el array para que todos sus valores estén en el rango de 0 a 1.\n",
        "\n",
        "🏷 **e. Ejercicio 5: Manipulación de Datos:**\n",
        "   - Crea un array bidimensional de tamaño 3x3 con valores aleatorios enteros entre 1 y 10.\n",
        "   - Filtra los valores mayores que 5 en el array creado.\n",
        "   - Reemplaza todos los valores mayores que 5 en el array creado por el valor 10."
      ],
      "metadata": {
        "id": "lYtGTO6Xx4pk"
      }
    },
    {
      "cell_type": "markdown",
      "source": [
        "<p align=\"justify\">\n",
        "<br>\n",
        "✅ A continuación, las soluciones sugeridas:\n",
        "<br><br>\n",
        "\n",
        "🏷 **a. Ejercicio 1: Creación de Arrays:**\n",
        "```python\n",
        "# Crear un array unidimensional con los números del 1 al 10\n",
        "arr_unidimensional = np.array([1, 2, 3, 4, 5, 6, 7, 8, 9, 10])\n",
        "\n",
        "# Crear un array bidimensional de tamaño 3x3 con valores aleatorios entre 0 y 1\n",
        "arr_bidimensional = np.random.random((3, 3))\n",
        "\n",
        "# Crear un array tridimensional de tamaño 2x2x2 con unos\n",
        "arr_tridimensional = np.ones((2, 2, 2))\n",
        "```\n",
        "\n",
        "🏷 **b. Ejercicio 2: Indexación y Slicing:**\n",
        "```python\n",
        "# Acceder al tercer elemento del array unidimensional creado en el ejercicio 1\n",
        "tercer_elemento = arr_unidimensional[2]\n",
        "\n",
        "# Acceder a la primera fila del array bidimensional creado en el ejercicio 1\n",
        "primera_fila = arr_bidimensional[0]\n",
        "\n",
        "# Acceder a la primera columna del array bidimensional creado en el ejercicio 1\n",
        "primera_columna = arr_bidimensional[:, 0]\n",
        "\n",
        "# Acceder a la última fila y última columna del array bidimensional creado en el ejercicio 1\n",
        "ultima_fila = arr_bidimensional[-1]\n",
        "ultima_columna = arr_bidimensional[:, -1]\n",
        "```\n",
        "\n",
        "🏷 **c. Ejercicio 3: Operaciones Básicas de Álgebra Lineal:**\n",
        "```python\n",
        "# Crear dos matrices 2x2\n",
        "matriz1 = np.array([[1, 2], [3, 4]])\n",
        "matriz2 = np.array([[5, 6], [7, 8]])\n",
        "\n",
        "# Realizar la multiplicación de matrices\n",
        "producto = np.dot(matriz1, matriz2)\n",
        "\n",
        "# Calcular el determinante de una matriz 3x3\n",
        "matriz3x3 = np.array([[1, 2, 3], [4, 5, 6], [7, 8, 9]])\n",
        "determinante = np.linalg.det(matriz3x3)\n",
        "\n",
        "# Calcular la inversa de una matriz 2x2\n",
        "inversa = np.linalg.inv(matriz1)\n",
        "\n",
        "# Resolver el sistema de ecuaciones lineales\n",
        "A = np.array([[2, 3], [4, 5]])\n",
        "b = np.array([1, 2])\n",
        "x = np.linalg.solve(A, b)\n",
        "```\n",
        "\n",
        "🏷 **d. Ejercicio 4: Aplicación de Funciones NumPy:**\n",
        "```python\n",
        "# Crea un array unidimensional de tamaño 10 con valores aleatorios entre 0 y 100\n",
        "arr_aleatorio = np.random.randint(0, 101, 10)\n",
        "\n",
        "# Calcula la media, la mediana y la desviación estándar del array creado\n",
        "media = np.mean(arr_aleatorio)\n",
        "mediana = np.median(arr_aleatorio)\n",
        "desviacion_estandar = np.std(arr_aleatorio)\n",
        "\n",
        "# Encuentra el valor máximo y mínimo del array creado\n",
        "valor_maximo = np.max(arr_aleatorio)\n",
        "valor_minimo = np.min(arr_aleatorio)\n",
        "\n",
        "# Normaliza el array para que todos sus valores estén en el rango de 0 a 1\n",
        "arr_normalizado = (arr_aleatorio - np.min(arr_aleatorio)) / (np.max(arr_aleatorio) - np.min(arr_aleatorio))\n",
        "```\n",
        "\n",
        "🏷 **e. Ejercicio 5: Manipulación de Datos:**\n",
        "```python\n",
        "# Crea un array bidimensional de tamaño 3x3 con valores aleatorios enteros entre 1 y 10\n",
        "arr_enteros = np.random.randint(1, 11, (3, 3))\n",
        "\n",
        "# Filtra los valores mayores que 5 en el array creado\n",
        "valores_mayores_5 = arr_enteros[arr_enteros > 5]\n",
        "\n",
        "# Reemplaza todos los valores mayores que 5 en el array creado por el valor 10\n",
        "arr_enteros[arr_enteros > 5] = 10\n",
        "```"
      ],
      "metadata": {
        "id": "SnzVzjlFDw7K"
      }
    },
    {
      "cell_type": "markdown",
      "source": [
        "<br>\n",
        "<br>\n",
        "<p align=\"center\"><b>\n",
        "💗\n",
        "<font color=\"RoyalBlue\">\n",
        "Hemos llegado al final de nuestro colab, a seguir codeando en NumPy...\n",
        "</font>\n",
        "</p>\n"
      ],
      "metadata": {
        "id": "rrDMEhW6Vq2a"
      }
    }
  ]
}